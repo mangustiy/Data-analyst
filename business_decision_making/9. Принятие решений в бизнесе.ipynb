{
 "cells": [
  {
   "cell_type": "markdown",
   "metadata": {},
   "source": [
    "# Принятие решений в бизнесе"
   ]
  },
  {
   "cell_type": "markdown",
   "metadata": {},
   "source": [
    "**Цель проекта**\n",
    "\n",
    "- Приоритизировать гипотезы из списка гипотез;\n",
    "- Анализ результатов проведенного А/В-тестирования.\n",
    "- Принятие решения по результатам теста.\\\n",
    "Варианты решений:\n",
    "    1. Остановить тест, зафиксировать победу одной из групп.\n",
    "    2. Остановить тест, зафиксировать отсутствие различий между группами.\n",
    "    3. Продолжить тест.\n",
    "\n",
    "**Исходные данные**\n",
    "\n",
    "Структура `hypothesis.csv` (список гипотез):\n",
    "- `Hypothesis` — краткое описание гипотезы;\n",
    "- `Reach` — охват пользователей по 10-балльной шкале;\n",
    "- `Impact` — влияние на пользователей по 10-балльной шкале;\n",
    "- `Confidence` — уверенность в гипотезе по 10-балльной шкале;\n",
    "- `Efforts` — затраты ресурсов на проверку гипотезы по 10-балльной шкале. Чем больше значение Efforts, тем дороже проверка гипотезы.\n",
    "\n",
    "Структура `orders.csv` (информация о заказах):\n",
    "- `transactionId` — идентификатор заказа;\n",
    "- `visitorId` — идентификатор пользователя, совершившего заказ;\n",
    "- `date` — дата, когда был совершён заказ;\n",
    "- `revenue` — выручка заказа;\n",
    "- `group` — группа A/B-теста, в которую попал заказ.\n",
    "\n",
    "Структура `visitors.csv` (информация о посещениях):\n",
    "- `date` — дата;\n",
    "- `group` — группа A/B-теста;\n",
    "- `visitors` — количество пользователей в указанную дату в указанной группе A/B-теста\n",
    "\n",
    "**Ход исследования**\n",
    "\n",
    "Исследование состоит из пяти частей:\n",
    "\n",
    "1. Обзор и предобработка данных;\n",
    "2. Приоритезация гипотез;\n",
    "    - Применение фреймворка `ICE` для приоритизации гипотез;\n",
    "    - Применение фреймворка `RICE` для приоритизации гипотез.\n",
    "3. Проведение и анализ А/В теста;\n",
    "    - Построение графика кумулятивной выручки по группам.\n",
    "    - Построение графика кумулятивного среднего чека по группам.\n",
    "    - Построение графика относительного изменения кумулятивного среднего чека группы B к группе A.\n",
    "    - Построение графика кумулятивного среднего количества заказов на посетителя по группам.\n",
    "    - Построение графика относительного изменения кумулятивного среднего количества заказов на посетителя группы B к группе A.\n",
    "    - Построение точечного графика количества заказов по пользователям.\n",
    "    - Подсчет 95-й и 99-й перцентили количества заказов на пользователя. Выбор границы для определения аномальных пользователей.\n",
    "    - Построение точечного графика стоимостей заказов.\n",
    "    - Подсчет 95-й и 99-й перцентили стоимости заказов. Выбор границы для определения аномальных заказов.\n",
    "4. Статистический анализ;\n",
    "    - Подсчет статистической значимости различий в среднем количестве заказов на посетителя между группами по «сырым» данным.\n",
    "    - Подсчет статистической значимости различий в среднем чеке заказа между группами по «сырым» данным.\n",
    "    - Подсчет статистической значимости различий в среднем количестве заказов на посетителя между группами по «очищенным» данным.\n",
    "    - Подсчет статистической значимости различий в среднем чеке заказа между группами по «очищенным» данным.\n",
    "5. Написание общего вывода."
   ]
  },
  {
   "cell_type": "markdown",
   "metadata": {},
   "source": [
    "## Обзор и предобработка данных"
   ]
  },
  {
   "cell_type": "code",
   "execution_count": 1,
   "metadata": {},
   "outputs": [],
   "source": [
    "# импорт библиотек\n",
    "\n",
    "import pandas as pd\n",
    "import numpy as np\n",
    "import matplotlib.pyplot as plt\n",
    "import seaborn as sns\n",
    "import math\n",
    "import datetime as dt\n",
    "import scipy.stats as stats\n",
    "import warnings\n",
    "\n",
    "from scipy import stats as st"
   ]
  },
  {
   "cell_type": "code",
   "execution_count": 2,
   "metadata": {},
   "outputs": [],
   "source": [
    "# снимаем ограничение на количество столбцов\n",
    "pd.set_option('display.max_columns', None)\n",
    "\n",
    "# снимаем ограничение на ширину столбцов\n",
    "pd.set_option('display.max_colwidth', None)\n",
    "\n",
    "# игнорируем предупреждения\n",
    "warnings.filterwarnings(action='ignore')\n",
    "\n",
    "# выставляем ограничение на показ знаков после запятой\n",
    "pd.options.display.float_format = '{:,.3f}'.format\n",
    "\n",
    "# задаем размер графика\n",
    "sns.set(rc={'figure.figsize':(9,5)})"
   ]
  },
  {
   "cell_type": "code",
   "execution_count": 3,
   "metadata": {},
   "outputs": [],
   "source": [
    "# чтение файлов с данными и сохранение в df\n",
    "\n",
    "try:\n",
    "    hypothesis, orders, visitors = (\n",
    "        pd.read_csv('/datasets/hypothesis.csv'),\n",
    "        pd.read_csv('/datasets/orders.csv'),\n",
    "        pd.read_csv('/datasets/visitors.csv')\n",
    "    )\n",
    "\n",
    "\n",
    "except:\n",
    "    hypothesis, orders, visitors = (\n",
    "        pd.read_csv('https://code.s3.yandex.net/datasets/hypothesis.csv'),\n",
    "        pd.read_csv('https://code.s3.yandex.net/datasets/orders.csv'),\n",
    "        pd.read_csv('https://code.s3.yandex.net/datasets/visitors.csv')\n",
    "    )"
   ]
  },
  {
   "cell_type": "code",
   "execution_count": 4,
   "metadata": {},
   "outputs": [
    {
     "data": {
      "text/html": [
       "<div>\n",
       "<style scoped>\n",
       "    .dataframe tbody tr th:only-of-type {\n",
       "        vertical-align: middle;\n",
       "    }\n",
       "\n",
       "    .dataframe tbody tr th {\n",
       "        vertical-align: top;\n",
       "    }\n",
       "\n",
       "    .dataframe thead th {\n",
       "        text-align: right;\n",
       "    }\n",
       "</style>\n",
       "<table border=\"1\" class=\"dataframe\">\n",
       "  <thead>\n",
       "    <tr style=\"text-align: right;\">\n",
       "      <th></th>\n",
       "      <th>hypothesis</th>\n",
       "      <th>reach</th>\n",
       "      <th>impact</th>\n",
       "      <th>confidence</th>\n",
       "      <th>efforts</th>\n",
       "    </tr>\n",
       "  </thead>\n",
       "  <tbody>\n",
       "    <tr>\n",
       "      <th>0</th>\n",
       "      <td>Добавить два новых канала привлечения трафика, что позволит привлекать на 30% больше пользователей</td>\n",
       "      <td>3</td>\n",
       "      <td>10</td>\n",
       "      <td>8</td>\n",
       "      <td>6</td>\n",
       "    </tr>\n",
       "    <tr>\n",
       "      <th>1</th>\n",
       "      <td>Запустить собственную службу доставки, что сократит срок доставки заказов</td>\n",
       "      <td>2</td>\n",
       "      <td>5</td>\n",
       "      <td>4</td>\n",
       "      <td>10</td>\n",
       "    </tr>\n",
       "    <tr>\n",
       "      <th>2</th>\n",
       "      <td>Добавить блоки рекомендаций товаров на сайт интернет магазина, чтобы повысить конверсию и средний чек заказа</td>\n",
       "      <td>8</td>\n",
       "      <td>3</td>\n",
       "      <td>7</td>\n",
       "      <td>3</td>\n",
       "    </tr>\n",
       "    <tr>\n",
       "      <th>3</th>\n",
       "      <td>Изменить структура категорий, что увеличит конверсию, т.к. пользователи быстрее найдут нужный товар</td>\n",
       "      <td>8</td>\n",
       "      <td>3</td>\n",
       "      <td>3</td>\n",
       "      <td>8</td>\n",
       "    </tr>\n",
       "    <tr>\n",
       "      <th>4</th>\n",
       "      <td>Изменить цвет фона главной страницы, чтобы увеличить вовлеченность пользователей</td>\n",
       "      <td>3</td>\n",
       "      <td>1</td>\n",
       "      <td>1</td>\n",
       "      <td>1</td>\n",
       "    </tr>\n",
       "    <tr>\n",
       "      <th>5</th>\n",
       "      <td>Добавить страницу отзывов клиентов о магазине, что позволит увеличить количество заказов</td>\n",
       "      <td>3</td>\n",
       "      <td>2</td>\n",
       "      <td>2</td>\n",
       "      <td>3</td>\n",
       "    </tr>\n",
       "    <tr>\n",
       "      <th>6</th>\n",
       "      <td>Показать на главной странице баннеры с актуальными акциями и распродажами, чтобы увеличить конверсию</td>\n",
       "      <td>5</td>\n",
       "      <td>3</td>\n",
       "      <td>8</td>\n",
       "      <td>3</td>\n",
       "    </tr>\n",
       "    <tr>\n",
       "      <th>7</th>\n",
       "      <td>Добавить форму подписки на все основные страницы, чтобы собрать базу клиентов для email-рассылок</td>\n",
       "      <td>10</td>\n",
       "      <td>7</td>\n",
       "      <td>8</td>\n",
       "      <td>5</td>\n",
       "    </tr>\n",
       "    <tr>\n",
       "      <th>8</th>\n",
       "      <td>Запустить акцию, дающую скидку на товар в день рождения</td>\n",
       "      <td>1</td>\n",
       "      <td>9</td>\n",
       "      <td>9</td>\n",
       "      <td>5</td>\n",
       "    </tr>\n",
       "  </tbody>\n",
       "</table>\n",
       "</div>"
      ],
      "text/plain": [
       "                                                                                                     hypothesis  \\\n",
       "0            Добавить два новых канала привлечения трафика, что позволит привлекать на 30% больше пользователей   \n",
       "1                                     Запустить собственную службу доставки, что сократит срок доставки заказов   \n",
       "2  Добавить блоки рекомендаций товаров на сайт интернет магазина, чтобы повысить конверсию и средний чек заказа   \n",
       "3           Изменить структура категорий, что увеличит конверсию, т.к. пользователи быстрее найдут нужный товар   \n",
       "4                              Изменить цвет фона главной страницы, чтобы увеличить вовлеченность пользователей   \n",
       "5                      Добавить страницу отзывов клиентов о магазине, что позволит увеличить количество заказов   \n",
       "6          Показать на главной странице баннеры с актуальными акциями и распродажами, чтобы увеличить конверсию   \n",
       "7              Добавить форму подписки на все основные страницы, чтобы собрать базу клиентов для email-рассылок   \n",
       "8                                                       Запустить акцию, дающую скидку на товар в день рождения   \n",
       "\n",
       "   reach  impact  confidence  efforts  \n",
       "0      3      10           8        6  \n",
       "1      2       5           4       10  \n",
       "2      8       3           7        3  \n",
       "3      8       3           3        8  \n",
       "4      3       1           1        1  \n",
       "5      3       2           2        3  \n",
       "6      5       3           8        3  \n",
       "7     10       7           8        5  \n",
       "8      1       9           9        5  "
      ]
     },
     "metadata": {},
     "output_type": "display_data"
    },
    {
     "name": "stdout",
     "output_type": "stream",
     "text": [
      "Дубликаты: 0\n",
      "Пропуски: 0\n",
      "<class 'pandas.core.frame.DataFrame'>\n",
      "RangeIndex: 9 entries, 0 to 8\n",
      "Data columns (total 5 columns):\n",
      " #   Column      Non-Null Count  Dtype \n",
      "---  ------      --------------  ----- \n",
      " 0   hypothesis  9 non-null      object\n",
      " 1   reach       9 non-null      int64 \n",
      " 2   impact      9 non-null      int64 \n",
      " 3   confidence  9 non-null      int64 \n",
      " 4   efforts     9 non-null      int64 \n",
      "dtypes: int64(4), object(1)\n",
      "memory usage: 488.0+ bytes\n"
     ]
    },
    {
     "data": {
      "text/html": [
       "<div>\n",
       "<style scoped>\n",
       "    .dataframe tbody tr th:only-of-type {\n",
       "        vertical-align: middle;\n",
       "    }\n",
       "\n",
       "    .dataframe tbody tr th {\n",
       "        vertical-align: top;\n",
       "    }\n",
       "\n",
       "    .dataframe thead th {\n",
       "        text-align: right;\n",
       "    }\n",
       "</style>\n",
       "<table border=\"1\" class=\"dataframe\">\n",
       "  <thead>\n",
       "    <tr style=\"text-align: right;\">\n",
       "      <th></th>\n",
       "      <th>transactionid</th>\n",
       "      <th>visitorid</th>\n",
       "      <th>date</th>\n",
       "      <th>revenue</th>\n",
       "      <th>group</th>\n",
       "    </tr>\n",
       "  </thead>\n",
       "  <tbody>\n",
       "    <tr>\n",
       "      <th>0</th>\n",
       "      <td>3667963787</td>\n",
       "      <td>3312258926</td>\n",
       "      <td>2019-08-15</td>\n",
       "      <td>1650</td>\n",
       "      <td>B</td>\n",
       "    </tr>\n",
       "    <tr>\n",
       "      <th>1</th>\n",
       "      <td>2804400009</td>\n",
       "      <td>3642806036</td>\n",
       "      <td>2019-08-15</td>\n",
       "      <td>730</td>\n",
       "      <td>B</td>\n",
       "    </tr>\n",
       "    <tr>\n",
       "      <th>2</th>\n",
       "      <td>2961555356</td>\n",
       "      <td>4069496402</td>\n",
       "      <td>2019-08-15</td>\n",
       "      <td>400</td>\n",
       "      <td>A</td>\n",
       "    </tr>\n",
       "    <tr>\n",
       "      <th>3</th>\n",
       "      <td>3797467345</td>\n",
       "      <td>1196621759</td>\n",
       "      <td>2019-08-15</td>\n",
       "      <td>9759</td>\n",
       "      <td>B</td>\n",
       "    </tr>\n",
       "    <tr>\n",
       "      <th>4</th>\n",
       "      <td>2282983706</td>\n",
       "      <td>2322279887</td>\n",
       "      <td>2019-08-15</td>\n",
       "      <td>2308</td>\n",
       "      <td>B</td>\n",
       "    </tr>\n",
       "    <tr>\n",
       "      <th>...</th>\n",
       "      <td>...</td>\n",
       "      <td>...</td>\n",
       "      <td>...</td>\n",
       "      <td>...</td>\n",
       "      <td>...</td>\n",
       "    </tr>\n",
       "    <tr>\n",
       "      <th>1192</th>\n",
       "      <td>2662137336</td>\n",
       "      <td>3733762160</td>\n",
       "      <td>2019-08-14</td>\n",
       "      <td>6490</td>\n",
       "      <td>B</td>\n",
       "    </tr>\n",
       "    <tr>\n",
       "      <th>1193</th>\n",
       "      <td>2203539145</td>\n",
       "      <td>370388673</td>\n",
       "      <td>2019-08-14</td>\n",
       "      <td>3190</td>\n",
       "      <td>A</td>\n",
       "    </tr>\n",
       "    <tr>\n",
       "      <th>1194</th>\n",
       "      <td>1807773912</td>\n",
       "      <td>573423106</td>\n",
       "      <td>2019-08-14</td>\n",
       "      <td>10550</td>\n",
       "      <td>A</td>\n",
       "    </tr>\n",
       "    <tr>\n",
       "      <th>1195</th>\n",
       "      <td>1947021204</td>\n",
       "      <td>1614305549</td>\n",
       "      <td>2019-08-14</td>\n",
       "      <td>100</td>\n",
       "      <td>A</td>\n",
       "    </tr>\n",
       "    <tr>\n",
       "      <th>1196</th>\n",
       "      <td>3936777065</td>\n",
       "      <td>2108080724</td>\n",
       "      <td>2019-08-15</td>\n",
       "      <td>202740</td>\n",
       "      <td>B</td>\n",
       "    </tr>\n",
       "  </tbody>\n",
       "</table>\n",
       "<p>1197 rows × 5 columns</p>\n",
       "</div>"
      ],
      "text/plain": [
       "      transactionid   visitorid        date  revenue group\n",
       "0        3667963787  3312258926  2019-08-15     1650     B\n",
       "1        2804400009  3642806036  2019-08-15      730     B\n",
       "2        2961555356  4069496402  2019-08-15      400     A\n",
       "3        3797467345  1196621759  2019-08-15     9759     B\n",
       "4        2282983706  2322279887  2019-08-15     2308     B\n",
       "...             ...         ...         ...      ...   ...\n",
       "1192     2662137336  3733762160  2019-08-14     6490     B\n",
       "1193     2203539145   370388673  2019-08-14     3190     A\n",
       "1194     1807773912   573423106  2019-08-14    10550     A\n",
       "1195     1947021204  1614305549  2019-08-14      100     A\n",
       "1196     3936777065  2108080724  2019-08-15   202740     B\n",
       "\n",
       "[1197 rows x 5 columns]"
      ]
     },
     "metadata": {},
     "output_type": "display_data"
    },
    {
     "name": "stdout",
     "output_type": "stream",
     "text": [
      "Дубликаты: 0\n",
      "Пропуски: 0\n",
      "<class 'pandas.core.frame.DataFrame'>\n",
      "RangeIndex: 1197 entries, 0 to 1196\n",
      "Data columns (total 5 columns):\n",
      " #   Column         Non-Null Count  Dtype \n",
      "---  ------         --------------  ----- \n",
      " 0   transactionid  1197 non-null   int64 \n",
      " 1   visitorid      1197 non-null   int64 \n",
      " 2   date           1197 non-null   object\n",
      " 3   revenue        1197 non-null   int64 \n",
      " 4   group          1197 non-null   object\n",
      "dtypes: int64(3), object(2)\n",
      "memory usage: 46.9+ KB\n"
     ]
    },
    {
     "data": {
      "text/html": [
       "<div>\n",
       "<style scoped>\n",
       "    .dataframe tbody tr th:only-of-type {\n",
       "        vertical-align: middle;\n",
       "    }\n",
       "\n",
       "    .dataframe tbody tr th {\n",
       "        vertical-align: top;\n",
       "    }\n",
       "\n",
       "    .dataframe thead th {\n",
       "        text-align: right;\n",
       "    }\n",
       "</style>\n",
       "<table border=\"1\" class=\"dataframe\">\n",
       "  <thead>\n",
       "    <tr style=\"text-align: right;\">\n",
       "      <th></th>\n",
       "      <th>date</th>\n",
       "      <th>group</th>\n",
       "      <th>visitors</th>\n",
       "    </tr>\n",
       "  </thead>\n",
       "  <tbody>\n",
       "    <tr>\n",
       "      <th>0</th>\n",
       "      <td>2019-08-01</td>\n",
       "      <td>A</td>\n",
       "      <td>719</td>\n",
       "    </tr>\n",
       "    <tr>\n",
       "      <th>1</th>\n",
       "      <td>2019-08-02</td>\n",
       "      <td>A</td>\n",
       "      <td>619</td>\n",
       "    </tr>\n",
       "    <tr>\n",
       "      <th>2</th>\n",
       "      <td>2019-08-03</td>\n",
       "      <td>A</td>\n",
       "      <td>507</td>\n",
       "    </tr>\n",
       "    <tr>\n",
       "      <th>3</th>\n",
       "      <td>2019-08-04</td>\n",
       "      <td>A</td>\n",
       "      <td>717</td>\n",
       "    </tr>\n",
       "    <tr>\n",
       "      <th>4</th>\n",
       "      <td>2019-08-05</td>\n",
       "      <td>A</td>\n",
       "      <td>756</td>\n",
       "    </tr>\n",
       "    <tr>\n",
       "      <th>...</th>\n",
       "      <td>...</td>\n",
       "      <td>...</td>\n",
       "      <td>...</td>\n",
       "    </tr>\n",
       "    <tr>\n",
       "      <th>57</th>\n",
       "      <td>2019-08-27</td>\n",
       "      <td>B</td>\n",
       "      <td>720</td>\n",
       "    </tr>\n",
       "    <tr>\n",
       "      <th>58</th>\n",
       "      <td>2019-08-28</td>\n",
       "      <td>B</td>\n",
       "      <td>654</td>\n",
       "    </tr>\n",
       "    <tr>\n",
       "      <th>59</th>\n",
       "      <td>2019-08-29</td>\n",
       "      <td>B</td>\n",
       "      <td>531</td>\n",
       "    </tr>\n",
       "    <tr>\n",
       "      <th>60</th>\n",
       "      <td>2019-08-30</td>\n",
       "      <td>B</td>\n",
       "      <td>490</td>\n",
       "    </tr>\n",
       "    <tr>\n",
       "      <th>61</th>\n",
       "      <td>2019-08-31</td>\n",
       "      <td>B</td>\n",
       "      <td>718</td>\n",
       "    </tr>\n",
       "  </tbody>\n",
       "</table>\n",
       "<p>62 rows × 3 columns</p>\n",
       "</div>"
      ],
      "text/plain": [
       "          date group  visitors\n",
       "0   2019-08-01     A       719\n",
       "1   2019-08-02     A       619\n",
       "2   2019-08-03     A       507\n",
       "3   2019-08-04     A       717\n",
       "4   2019-08-05     A       756\n",
       "..         ...   ...       ...\n",
       "57  2019-08-27     B       720\n",
       "58  2019-08-28     B       654\n",
       "59  2019-08-29     B       531\n",
       "60  2019-08-30     B       490\n",
       "61  2019-08-31     B       718\n",
       "\n",
       "[62 rows x 3 columns]"
      ]
     },
     "metadata": {},
     "output_type": "display_data"
    },
    {
     "name": "stdout",
     "output_type": "stream",
     "text": [
      "Дубликаты: 0\n",
      "Пропуски: 0\n",
      "<class 'pandas.core.frame.DataFrame'>\n",
      "RangeIndex: 62 entries, 0 to 61\n",
      "Data columns (total 3 columns):\n",
      " #   Column    Non-Null Count  Dtype \n",
      "---  ------    --------------  ----- \n",
      " 0   date      62 non-null     object\n",
      " 1   group     62 non-null     object\n",
      " 2   visitors  62 non-null     int64 \n",
      "dtypes: int64(1), object(2)\n",
      "memory usage: 1.6+ KB\n"
     ]
    }
   ],
   "source": [
    "# обзор датафреймов\n",
    "\n",
    "for i in [hypothesis, orders, visitors]:\n",
    "    # исправим названия столбцов\n",
    "    i.columns = [j.lower() for j in i.columns.values]\n",
    "    display(i)\n",
    "    # посчитаем дубликаты\n",
    "    print('Дубликаты:', i.duplicated().sum())\n",
    "    # посчитаем пропуски\n",
    "    print('Пропуски:', i.isnull().sum().sum())\n",
    "    # выведем информацию о фреймах\n",
    "    i.info()"
   ]
  },
  {
   "cell_type": "code",
   "execution_count": 5,
   "metadata": {},
   "outputs": [
    {
     "data": {
      "text/html": [
       "<div>\n",
       "<style scoped>\n",
       "    .dataframe tbody tr th:only-of-type {\n",
       "        vertical-align: middle;\n",
       "    }\n",
       "\n",
       "    .dataframe tbody tr th {\n",
       "        vertical-align: top;\n",
       "    }\n",
       "\n",
       "    .dataframe thead th {\n",
       "        text-align: right;\n",
       "    }\n",
       "</style>\n",
       "<table border=\"1\" class=\"dataframe\">\n",
       "  <thead>\n",
       "    <tr style=\"text-align: right;\">\n",
       "      <th></th>\n",
       "      <th>transaction_id</th>\n",
       "      <th>visitor_id</th>\n",
       "      <th>date</th>\n",
       "      <th>revenue</th>\n",
       "      <th>group</th>\n",
       "    </tr>\n",
       "  </thead>\n",
       "  <tbody>\n",
       "    <tr>\n",
       "      <th>0</th>\n",
       "      <td>3667963787</td>\n",
       "      <td>3312258926</td>\n",
       "      <td>2019-08-15</td>\n",
       "      <td>1650</td>\n",
       "      <td>B</td>\n",
       "    </tr>\n",
       "    <tr>\n",
       "      <th>1</th>\n",
       "      <td>2804400009</td>\n",
       "      <td>3642806036</td>\n",
       "      <td>2019-08-15</td>\n",
       "      <td>730</td>\n",
       "      <td>B</td>\n",
       "    </tr>\n",
       "    <tr>\n",
       "      <th>2</th>\n",
       "      <td>2961555356</td>\n",
       "      <td>4069496402</td>\n",
       "      <td>2019-08-15</td>\n",
       "      <td>400</td>\n",
       "      <td>A</td>\n",
       "    </tr>\n",
       "    <tr>\n",
       "      <th>3</th>\n",
       "      <td>3797467345</td>\n",
       "      <td>1196621759</td>\n",
       "      <td>2019-08-15</td>\n",
       "      <td>9759</td>\n",
       "      <td>B</td>\n",
       "    </tr>\n",
       "    <tr>\n",
       "      <th>4</th>\n",
       "      <td>2282983706</td>\n",
       "      <td>2322279887</td>\n",
       "      <td>2019-08-15</td>\n",
       "      <td>2308</td>\n",
       "      <td>B</td>\n",
       "    </tr>\n",
       "    <tr>\n",
       "      <th>...</th>\n",
       "      <td>...</td>\n",
       "      <td>...</td>\n",
       "      <td>...</td>\n",
       "      <td>...</td>\n",
       "      <td>...</td>\n",
       "    </tr>\n",
       "    <tr>\n",
       "      <th>1192</th>\n",
       "      <td>2662137336</td>\n",
       "      <td>3733762160</td>\n",
       "      <td>2019-08-14</td>\n",
       "      <td>6490</td>\n",
       "      <td>B</td>\n",
       "    </tr>\n",
       "    <tr>\n",
       "      <th>1193</th>\n",
       "      <td>2203539145</td>\n",
       "      <td>370388673</td>\n",
       "      <td>2019-08-14</td>\n",
       "      <td>3190</td>\n",
       "      <td>A</td>\n",
       "    </tr>\n",
       "    <tr>\n",
       "      <th>1194</th>\n",
       "      <td>1807773912</td>\n",
       "      <td>573423106</td>\n",
       "      <td>2019-08-14</td>\n",
       "      <td>10550</td>\n",
       "      <td>A</td>\n",
       "    </tr>\n",
       "    <tr>\n",
       "      <th>1195</th>\n",
       "      <td>1947021204</td>\n",
       "      <td>1614305549</td>\n",
       "      <td>2019-08-14</td>\n",
       "      <td>100</td>\n",
       "      <td>A</td>\n",
       "    </tr>\n",
       "    <tr>\n",
       "      <th>1196</th>\n",
       "      <td>3936777065</td>\n",
       "      <td>2108080724</td>\n",
       "      <td>2019-08-15</td>\n",
       "      <td>202740</td>\n",
       "      <td>B</td>\n",
       "    </tr>\n",
       "  </tbody>\n",
       "</table>\n",
       "<p>1197 rows × 5 columns</p>\n",
       "</div>"
      ],
      "text/plain": [
       "      transaction_id  visitor_id        date  revenue group\n",
       "0         3667963787  3312258926  2019-08-15     1650     B\n",
       "1         2804400009  3642806036  2019-08-15      730     B\n",
       "2         2961555356  4069496402  2019-08-15      400     A\n",
       "3         3797467345  1196621759  2019-08-15     9759     B\n",
       "4         2282983706  2322279887  2019-08-15     2308     B\n",
       "...              ...         ...         ...      ...   ...\n",
       "1192      2662137336  3733762160  2019-08-14     6490     B\n",
       "1193      2203539145   370388673  2019-08-14     3190     A\n",
       "1194      1807773912   573423106  2019-08-14    10550     A\n",
       "1195      1947021204  1614305549  2019-08-14      100     A\n",
       "1196      3936777065  2108080724  2019-08-15   202740     B\n",
       "\n",
       "[1197 rows x 5 columns]"
      ]
     },
     "metadata": {},
     "output_type": "display_data"
    }
   ],
   "source": [
    "#исправим названия столбцов\n",
    "orders.columns = [j.replace('id', '_id') for j in orders.columns]\n",
    "display(orders)"
   ]
  },
  {
   "cell_type": "code",
   "execution_count": 6,
   "metadata": {},
   "outputs": [],
   "source": [
    "# изменим тип данных для столбцов с датами\n",
    "\n",
    "visitors['date'] = pd.to_datetime(visitors['date'])\n",
    "orders['date'] = pd.to_datetime(orders['date'])"
   ]
  },
  {
   "cell_type": "code",
   "execution_count": 7,
   "metadata": {
    "scrolled": true
   },
   "outputs": [],
   "source": [
    "gA = orders.query('group == \"A\"')\n",
    "gB = orders.query('group == \"B\"')\n",
    "c = list(set(gA['visitor_id']) & set(gB['visitor_id']))"
   ]
  },
  {
   "cell_type": "code",
   "execution_count": 8,
   "metadata": {
    "scrolled": true
   },
   "outputs": [
    {
     "data": {
      "text/html": [
       "<div>\n",
       "<style scoped>\n",
       "    .dataframe tbody tr th:only-of-type {\n",
       "        vertical-align: middle;\n",
       "    }\n",
       "\n",
       "    .dataframe tbody tr th {\n",
       "        vertical-align: top;\n",
       "    }\n",
       "\n",
       "    .dataframe thead th {\n",
       "        text-align: right;\n",
       "    }\n",
       "</style>\n",
       "<table border=\"1\" class=\"dataframe\">\n",
       "  <thead>\n",
       "    <tr style=\"text-align: right;\">\n",
       "      <th></th>\n",
       "      <th>transaction_id</th>\n",
       "      <th>visitor_id</th>\n",
       "      <th>date</th>\n",
       "      <th>revenue</th>\n",
       "      <th>group</th>\n",
       "    </tr>\n",
       "  </thead>\n",
       "  <tbody>\n",
       "    <tr>\n",
       "      <th>703</th>\n",
       "      <td>4293855558</td>\n",
       "      <td>8300375</td>\n",
       "      <td>2019-08-07</td>\n",
       "      <td>1790</td>\n",
       "      <td>A</td>\n",
       "    </tr>\n",
       "    <tr>\n",
       "      <th>71</th>\n",
       "      <td>3679129301</td>\n",
       "      <td>8300375</td>\n",
       "      <td>2019-08-01</td>\n",
       "      <td>10510</td>\n",
       "      <td>B</td>\n",
       "    </tr>\n",
       "    <tr>\n",
       "      <th>823</th>\n",
       "      <td>2971973105</td>\n",
       "      <td>199603092</td>\n",
       "      <td>2019-08-27</td>\n",
       "      <td>2790</td>\n",
       "      <td>A</td>\n",
       "    </tr>\n",
       "    <tr>\n",
       "      <th>246</th>\n",
       "      <td>437656952</td>\n",
       "      <td>199603092</td>\n",
       "      <td>2019-08-02</td>\n",
       "      <td>3488</td>\n",
       "      <td>B</td>\n",
       "    </tr>\n",
       "    <tr>\n",
       "      <th>26</th>\n",
       "      <td>2223239646</td>\n",
       "      <td>199603092</td>\n",
       "      <td>2019-08-15</td>\n",
       "      <td>3488</td>\n",
       "      <td>A</td>\n",
       "    </tr>\n",
       "    <tr>\n",
       "      <th>134</th>\n",
       "      <td>62794304</td>\n",
       "      <td>199603092</td>\n",
       "      <td>2019-08-22</td>\n",
       "      <td>6976</td>\n",
       "      <td>A</td>\n",
       "    </tr>\n",
       "    <tr>\n",
       "      <th>1102</th>\n",
       "      <td>1941707234</td>\n",
       "      <td>199603092</td>\n",
       "      <td>2019-08-12</td>\n",
       "      <td>6438</td>\n",
       "      <td>A</td>\n",
       "    </tr>\n",
       "    <tr>\n",
       "      <th>1009</th>\n",
       "      <td>2670069237</td>\n",
       "      <td>232979603</td>\n",
       "      <td>2019-08-31</td>\n",
       "      <td>2640</td>\n",
       "      <td>B</td>\n",
       "    </tr>\n",
       "    <tr>\n",
       "      <th>1013</th>\n",
       "      <td>83566152</td>\n",
       "      <td>232979603</td>\n",
       "      <td>2019-08-31</td>\n",
       "      <td>60</td>\n",
       "      <td>A</td>\n",
       "    </tr>\n",
       "    <tr>\n",
       "      <th>590</th>\n",
       "      <td>3702128013</td>\n",
       "      <td>237748145</td>\n",
       "      <td>2019-08-20</td>\n",
       "      <td>1290</td>\n",
       "      <td>A</td>\n",
       "    </tr>\n",
       "  </tbody>\n",
       "</table>\n",
       "</div>"
      ],
      "text/plain": [
       "      transaction_id  visitor_id       date  revenue group\n",
       "703       4293855558     8300375 2019-08-07     1790     A\n",
       "71        3679129301     8300375 2019-08-01    10510     B\n",
       "823       2971973105   199603092 2019-08-27     2790     A\n",
       "246        437656952   199603092 2019-08-02     3488     B\n",
       "26        2223239646   199603092 2019-08-15     3488     A\n",
       "134         62794304   199603092 2019-08-22     6976     A\n",
       "1102      1941707234   199603092 2019-08-12     6438     A\n",
       "1009      2670069237   232979603 2019-08-31     2640     B\n",
       "1013        83566152   232979603 2019-08-31       60     A\n",
       "590       3702128013   237748145 2019-08-20     1290     A"
      ]
     },
     "execution_count": 8,
     "metadata": {},
     "output_type": "execute_result"
    }
   ],
   "source": [
    "h = orders.query('visitor_id == @c').sort_values(by='visitor_id')\n",
    "h.head(10)"
   ]
  },
  {
   "cell_type": "code",
   "execution_count": 9,
   "metadata": {},
   "outputs": [
    {
     "data": {
      "text/plain": [
       "58"
      ]
     },
     "execution_count": 9,
     "metadata": {},
     "output_type": "execute_result"
    }
   ],
   "source": [
    "h['visitor_id'].nunique()"
   ]
  },
  {
   "cell_type": "markdown",
   "metadata": {},
   "source": [
    "58 пользователей попали в обе группы."
   ]
  },
  {
   "cell_type": "markdown",
   "metadata": {},
   "source": [
    "**Вывод:** Данные подготовили, можно приступать к их анализу."
   ]
  },
  {
   "cell_type": "markdown",
   "metadata": {},
   "source": [
    "## Приоритезация гипотез\n",
    "- Применение фреймворка `ICE` для приоритизации гипотез;\n",
    "- Применение фреймворка `RICE` для приоритизации гипотез."
   ]
  },
  {
   "cell_type": "markdown",
   "metadata": {},
   "source": [
    "### Применение фреймворка ICE для приоритизации гипотез"
   ]
  },
  {
   "cell_type": "markdown",
   "metadata": {},
   "source": [
    "Начнем на приоритезацию гипотез с одного из самых популярных способов приоритезации - `ICE` (от англ. impact, confidence, effort / ease «влияние, уверенность, усилия / простота»)"
   ]
  },
  {
   "cell_type": "code",
   "execution_count": 10,
   "metadata": {
    "scrolled": true
   },
   "outputs": [
    {
     "data": {
      "text/html": [
       "<div>\n",
       "<style scoped>\n",
       "    .dataframe tbody tr th:only-of-type {\n",
       "        vertical-align: middle;\n",
       "    }\n",
       "\n",
       "    .dataframe tbody tr th {\n",
       "        vertical-align: top;\n",
       "    }\n",
       "\n",
       "    .dataframe thead th {\n",
       "        text-align: right;\n",
       "    }\n",
       "</style>\n",
       "<table border=\"1\" class=\"dataframe\">\n",
       "  <thead>\n",
       "    <tr style=\"text-align: right;\">\n",
       "      <th></th>\n",
       "      <th>hypothesis</th>\n",
       "      <th>ICE</th>\n",
       "    </tr>\n",
       "  </thead>\n",
       "  <tbody>\n",
       "    <tr>\n",
       "      <th>8</th>\n",
       "      <td>Запустить акцию, дающую скидку на товар в день рождения</td>\n",
       "      <td>16.200</td>\n",
       "    </tr>\n",
       "    <tr>\n",
       "      <th>0</th>\n",
       "      <td>Добавить два новых канала привлечения трафика, что позволит привлекать на 30% больше пользователей</td>\n",
       "      <td>13.333</td>\n",
       "    </tr>\n",
       "    <tr>\n",
       "      <th>7</th>\n",
       "      <td>Добавить форму подписки на все основные страницы, чтобы собрать базу клиентов для email-рассылок</td>\n",
       "      <td>11.200</td>\n",
       "    </tr>\n",
       "    <tr>\n",
       "      <th>6</th>\n",
       "      <td>Показать на главной странице баннеры с актуальными акциями и распродажами, чтобы увеличить конверсию</td>\n",
       "      <td>8.000</td>\n",
       "    </tr>\n",
       "    <tr>\n",
       "      <th>2</th>\n",
       "      <td>Добавить блоки рекомендаций товаров на сайт интернет магазина, чтобы повысить конверсию и средний чек заказа</td>\n",
       "      <td>7.000</td>\n",
       "    </tr>\n",
       "    <tr>\n",
       "      <th>1</th>\n",
       "      <td>Запустить собственную службу доставки, что сократит срок доставки заказов</td>\n",
       "      <td>2.000</td>\n",
       "    </tr>\n",
       "    <tr>\n",
       "      <th>5</th>\n",
       "      <td>Добавить страницу отзывов клиентов о магазине, что позволит увеличить количество заказов</td>\n",
       "      <td>1.333</td>\n",
       "    </tr>\n",
       "    <tr>\n",
       "      <th>3</th>\n",
       "      <td>Изменить структура категорий, что увеличит конверсию, т.к. пользователи быстрее найдут нужный товар</td>\n",
       "      <td>1.125</td>\n",
       "    </tr>\n",
       "    <tr>\n",
       "      <th>4</th>\n",
       "      <td>Изменить цвет фона главной страницы, чтобы увеличить вовлеченность пользователей</td>\n",
       "      <td>1.000</td>\n",
       "    </tr>\n",
       "  </tbody>\n",
       "</table>\n",
       "</div>"
      ],
      "text/plain": [
       "                                                                                                     hypothesis  \\\n",
       "8                                                       Запустить акцию, дающую скидку на товар в день рождения   \n",
       "0            Добавить два новых канала привлечения трафика, что позволит привлекать на 30% больше пользователей   \n",
       "7              Добавить форму подписки на все основные страницы, чтобы собрать базу клиентов для email-рассылок   \n",
       "6          Показать на главной странице баннеры с актуальными акциями и распродажами, чтобы увеличить конверсию   \n",
       "2  Добавить блоки рекомендаций товаров на сайт интернет магазина, чтобы повысить конверсию и средний чек заказа   \n",
       "1                                     Запустить собственную службу доставки, что сократит срок доставки заказов   \n",
       "5                      Добавить страницу отзывов клиентов о магазине, что позволит увеличить количество заказов   \n",
       "3           Изменить структура категорий, что увеличит конверсию, т.к. пользователи быстрее найдут нужный товар   \n",
       "4                              Изменить цвет фона главной страницы, чтобы увеличить вовлеченность пользователей   \n",
       "\n",
       "     ICE  \n",
       "8 16.200  \n",
       "0 13.333  \n",
       "7 11.200  \n",
       "6  8.000  \n",
       "2  7.000  \n",
       "1  2.000  \n",
       "5  1.333  \n",
       "3  1.125  \n",
       "4  1.000  "
      ]
     },
     "execution_count": 10,
     "metadata": {},
     "output_type": "execute_result"
    }
   ],
   "source": [
    "hypothesis['ICE'] = hypothesis['impact']*hypothesis['confidence']/hypothesis['efforts']\n",
    "\n",
    "hypothesis[['hypothesis', 'ICE']].sort_values(by='ICE', ascending=False).head(9)"
   ]
  },
  {
   "cell_type": "markdown",
   "metadata": {},
   "source": [
    "### Применение фреймворка RICE для приоритизации гипотез"
   ]
  },
  {
   "cell_type": "markdown",
   "metadata": {},
   "source": [
    "Приоритезируем гипотезы методом `RICE` (R от англ. reach, «охват»)"
   ]
  },
  {
   "cell_type": "code",
   "execution_count": 11,
   "metadata": {},
   "outputs": [
    {
     "data": {
      "text/html": [
       "<div>\n",
       "<style scoped>\n",
       "    .dataframe tbody tr th:only-of-type {\n",
       "        vertical-align: middle;\n",
       "    }\n",
       "\n",
       "    .dataframe tbody tr th {\n",
       "        vertical-align: top;\n",
       "    }\n",
       "\n",
       "    .dataframe thead th {\n",
       "        text-align: right;\n",
       "    }\n",
       "</style>\n",
       "<table border=\"1\" class=\"dataframe\">\n",
       "  <thead>\n",
       "    <tr style=\"text-align: right;\">\n",
       "      <th></th>\n",
       "      <th>hypothesis</th>\n",
       "      <th>RICE</th>\n",
       "    </tr>\n",
       "  </thead>\n",
       "  <tbody>\n",
       "    <tr>\n",
       "      <th>7</th>\n",
       "      <td>Добавить форму подписки на все основные страницы, чтобы собрать базу клиентов для email-рассылок</td>\n",
       "      <td>112.000</td>\n",
       "    </tr>\n",
       "    <tr>\n",
       "      <th>2</th>\n",
       "      <td>Добавить блоки рекомендаций товаров на сайт интернет магазина, чтобы повысить конверсию и средний чек заказа</td>\n",
       "      <td>56.000</td>\n",
       "    </tr>\n",
       "    <tr>\n",
       "      <th>0</th>\n",
       "      <td>Добавить два новых канала привлечения трафика, что позволит привлекать на 30% больше пользователей</td>\n",
       "      <td>40.000</td>\n",
       "    </tr>\n",
       "    <tr>\n",
       "      <th>6</th>\n",
       "      <td>Показать на главной странице баннеры с актуальными акциями и распродажами, чтобы увеличить конверсию</td>\n",
       "      <td>40.000</td>\n",
       "    </tr>\n",
       "    <tr>\n",
       "      <th>8</th>\n",
       "      <td>Запустить акцию, дающую скидку на товар в день рождения</td>\n",
       "      <td>16.200</td>\n",
       "    </tr>\n",
       "    <tr>\n",
       "      <th>3</th>\n",
       "      <td>Изменить структура категорий, что увеличит конверсию, т.к. пользователи быстрее найдут нужный товар</td>\n",
       "      <td>9.000</td>\n",
       "    </tr>\n",
       "    <tr>\n",
       "      <th>1</th>\n",
       "      <td>Запустить собственную службу доставки, что сократит срок доставки заказов</td>\n",
       "      <td>4.000</td>\n",
       "    </tr>\n",
       "    <tr>\n",
       "      <th>5</th>\n",
       "      <td>Добавить страницу отзывов клиентов о магазине, что позволит увеличить количество заказов</td>\n",
       "      <td>4.000</td>\n",
       "    </tr>\n",
       "    <tr>\n",
       "      <th>4</th>\n",
       "      <td>Изменить цвет фона главной страницы, чтобы увеличить вовлеченность пользователей</td>\n",
       "      <td>3.000</td>\n",
       "    </tr>\n",
       "  </tbody>\n",
       "</table>\n",
       "</div>"
      ],
      "text/plain": [
       "                                                                                                     hypothesis  \\\n",
       "7              Добавить форму подписки на все основные страницы, чтобы собрать базу клиентов для email-рассылок   \n",
       "2  Добавить блоки рекомендаций товаров на сайт интернет магазина, чтобы повысить конверсию и средний чек заказа   \n",
       "0            Добавить два новых канала привлечения трафика, что позволит привлекать на 30% больше пользователей   \n",
       "6          Показать на главной странице баннеры с актуальными акциями и распродажами, чтобы увеличить конверсию   \n",
       "8                                                       Запустить акцию, дающую скидку на товар в день рождения   \n",
       "3           Изменить структура категорий, что увеличит конверсию, т.к. пользователи быстрее найдут нужный товар   \n",
       "1                                     Запустить собственную службу доставки, что сократит срок доставки заказов   \n",
       "5                      Добавить страницу отзывов клиентов о магазине, что позволит увеличить количество заказов   \n",
       "4                              Изменить цвет фона главной страницы, чтобы увеличить вовлеченность пользователей   \n",
       "\n",
       "     RICE  \n",
       "7 112.000  \n",
       "2  56.000  \n",
       "0  40.000  \n",
       "6  40.000  \n",
       "8  16.200  \n",
       "3   9.000  \n",
       "1   4.000  \n",
       "5   4.000  \n",
       "4   3.000  "
      ]
     },
     "execution_count": 11,
     "metadata": {},
     "output_type": "execute_result"
    }
   ],
   "source": [
    "hypothesis['RICE'] = hypothesis['reach']*hypothesis['impact']*hypothesis['confidence']/hypothesis['efforts']\n",
    "\n",
    "hypothesis[['hypothesis', 'RICE']].sort_values(by='RICE', ascending=False).head(9)"
   ]
  },
  {
   "cell_type": "code",
   "execution_count": 12,
   "metadata": {},
   "outputs": [
    {
     "data": {
      "text/html": [
       "<div>\n",
       "<style scoped>\n",
       "    .dataframe tbody tr th:only-of-type {\n",
       "        vertical-align: middle;\n",
       "    }\n",
       "\n",
       "    .dataframe tbody tr th {\n",
       "        vertical-align: top;\n",
       "    }\n",
       "\n",
       "    .dataframe thead th {\n",
       "        text-align: right;\n",
       "    }\n",
       "</style>\n",
       "<table border=\"1\" class=\"dataframe\">\n",
       "  <thead>\n",
       "    <tr style=\"text-align: right;\">\n",
       "      <th></th>\n",
       "      <th>hypothesis</th>\n",
       "      <th>ICE</th>\n",
       "      <th>RICE</th>\n",
       "    </tr>\n",
       "  </thead>\n",
       "  <tbody>\n",
       "    <tr>\n",
       "      <th>7</th>\n",
       "      <td>Добавить форму подписки на все основные страницы, чтобы собрать базу клиентов для email-рассылок</td>\n",
       "      <td>11.200</td>\n",
       "      <td>112.000</td>\n",
       "    </tr>\n",
       "    <tr>\n",
       "      <th>2</th>\n",
       "      <td>Добавить блоки рекомендаций товаров на сайт интернет магазина, чтобы повысить конверсию и средний чек заказа</td>\n",
       "      <td>7.000</td>\n",
       "      <td>56.000</td>\n",
       "    </tr>\n",
       "    <tr>\n",
       "      <th>0</th>\n",
       "      <td>Добавить два новых канала привлечения трафика, что позволит привлекать на 30% больше пользователей</td>\n",
       "      <td>13.333</td>\n",
       "      <td>40.000</td>\n",
       "    </tr>\n",
       "    <tr>\n",
       "      <th>6</th>\n",
       "      <td>Показать на главной странице баннеры с актуальными акциями и распродажами, чтобы увеличить конверсию</td>\n",
       "      <td>8.000</td>\n",
       "      <td>40.000</td>\n",
       "    </tr>\n",
       "    <tr>\n",
       "      <th>8</th>\n",
       "      <td>Запустить акцию, дающую скидку на товар в день рождения</td>\n",
       "      <td>16.200</td>\n",
       "      <td>16.200</td>\n",
       "    </tr>\n",
       "    <tr>\n",
       "      <th>3</th>\n",
       "      <td>Изменить структура категорий, что увеличит конверсию, т.к. пользователи быстрее найдут нужный товар</td>\n",
       "      <td>1.125</td>\n",
       "      <td>9.000</td>\n",
       "    </tr>\n",
       "    <tr>\n",
       "      <th>1</th>\n",
       "      <td>Запустить собственную службу доставки, что сократит срок доставки заказов</td>\n",
       "      <td>2.000</td>\n",
       "      <td>4.000</td>\n",
       "    </tr>\n",
       "    <tr>\n",
       "      <th>5</th>\n",
       "      <td>Добавить страницу отзывов клиентов о магазине, что позволит увеличить количество заказов</td>\n",
       "      <td>1.333</td>\n",
       "      <td>4.000</td>\n",
       "    </tr>\n",
       "    <tr>\n",
       "      <th>4</th>\n",
       "      <td>Изменить цвет фона главной страницы, чтобы увеличить вовлеченность пользователей</td>\n",
       "      <td>1.000</td>\n",
       "      <td>3.000</td>\n",
       "    </tr>\n",
       "  </tbody>\n",
       "</table>\n",
       "</div>"
      ],
      "text/plain": [
       "                                                                                                     hypothesis  \\\n",
       "7              Добавить форму подписки на все основные страницы, чтобы собрать базу клиентов для email-рассылок   \n",
       "2  Добавить блоки рекомендаций товаров на сайт интернет магазина, чтобы повысить конверсию и средний чек заказа   \n",
       "0            Добавить два новых канала привлечения трафика, что позволит привлекать на 30% больше пользователей   \n",
       "6          Показать на главной странице баннеры с актуальными акциями и распродажами, чтобы увеличить конверсию   \n",
       "8                                                       Запустить акцию, дающую скидку на товар в день рождения   \n",
       "3           Изменить структура категорий, что увеличит конверсию, т.к. пользователи быстрее найдут нужный товар   \n",
       "1                                     Запустить собственную службу доставки, что сократит срок доставки заказов   \n",
       "5                      Добавить страницу отзывов клиентов о магазине, что позволит увеличить количество заказов   \n",
       "4                              Изменить цвет фона главной страницы, чтобы увеличить вовлеченность пользователей   \n",
       "\n",
       "     ICE    RICE  \n",
       "7 11.200 112.000  \n",
       "2  7.000  56.000  \n",
       "0 13.333  40.000  \n",
       "6  8.000  40.000  \n",
       "8 16.200  16.200  \n",
       "3  1.125   9.000  \n",
       "1  2.000   4.000  \n",
       "5  1.333   4.000  \n",
       "4  1.000   3.000  "
      ]
     },
     "execution_count": 12,
     "metadata": {},
     "output_type": "execute_result"
    }
   ],
   "source": [
    "hypothesis[['hypothesis', 'ICE', 'RICE']].sort_values(by='RICE', ascending=False)"
   ]
  },
  {
   "cell_type": "markdown",
   "metadata": {},
   "source": [
    "**Вывод:** \\\n",
    "Разница приоритезиций заключается в том, что `RICE` учитывает количество пользователей, которых затронут изменения, а `ICE` - нет."
   ]
  },
  {
   "cell_type": "markdown",
   "metadata": {},
   "source": [
    "## Проведение и анализ А/В теста\n",
    "- Построение графика кумулятивной выручки по группам.\n",
    "- Построение графика кумулятивного среднего чека по группам.\n",
    "- Построение графика относительного изменения кумулятивного среднего чека группы B к группе A.\n",
    "- Построение графика кумулятивного среднего количества заказов на посетителя по группам.\n",
    "- Построение графика относительного изменения кумулятивного среднего количества заказов на посетителя группы B к группе A.\n",
    "- Построение точечного графика количества заказов по пользователям.\n",
    "- Подсчет 95-й и 99-й перцентили количества заказов на пользователя. Выбор границы для определения аномальных пользователей.\n",
    "- Построение точечного графика стоимостей заказов.\n",
    "- Подсчет 95-й и 99-й перцентили стоимости заказов. Выбор границы для определения аномальных заказов.\n",
    "- Подсчет статистической значимости различий в среднем количестве заказов на посетителя между группами по «сырым» данным.\n",
    "- Подсчет статистической значимости различий в среднем чеке заказа между группами по «сырым» данным.\n",
    "- Подсчет статистической значимости различий в среднем количестве заказов на посетителя между группами по «очищенным» данным.\n",
    "- Подсчет статистической значимости различий в среднем чеке заказа между группами по «очищенным» данным."
   ]
  },
  {
   "cell_type": "markdown",
   "metadata": {},
   "source": [
    "Чтобы построить графики по кумулятивным данным, необходимо собрать соответствующий агрегированный датафрейм, содержащий информацию о дате, группе (А или В), кумулятивном количестве заказов и пользователей их оформивших, среднем чеке и о кумулятивном количестве посетителей магазина."
   ]
  },
  {
   "cell_type": "code",
   "execution_count": 13,
   "metadata": {},
   "outputs": [],
   "source": [
    "# создаем массив уникальных пар значений дат и групп теста\n",
    "\n",
    "dates_group = orders[['date', 'group']].drop_duplicates()"
   ]
  },
  {
   "cell_type": "code",
   "execution_count": 14,
   "metadata": {},
   "outputs": [
    {
     "data": {
      "text/html": [
       "<div>\n",
       "<style scoped>\n",
       "    .dataframe tbody tr th:only-of-type {\n",
       "        vertical-align: middle;\n",
       "    }\n",
       "\n",
       "    .dataframe tbody tr th {\n",
       "        vertical-align: top;\n",
       "    }\n",
       "\n",
       "    .dataframe thead th {\n",
       "        text-align: right;\n",
       "    }\n",
       "</style>\n",
       "<table border=\"1\" class=\"dataframe\">\n",
       "  <thead>\n",
       "    <tr style=\"text-align: right;\">\n",
       "      <th></th>\n",
       "      <th>date</th>\n",
       "      <th>group</th>\n",
       "      <th>transaction_id</th>\n",
       "      <th>visitor_id</th>\n",
       "      <th>revenue</th>\n",
       "    </tr>\n",
       "  </thead>\n",
       "  <tbody>\n",
       "    <tr>\n",
       "      <th>55</th>\n",
       "      <td>2019-08-01</td>\n",
       "      <td>A</td>\n",
       "      <td>24</td>\n",
       "      <td>20</td>\n",
       "      <td>148579</td>\n",
       "    </tr>\n",
       "    <tr>\n",
       "      <th>66</th>\n",
       "      <td>2019-08-01</td>\n",
       "      <td>B</td>\n",
       "      <td>21</td>\n",
       "      <td>20</td>\n",
       "      <td>101217</td>\n",
       "    </tr>\n",
       "    <tr>\n",
       "      <th>175</th>\n",
       "      <td>2019-08-02</td>\n",
       "      <td>A</td>\n",
       "      <td>44</td>\n",
       "      <td>38</td>\n",
       "      <td>242401</td>\n",
       "    </tr>\n",
       "    <tr>\n",
       "      <th>173</th>\n",
       "      <td>2019-08-02</td>\n",
       "      <td>B</td>\n",
       "      <td>45</td>\n",
       "      <td>43</td>\n",
       "      <td>266748</td>\n",
       "    </tr>\n",
       "    <tr>\n",
       "      <th>291</th>\n",
       "      <td>2019-08-03</td>\n",
       "      <td>A</td>\n",
       "      <td>68</td>\n",
       "      <td>62</td>\n",
       "      <td>354874</td>\n",
       "    </tr>\n",
       "    <tr>\n",
       "      <th>310</th>\n",
       "      <td>2019-08-03</td>\n",
       "      <td>B</td>\n",
       "      <td>61</td>\n",
       "      <td>59</td>\n",
       "      <td>380996</td>\n",
       "    </tr>\n",
       "    <tr>\n",
       "      <th>499</th>\n",
       "      <td>2019-08-04</td>\n",
       "      <td>A</td>\n",
       "      <td>84</td>\n",
       "      <td>77</td>\n",
       "      <td>425699</td>\n",
       "    </tr>\n",
       "    <tr>\n",
       "      <th>498</th>\n",
       "      <td>2019-08-04</td>\n",
       "      <td>B</td>\n",
       "      <td>78</td>\n",
       "      <td>75</td>\n",
       "      <td>489567</td>\n",
       "    </tr>\n",
       "    <tr>\n",
       "      <th>698</th>\n",
       "      <td>2019-08-05</td>\n",
       "      <td>A</td>\n",
       "      <td>109</td>\n",
       "      <td>100</td>\n",
       "      <td>549917</td>\n",
       "    </tr>\n",
       "    <tr>\n",
       "      <th>699</th>\n",
       "      <td>2019-08-05</td>\n",
       "      <td>B</td>\n",
       "      <td>101</td>\n",
       "      <td>98</td>\n",
       "      <td>581995</td>\n",
       "    </tr>\n",
       "  </tbody>\n",
       "</table>\n",
       "</div>"
      ],
      "text/plain": [
       "          date group  transaction_id  visitor_id  revenue\n",
       "55  2019-08-01     A              24          20   148579\n",
       "66  2019-08-01     B              21          20   101217\n",
       "175 2019-08-02     A              44          38   242401\n",
       "173 2019-08-02     B              45          43   266748\n",
       "291 2019-08-03     A              68          62   354874\n",
       "310 2019-08-03     B              61          59   380996\n",
       "499 2019-08-04     A              84          77   425699\n",
       "498 2019-08-04     B              78          75   489567\n",
       "698 2019-08-05     A             109         100   549917\n",
       "699 2019-08-05     B             101          98   581995"
      ]
     },
     "execution_count": 14,
     "metadata": {},
     "output_type": "execute_result"
    }
   ],
   "source": [
    "# получаем агрегированные кумулятивные по дням данные о заказах \n",
    "\n",
    "orders_aggregated = (dates_group.apply\n",
    "    (lambda x: orders[np.logical_and(orders['date'] <= x['date'], orders['group'] == x['group'])]\n",
    "        .agg({\n",
    "            'date' : 'max', \n",
    "            'group' : 'max', \n",
    "            'transaction_id' : 'nunique', \n",
    "            'visitor_id' : 'nunique', \n",
    "            'revenue' : 'sum'\n",
    "             }), \n",
    "    axis=1\n",
    "    )\n",
    "        .sort_values(by=['date','group'])\n",
    "                    )\n",
    "\n",
    "orders_aggregated.head(10)"
   ]
  },
  {
   "cell_type": "code",
   "execution_count": 15,
   "metadata": {},
   "outputs": [
    {
     "data": {
      "text/html": [
       "<div>\n",
       "<style scoped>\n",
       "    .dataframe tbody tr th:only-of-type {\n",
       "        vertical-align: middle;\n",
       "    }\n",
       "\n",
       "    .dataframe tbody tr th {\n",
       "        vertical-align: top;\n",
       "    }\n",
       "\n",
       "    .dataframe thead th {\n",
       "        text-align: right;\n",
       "    }\n",
       "</style>\n",
       "<table border=\"1\" class=\"dataframe\">\n",
       "  <thead>\n",
       "    <tr style=\"text-align: right;\">\n",
       "      <th></th>\n",
       "      <th>date</th>\n",
       "      <th>group</th>\n",
       "      <th>visitors</th>\n",
       "    </tr>\n",
       "  </thead>\n",
       "  <tbody>\n",
       "    <tr>\n",
       "      <th>55</th>\n",
       "      <td>2019-08-01</td>\n",
       "      <td>A</td>\n",
       "      <td>719</td>\n",
       "    </tr>\n",
       "    <tr>\n",
       "      <th>66</th>\n",
       "      <td>2019-08-01</td>\n",
       "      <td>B</td>\n",
       "      <td>713</td>\n",
       "    </tr>\n",
       "    <tr>\n",
       "      <th>175</th>\n",
       "      <td>2019-08-02</td>\n",
       "      <td>A</td>\n",
       "      <td>1338</td>\n",
       "    </tr>\n",
       "    <tr>\n",
       "      <th>173</th>\n",
       "      <td>2019-08-02</td>\n",
       "      <td>B</td>\n",
       "      <td>1294</td>\n",
       "    </tr>\n",
       "    <tr>\n",
       "      <th>291</th>\n",
       "      <td>2019-08-03</td>\n",
       "      <td>A</td>\n",
       "      <td>1845</td>\n",
       "    </tr>\n",
       "    <tr>\n",
       "      <th>310</th>\n",
       "      <td>2019-08-03</td>\n",
       "      <td>B</td>\n",
       "      <td>1803</td>\n",
       "    </tr>\n",
       "    <tr>\n",
       "      <th>499</th>\n",
       "      <td>2019-08-04</td>\n",
       "      <td>A</td>\n",
       "      <td>2562</td>\n",
       "    </tr>\n",
       "    <tr>\n",
       "      <th>498</th>\n",
       "      <td>2019-08-04</td>\n",
       "      <td>B</td>\n",
       "      <td>2573</td>\n",
       "    </tr>\n",
       "    <tr>\n",
       "      <th>698</th>\n",
       "      <td>2019-08-05</td>\n",
       "      <td>A</td>\n",
       "      <td>3318</td>\n",
       "    </tr>\n",
       "    <tr>\n",
       "      <th>699</th>\n",
       "      <td>2019-08-05</td>\n",
       "      <td>B</td>\n",
       "      <td>3280</td>\n",
       "    </tr>\n",
       "  </tbody>\n",
       "</table>\n",
       "</div>"
      ],
      "text/plain": [
       "          date group  visitors\n",
       "55  2019-08-01     A       719\n",
       "66  2019-08-01     B       713\n",
       "175 2019-08-02     A      1338\n",
       "173 2019-08-02     B      1294\n",
       "291 2019-08-03     A      1845\n",
       "310 2019-08-03     B      1803\n",
       "499 2019-08-04     A      2562\n",
       "498 2019-08-04     B      2573\n",
       "698 2019-08-05     A      3318\n",
       "699 2019-08-05     B      3280"
      ]
     },
     "execution_count": 15,
     "metadata": {},
     "output_type": "execute_result"
    }
   ],
   "source": [
    "# получаем агрегированные кумулятивные по дням данные о посетителях интернет-магазина \n",
    "\n",
    "visitors_aggregated = (dates_group.apply\n",
    "    (lambda x: visitors[np.logical_and(visitors['date'] <= x['date'], visitors['group'] == x['group'])]\n",
    "        .agg({\n",
    "            'date' : 'max', \n",
    "            'group' : 'max',  \n",
    "            'visitors' : 'sum'\n",
    "             }), \n",
    "    axis=1\n",
    "    )\n",
    "        .sort_values(by=['date','group'])\n",
    "                      )\n",
    "\n",
    "visitors_aggregated.head(10)"
   ]
  },
  {
   "cell_type": "code",
   "execution_count": 16,
   "metadata": {},
   "outputs": [
    {
     "data": {
      "text/html": [
       "<div>\n",
       "<style scoped>\n",
       "    .dataframe tbody tr th:only-of-type {\n",
       "        vertical-align: middle;\n",
       "    }\n",
       "\n",
       "    .dataframe tbody tr th {\n",
       "        vertical-align: top;\n",
       "    }\n",
       "\n",
       "    .dataframe thead th {\n",
       "        text-align: right;\n",
       "    }\n",
       "</style>\n",
       "<table border=\"1\" class=\"dataframe\">\n",
       "  <thead>\n",
       "    <tr style=\"text-align: right;\">\n",
       "      <th></th>\n",
       "      <th>date</th>\n",
       "      <th>group</th>\n",
       "      <th>orders</th>\n",
       "      <th>buyers</th>\n",
       "      <th>revenue</th>\n",
       "      <th>visitors</th>\n",
       "    </tr>\n",
       "  </thead>\n",
       "  <tbody>\n",
       "    <tr>\n",
       "      <th>0</th>\n",
       "      <td>2019-08-01</td>\n",
       "      <td>A</td>\n",
       "      <td>24</td>\n",
       "      <td>20</td>\n",
       "      <td>148579</td>\n",
       "      <td>719</td>\n",
       "    </tr>\n",
       "    <tr>\n",
       "      <th>1</th>\n",
       "      <td>2019-08-01</td>\n",
       "      <td>B</td>\n",
       "      <td>21</td>\n",
       "      <td>20</td>\n",
       "      <td>101217</td>\n",
       "      <td>713</td>\n",
       "    </tr>\n",
       "    <tr>\n",
       "      <th>2</th>\n",
       "      <td>2019-08-02</td>\n",
       "      <td>A</td>\n",
       "      <td>44</td>\n",
       "      <td>38</td>\n",
       "      <td>242401</td>\n",
       "      <td>1338</td>\n",
       "    </tr>\n",
       "    <tr>\n",
       "      <th>3</th>\n",
       "      <td>2019-08-02</td>\n",
       "      <td>B</td>\n",
       "      <td>45</td>\n",
       "      <td>43</td>\n",
       "      <td>266748</td>\n",
       "      <td>1294</td>\n",
       "    </tr>\n",
       "    <tr>\n",
       "      <th>4</th>\n",
       "      <td>2019-08-03</td>\n",
       "      <td>A</td>\n",
       "      <td>68</td>\n",
       "      <td>62</td>\n",
       "      <td>354874</td>\n",
       "      <td>1845</td>\n",
       "    </tr>\n",
       "    <tr>\n",
       "      <th>5</th>\n",
       "      <td>2019-08-03</td>\n",
       "      <td>B</td>\n",
       "      <td>61</td>\n",
       "      <td>59</td>\n",
       "      <td>380996</td>\n",
       "      <td>1803</td>\n",
       "    </tr>\n",
       "    <tr>\n",
       "      <th>6</th>\n",
       "      <td>2019-08-04</td>\n",
       "      <td>A</td>\n",
       "      <td>84</td>\n",
       "      <td>77</td>\n",
       "      <td>425699</td>\n",
       "      <td>2562</td>\n",
       "    </tr>\n",
       "    <tr>\n",
       "      <th>7</th>\n",
       "      <td>2019-08-04</td>\n",
       "      <td>B</td>\n",
       "      <td>78</td>\n",
       "      <td>75</td>\n",
       "      <td>489567</td>\n",
       "      <td>2573</td>\n",
       "    </tr>\n",
       "    <tr>\n",
       "      <th>8</th>\n",
       "      <td>2019-08-05</td>\n",
       "      <td>A</td>\n",
       "      <td>109</td>\n",
       "      <td>100</td>\n",
       "      <td>549917</td>\n",
       "      <td>3318</td>\n",
       "    </tr>\n",
       "    <tr>\n",
       "      <th>9</th>\n",
       "      <td>2019-08-05</td>\n",
       "      <td>B</td>\n",
       "      <td>101</td>\n",
       "      <td>98</td>\n",
       "      <td>581995</td>\n",
       "      <td>3280</td>\n",
       "    </tr>\n",
       "  </tbody>\n",
       "</table>\n",
       "</div>"
      ],
      "text/plain": [
       "        date group  orders  buyers  revenue  visitors\n",
       "0 2019-08-01     A      24      20   148579       719\n",
       "1 2019-08-01     B      21      20   101217       713\n",
       "2 2019-08-02     A      44      38   242401      1338\n",
       "3 2019-08-02     B      45      43   266748      1294\n",
       "4 2019-08-03     A      68      62   354874      1845\n",
       "5 2019-08-03     B      61      59   380996      1803\n",
       "6 2019-08-04     A      84      77   425699      2562\n",
       "7 2019-08-04     B      78      75   489567      2573\n",
       "8 2019-08-05     A     109     100   549917      3318\n",
       "9 2019-08-05     B     101      98   581995      3280"
      ]
     },
     "execution_count": 16,
     "metadata": {},
     "output_type": "execute_result"
    }
   ],
   "source": [
    "# объединяем кумулятивные данные в одной таблице и присваиваем ее столбцам понятные названия\n",
    "\n",
    "cumulative_data = (orders_aggregated.merge\n",
    "    (visitors_aggregated, \n",
    "     left_on=['date', 'group'], \n",
    "     right_on=['date', 'group']\n",
    "    )\n",
    "                  )\n",
    "\n",
    "cumulative_data.columns = ['date', 'group', 'orders', 'buyers', 'revenue', 'visitors']\n",
    "\n",
    "cumulative_data.head(10)"
   ]
  },
  {
   "cell_type": "code",
   "execution_count": 51,
   "metadata": {},
   "outputs": [
    {
     "name": "stdout",
     "output_type": "stream",
     "text": [
      "2019-08-31 00:00:00\n",
      "2019-08-01 00:00:00\n",
      "\n",
      "2019-08-31 00:00:00\n",
      "2019-08-01 00:00:00\n",
      "\n",
      "2019-08-31 00:00:00\n",
      "2019-08-01 00:00:00\n",
      "\n"
     ]
    }
   ],
   "source": [
    "# проверим, совпадают ли минимальная и максимальная даты в этом датафрейме с минимальной и максимальной датой в исходных данных\n",
    "for i in [cumulative_data, visitors, orders]:\n",
    "    print(i.date.max())\n",
    "    print(i.date.min())\n",
    "    print()"
   ]
  },
  {
   "cell_type": "code",
   "execution_count": 18,
   "metadata": {},
   "outputs": [],
   "source": [
    "# датафрейм с кумулятивным количеством заказов и кумулятивной выручкой по дням в группе А\n",
    "cumulative_revenue_A = cumulative_data[cumulative_data['group']=='A'][['date','revenue', 'orders']]\n",
    "\n",
    "# датафрейм с кумулятивным количеством заказов и кумулятивной выручкой по дням в группе B\n",
    "cumulative_revenue_B = cumulative_data[cumulative_data['group']=='B'][['date','revenue', 'orders']]"
   ]
  },
  {
   "cell_type": "markdown",
   "metadata": {},
   "source": [
    "### Построение графика кумулятивной выручки по группам"
   ]
  },
  {
   "cell_type": "markdown",
   "metadata": {},
   "source": [
    "Построим график кумулятивной выручки по группам."
   ]
  },
  {
   "cell_type": "code",
   "execution_count": 19,
   "metadata": {},
   "outputs": [
    {
     "data": {
      "image/png": "[encoded data removed]",
      "text/plain": [
       "<Figure size 900x500 with 1 Axes>"
      ]
     },
     "metadata": {},
     "output_type": "display_data"
    }
   ],
   "source": [
    "plt.plot(cumulative_revenue_A['date'],\n",
    "         cumulative_revenue_A['revenue'],\n",
    "         label='A')\n",
    "plt.plot(cumulative_revenue_B['date'],\n",
    "         cumulative_revenue_B['revenue'],\n",
    "         label='B')\n",
    "\n",
    "plt.title('График динамики кумулятивной выручки по группам А и В')\n",
    "plt.ylabel(\"Выручка\")\n",
    "plt.xticks(rotation=45)\n",
    "plt.legend()\n",
    "plt.show()"
   ]
  },
  {
   "cell_type": "markdown",
   "metadata": {},
   "source": [
    "Куммулятивная выручка в обеих группах линейно увеличивается на протяжении всего теста. В группе \"B\" есть резкий скачок 18-19 августа, который может свидетельствовать о всплеске числа заказов или о появлении неожидано дорогих заказов."
   ]
  },
  {
   "cell_type": "markdown",
   "metadata": {},
   "source": [
    "### Построение графика кумулятивного среднего чека по группам."
   ]
  },
  {
   "cell_type": "markdown",
   "metadata": {},
   "source": [
    "Построим график кумулятивного среднего чека по группам."
   ]
  },
  {
   "cell_type": "code",
   "execution_count": 20,
   "metadata": {},
   "outputs": [
    {
     "data": {
      "image/png": "[encoded data removed]",
      "text/plain": [
       "<Figure size 900x500 with 1 Axes>"
      ]
     },
     "metadata": {},
     "output_type": "display_data"
    }
   ],
   "source": [
    "plt.plot(cumulative_revenue_A['date'], \n",
    "         cumulative_revenue_A['revenue']/cumulative_revenue_A['orders'], \n",
    "         label='A')\n",
    "\n",
    "plt.plot(cumulative_revenue_B['date'], \n",
    "         cumulative_revenue_B['revenue']/cumulative_revenue_B['orders'], \n",
    "         label='B')\n",
    "\n",
    "plt.title('График динамики кумулятивного среднего чека по группам А и В')\n",
    "plt.ylabel(\"Выручка\")\n",
    "plt.xticks(rotation=45)\n",
    "plt.legend()\n",
    "plt.show()"
   ]
  },
  {
   "cell_type": "markdown",
   "metadata": {},
   "source": [
    "Из графика можно сделать вывод, что резкий всплеск и плавное снижение в группе \"В\" свидетельствует о попадании в выборку крупных заказов, в то время как график группы \"А\" спустя две недели стабилизировался."
   ]
  },
  {
   "cell_type": "markdown",
   "metadata": {},
   "source": [
    "### Построение графика относительного изменения кумулятивного среднего чека группы B к группе A"
   ]
  },
  {
   "cell_type": "code",
   "execution_count": 21,
   "metadata": {},
   "outputs": [],
   "source": [
    "# собираем данные в одном датафрейме\n",
    "merged_cumulative_revenue = (cumulative_revenue_A\n",
    "        .merge(cumulative_revenue_B, \n",
    "               left_on='date', \n",
    "               right_on='date', \n",
    "               how='left', \n",
    "               suffixes=['A', 'B']\n",
    "              )\n",
    "                            )"
   ]
  },
  {
   "cell_type": "code",
   "execution_count": 22,
   "metadata": {},
   "outputs": [
    {
     "data": {
      "image/png": "[encoded data removed]",
      "text/plain": [
       "<Figure size 900x500 with 1 Axes>"
      ]
     },
     "metadata": {},
     "output_type": "display_data"
    }
   ],
   "source": [
    "# cтроим отношение средних чеков\n",
    "plt.plot(merged_cumulative_revenue['date'],\n",
    "         (merged_cumulative_revenue['revenueB']/merged_cumulative_revenue['ordersB'])/\n",
    "         (merged_cumulative_revenue['revenueA']/merged_cumulative_revenue['ordersA'])-1)\n",
    "\n",
    "# добавляем ось X\n",
    "plt.axhline(y=0, color='black', linestyle='--')\n",
    "plt.title('График относительного изменения кумулятивного среднего чека группы B к группе A')\n",
    "plt.ylabel('Относительное изменение')\n",
    "plt.xticks(rotation=45)\n",
    "plt.show()"
   ]
  },
  {
   "cell_type": "markdown",
   "metadata": {},
   "source": [
    "Как мы говорили ранее, 18-19 августа были крупные заказы."
   ]
  },
  {
   "cell_type": "markdown",
   "metadata": {},
   "source": [
    "### Построение графика кумулятивного среднего количества заказов на посетителя по группам."
   ]
  },
  {
   "cell_type": "code",
   "execution_count": 23,
   "metadata": {},
   "outputs": [],
   "source": [
    "# считаем кумулятивное среднее количество заказов на посетителя\n",
    "cumulative_data['conversion'] = cumulative_data['orders']/cumulative_data['visitors']"
   ]
  },
  {
   "cell_type": "code",
   "execution_count": 24,
   "metadata": {},
   "outputs": [],
   "source": [
    "# отделяем данные по группе A и В\n",
    "cumulative_data_A = cumulative_data[cumulative_data['group']=='A']\n",
    "cumulative_data_B = cumulative_data[cumulative_data['group']=='B']"
   ]
  },
  {
   "cell_type": "code",
   "execution_count": 25,
   "metadata": {},
   "outputs": [
    {
     "data": {
      "image/png": "[encoded data removed]",
      "text/plain": [
       "<Figure size 900x500 with 1 Axes>"
      ]
     },
     "metadata": {},
     "output_type": "display_data"
    }
   ],
   "source": [
    "# строим графики\n",
    "plt.plot(cumulative_data_A['date'], cumulative_data_A['conversion'], label='A')\n",
    "plt.plot(cumulative_data_B['date'], cumulative_data_B['conversion'], label='B')\n",
    "plt.legend()\n",
    "plt.title('Кумулятивное среднее количество заказов на посетителя по группам')\n",
    "plt.ylabel('Среднее количество заказов на посетителя')\n",
    "plt.xticks(rotation=45)\n",
    "plt.show()"
   ]
  },
  {
   "cell_type": "markdown",
   "metadata": {},
   "source": [
    "Из графиков видим, что **кумулятивное среднее количество заказов** группы \"А\" после 5 августа пошла на спад, а группа \"В\" сильно вырвалась вперед.\\\n",
    "Оба графика со временем стабилизировались."
   ]
  },
  {
   "cell_type": "markdown",
   "metadata": {},
   "source": [
    "### Построение графика относительного изменения кумулятивного среднего количества заказов на посетителя группы B к группе A."
   ]
  },
  {
   "cell_type": "code",
   "execution_count": 26,
   "metadata": {},
   "outputs": [],
   "source": [
    "# собираем данные в одном датафрейме\n",
    "merged_cumulative_conversions = (cumulative_data_A[['date','conversion']]\n",
    "        .merge(cumulative_data_B[['date','conversion']], \n",
    "               left_on='date', \n",
    "               right_on='date', \n",
    "               how='left', \n",
    "               suffixes=['A', 'B']\n",
    "              )\n",
    "                                )"
   ]
  },
  {
   "cell_type": "code",
   "execution_count": 27,
   "metadata": {
    "scrolled": false
   },
   "outputs": [
    {
     "data": {
      "image/png": "[encoded data removed]",
      "text/plain": [
       "<Figure size 900x500 with 1 Axes>"
      ]
     },
     "metadata": {},
     "output_type": "display_data"
    }
   ],
   "source": [
    "plt.plot(merged_cumulative_conversions['date'], \n",
    "         merged_cumulative_conversions['conversionB']/\n",
    "         merged_cumulative_conversions['conversionA']-1\n",
    "        )\n",
    "\n",
    "plt.axhline(y=0.0, color='black', linestyle='--')\n",
    "plt.axhline(y=0.15, color='grey', linestyle='--')\n",
    "plt.title('Относительное зменение кумулятивного среднего количества заказов на посетителя по группам')\n",
    "plt.ylabel('Относительное изменение')\n",
    "plt.xticks(rotation=45)\n",
    "plt.show()"
   ]
  },
  {
   "cell_type": "markdown",
   "metadata": {},
   "source": [
    "Видим что относительный прирост сначала был отрицательным, но после 5 августа пошел сильный рост. С 9 августа стабилизировался."
   ]
  },
  {
   "cell_type": "markdown",
   "metadata": {},
   "source": [
    "### Построение точечного графика количества заказов по пользователям."
   ]
  },
  {
   "cell_type": "code",
   "execution_count": 28,
   "metadata": {},
   "outputs": [
    {
     "data": {
      "text/html": [
       "<div>\n",
       "<style scoped>\n",
       "    .dataframe tbody tr th:only-of-type {\n",
       "        vertical-align: middle;\n",
       "    }\n",
       "\n",
       "    .dataframe tbody tr th {\n",
       "        vertical-align: top;\n",
       "    }\n",
       "\n",
       "    .dataframe thead th {\n",
       "        text-align: right;\n",
       "    }\n",
       "</style>\n",
       "<table border=\"1\" class=\"dataframe\">\n",
       "  <thead>\n",
       "    <tr style=\"text-align: right;\">\n",
       "      <th></th>\n",
       "      <th>visitor_id</th>\n",
       "      <th>transaction_id</th>\n",
       "    </tr>\n",
       "  </thead>\n",
       "  <tbody>\n",
       "    <tr>\n",
       "      <th>1023</th>\n",
       "      <td>4256040402</td>\n",
       "      <td>11</td>\n",
       "    </tr>\n",
       "    <tr>\n",
       "      <th>591</th>\n",
       "      <td>2458001652</td>\n",
       "      <td>11</td>\n",
       "    </tr>\n",
       "    <tr>\n",
       "      <th>569</th>\n",
       "      <td>2378935119</td>\n",
       "      <td>9</td>\n",
       "    </tr>\n",
       "    <tr>\n",
       "      <th>487</th>\n",
       "      <td>2038680547</td>\n",
       "      <td>8</td>\n",
       "    </tr>\n",
       "    <tr>\n",
       "      <th>44</th>\n",
       "      <td>199603092</td>\n",
       "      <td>5</td>\n",
       "    </tr>\n",
       "    <tr>\n",
       "      <th>744</th>\n",
       "      <td>3062433592</td>\n",
       "      <td>5</td>\n",
       "    </tr>\n",
       "    <tr>\n",
       "      <th>55</th>\n",
       "      <td>237748145</td>\n",
       "      <td>5</td>\n",
       "    </tr>\n",
       "    <tr>\n",
       "      <th>917</th>\n",
       "      <td>3803269165</td>\n",
       "      <td>5</td>\n",
       "    </tr>\n",
       "    <tr>\n",
       "      <th>299</th>\n",
       "      <td>1230306981</td>\n",
       "      <td>5</td>\n",
       "    </tr>\n",
       "    <tr>\n",
       "      <th>897</th>\n",
       "      <td>3717692402</td>\n",
       "      <td>5</td>\n",
       "    </tr>\n",
       "  </tbody>\n",
       "</table>\n",
       "</div>"
      ],
      "text/plain": [
       "      visitor_id  transaction_id\n",
       "1023  4256040402              11\n",
       "591   2458001652              11\n",
       "569   2378935119               9\n",
       "487   2038680547               8\n",
       "44     199603092               5\n",
       "744   3062433592               5\n",
       "55     237748145               5\n",
       "917   3803269165               5\n",
       "299   1230306981               5\n",
       "897   3717692402               5"
      ]
     },
     "execution_count": 28,
     "metadata": {},
     "output_type": "execute_result"
    }
   ],
   "source": [
    "# подсчитаем количесво заказов по пользователям\n",
    "orders_by_users = (\n",
    "    orders.groupby('visitor_id', as_index=False)\n",
    "    .agg({'transaction_id': 'nunique'})\n",
    ")\n",
    "orders_by_users.sort_values(by='transaction_id', ascending=False).head(10)"
   ]
  },
  {
   "cell_type": "code",
   "execution_count": 29,
   "metadata": {},
   "outputs": [
    {
     "data": {
      "text/html": [
       "<div>\n",
       "<style scoped>\n",
       "    .dataframe tbody tr th:only-of-type {\n",
       "        vertical-align: middle;\n",
       "    }\n",
       "\n",
       "    .dataframe tbody tr th {\n",
       "        vertical-align: top;\n",
       "    }\n",
       "\n",
       "    .dataframe thead th {\n",
       "        text-align: right;\n",
       "    }\n",
       "</style>\n",
       "<table border=\"1\" class=\"dataframe\">\n",
       "  <thead>\n",
       "    <tr style=\"text-align: right;\">\n",
       "      <th></th>\n",
       "      <th>visitor_id</th>\n",
       "    </tr>\n",
       "    <tr>\n",
       "      <th>orders</th>\n",
       "      <th></th>\n",
       "    </tr>\n",
       "  </thead>\n",
       "  <tbody>\n",
       "    <tr>\n",
       "      <th>1</th>\n",
       "      <td>937</td>\n",
       "    </tr>\n",
       "    <tr>\n",
       "      <th>2</th>\n",
       "      <td>64</td>\n",
       "    </tr>\n",
       "    <tr>\n",
       "      <th>3</th>\n",
       "      <td>17</td>\n",
       "    </tr>\n",
       "    <tr>\n",
       "      <th>4</th>\n",
       "      <td>3</td>\n",
       "    </tr>\n",
       "    <tr>\n",
       "      <th>5</th>\n",
       "      <td>6</td>\n",
       "    </tr>\n",
       "    <tr>\n",
       "      <th>8</th>\n",
       "      <td>1</td>\n",
       "    </tr>\n",
       "    <tr>\n",
       "      <th>9</th>\n",
       "      <td>1</td>\n",
       "    </tr>\n",
       "    <tr>\n",
       "      <th>11</th>\n",
       "      <td>2</td>\n",
       "    </tr>\n",
       "  </tbody>\n",
       "</table>\n",
       "</div>"
      ],
      "text/plain": [
       "        visitor_id\n",
       "orders            \n",
       "1              937\n",
       "2               64\n",
       "3               17\n",
       "4                3\n",
       "5                6\n",
       "8                1\n",
       "9                1\n",
       "11               2"
      ]
     },
     "execution_count": 29,
     "metadata": {},
     "output_type": "execute_result"
    }
   ],
   "source": [
    "orders_by_users.columns = ['visitor_id', 'orders']\n",
    "aa = orders_by_users.groupby('orders').agg({'visitor_id' : 'count'})\n",
    "aa"
   ]
  },
  {
   "cell_type": "markdown",
   "metadata": {},
   "source": [
    "Построим гистрограмму распределения количества заказов на одного пользователя."
   ]
  },
  {
   "cell_type": "code",
   "execution_count": 30,
   "metadata": {},
   "outputs": [
    {
     "data": {
      "image/png": "[encoded data removed]",
      "text/plain": [
       "<Figure size 900x500 with 1 Axes>"
      ]
     },
     "metadata": {},
     "output_type": "display_data"
    }
   ],
   "source": [
    "plt.hist(orders_by_users['orders'])\n",
    "plt.title('Распределение количества заказов по пользователям')\n",
    "plt.xlabel('Количество заказов')\n",
    "plt.ylabel('Количество пользователей')\n",
    "plt.show()"
   ]
  },
  {
   "cell_type": "markdown",
   "metadata": {},
   "source": [
    "Построим точечную диаграмму распределения количества заказов на одного пользователя"
   ]
  },
  {
   "cell_type": "code",
   "execution_count": 31,
   "metadata": {},
   "outputs": [
    {
     "data": {
      "image/png": "[encoded data removed]",
      "text/plain": [
       "<Figure size 900x500 with 1 Axes>"
      ]
     },
     "metadata": {},
     "output_type": "display_data"
    }
   ],
   "source": [
    "x_values = pd.Series(range(0,len(orders_by_users)))\n",
    "\n",
    "plt.scatter(x_values, orders_by_users['orders'])\n",
    "plt.title('Распределение количества заказов по пользователям')\n",
    "plt.ylabel('Количество заказов')\n",
    "plt.xlabel('количество пользователей')\n",
    "plt.show()"
   ]
  },
  {
   "cell_type": "markdown",
   "metadata": {},
   "source": [
    "Видим, что есть пользователи, оформившие 5, 8, 9 и 11 заказов. Значительно больше, чем обычный пользователь. Большинство пользователей оформляли заказ 1 раз. Также видим достаточное количество пользователей с 2 и 3 заказами."
   ]
  },
  {
   "cell_type": "markdown",
   "metadata": {},
   "source": [
    "### Подсчет 95-й и 99-й перцентили количества заказов на пользователя. Выбор границы для определения аномальных пользователей."
   ]
  },
  {
   "cell_type": "code",
   "execution_count": 32,
   "metadata": {},
   "outputs": [
    {
     "data": {
      "text/plain": [
       "array([2., 4.])"
      ]
     },
     "execution_count": 32,
     "metadata": {},
     "output_type": "execute_result"
    }
   ],
   "source": [
    "np.percentile(orders_by_users['orders'], [95, 99])"
   ]
  },
  {
   "cell_type": "markdown",
   "metadata": {},
   "source": [
    "Не более 5% пользователей совершили больше чем 2 заказа. И 1% пользователей заказывали более 4 раз.\\\n",
    "Примем верхнюю границу в 4 заказа."
   ]
  },
  {
   "cell_type": "markdown",
   "metadata": {},
   "source": [
    "### Построение точечного графика стоимостей заказов."
   ]
  },
  {
   "cell_type": "markdown",
   "metadata": {},
   "source": [
    "Изучим гистограмму распределения стоимостей заказов"
   ]
  },
  {
   "cell_type": "code",
   "execution_count": 33,
   "metadata": {},
   "outputs": [
    {
     "data": {
      "image/png": "[encoded data removed]",
      "text/plain": [
       "<Figure size 900x500 with 1 Axes>"
      ]
     },
     "metadata": {},
     "output_type": "display_data"
    }
   ],
   "source": [
    "plt.hist(orders['revenue'], bins=100) \n",
    "plt.title('Распределение стоимости заказов по пользователям')\n",
    "plt.xlabel('Стоимость заказов')\n",
    "plt.ylabel('Количество пользователей')\n",
    "plt.show()"
   ]
  },
  {
   "cell_type": "markdown",
   "metadata": {},
   "source": [
    "Построим точечную диаграмму распределения стоимостей заказов"
   ]
  },
  {
   "cell_type": "code",
   "execution_count": 34,
   "metadata": {},
   "outputs": [
    {
     "data": {
      "image/png": "[encoded data removed]",
      "text/plain": [
       "<Figure size 900x500 with 1 Axes>"
      ]
     },
     "metadata": {},
     "output_type": "display_data"
    }
   ],
   "source": [
    "x_values = pd.Series(range(0,len(orders['revenue'])))\n",
    "plt.scatter(x_values, orders['revenue'])\n",
    "plt.title('Распределение стоимости заказов по пользователям')\n",
    "plt.xlabel('количество пользователей')\n",
    "plt.ylabel('Выручка')\n",
    "plt.show()"
   ]
  },
  {
   "cell_type": "markdown",
   "metadata": {},
   "source": [
    "Видим сильные выбросы. Поправим график для наглядности."
   ]
  },
  {
   "cell_type": "code",
   "execution_count": 35,
   "metadata": {},
   "outputs": [
    {
     "data": {
      "image/png": "[encoded data removed]",
      "text/plain": [
       "<Figure size 900x500 with 1 Axes>"
      ]
     },
     "metadata": {},
     "output_type": "display_data"
    }
   ],
   "source": [
    "plt.ylim(0, 120000)\n",
    "plt.scatter(x_values, orders['revenue'])\n",
    "plt.title('Распределение стоимости заказов по пользователям')\n",
    "plt.xlabel('количество пользователей')\n",
    "plt.ylabel('Выручка')\n",
    "plt.show()"
   ]
  },
  {
   "cell_type": "markdown",
   "metadata": {},
   "source": [
    "Из графиков видим, что основная масса заказов не превышает 15 000 рублей, но в выборке также присутсвуют выбросы. Чтобы понять, на какой границе их отсеивать, посчитаем перцентили."
   ]
  },
  {
   "cell_type": "markdown",
   "metadata": {},
   "source": [
    "### Подсчет 95-й и 99-й перцентили стоимости заказов. Выбор границы для определения аномальных заказов."
   ]
  },
  {
   "cell_type": "code",
   "execution_count": 36,
   "metadata": {},
   "outputs": [
    {
     "data": {
      "text/plain": [
       "array([28000. , 58233.2])"
      ]
     },
     "execution_count": 36,
     "metadata": {},
     "output_type": "execute_result"
    }
   ],
   "source": [
    "np.percentile(orders['revenue'], [95, 99])"
   ]
  },
  {
   "cell_type": "markdown",
   "metadata": {},
   "source": [
    "Не более 5% заказов превышают стоимоть в 28 000 рублей, 1% превышают 58 233,2 рубля.\n",
    "Примем границу в 58 233."
   ]
  },
  {
   "cell_type": "markdown",
   "metadata": {},
   "source": [
    "**Вывод:** Разумно выбрать 4 заказа на одного пользователя за верхнюю границу числа заказов и 58 233 рубля как верхнюю границу стоимости заказа, и отсеять аномальных пользователей по ней."
   ]
  },
  {
   "cell_type": "markdown",
   "metadata": {},
   "source": [
    "## Статистический анализ"
   ]
  },
  {
   "cell_type": "markdown",
   "metadata": {},
   "source": [
    "### Подсчет статистической значимости различий в среднем количестве заказов на посетителя между группами по «сырым» данным."
   ]
  },
  {
   "cell_type": "markdown",
   "metadata": {},
   "source": [
    "Посчитаем статистическую значимость различий в среднем числе заказов на пользователя и среднем чеке между группами по «сырым» данным — без удаления аномальных пользователей."
   ]
  },
  {
   "cell_type": "code",
   "execution_count": 37,
   "metadata": {},
   "outputs": [],
   "source": [
    "# Сформулируем гипотезы.\n",
    "H0 = 'Статистически значимых различий в среднем количестве заказов между группами по \"сырым\" данным нет.'\n",
    "H1 = 'Статистически значимые различия в среднем количестве заказов между группами по \"сырым\" данным есть.'\n",
    "alpha = 0.05"
   ]
  },
  {
   "cell_type": "markdown",
   "metadata": {},
   "source": [
    "Начнём с подготовки данных."
   ]
  },
  {
   "cell_type": "code",
   "execution_count": 38,
   "metadata": {
    "scrolled": false
   },
   "outputs": [
    {
     "data": {
      "text/html": [
       "<div>\n",
       "<style scoped>\n",
       "    .dataframe tbody tr th:only-of-type {\n",
       "        vertical-align: middle;\n",
       "    }\n",
       "\n",
       "    .dataframe tbody tr th {\n",
       "        vertical-align: top;\n",
       "    }\n",
       "\n",
       "    .dataframe thead th {\n",
       "        text-align: right;\n",
       "    }\n",
       "</style>\n",
       "<table border=\"1\" class=\"dataframe\">\n",
       "  <thead>\n",
       "    <tr style=\"text-align: right;\">\n",
       "      <th></th>\n",
       "      <th>date</th>\n",
       "      <th>orders_daily_a</th>\n",
       "      <th>revenue_per_date_a</th>\n",
       "      <th>orders_daily_b</th>\n",
       "      <th>revenue_per_date_b</th>\n",
       "      <th>orders_cummulative_a</th>\n",
       "      <th>revenue_cummulative_a</th>\n",
       "      <th>orders_cummulative_b</th>\n",
       "      <th>revenue_cummulative_b</th>\n",
       "      <th>visitors_per_date_a</th>\n",
       "      <th>visitors_per_date_b</th>\n",
       "      <th>visitors_cummulative_a</th>\n",
       "      <th>visitors_cummulative_b</th>\n",
       "    </tr>\n",
       "  </thead>\n",
       "  <tbody>\n",
       "    <tr>\n",
       "      <th>0</th>\n",
       "      <td>2019-08-01</td>\n",
       "      <td>24</td>\n",
       "      <td>148579</td>\n",
       "      <td>21</td>\n",
       "      <td>101217</td>\n",
       "      <td>24</td>\n",
       "      <td>148579</td>\n",
       "      <td>21</td>\n",
       "      <td>101217</td>\n",
       "      <td>719</td>\n",
       "      <td>713</td>\n",
       "      <td>719</td>\n",
       "      <td>713</td>\n",
       "    </tr>\n",
       "    <tr>\n",
       "      <th>1</th>\n",
       "      <td>2019-08-02</td>\n",
       "      <td>20</td>\n",
       "      <td>93822</td>\n",
       "      <td>24</td>\n",
       "      <td>165531</td>\n",
       "      <td>44</td>\n",
       "      <td>242401</td>\n",
       "      <td>45</td>\n",
       "      <td>266748</td>\n",
       "      <td>619</td>\n",
       "      <td>581</td>\n",
       "      <td>1338</td>\n",
       "      <td>1294</td>\n",
       "    </tr>\n",
       "    <tr>\n",
       "      <th>2</th>\n",
       "      <td>2019-08-03</td>\n",
       "      <td>24</td>\n",
       "      <td>112473</td>\n",
       "      <td>16</td>\n",
       "      <td>114248</td>\n",
       "      <td>68</td>\n",
       "      <td>354874</td>\n",
       "      <td>61</td>\n",
       "      <td>380996</td>\n",
       "      <td>507</td>\n",
       "      <td>509</td>\n",
       "      <td>1845</td>\n",
       "      <td>1803</td>\n",
       "    </tr>\n",
       "    <tr>\n",
       "      <th>3</th>\n",
       "      <td>2019-08-04</td>\n",
       "      <td>16</td>\n",
       "      <td>70825</td>\n",
       "      <td>17</td>\n",
       "      <td>108571</td>\n",
       "      <td>84</td>\n",
       "      <td>425699</td>\n",
       "      <td>78</td>\n",
       "      <td>489567</td>\n",
       "      <td>717</td>\n",
       "      <td>770</td>\n",
       "      <td>2562</td>\n",
       "      <td>2573</td>\n",
       "    </tr>\n",
       "    <tr>\n",
       "      <th>4</th>\n",
       "      <td>2019-08-05</td>\n",
       "      <td>25</td>\n",
       "      <td>124218</td>\n",
       "      <td>23</td>\n",
       "      <td>92428</td>\n",
       "      <td>109</td>\n",
       "      <td>549917</td>\n",
       "      <td>101</td>\n",
       "      <td>581995</td>\n",
       "      <td>756</td>\n",
       "      <td>707</td>\n",
       "      <td>3318</td>\n",
       "      <td>3280</td>\n",
       "    </tr>\n",
       "    <tr>\n",
       "      <th>5</th>\n",
       "      <td>2019-08-06</td>\n",
       "      <td>18</td>\n",
       "      <td>48484</td>\n",
       "      <td>28</td>\n",
       "      <td>242342</td>\n",
       "      <td>127</td>\n",
       "      <td>598401</td>\n",
       "      <td>129</td>\n",
       "      <td>824337</td>\n",
       "      <td>667</td>\n",
       "      <td>655</td>\n",
       "      <td>3985</td>\n",
       "      <td>3935</td>\n",
       "    </tr>\n",
       "    <tr>\n",
       "      <th>6</th>\n",
       "      <td>2019-08-07</td>\n",
       "      <td>18</td>\n",
       "      <td>142417</td>\n",
       "      <td>24</td>\n",
       "      <td>225334</td>\n",
       "      <td>145</td>\n",
       "      <td>740818</td>\n",
       "      <td>153</td>\n",
       "      <td>1049671</td>\n",
       "      <td>644</td>\n",
       "      <td>709</td>\n",
       "      <td>4629</td>\n",
       "      <td>4644</td>\n",
       "    </tr>\n",
       "    <tr>\n",
       "      <th>7</th>\n",
       "      <td>2019-08-08</td>\n",
       "      <td>16</td>\n",
       "      <td>96279</td>\n",
       "      <td>27</td>\n",
       "      <td>220918</td>\n",
       "      <td>161</td>\n",
       "      <td>837097</td>\n",
       "      <td>180</td>\n",
       "      <td>1270589</td>\n",
       "      <td>610</td>\n",
       "      <td>654</td>\n",
       "      <td>5239</td>\n",
       "      <td>5298</td>\n",
       "    </tr>\n",
       "    <tr>\n",
       "      <th>8</th>\n",
       "      <td>2019-08-09</td>\n",
       "      <td>16</td>\n",
       "      <td>188506</td>\n",
       "      <td>25</td>\n",
       "      <td>160812</td>\n",
       "      <td>177</td>\n",
       "      <td>1025603</td>\n",
       "      <td>205</td>\n",
       "      <td>1431401</td>\n",
       "      <td>617</td>\n",
       "      <td>610</td>\n",
       "      <td>5856</td>\n",
       "      <td>5908</td>\n",
       "    </tr>\n",
       "    <tr>\n",
       "      <th>9</th>\n",
       "      <td>2019-08-10</td>\n",
       "      <td>16</td>\n",
       "      <td>210495</td>\n",
       "      <td>23</td>\n",
       "      <td>107802</td>\n",
       "      <td>193</td>\n",
       "      <td>1236098</td>\n",
       "      <td>228</td>\n",
       "      <td>1539203</td>\n",
       "      <td>406</td>\n",
       "      <td>369</td>\n",
       "      <td>6262</td>\n",
       "      <td>6277</td>\n",
       "    </tr>\n",
       "  </tbody>\n",
       "</table>\n",
       "</div>"
      ],
      "text/plain": [
       "        date  orders_daily_a  revenue_per_date_a  orders_daily_b  \\\n",
       "0 2019-08-01              24              148579              21   \n",
       "1 2019-08-02              20               93822              24   \n",
       "2 2019-08-03              24              112473              16   \n",
       "3 2019-08-04              16               70825              17   \n",
       "4 2019-08-05              25              124218              23   \n",
       "5 2019-08-06              18               48484              28   \n",
       "6 2019-08-07              18              142417              24   \n",
       "7 2019-08-08              16               96279              27   \n",
       "8 2019-08-09              16              188506              25   \n",
       "9 2019-08-10              16              210495              23   \n",
       "\n",
       "   revenue_per_date_b  orders_cummulative_a  revenue_cummulative_a  \\\n",
       "0              101217                    24                 148579   \n",
       "1              165531                    44                 242401   \n",
       "2              114248                    68                 354874   \n",
       "3              108571                    84                 425699   \n",
       "4               92428                   109                 549917   \n",
       "5              242342                   127                 598401   \n",
       "6              225334                   145                 740818   \n",
       "7              220918                   161                 837097   \n",
       "8              160812                   177                1025603   \n",
       "9              107802                   193                1236098   \n",
       "\n",
       "   orders_cummulative_b  revenue_cummulative_b  visitors_per_date_a  \\\n",
       "0                    21                 101217                  719   \n",
       "1                    45                 266748                  619   \n",
       "2                    61                 380996                  507   \n",
       "3                    78                 489567                  717   \n",
       "4                   101                 581995                  756   \n",
       "5                   129                 824337                  667   \n",
       "6                   153                1049671                  644   \n",
       "7                   180                1270589                  610   \n",
       "8                   205                1431401                  617   \n",
       "9                   228                1539203                  406   \n",
       "\n",
       "   visitors_per_date_b  visitors_cummulative_a  visitors_cummulative_b  \n",
       "0                  713                     719                     713  \n",
       "1                  581                    1338                    1294  \n",
       "2                  509                    1845                    1803  \n",
       "3                  770                    2562                    2573  \n",
       "4                  707                    3318                    3280  \n",
       "5                  655                    3985                    3935  \n",
       "6                  709                    4629                    4644  \n",
       "7                  654                    5239                    5298  \n",
       "8                  610                    5856                    5908  \n",
       "9                  369                    6262                    6277  "
      ]
     },
     "execution_count": 38,
     "metadata": {},
     "output_type": "execute_result"
    }
   ],
   "source": [
    "visitors_daily_a = visitors[visitors['group'] == 'A'][['date', 'visitors']]\n",
    "visitors_daily_a.columns = ['date', 'visitors_per_date_a']\n",
    "\n",
    "visitors_cummulative_a = visitors_daily_a.apply(\n",
    "    lambda x: visitors_daily_a[visitors_daily_a['date'] <= x['date']].agg(\n",
    "        {'date': 'max', 'visitors_per_date_a': 'sum'}\n",
    "    ),\n",
    "    axis=1,\n",
    ")\n",
    "visitors_cummulative_a.columns = ['date', 'visitors_cummulative_a']\n",
    "\n",
    "visitors_daily_b = visitors[visitors['group'] == 'B'][['date', 'visitors']]\n",
    "visitors_daily_b.columns = ['date', 'visitors_per_date_b']\n",
    "\n",
    "visitors_cummulative_b = visitors_daily_b.apply(\n",
    "    lambda x: visitors_daily_b[visitors_daily_b['date'] <= x['date']].agg(\n",
    "        {'date': 'max', 'visitors_per_date_b': 'sum'}\n",
    "    ),\n",
    "    axis=1,\n",
    ")\n",
    "visitors_cummulative_b.columns = ['date', 'visitors_cummulative_b']\n",
    "\n",
    "orders_daily_a = (\n",
    "    orders[orders['group'] == 'A'][['date', 'transaction_id', 'visitor_id', 'revenue']]\n",
    "    .groupby('date', as_index=False)\n",
    "    .agg({'transaction_id': pd.Series.nunique, 'revenue': 'sum'})\n",
    ")\n",
    "orders_daily_a.columns = ['date', 'orders_daily_a', 'revenue_per_date_a']\n",
    "\n",
    "orders_cummulative_a = orders_daily_a.apply(\n",
    "    lambda x: orders_daily_a[orders_daily_a['date'] <= x['date']].agg(\n",
    "        {'date': 'max', 'orders_daily_a': 'sum', 'revenue_per_date_a': 'sum'}\n",
    "    ),\n",
    "    axis=1,\n",
    ").sort_values(by=['date'])\n",
    "\n",
    "orders_cummulative_a.columns = ['date','orders_cummulative_a','revenue_cummulative_a']\n",
    "\n",
    "orders_daily_b = (\n",
    "    orders[orders['group'] == 'B'][['date', 'transaction_id', 'visitor_id', 'revenue']]\n",
    "    .groupby('date', as_index=False)\n",
    "    .agg({'transaction_id': pd.Series.nunique, 'revenue': 'sum'})\n",
    ")\n",
    "orders_daily_b.columns = ['date', 'orders_daily_b', 'revenue_per_date_b']\n",
    "\n",
    "orders_cummulative_b = orders_daily_b.apply(\n",
    "    lambda x: orders_daily_b[orders_daily_b['date'] <= x['date']].agg(\n",
    "        {'date': 'max', 'orders_daily_b': 'sum', 'revenue_per_date_b': 'sum'}\n",
    "    ),\n",
    "    axis=1,\n",
    ").sort_values(by=['date'])\n",
    "\n",
    "orders_cummulative_b.columns = ['date','orders_cummulative_b','revenue_cummulative_b']\n",
    "\n",
    "\n",
    "data = (\n",
    "    orders_daily_a.merge(\n",
    "        orders_daily_b, left_on='date', right_on='date', how='left'\n",
    "    )\n",
    "    .merge(orders_cummulative_a, left_on='date', right_on='date', how='left')\n",
    "    .merge(orders_cummulative_b, left_on='date', right_on='date', how='left')\n",
    "    .merge(visitors_daily_a, left_on='date', right_on='date', how='left')\n",
    "    .merge(visitors_daily_b, left_on='date', right_on='date', how='left')\n",
    "    .merge(visitors_cummulative_a, left_on='date', right_on='date', how='left')\n",
    "    .merge(visitors_cummulative_b, left_on='date', right_on='date', how='left')\n",
    ")\n",
    "\n",
    "data.head(10)"
   ]
  },
  {
   "cell_type": "markdown",
   "metadata": {},
   "source": [
    "Названия столбцов данных:\n",
    "\n",
    " - `date` — дата;\n",
    " - `orders_daily_a` — количество заказов в выбранную дату в группе A;\n",
    " - `revenue_per_date_a` — суммарная выручка в выбранную дату в группе A;\n",
    " - `orders_daily_b` — количество заказов в выбранную дату в группе B;\n",
    " - `revenue_per_date_b` — суммарная выручка в выбранную дату в группе B;\n",
    " - `orders_cummulative_a` — суммарное число заказов до выбранной даты включительно в группе A;\n",
    " - `revenue_cummulative_a` — суммарная выручка до выбранной даты включительно в группе A;\n",
    " - `orders_cummulative_b` — суммарное количество заказов до выбранной даты включительно в группе B;\n",
    " - `revenue_cummulative_b` — суммарная выручка до выбранной даты включительно в группе B;\n",
    " - `visitors_per_date_a` — количество пользователей в выбранную дату в группе A;\n",
    " - `visitors_per_date_b` — количество пользователей в выбранную дату в группе B;\n",
    " - `visitors_cummulative_a` — количество пользователей до выбранной даты включительно в группе A;\n",
    " - `visitors_cummulative_b` — количество пользователей до выбранной даты включительно в группе B."
   ]
  },
  {
   "cell_type": "markdown",
   "metadata": {},
   "source": [
    "Создадим переменные `orders_by_users_A` и `orders_by_users_B` со столбцами `'visitor_id'`, `'orders'`. В них для пользователей, которые заказывали хотя бы 1 раз, укажем число совершённых заказов. "
   ]
  },
  {
   "cell_type": "code",
   "execution_count": 39,
   "metadata": {},
   "outputs": [],
   "source": [
    "orders_by_users_A = (\n",
    "    orders[orders['group'] == 'A']\n",
    "    .groupby('visitor_id', as_index=False)\n",
    "    .agg({'transaction_id': pd.Series.nunique})\n",
    ")\n",
    "orders_by_users_A.columns = ['visitor_id', 'orders']\n",
    "\n",
    "orders_by_users_B = (\n",
    "    orders[orders['group'] == 'B']\n",
    "    .groupby('visitor_id', as_index=False)\n",
    "    .agg({'transaction_id': pd.Series.nunique})\n",
    ")\n",
    "orders_by_users_B.columns = ['visitor_id', 'orders']"
   ]
  },
  {
   "cell_type": "markdown",
   "metadata": {},
   "source": [
    "Объявим переменные `sample_A` и `sample_B`, в которых пользователям из разных групп будет соответствовать количество заказов."
   ]
  },
  {
   "cell_type": "code",
   "execution_count": 40,
   "metadata": {},
   "outputs": [],
   "source": [
    "sample_A = pd.concat([orders_by_users_A['orders'],\n",
    "                      pd.Series(0, index=np.arange(data['visitors_per_date_a'].sum() - len(orders_by_users_A['orders'])),\n",
    "                                name='orders')],axis=0)\n",
    "\n",
    "sample_B = pd.concat([orders_by_users_B['orders'],\n",
    "                      pd.Series(0, index=np.arange(data['visitors_per_date_b'].sum() - len(orders_by_users_B['orders'])),\n",
    "                                name='orders')],axis=0) "
   ]
  },
  {
   "cell_type": "markdown",
   "metadata": {},
   "source": [
    "Применим статистический критерий Манна-Уитни к полученным выборкам."
   ]
  },
  {
   "cell_type": "code",
   "execution_count": 41,
   "metadata": {},
   "outputs": [
    {
     "name": "stdout",
     "output_type": "stream",
     "text": [
      "P-value: 0.017\n",
      "Отвергаем нулевую гипотезу: Статистически значимые различия в среднем количестве заказов между группами по \"сырым\" данным есть.\n",
      "Относительный прирост группы В к группе А: 13.808%\n"
     ]
    }
   ],
   "source": [
    "p_value = stats.mannwhitneyu(sample_A, sample_B)[1]\n",
    "\n",
    "print(\"P-value: {0:.3f}\".format(p_value))\n",
    "\n",
    "if (p_value < alpha):\n",
    "        print('Отвергаем нулевую гипотезу:', H1)\n",
    "else:\n",
    "        print('Не получилось отвергнуть нулевую гипотезу:', H0)\n",
    "\n",
    "print(\"Относительный прирост группы В к группе А: {0:.3%}\".format(sample_B.mean() / sample_A.mean() - 1))"
   ]
  },
  {
   "cell_type": "markdown",
   "metadata": {},
   "source": [
    "По «сырым» данным различия в среднем числе заказов между группами A и B есть, `p_value` < 0.05. Значит, нулевую гипотезу о том, что статистически значимых различий в среднем числе заказов между группами нет, следует отвергнуть.\\\n",
    "Относительный проигрыш группы А равен 13.8%."
   ]
  },
  {
   "cell_type": "markdown",
   "metadata": {},
   "source": [
    "### Подсчет статистической значимости различий в среднем чеке заказа между группами по «сырым» данным."
   ]
  },
  {
   "cell_type": "markdown",
   "metadata": {},
   "source": [
    "Проверим статистическую значимость различий в среднем чеке между сегментами."
   ]
  },
  {
   "cell_type": "code",
   "execution_count": 42,
   "metadata": {},
   "outputs": [],
   "source": [
    "# Сформулируем гипотезы.\n",
    "H0 = 'Статистически значимых различий в среднем чеке между группами по \"сырым\" данным нет.'\n",
    "H1 = 'Статистически значимые различия в среднем чеке между группами по \"сырым\" данным есть.'\n",
    "alpha = 0.05"
   ]
  },
  {
   "cell_type": "markdown",
   "metadata": {},
   "source": [
    "Применим статистический критерий Манна-Уитни к полученным выборкам."
   ]
  },
  {
   "cell_type": "code",
   "execution_count": 43,
   "metadata": {},
   "outputs": [
    {
     "name": "stdout",
     "output_type": "stream",
     "text": [
      "P-value: 0.729\n",
      "Не получилось отвергнуть нулевую гипотезу: Статистически значимых различий в среднем чеке между группами по \"сырым\" данным нет.\n",
      "Относительный прирост группы В к группе А: 25.871%\n"
     ]
    }
   ],
   "source": [
    "p_value = stats.mannwhitneyu(orders[orders['group']=='A']['revenue'], orders[orders['group']=='B']['revenue'])[1]\n",
    "\n",
    "print('P-value: {0:.3f}'.format(p_value))\n",
    "\n",
    "if (p_value < alpha):\n",
    "        print('Отвергаем нулевую гипотезу:', H1)\n",
    "else:\n",
    "        print('Не получилось отвергнуть нулевую гипотезу:', H0)\n",
    "\n",
    "print('Относительный прирост группы В к группе А: {0:.3%}'.format(orders[orders['group']=='B']['revenue'].mean()/orders[orders['group']=='A']['revenue'].mean()-1)) "
   ]
  },
  {
   "cell_type": "markdown",
   "metadata": {},
   "source": [
    "Так как тест показал, что гипотезу мы не отвергаем, то можно утверждать, что разница в 25.87% между группами В и А не является статистически значимым результатом."
   ]
  },
  {
   "cell_type": "markdown",
   "metadata": {},
   "source": [
    "### Подсчет статистической значимости различий в среднем количестве заказов на посетителя между группами по «очищенным» данным."
   ]
  },
  {
   "cell_type": "markdown",
   "metadata": {},
   "source": [
    "Узнаем, сколько всего аномальных пользователей."
   ]
  },
  {
   "cell_type": "code",
   "execution_count": 44,
   "metadata": {},
   "outputs": [
    {
     "name": "stdout",
     "output_type": "stream",
     "text": [
      "1099     148427295\n",
      "949      887908475\n",
      "744      888512513\n",
      "1103    1164614297\n",
      "1136    1307669133\n",
      "Name: visitor_id, dtype: int64\n",
      "\n",
      "Всего 15 аномальных пользователей\n"
     ]
    }
   ],
   "source": [
    "# cделаем срезы пользователей с числом заказов больше 4\n",
    "users_with_many_orders = pd.concat(\n",
    "    [\n",
    "        orders_by_users_A[orders_by_users_A['orders'] > 4]['visitor_id'],\n",
    "        orders_by_users_B[orders_by_users_B['orders'] > 4]['visitor_id'],\n",
    "    ],\n",
    "    axis=0,\n",
    ")\n",
    "# cделаем срезы пользователей совершивших заказы дороже 58 233\n",
    "users_with_expensive_orders = orders[orders['revenue'] > 58233]['visitor_id']\n",
    "# объединим их в таблицу\n",
    "abnormal_users = (\n",
    "    pd.concat([users_with_many_orders, users_with_expensive_orders], axis=0)\n",
    "    .drop_duplicates()\n",
    "    .sort_values()\n",
    ")\n",
    "print(abnormal_users.head(5))\n",
    "print()\n",
    "print('Всего', abnormal_users.shape[0], 'аномальных пользователей') "
   ]
  },
  {
   "cell_type": "code",
   "execution_count": 45,
   "metadata": {},
   "outputs": [
    {
     "name": "stdout",
     "output_type": "stream",
     "text": [
      "1099     148427295\n",
      "949      887908475\n",
      "744      888512513\n",
      "1103    1164614297\n",
      "1136    1307669133\n",
      "Name: visitor_id, dtype: int64\n",
      "\n",
      "Всего 15 аномальных пользователей\n"
     ]
    }
   ],
   "source": [
    "many_orders = np.percentile(orders_by_users['orders'], 99)\n",
    "expensive_orders = np.percentile(orders['revenue'], 99)\n",
    "\n",
    "# cделаем срезы пользователей с числом заказов больше 4\n",
    "users_with_many_orders = pd.concat(\n",
    "    [\n",
    "        orders_by_users_A[orders_by_users_A['orders'] > many_orders]['visitor_id'],\n",
    "        orders_by_users_B[orders_by_users_B['orders'] > many_orders]['visitor_id'],\n",
    "    ],\n",
    "    axis=0,\n",
    ")\n",
    "# cделаем срезы пользователей совершивших заказы дороже 58 233\n",
    "users_with_expensive_orders = orders[orders['revenue'] > expensive_orders]['visitor_id']\n",
    "# объединим их в таблицу\n",
    "abnormal_users = (\n",
    "    pd.concat([users_with_many_orders, users_with_expensive_orders], axis=0)\n",
    "    .drop_duplicates()\n",
    "    .sort_values()\n",
    ")\n",
    "print(abnormal_users.head(5))\n",
    "print()\n",
    "print('Всего', abnormal_users.shape[0], 'аномальных пользователей') "
   ]
  },
  {
   "cell_type": "markdown",
   "metadata": {},
   "source": [
    "Посчитаем статистическую значимость различий в среднем количестве заказов между группами теста по очищенным данным. Сначала подготовим выборки количества заказов по пользователям по группам теста."
   ]
  },
  {
   "cell_type": "code",
   "execution_count": 46,
   "metadata": {},
   "outputs": [],
   "source": [
    "sample_A_filtered = pd.concat(\n",
    "    [\n",
    "        orders_by_users_A[\n",
    "            np.logical_not(orders_by_users_A['visitor_id'].isin(abnormal_users))\n",
    "        ]['orders'],\n",
    "        pd.Series(\n",
    "            0,\n",
    "            index=np.arange(\n",
    "                data['visitors_per_date_a'].sum() - len(orders_by_users_A['orders'])\n",
    "            ),\n",
    "            name='orders',\n",
    "        ),\n",
    "    ],\n",
    "    axis=0,\n",
    ")\n",
    "\n",
    "sample_B_filtered = pd.concat(\n",
    "    [\n",
    "        orders_by_users_B[\n",
    "            np.logical_not(orders_by_users_B['visitor_id'].isin(abnormal_users))\n",
    "        ]['orders'],\n",
    "        pd.Series(\n",
    "            0,\n",
    "            index=np.arange(\n",
    "                data['visitors_per_date_b'].sum() - len(orders_by_users_B['orders'])\n",
    "            ),\n",
    "            name='orders',\n",
    "        ),\n",
    "    ],\n",
    "    axis=0,\n",
    ") "
   ]
  },
  {
   "cell_type": "code",
   "execution_count": 47,
   "metadata": {},
   "outputs": [],
   "source": [
    "# Сформулируем гипотезы.\n",
    "H0 = 'Статистически значимых различий в среднем количестве заказов между группами по \"очищенным\" данным нет.'\n",
    "H1 = 'Статистически значимые различия в среднем количестве заказов между группами по \"очищенным\" данным есть.'\n",
    "alpha = 0.05"
   ]
  },
  {
   "cell_type": "markdown",
   "metadata": {},
   "source": [
    "Применим статистический критерий Манна-Уитни к полученным выборкам."
   ]
  },
  {
   "cell_type": "code",
   "execution_count": 48,
   "metadata": {},
   "outputs": [
    {
     "name": "stdout",
     "output_type": "stream",
     "text": [
      "P-value: 0.014\n",
      "Отвергаем нулевую гипотезу: Статистически значимые различия в среднем количестве заказов между группами по \"очищенным\" данным есть.\n",
      "Относительный прирост группы В к группе А: 15.331%\n"
     ]
    }
   ],
   "source": [
    "p_value = stats.mannwhitneyu(sample_A_filtered, sample_B_filtered)[1]\n",
    "print('P-value: {0:.3f}'.format(p_value))\n",
    "\n",
    "if (p_value < alpha):\n",
    "        print('Отвергаем нулевую гипотезу:', H1)\n",
    "else:\n",
    "        print('Не получилось отвергнуть нулевую гипотезу:', H0)\n",
    "\n",
    "print('Относительный прирост группы В к группе А: {0:.3%}'.format(sample_B_filtered.mean()/sample_A_filtered.mean()-1)) "
   ]
  },
  {
   "cell_type": "markdown",
   "metadata": {},
   "source": [
    "На «очищенных» данных результаты по среднему количеству заказов практически не изменились. Относительный прирост группы В к группе А вырос до 15,33%."
   ]
  },
  {
   "cell_type": "markdown",
   "metadata": {},
   "source": [
    "### Подсчет статистической значимости различий в среднем чеке заказа между группами по «очищенным» данным."
   ]
  },
  {
   "cell_type": "code",
   "execution_count": 49,
   "metadata": {},
   "outputs": [],
   "source": [
    "# Сформулируем гипотезы.\n",
    "H0 = 'Статистически значимых различий в среднем чеке между группами по \"очищенным\" данным нет.'\n",
    "H1 = 'Статистически значимые различия в среднем чеке между группами по \"очищенным\" данным есть.'\n",
    "alpha = 0.05"
   ]
  },
  {
   "cell_type": "markdown",
   "metadata": {},
   "source": [
    "Подсчитаем статистическую значимость различий в среднем чеке после удаления аномальных пользователей"
   ]
  },
  {
   "cell_type": "code",
   "execution_count": 50,
   "metadata": {},
   "outputs": [
    {
     "name": "stdout",
     "output_type": "stream",
     "text": [
      "P-value: 0.851\n",
      "Не получилось отвергнуть нулевую гипотезу: Статистически значимых различий в среднем чеке между группами по \"очищенным\" данным нет.\n",
      "Относительный прирост группы В к группе А: -0.575%\n"
     ]
    }
   ],
   "source": [
    "p_value = stats.mannwhitneyu(orders[np.logical_and(orders['group'] == 'A',\n",
    "                                                   np.logical_not(orders['visitor_id'].isin(abnormal_users)))]['revenue'],\n",
    "                             orders[np.logical_and(orders['group'] == 'B',\n",
    "                                                   np.logical_not(orders['visitor_id'].isin(abnormal_users)))]['revenue'])[1]\n",
    "print('P-value: {0:.3f}'.format(p_value))\n",
    "\n",
    "if (p_value < alpha):\n",
    "        print('Отвергаем нулевую гипотезу:', H1)\n",
    "else:\n",
    "        print('Не получилось отвергнуть нулевую гипотезу:', H0)\n",
    "\n",
    "print('Относительный прирост группы В к группе А: {0:.3%}'\n",
    "      .format(orders[np.logical_and(orders['group'] == 'B',\n",
    "                                   np.logical_not(orders['visitor_id'].isin(abnormal_users)))]['revenue'].mean()/\n",
    "             orders[np.logical_and(orders['group'] == 'A',\n",
    "                                   np.logical_not(orders['visitor_id'].isin(abnormal_users)))]['revenue'].mean()- 1)) "
   ]
  },
  {
   "cell_type": "markdown",
   "metadata": {},
   "source": [
    "На «очищенных» данных P-value вырос, различий в среднем чеке нет. Без выбросов группа А наоборот показала очень незначительный прирост на 0,58%."
   ]
  },
  {
   "cell_type": "markdown",
   "metadata": {},
   "source": [
    "## Общий вывод"
   ]
  },
  {
   "cell_type": "markdown",
   "metadata": {},
   "source": [
    "**В данной работе мы достигли поставленных задач:**\n",
    "\n",
    "**1. *Подготовили данные к анализу, исправили названия и форматы столбцов.***\n",
    "\n",
    "\n",
    "**2. *Часть приоритизации гипотез.***\n",
    "\n",
    "Изучили гипотезы, предоставленных отделом Маркетинга, провели их ранжирование с применением методов `ICE` и `RICE`.\n",
    "\n",
    "Согласно методу `ICE`, в первую очередь необходимо обратить внимание на гипотезы:\n",
    "\n",
    "- \"Запустить акцию, дающую скидку на товар в день рождения\";\n",
    "- \"Добавить два новых канала привлечения трафика, что позволит привлекать на 30% больше пользователей\";\n",
    "- \"Добавить форму подписки на все основные страницы, чтобы собрать базу клиентов для email-рассылок\".\n",
    "\n",
    "Если ранжирование гипотез должно включать в себя и охват пользователей интернет-магазина (метод `RICE`), то места необходимо распределить таким образом:\n",
    "\n",
    "- \"Добавить форму подписки на все основные страницы, чтобы собрать базу клиентов для email-рассылок\";\n",
    "- \"Добавить блоки рекомендаций товаров на сайт интернет магазина, чтобы повысить конверсию и средний чек заказа\";\n",
    "- \"Добавить два новых канала привлечения трафика, что позволит привлекать на 30% больше пользователей\".\n",
    "\n",
    "Как видно, в обоих методах в топе 3 находятся гипотезы под номерами **0** и **7** \"*Добавить два новых канала привлечения трафика, что позволит привлекать на 30% больше пользователей*\" и \"*Добавить форму подписки на все основные страницы, чтобы собрать базу клиентов для email-рассылок*\" соответственно. На них сделать особый акцент.\n",
    "\n",
    "**3. *Часть проведения и анализа А/В теста.***\n",
    "\n",
    "В данной части изучили графики с кумулятивными значениями, на основании которых было обнаружено абсолютное превосходство группы В над групой А в части конверсии, выручки, среднего чека. Также заметили сильные выбросы как в стоимости заказов, так и в количесве заказов на одного пользователя.\\\n",
    "Подсчетом перцетилей определили верхние границы количества и стоимости заказов.\n",
    "\n",
    "**4. *Часть статистического анализа.***\n",
    "\n",
    "- Есть статистически значимое различие по конверсии между группами как по «сырым», так и по данным после фильтрации аномалий. Конверсия группы В выше, чем в А, на 14-15%;\n",
    "\n",
    "- Нет статистически значимого различия по среднему чеку между группами ни по «сырым», ни по «очищенным» данным;\n",
    "\n",
    "- График различия среднего количества заказов между группами B и A показывает, что результаты группы В стабильно лучше группы А;\n",
    "\n",
    "- График различия среднего чека говорит о том, что результаты группы B лучше группы А более чем на 20%, но ухудшаются день ото дня;\n",
    "\n",
    "- На основании вышеизложенного тест следует остановить, зафиксировав победу группы B (ее конверсия значительно выше конверсии группы А)."
   ]
  }
 ],
 "metadata": {
  "ExecuteTimeLog": [
   {
    "duration": 1399,
    "start_time": "2023-06-22T17:08:24.145Z"
   },
   {
    "duration": 5,
    "start_time": "2023-06-22T17:08:34.488Z"
   },
   {
    "duration": 249,
    "start_time": "2023-06-22T17:08:52.576Z"
   },
   {
    "duration": 18,
    "start_time": "2023-06-22T17:09:01.257Z"
   },
   {
    "duration": 50,
    "start_time": "2023-06-22T17:10:58.640Z"
   },
   {
    "duration": 104,
    "start_time": "2023-06-22T17:13:05.849Z"
   },
   {
    "duration": 48,
    "start_time": "2023-06-22T17:13:20.044Z"
   },
   {
    "duration": 59,
    "start_time": "2023-06-22T17:13:48.407Z"
   },
   {
    "duration": 60,
    "start_time": "2023-06-22T17:14:53.117Z"
   },
   {
    "duration": 1182,
    "start_time": "2023-06-22T17:15:44.283Z"
   },
   {
    "duration": 5,
    "start_time": "2023-06-22T17:15:45.467Z"
   },
   {
    "duration": 98,
    "start_time": "2023-06-22T17:15:45.473Z"
   },
   {
    "duration": 49,
    "start_time": "2023-06-22T17:15:45.573Z"
   },
   {
    "duration": 52,
    "start_time": "2023-06-22T17:16:33.414Z"
   },
   {
    "duration": 51,
    "start_time": "2023-06-22T17:17:02.649Z"
   },
   {
    "duration": 1173,
    "start_time": "2023-06-22T17:17:08.618Z"
   },
   {
    "duration": 3,
    "start_time": "2023-06-22T17:17:09.793Z"
   },
   {
    "duration": 83,
    "start_time": "2023-06-22T17:17:09.798Z"
   },
   {
    "duration": 51,
    "start_time": "2023-06-22T17:17:09.882Z"
   },
   {
    "duration": 52,
    "start_time": "2023-06-22T17:17:25.350Z"
   },
   {
    "duration": 1300,
    "start_time": "2023-06-22T17:17:32.158Z"
   },
   {
    "duration": 4,
    "start_time": "2023-06-22T17:17:33.460Z"
   },
   {
    "duration": 106,
    "start_time": "2023-06-22T17:17:33.465Z"
   },
   {
    "duration": 54,
    "start_time": "2023-06-22T17:17:33.573Z"
   },
   {
    "duration": 70,
    "start_time": "2023-06-22T18:05:22.414Z"
   },
   {
    "duration": 1140,
    "start_time": "2023-06-22T18:05:29.195Z"
   },
   {
    "duration": 7,
    "start_time": "2023-06-22T18:05:30.337Z"
   },
   {
    "duration": 126,
    "start_time": "2023-06-22T18:05:30.348Z"
   },
   {
    "duration": 50,
    "start_time": "2023-06-22T18:05:30.475Z"
   },
   {
    "duration": 129,
    "start_time": "2023-06-22T18:06:44.770Z"
   },
   {
    "duration": 3,
    "start_time": "2023-06-22T18:06:50.693Z"
   },
   {
    "duration": 8,
    "start_time": "2023-06-22T18:07:01.745Z"
   },
   {
    "duration": 12,
    "start_time": "2023-06-22T18:07:08.633Z"
   },
   {
    "duration": 12,
    "start_time": "2023-06-22T18:07:22.701Z"
   },
   {
    "duration": 18,
    "start_time": "2023-06-22T18:08:04.806Z"
   },
   {
    "duration": 1100,
    "start_time": "2023-06-22T18:08:10.626Z"
   },
   {
    "duration": 8,
    "start_time": "2023-06-22T18:08:11.733Z"
   },
   {
    "duration": 89,
    "start_time": "2023-06-22T18:08:11.747Z"
   },
   {
    "duration": 53,
    "start_time": "2023-06-22T18:08:11.838Z"
   },
   {
    "duration": 14,
    "start_time": "2023-06-22T18:08:11.893Z"
   },
   {
    "duration": 111,
    "start_time": "2023-06-22T18:09:05.747Z"
   },
   {
    "duration": 182,
    "start_time": "2023-06-22T18:09:19.826Z"
   },
   {
    "duration": 1200,
    "start_time": "2023-06-22T18:09:57.805Z"
   },
   {
    "duration": 5,
    "start_time": "2023-06-22T18:09:59.007Z"
   },
   {
    "duration": 184,
    "start_time": "2023-06-22T18:09:59.014Z"
   },
   {
    "duration": 66,
    "start_time": "2023-06-22T18:09:59.200Z"
   },
   {
    "duration": 38,
    "start_time": "2023-06-22T18:09:59.268Z"
   },
   {
    "duration": 7,
    "start_time": "2023-06-22T18:43:10.014Z"
   },
   {
    "duration": 8,
    "start_time": "2023-06-22T20:19:24.517Z"
   },
   {
    "duration": 9,
    "start_time": "2023-06-22T20:20:27.653Z"
   },
   {
    "duration": 9,
    "start_time": "2023-06-22T20:21:15.730Z"
   },
   {
    "duration": 10,
    "start_time": "2023-06-22T20:21:28.023Z"
   },
   {
    "duration": 11,
    "start_time": "2023-06-22T20:21:34.109Z"
   },
   {
    "duration": 9,
    "start_time": "2023-06-22T20:21:41.104Z"
   },
   {
    "duration": 54,
    "start_time": "2023-06-27T17:45:25.151Z"
   },
   {
    "duration": 1697,
    "start_time": "2023-06-27T17:45:30.559Z"
   },
   {
    "duration": 9,
    "start_time": "2023-06-27T17:45:32.259Z"
   },
   {
    "duration": 312,
    "start_time": "2023-06-27T17:45:32.270Z"
   },
   {
    "duration": 96,
    "start_time": "2023-06-27T17:45:32.585Z"
   },
   {
    "duration": 19,
    "start_time": "2023-06-27T17:45:32.684Z"
   },
   {
    "duration": 10,
    "start_time": "2023-06-27T17:45:32.705Z"
   },
   {
    "duration": 40,
    "start_time": "2023-06-27T17:45:32.718Z"
   },
   {
    "duration": 21,
    "start_time": "2023-06-27T17:45:32.760Z"
   },
   {
    "duration": 1644,
    "start_time": "2023-06-27T17:45:32.786Z"
   },
   {
    "duration": 18,
    "start_time": "2023-06-27T17:46:13.016Z"
   },
   {
    "duration": 9,
    "start_time": "2023-06-27T17:46:24.373Z"
   },
   {
    "duration": 17,
    "start_time": "2023-06-27T17:46:32.007Z"
   },
   {
    "duration": 13,
    "start_time": "2023-06-27T17:46:44.687Z"
   },
   {
    "duration": 16,
    "start_time": "2023-06-27T17:46:54.895Z"
   },
   {
    "duration": 60,
    "start_time": "2023-06-27T17:55:38.919Z"
   },
   {
    "duration": 46,
    "start_time": "2023-06-27T17:55:54.187Z"
   },
   {
    "duration": 209,
    "start_time": "2023-06-27T17:56:41.999Z"
   },
   {
    "duration": 241,
    "start_time": "2023-06-27T17:57:48.387Z"
   },
   {
    "duration": 33,
    "start_time": "2023-06-27T17:59:01.741Z"
   },
   {
    "duration": 187,
    "start_time": "2023-06-27T17:59:43.823Z"
   },
   {
    "duration": 210,
    "start_time": "2023-06-27T18:00:48.489Z"
   },
   {
    "duration": 19,
    "start_time": "2023-06-27T18:02:17.207Z"
   },
   {
    "duration": 20,
    "start_time": "2023-06-27T18:02:24.184Z"
   },
   {
    "duration": 194,
    "start_time": "2023-06-27T18:04:54.731Z"
   },
   {
    "duration": 186,
    "start_time": "2023-06-27T18:06:03.682Z"
   },
   {
    "duration": 20,
    "start_time": "2023-06-27T18:06:04.329Z"
   },
   {
    "duration": 7,
    "start_time": "2023-06-27T18:07:47.364Z"
   },
   {
    "duration": 495,
    "start_time": "2023-06-27T18:09:36.033Z"
   },
   {
    "duration": 333,
    "start_time": "2023-06-27T18:10:04.151Z"
   },
   {
    "duration": 340,
    "start_time": "2023-06-27T18:10:10.803Z"
   },
   {
    "duration": 385,
    "start_time": "2023-06-27T18:10:34.515Z"
   },
   {
    "duration": 402,
    "start_time": "2023-06-27T18:10:55.065Z"
   },
   {
    "duration": 327,
    "start_time": "2023-06-27T18:12:54.353Z"
   },
   {
    "duration": 436,
    "start_time": "2023-06-27T18:13:42.134Z"
   },
   {
    "duration": 394,
    "start_time": "2023-06-27T18:14:05.096Z"
   },
   {
    "duration": 380,
    "start_time": "2023-06-27T18:14:09.650Z"
   },
   {
    "duration": 357,
    "start_time": "2023-06-27T18:14:20.104Z"
   },
   {
    "duration": 539,
    "start_time": "2023-06-27T18:15:45.656Z"
   },
   {
    "duration": 491,
    "start_time": "2023-06-27T18:16:07.826Z"
   },
   {
    "duration": 541,
    "start_time": "2023-06-27T18:17:31.046Z"
   },
   {
    "duration": 405,
    "start_time": "2023-06-27T18:18:08.898Z"
   },
   {
    "duration": 18,
    "start_time": "2023-06-27T18:20:42.165Z"
   },
   {
    "duration": 341,
    "start_time": "2023-06-27T18:21:00.486Z"
   },
   {
    "duration": 345,
    "start_time": "2023-06-27T18:22:15.144Z"
   },
   {
    "duration": 364,
    "start_time": "2023-06-27T18:22:30.961Z"
   },
   {
    "duration": 426,
    "start_time": "2023-06-27T18:22:47.409Z"
   },
   {
    "duration": 454,
    "start_time": "2023-06-27T18:23:19.831Z"
   },
   {
    "duration": 329,
    "start_time": "2023-06-27T18:23:59.353Z"
   },
   {
    "duration": 356,
    "start_time": "2023-06-27T18:25:46.388Z"
   },
   {
    "duration": 473,
    "start_time": "2023-06-27T18:26:39.195Z"
   },
   {
    "duration": 489,
    "start_time": "2023-06-27T18:26:56.889Z"
   },
   {
    "duration": 486,
    "start_time": "2023-06-27T18:30:31.837Z"
   },
   {
    "duration": 460,
    "start_time": "2023-06-27T18:31:01.912Z"
   },
   {
    "duration": 476,
    "start_time": "2023-06-27T18:31:09.826Z"
   },
   {
    "duration": 400,
    "start_time": "2023-06-27T18:31:25.287Z"
   },
   {
    "duration": 537,
    "start_time": "2023-06-27T18:33:00.735Z"
   },
   {
    "duration": 14,
    "start_time": "2023-06-27T18:34:37.962Z"
   },
   {
    "duration": 263,
    "start_time": "2023-06-27T18:34:57.067Z"
   },
   {
    "duration": 399,
    "start_time": "2023-06-27T19:03:14.486Z"
   },
   {
    "duration": 7,
    "start_time": "2023-06-27T19:04:07.541Z"
   },
   {
    "duration": 15,
    "start_time": "2023-06-27T19:05:06.216Z"
   },
   {
    "duration": 208,
    "start_time": "2023-06-27T19:05:13.938Z"
   },
   {
    "duration": 181,
    "start_time": "2023-06-27T19:05:26.164Z"
   },
   {
    "duration": 390,
    "start_time": "2023-06-27T19:06:05.822Z"
   },
   {
    "duration": 13,
    "start_time": "2023-06-27T23:16:56.357Z"
   },
   {
    "duration": 206,
    "start_time": "2023-06-27T23:17:14.249Z"
   },
   {
    "duration": 184,
    "start_time": "2023-06-27T23:19:01.927Z"
   },
   {
    "duration": 190,
    "start_time": "2023-06-27T23:19:19.825Z"
   },
   {
    "duration": 7,
    "start_time": "2023-06-27T23:20:40.251Z"
   },
   {
    "duration": 225,
    "start_time": "2023-06-27T23:24:33.317Z"
   },
   {
    "duration": 6,
    "start_time": "2023-06-27T23:24:50.607Z"
   },
   {
    "duration": 14,
    "start_time": "2023-06-27T23:25:06.913Z"
   },
   {
    "duration": 210,
    "start_time": "2023-06-27T23:25:17.411Z"
   },
   {
    "duration": 232,
    "start_time": "2023-06-27T23:25:34.317Z"
   },
   {
    "duration": 217,
    "start_time": "2023-06-27T23:26:18.284Z"
   },
   {
    "duration": 213,
    "start_time": "2023-06-27T23:26:31.106Z"
   },
   {
    "duration": 6,
    "start_time": "2023-06-27T23:26:52.357Z"
   },
   {
    "duration": 260,
    "start_time": "2023-06-27T23:29:57.800Z"
   },
   {
    "duration": 16,
    "start_time": "2023-06-27T23:31:35.523Z"
   },
   {
    "duration": 168,
    "start_time": "2023-06-27T23:32:10.241Z"
   },
   {
    "duration": 166,
    "start_time": "2023-06-27T23:32:13.057Z"
   },
   {
    "duration": 8,
    "start_time": "2023-06-27T23:35:02.825Z"
   },
   {
    "duration": 1532,
    "start_time": "2023-06-29T19:18:08.987Z"
   },
   {
    "duration": 5,
    "start_time": "2023-06-29T19:18:10.523Z"
   },
   {
    "duration": 239,
    "start_time": "2023-06-29T19:18:10.530Z"
   },
   {
    "duration": 79,
    "start_time": "2023-06-29T19:18:10.771Z"
   },
   {
    "duration": 43,
    "start_time": "2023-06-29T19:18:10.853Z"
   },
   {
    "duration": 9,
    "start_time": "2023-06-29T19:18:10.898Z"
   },
   {
    "duration": 17,
    "start_time": "2023-06-29T19:18:10.910Z"
   },
   {
    "duration": 16,
    "start_time": "2023-06-29T19:18:10.929Z"
   },
   {
    "duration": 33,
    "start_time": "2023-06-29T19:18:10.947Z"
   },
   {
    "duration": 232,
    "start_time": "2023-06-29T19:18:10.983Z"
   },
   {
    "duration": 163,
    "start_time": "2023-06-29T19:18:11.216Z"
   },
   {
    "duration": 18,
    "start_time": "2023-06-29T19:18:11.381Z"
   },
   {
    "duration": 458,
    "start_time": "2023-06-29T19:18:11.401Z"
   },
   {
    "duration": 348,
    "start_time": "2023-06-29T19:18:11.868Z"
   },
   {
    "duration": 525,
    "start_time": "2023-06-29T19:18:12.218Z"
   },
   {
    "duration": 370,
    "start_time": "2023-06-29T19:18:12.746Z"
   },
   {
    "duration": 434,
    "start_time": "2023-06-29T19:18:13.118Z"
   },
   {
    "duration": 239,
    "start_time": "2023-06-29T19:18:13.554Z"
   },
   {
    "duration": 227,
    "start_time": "2023-06-29T19:18:13.795Z"
   },
   {
    "duration": 8,
    "start_time": "2023-06-29T19:18:14.025Z"
   },
   {
    "duration": 435,
    "start_time": "2023-06-29T19:18:14.035Z"
   },
   {
    "duration": 216,
    "start_time": "2023-06-29T19:18:14.473Z"
   },
   {
    "duration": 212,
    "start_time": "2023-06-29T19:18:14.692Z"
   },
   {
    "duration": 7,
    "start_time": "2023-06-29T19:18:14.907Z"
   },
   {
    "duration": 295,
    "start_time": "2023-06-29T19:18:14.917Z"
   },
   {
    "duration": 180,
    "start_time": "2023-06-29T19:18:15.214Z"
   },
   {
    "duration": 7,
    "start_time": "2023-06-29T19:18:15.397Z"
   },
   {
    "duration": 8,
    "start_time": "2023-06-29T19:26:38.526Z"
   },
   {
    "duration": 40,
    "start_time": "2023-06-29T20:04:32.144Z"
   },
   {
    "duration": 18,
    "start_time": "2023-06-29T20:06:50.760Z"
   },
   {
    "duration": 1244,
    "start_time": "2023-06-29T20:10:09.064Z"
   },
   {
    "duration": 1092,
    "start_time": "2023-06-29T20:10:21.912Z"
   },
   {
    "duration": 20,
    "start_time": "2023-06-29T20:10:33.970Z"
   },
   {
    "duration": 1093,
    "start_time": "2023-06-29T20:14:30.042Z"
   },
   {
    "duration": 1360,
    "start_time": "2023-06-29T20:15:02.324Z"
   },
   {
    "duration": 1053,
    "start_time": "2023-06-29T20:15:12.500Z"
   },
   {
    "duration": 18,
    "start_time": "2023-06-29T20:17:06.411Z"
   },
   {
    "duration": 11,
    "start_time": "2023-06-29T20:17:23.139Z"
   },
   {
    "duration": 10,
    "start_time": "2023-06-29T20:18:15.320Z"
   },
   {
    "duration": 39,
    "start_time": "2023-06-29T20:18:32.564Z"
   },
   {
    "duration": 28,
    "start_time": "2023-06-29T20:19:55.266Z"
   },
   {
    "duration": 1529,
    "start_time": "2023-06-30T18:44:38.931Z"
   },
   {
    "duration": 5,
    "start_time": "2023-06-30T18:44:40.464Z"
   },
   {
    "duration": 244,
    "start_time": "2023-06-30T18:44:40.471Z"
   },
   {
    "duration": 62,
    "start_time": "2023-06-30T18:44:40.718Z"
   },
   {
    "duration": 13,
    "start_time": "2023-06-30T18:44:40.782Z"
   },
   {
    "duration": 8,
    "start_time": "2023-06-30T18:44:40.797Z"
   },
   {
    "duration": 16,
    "start_time": "2023-06-30T18:44:40.806Z"
   },
   {
    "duration": 38,
    "start_time": "2023-06-30T18:44:40.824Z"
   },
   {
    "duration": 13,
    "start_time": "2023-06-30T18:44:40.863Z"
   },
   {
    "duration": 193,
    "start_time": "2023-06-30T18:44:40.879Z"
   },
   {
    "duration": 150,
    "start_time": "2023-06-30T18:44:41.074Z"
   },
   {
    "duration": 13,
    "start_time": "2023-06-30T18:44:41.226Z"
   },
   {
    "duration": 407,
    "start_time": "2023-06-30T18:44:41.252Z"
   },
   {
    "duration": 310,
    "start_time": "2023-06-30T18:44:41.661Z"
   },
   {
    "duration": 489,
    "start_time": "2023-06-30T18:44:41.973Z"
   },
   {
    "duration": 338,
    "start_time": "2023-06-30T18:44:42.464Z"
   },
   {
    "duration": 388,
    "start_time": "2023-06-30T18:44:42.804Z"
   },
   {
    "duration": 196,
    "start_time": "2023-06-30T18:44:43.194Z"
   },
   {
    "duration": 189,
    "start_time": "2023-06-30T18:44:43.393Z"
   },
   {
    "duration": 5,
    "start_time": "2023-06-30T18:44:43.584Z"
   },
   {
    "duration": 317,
    "start_time": "2023-06-30T18:44:43.591Z"
   },
   {
    "duration": 233,
    "start_time": "2023-06-30T18:44:43.911Z"
   },
   {
    "duration": 212,
    "start_time": "2023-06-30T18:44:44.146Z"
   },
   {
    "duration": 6,
    "start_time": "2023-06-30T18:44:44.360Z"
   },
   {
    "duration": 253,
    "start_time": "2023-06-30T18:44:44.368Z"
   },
   {
    "duration": 193,
    "start_time": "2023-06-30T18:44:44.622Z"
   },
   {
    "duration": 6,
    "start_time": "2023-06-30T18:44:44.817Z"
   },
   {
    "duration": 38,
    "start_time": "2023-06-30T18:44:44.826Z"
   },
   {
    "duration": 11,
    "start_time": "2023-06-30T18:44:44.866Z"
   },
   {
    "duration": 16,
    "start_time": "2023-06-30T18:44:44.879Z"
   },
   {
    "duration": 12,
    "start_time": "2023-06-30T18:44:44.896Z"
   },
   {
    "duration": 43,
    "start_time": "2023-06-30T18:44:44.910Z"
   },
   {
    "duration": 15,
    "start_time": "2023-06-30T18:44:44.955Z"
   },
   {
    "duration": 2334,
    "start_time": "2023-06-30T19:16:37.547Z"
   },
   {
    "duration": 14,
    "start_time": "2023-06-30T19:16:43.336Z"
   },
   {
    "duration": 13,
    "start_time": "2023-06-30T19:17:21.471Z"
   },
   {
    "duration": 89,
    "start_time": "2023-06-30T19:17:38.996Z"
   },
   {
    "duration": 53,
    "start_time": "2023-07-01T16:07:15.968Z"
   },
   {
    "duration": 1439,
    "start_time": "2023-07-01T16:07:20.750Z"
   },
   {
    "duration": 5,
    "start_time": "2023-07-01T16:07:22.191Z"
   },
   {
    "duration": 226,
    "start_time": "2023-07-01T16:07:22.197Z"
   },
   {
    "duration": 76,
    "start_time": "2023-07-01T16:07:22.428Z"
   },
   {
    "duration": 17,
    "start_time": "2023-07-01T16:07:22.506Z"
   },
   {
    "duration": 28,
    "start_time": "2023-07-01T16:07:22.524Z"
   },
   {
    "duration": 33,
    "start_time": "2023-07-01T16:07:22.554Z"
   },
   {
    "duration": 16,
    "start_time": "2023-07-01T16:07:22.597Z"
   },
   {
    "duration": 26,
    "start_time": "2023-07-01T16:07:22.615Z"
   },
   {
    "duration": 40,
    "start_time": "2023-07-01T16:07:22.644Z"
   },
   {
    "duration": 252,
    "start_time": "2023-07-01T16:07:22.686Z"
   },
   {
    "duration": 151,
    "start_time": "2023-07-01T16:07:22.940Z"
   },
   {
    "duration": 18,
    "start_time": "2023-07-01T16:07:23.093Z"
   },
   {
    "duration": 469,
    "start_time": "2023-07-01T16:07:23.114Z"
   },
   {
    "duration": 328,
    "start_time": "2023-07-01T16:07:23.585Z"
   },
   {
    "duration": 491,
    "start_time": "2023-07-01T16:07:23.915Z"
   },
   {
    "duration": 321,
    "start_time": "2023-07-01T16:07:24.408Z"
   },
   {
    "duration": 442,
    "start_time": "2023-07-01T16:07:24.731Z"
   },
   {
    "duration": 172,
    "start_time": "2023-07-01T16:07:25.174Z"
   },
   {
    "duration": 174,
    "start_time": "2023-07-01T16:07:25.349Z"
   },
   {
    "duration": 6,
    "start_time": "2023-07-01T16:07:25.525Z"
   },
   {
    "duration": 291,
    "start_time": "2023-07-01T16:07:25.533Z"
   },
   {
    "duration": 190,
    "start_time": "2023-07-01T16:07:25.826Z"
   },
   {
    "duration": 184,
    "start_time": "2023-07-01T16:07:26.018Z"
   },
   {
    "duration": 5,
    "start_time": "2023-07-01T16:07:26.204Z"
   },
   {
    "duration": 274,
    "start_time": "2023-07-01T16:07:26.211Z"
   },
   {
    "duration": 256,
    "start_time": "2023-07-01T16:07:26.486Z"
   },
   {
    "duration": 18,
    "start_time": "2023-07-01T16:07:26.745Z"
   },
   {
    "duration": 39,
    "start_time": "2023-07-01T16:07:26.765Z"
   },
   {
    "duration": 14,
    "start_time": "2023-07-01T16:07:26.806Z"
   },
   {
    "duration": 17,
    "start_time": "2023-07-01T16:07:26.822Z"
   },
   {
    "duration": 30,
    "start_time": "2023-07-01T16:07:26.841Z"
   },
   {
    "duration": 22,
    "start_time": "2023-07-01T16:07:26.874Z"
   },
   {
    "duration": 22,
    "start_time": "2023-07-01T16:07:26.898Z"
   },
   {
    "duration": 304,
    "start_time": "2023-07-01T16:36:26.931Z"
   },
   {
    "duration": 302,
    "start_time": "2023-07-01T16:37:01.074Z"
   },
   {
    "duration": 7,
    "start_time": "2023-07-01T16:37:08.191Z"
   },
   {
    "duration": 210,
    "start_time": "2023-07-01T16:41:09.889Z"
   },
   {
    "duration": 15,
    "start_time": "2023-07-01T16:44:47.072Z"
   },
   {
    "duration": 137,
    "start_time": "2023-07-01T16:44:54.975Z"
   },
   {
    "duration": 14,
    "start_time": "2023-07-01T16:44:56.841Z"
   },
   {
    "duration": 10,
    "start_time": "2023-07-01T16:46:06.936Z"
   },
   {
    "duration": 12,
    "start_time": "2023-07-01T16:47:49.374Z"
   },
   {
    "duration": 321,
    "start_time": "2023-07-01T16:54:27.852Z"
   },
   {
    "duration": 7,
    "start_time": "2023-07-01T16:54:30.695Z"
   },
   {
    "duration": 5,
    "start_time": "2023-07-01T16:54:51.530Z"
   },
   {
    "duration": 8,
    "start_time": "2023-07-01T16:54:53.380Z"
   },
   {
    "duration": 5,
    "start_time": "2023-07-01T16:54:53.701Z"
   },
   {
    "duration": 406,
    "start_time": "2023-07-01T16:54:54.060Z"
   },
   {
    "duration": 9,
    "start_time": "2023-07-01T16:55:28.844Z"
   },
   {
    "duration": 414,
    "start_time": "2023-07-01T16:55:33.130Z"
   },
   {
    "duration": 11,
    "start_time": "2023-07-01T16:55:49.905Z"
   },
   {
    "duration": 6,
    "start_time": "2023-07-01T16:57:45.416Z"
   },
   {
    "duration": 414,
    "start_time": "2023-07-01T16:57:45.899Z"
   },
   {
    "duration": 447,
    "start_time": "2023-07-01T17:01:57.412Z"
   },
   {
    "duration": 395,
    "start_time": "2023-07-01T17:02:12.493Z"
   },
   {
    "duration": 8,
    "start_time": "2023-07-01T17:08:49.776Z"
   },
   {
    "duration": 288,
    "start_time": "2023-07-01T17:08:50.639Z"
   },
   {
    "duration": 183,
    "start_time": "2023-07-01T17:09:08.615Z"
   },
   {
    "duration": 12,
    "start_time": "2023-07-01T17:09:16.824Z"
   },
   {
    "duration": 17,
    "start_time": "2023-07-01T17:09:29.305Z"
   },
   {
    "duration": 116,
    "start_time": "2023-07-01T17:10:05.409Z"
   },
   {
    "duration": 12,
    "start_time": "2023-07-01T17:10:42.021Z"
   },
   {
    "duration": 190,
    "start_time": "2023-07-01T17:10:51.215Z"
   },
   {
    "duration": 16,
    "start_time": "2023-07-01T17:20:09.487Z"
   },
   {
    "duration": 13,
    "start_time": "2023-07-01T17:20:29.385Z"
   },
   {
    "duration": 19,
    "start_time": "2023-07-01T17:20:41.057Z"
   },
   {
    "duration": 10,
    "start_time": "2023-07-01T17:20:42.293Z"
   },
   {
    "duration": 15,
    "start_time": "2023-07-01T17:21:01.398Z"
   },
   {
    "duration": 10,
    "start_time": "2023-07-01T17:21:05.786Z"
   },
   {
    "duration": 6,
    "start_time": "2023-07-01T17:21:56.109Z"
   },
   {
    "duration": 6,
    "start_time": "2023-07-01T17:22:13.429Z"
   },
   {
    "duration": 11,
    "start_time": "2023-07-01T17:22:20.830Z"
   },
   {
    "duration": 8,
    "start_time": "2023-07-01T17:22:38.292Z"
   },
   {
    "duration": 16,
    "start_time": "2023-07-01T17:22:42.182Z"
   },
   {
    "duration": 18,
    "start_time": "2023-07-01T17:22:46.762Z"
   },
   {
    "duration": 6,
    "start_time": "2023-07-01T17:26:02.196Z"
   },
   {
    "duration": 11,
    "start_time": "2023-07-01T17:26:05.974Z"
   },
   {
    "duration": 14,
    "start_time": "2023-07-01T17:26:19.123Z"
   },
   {
    "duration": 142,
    "start_time": "2023-07-01T17:26:27.446Z"
   },
   {
    "duration": 3,
    "start_time": "2023-07-01T17:26:39.021Z"
   },
   {
    "duration": 8,
    "start_time": "2023-07-01T17:26:41.675Z"
   },
   {
    "duration": 4,
    "start_time": "2023-07-01T17:27:26.748Z"
   },
   {
    "duration": 8,
    "start_time": "2023-07-01T17:27:31.735Z"
   },
   {
    "duration": 8,
    "start_time": "2023-07-01T17:28:31.902Z"
   },
   {
    "duration": 17,
    "start_time": "2023-07-01T17:28:42.234Z"
   },
   {
    "duration": 13,
    "start_time": "2023-07-01T17:28:46.702Z"
   },
   {
    "duration": 14,
    "start_time": "2023-07-01T17:28:57.604Z"
   },
   {
    "duration": 14,
    "start_time": "2023-07-01T17:29:03.000Z"
   },
   {
    "duration": 20,
    "start_time": "2023-07-01T17:29:05.854Z"
   },
   {
    "duration": 11,
    "start_time": "2023-07-01T17:29:24.145Z"
   },
   {
    "duration": 10,
    "start_time": "2023-07-01T17:29:33.114Z"
   },
   {
    "duration": 1475,
    "start_time": "2023-07-01T17:31:10.494Z"
   },
   {
    "duration": 1337,
    "start_time": "2023-07-01T17:31:25.557Z"
   },
   {
    "duration": 4,
    "start_time": "2023-07-01T17:31:26.897Z"
   },
   {
    "duration": 99,
    "start_time": "2023-07-01T17:31:26.904Z"
   },
   {
    "duration": 83,
    "start_time": "2023-07-01T17:31:27.006Z"
   },
   {
    "duration": 18,
    "start_time": "2023-07-01T17:31:27.099Z"
   },
   {
    "duration": 7,
    "start_time": "2023-07-01T17:31:27.119Z"
   },
   {
    "duration": 17,
    "start_time": "2023-07-01T17:31:27.128Z"
   },
   {
    "duration": 22,
    "start_time": "2023-07-01T17:31:27.147Z"
   },
   {
    "duration": 16,
    "start_time": "2023-07-01T17:31:27.173Z"
   },
   {
    "duration": 17,
    "start_time": "2023-07-01T17:31:27.193Z"
   },
   {
    "duration": 199,
    "start_time": "2023-07-01T17:31:27.212Z"
   },
   {
    "duration": 213,
    "start_time": "2023-07-01T17:31:27.413Z"
   },
   {
    "duration": 24,
    "start_time": "2023-07-01T17:31:27.632Z"
   },
   {
    "duration": 13,
    "start_time": "2023-07-01T17:31:27.665Z"
   },
   {
    "duration": 447,
    "start_time": "2023-07-01T17:31:27.685Z"
   },
   {
    "duration": 330,
    "start_time": "2023-07-01T17:31:28.134Z"
   },
   {
    "duration": 9,
    "start_time": "2023-07-01T17:31:28.475Z"
   },
   {
    "duration": 395,
    "start_time": "2023-07-01T17:31:28.490Z"
   },
   {
    "duration": 6,
    "start_time": "2023-07-01T17:31:28.890Z"
   },
   {
    "duration": 25,
    "start_time": "2023-07-01T17:31:28.898Z"
   },
   {
    "duration": 379,
    "start_time": "2023-07-01T17:31:28.924Z"
   },
   {
    "duration": 13,
    "start_time": "2023-07-01T17:31:29.305Z"
   },
   {
    "duration": 478,
    "start_time": "2023-07-01T17:31:29.321Z"
   },
   {
    "duration": 12,
    "start_time": "2023-07-01T17:31:29.802Z"
   },
   {
    "duration": 10,
    "start_time": "2023-07-01T17:31:29.816Z"
   },
   {
    "duration": 240,
    "start_time": "2023-07-01T17:31:29.829Z"
   },
   {
    "duration": 175,
    "start_time": "2023-07-01T17:31:30.071Z"
   },
   {
    "duration": 20,
    "start_time": "2023-07-01T17:31:30.251Z"
   },
   {
    "duration": 361,
    "start_time": "2023-07-01T17:31:30.274Z"
   },
   {
    "duration": 228,
    "start_time": "2023-07-01T17:31:30.637Z"
   },
   {
    "duration": 252,
    "start_time": "2023-07-01T17:31:30.867Z"
   },
   {
    "duration": 5,
    "start_time": "2023-07-01T17:31:31.121Z"
   },
   {
    "duration": 304,
    "start_time": "2023-07-01T17:31:31.128Z"
   },
   {
    "duration": 274,
    "start_time": "2023-07-01T17:31:31.435Z"
   },
   {
    "duration": 9,
    "start_time": "2023-07-01T17:31:31.715Z"
   },
   {
    "duration": 58,
    "start_time": "2023-07-01T17:31:31.726Z"
   },
   {
    "duration": 17,
    "start_time": "2023-07-01T17:31:31.798Z"
   },
   {
    "duration": 39,
    "start_time": "2023-07-01T17:31:31.818Z"
   },
   {
    "duration": 33,
    "start_time": "2023-07-01T17:31:31.869Z"
   },
   {
    "duration": 32,
    "start_time": "2023-07-01T17:31:31.911Z"
   },
   {
    "duration": 20,
    "start_time": "2023-07-01T17:31:31.945Z"
   },
   {
    "duration": 6,
    "start_time": "2023-07-01T17:40:25.029Z"
   },
   {
    "duration": 132,
    "start_time": "2023-07-01T17:40:37.957Z"
   },
   {
    "duration": 12,
    "start_time": "2023-07-01T17:40:42.830Z"
   },
   {
    "duration": 1151,
    "start_time": "2023-07-01T17:42:02.853Z"
   },
   {
    "duration": 192,
    "start_time": "2023-07-01T17:42:09.178Z"
   },
   {
    "duration": 166,
    "start_time": "2023-07-01T17:42:12.491Z"
   },
   {
    "duration": 12,
    "start_time": "2023-07-01T17:42:16.413Z"
   },
   {
    "duration": 10,
    "start_time": "2023-07-01T17:42:17.277Z"
   },
   {
    "duration": 166,
    "start_time": "2023-07-01T17:42:18.467Z"
   },
   {
    "duration": 152,
    "start_time": "2023-07-01T17:42:20.682Z"
   },
   {
    "duration": 10,
    "start_time": "2023-07-01T17:43:24.636Z"
   },
   {
    "duration": 185,
    "start_time": "2023-07-01T17:43:30.705Z"
   },
   {
    "duration": 15,
    "start_time": "2023-07-01T17:43:44.795Z"
   },
   {
    "duration": 441,
    "start_time": "2023-07-01T17:44:03.506Z"
   },
   {
    "duration": 20,
    "start_time": "2023-07-01T17:44:14.299Z"
   },
   {
    "duration": 14,
    "start_time": "2023-07-01T17:44:15.087Z"
   },
   {
    "duration": 424,
    "start_time": "2023-07-01T17:45:37.158Z"
   },
   {
    "duration": 21,
    "start_time": "2023-07-01T17:45:53.573Z"
   },
   {
    "duration": 182,
    "start_time": "2023-07-01T17:45:57.183Z"
   },
   {
    "duration": 15,
    "start_time": "2023-07-01T17:46:22.934Z"
   },
   {
    "duration": 16,
    "start_time": "2023-07-01T17:46:28.850Z"
   },
   {
    "duration": 9,
    "start_time": "2023-07-01T17:46:45.437Z"
   },
   {
    "duration": 11,
    "start_time": "2023-07-01T17:46:54.700Z"
   },
   {
    "duration": 228,
    "start_time": "2023-07-01T17:47:38.183Z"
   },
   {
    "duration": 7,
    "start_time": "2023-07-01T17:47:46.379Z"
   },
   {
    "duration": 297,
    "start_time": "2023-07-01T17:59:34.711Z"
   },
   {
    "duration": 335,
    "start_time": "2023-07-01T18:06:36.183Z"
   },
   {
    "duration": 258,
    "start_time": "2023-07-01T18:34:04.623Z"
   },
   {
    "duration": 9,
    "start_time": "2023-07-01T18:36:29.229Z"
   },
   {
    "duration": 21,
    "start_time": "2023-07-01T18:39:10.961Z"
   },
   {
    "duration": 21,
    "start_time": "2023-07-01T18:41:57.724Z"
   },
   {
    "duration": 23,
    "start_time": "2023-07-01T18:42:15.402Z"
   },
   {
    "duration": 30,
    "start_time": "2023-07-01T18:42:26.026Z"
   },
   {
    "duration": 21,
    "start_time": "2023-07-01T18:42:31.826Z"
   },
   {
    "duration": 34,
    "start_time": "2023-07-01T18:42:58.103Z"
   },
   {
    "duration": 3,
    "start_time": "2023-07-01T19:01:44.491Z"
   },
   {
    "duration": 8,
    "start_time": "2023-07-01T19:02:22.955Z"
   },
   {
    "duration": 4,
    "start_time": "2023-07-01T19:03:17.303Z"
   },
   {
    "duration": 8,
    "start_time": "2023-07-01T19:03:40.871Z"
   },
   {
    "duration": 1349,
    "start_time": "2023-07-01T19:03:45.200Z"
   },
   {
    "duration": 9,
    "start_time": "2023-07-01T19:03:46.552Z"
   },
   {
    "duration": 98,
    "start_time": "2023-07-01T19:03:46.562Z"
   },
   {
    "duration": 101,
    "start_time": "2023-07-01T19:03:46.666Z"
   },
   {
    "duration": 21,
    "start_time": "2023-07-01T19:03:46.775Z"
   },
   {
    "duration": 6,
    "start_time": "2023-07-01T19:03:46.798Z"
   },
   {
    "duration": 14,
    "start_time": "2023-07-01T19:03:46.806Z"
   },
   {
    "duration": 12,
    "start_time": "2023-07-01T19:03:46.822Z"
   },
   {
    "duration": 36,
    "start_time": "2023-07-01T19:03:46.835Z"
   },
   {
    "duration": 10,
    "start_time": "2023-07-01T19:03:46.873Z"
   },
   {
    "duration": 199,
    "start_time": "2023-07-01T19:03:46.886Z"
   },
   {
    "duration": 151,
    "start_time": "2023-07-01T19:03:47.087Z"
   },
   {
    "duration": 27,
    "start_time": "2023-07-01T19:03:47.240Z"
   },
   {
    "duration": 19,
    "start_time": "2023-07-01T19:03:47.277Z"
   },
   {
    "duration": 409,
    "start_time": "2023-07-01T19:03:47.299Z"
   },
   {
    "duration": 310,
    "start_time": "2023-07-01T19:03:47.709Z"
   },
   {
    "duration": 9,
    "start_time": "2023-07-01T19:03:48.022Z"
   },
   {
    "duration": 439,
    "start_time": "2023-07-01T19:03:48.033Z"
   },
   {
    "duration": 5,
    "start_time": "2023-07-01T19:03:48.474Z"
   },
   {
    "duration": 13,
    "start_time": "2023-07-01T19:03:48.486Z"
   },
   {
    "duration": 323,
    "start_time": "2023-07-01T19:03:48.501Z"
   },
   {
    "duration": 7,
    "start_time": "2023-07-01T19:03:48.826Z"
   },
   {
    "duration": 443,
    "start_time": "2023-07-01T19:03:48.835Z"
   },
   {
    "duration": 17,
    "start_time": "2023-07-01T19:03:49.285Z"
   },
   {
    "duration": 18,
    "start_time": "2023-07-01T19:03:49.305Z"
   },
   {
    "duration": 197,
    "start_time": "2023-07-01T19:03:49.325Z"
   },
   {
    "duration": 179,
    "start_time": "2023-07-01T19:03:49.524Z"
   },
   {
    "duration": 5,
    "start_time": "2023-07-01T19:03:49.705Z"
   },
   {
    "duration": 313,
    "start_time": "2023-07-01T19:03:49.713Z"
   },
   {
    "duration": 202,
    "start_time": "2023-07-01T19:03:50.028Z"
   },
   {
    "duration": 213,
    "start_time": "2023-07-01T19:03:50.232Z"
   },
   {
    "duration": 6,
    "start_time": "2023-07-01T19:03:50.447Z"
   },
   {
    "duration": 18,
    "start_time": "2023-07-01T19:03:50.455Z"
   },
   {
    "duration": 240,
    "start_time": "2023-07-01T19:03:50.475Z"
   },
   {
    "duration": 157,
    "start_time": "2023-07-01T19:03:50.716Z"
   },
   {
    "duration": 12,
    "start_time": "2023-07-01T19:03:50.875Z"
   },
   {
    "duration": 4,
    "start_time": "2023-07-01T19:03:50.893Z"
   },
   {
    "duration": 1,
    "start_time": "2023-07-01T19:03:50.898Z"
   },
   {
    "duration": 0,
    "start_time": "2023-07-01T19:03:50.900Z"
   },
   {
    "duration": 0,
    "start_time": "2023-07-01T19:03:50.901Z"
   },
   {
    "duration": 0,
    "start_time": "2023-07-01T19:03:50.902Z"
   },
   {
    "duration": 0,
    "start_time": "2023-07-01T19:03:50.904Z"
   },
   {
    "duration": 25,
    "start_time": "2023-07-01T19:04:38.282Z"
   },
   {
    "duration": 38,
    "start_time": "2023-07-01T19:04:52.854Z"
   },
   {
    "duration": 21,
    "start_time": "2023-07-01T19:06:12.932Z"
   },
   {
    "duration": 31,
    "start_time": "2023-07-01T19:07:02.492Z"
   },
   {
    "duration": 34,
    "start_time": "2023-07-01T19:07:26.786Z"
   },
   {
    "duration": 3,
    "start_time": "2023-07-01T19:10:38.648Z"
   },
   {
    "duration": 21,
    "start_time": "2023-07-01T19:10:45.602Z"
   },
   {
    "duration": 37,
    "start_time": "2023-07-01T19:15:04.411Z"
   },
   {
    "duration": 13,
    "start_time": "2023-07-01T19:16:32.431Z"
   },
   {
    "duration": 12,
    "start_time": "2023-07-01T19:18:52.880Z"
   },
   {
    "duration": 15,
    "start_time": "2023-07-01T19:19:32.909Z"
   },
   {
    "duration": 26,
    "start_time": "2023-07-01T19:20:09.943Z"
   },
   {
    "duration": 4,
    "start_time": "2023-07-01T19:20:56.248Z"
   },
   {
    "duration": 16,
    "start_time": "2023-07-01T19:20:56.497Z"
   },
   {
    "duration": 11,
    "start_time": "2023-07-01T19:22:33.937Z"
   },
   {
    "duration": 12,
    "start_time": "2023-07-01T19:28:30.590Z"
   },
   {
    "duration": 16,
    "start_time": "2023-07-01T19:30:35.753Z"
   },
   {
    "duration": 12,
    "start_time": "2023-07-01T19:30:56.814Z"
   },
   {
    "duration": 10,
    "start_time": "2023-07-01T19:31:05.207Z"
   },
   {
    "duration": 10,
    "start_time": "2023-07-01T19:35:02.100Z"
   },
   {
    "duration": 15,
    "start_time": "2023-07-01T19:35:14.978Z"
   },
   {
    "duration": 135,
    "start_time": "2023-07-01T19:36:27.919Z"
   },
   {
    "duration": 17,
    "start_time": "2023-07-01T19:36:35.657Z"
   },
   {
    "duration": 26,
    "start_time": "2023-07-01T19:36:37.081Z"
   },
   {
    "duration": 25,
    "start_time": "2023-07-01T19:36:54.021Z"
   },
   {
    "duration": 22,
    "start_time": "2023-07-01T19:36:57.429Z"
   },
   {
    "duration": 21,
    "start_time": "2023-07-01T19:37:04.512Z"
   },
   {
    "duration": 22,
    "start_time": "2023-07-01T19:37:24.712Z"
   },
   {
    "duration": 34,
    "start_time": "2023-07-01T19:37:42.848Z"
   },
   {
    "duration": 25,
    "start_time": "2023-07-01T19:42:58.102Z"
   },
   {
    "duration": 21,
    "start_time": "2023-07-01T19:44:47.407Z"
   },
   {
    "duration": 15,
    "start_time": "2023-07-01T19:46:16.614Z"
   },
   {
    "duration": 15,
    "start_time": "2023-07-01T19:48:38.710Z"
   },
   {
    "duration": 21,
    "start_time": "2023-07-01T19:48:45.284Z"
   },
   {
    "duration": 16,
    "start_time": "2023-07-01T19:48:48.621Z"
   },
   {
    "duration": 13,
    "start_time": "2023-07-01T19:50:38.905Z"
   },
   {
    "duration": 17,
    "start_time": "2023-07-01T19:53:12.855Z"
   },
   {
    "duration": 1188,
    "start_time": "2023-07-01T23:19:19.574Z"
   },
   {
    "duration": 9,
    "start_time": "2023-07-01T23:19:20.768Z"
   },
   {
    "duration": 89,
    "start_time": "2023-07-01T23:19:20.779Z"
   },
   {
    "duration": 56,
    "start_time": "2023-07-01T23:19:20.870Z"
   },
   {
    "duration": 34,
    "start_time": "2023-07-01T23:19:20.928Z"
   },
   {
    "duration": 11,
    "start_time": "2023-07-01T23:19:20.964Z"
   },
   {
    "duration": 13,
    "start_time": "2023-07-01T23:19:20.977Z"
   },
   {
    "duration": 11,
    "start_time": "2023-07-01T23:19:20.992Z"
   },
   {
    "duration": 13,
    "start_time": "2023-07-01T23:19:21.004Z"
   },
   {
    "duration": 10,
    "start_time": "2023-07-01T23:19:21.020Z"
   },
   {
    "duration": 193,
    "start_time": "2023-07-01T23:19:21.032Z"
   },
   {
    "duration": 141,
    "start_time": "2023-07-01T23:19:21.226Z"
   },
   {
    "duration": 21,
    "start_time": "2023-07-01T23:19:21.371Z"
   },
   {
    "duration": 16,
    "start_time": "2023-07-01T23:19:21.393Z"
   },
   {
    "duration": 373,
    "start_time": "2023-07-01T23:19:21.411Z"
   },
   {
    "duration": 269,
    "start_time": "2023-07-01T23:19:21.785Z"
   },
   {
    "duration": 18,
    "start_time": "2023-07-01T23:19:22.058Z"
   },
   {
    "duration": 403,
    "start_time": "2023-07-01T23:19:22.078Z"
   },
   {
    "duration": 4,
    "start_time": "2023-07-01T23:19:22.483Z"
   },
   {
    "duration": 25,
    "start_time": "2023-07-01T23:19:22.488Z"
   },
   {
    "duration": 307,
    "start_time": "2023-07-01T23:19:22.514Z"
   },
   {
    "duration": 10,
    "start_time": "2023-07-01T23:19:22.823Z"
   },
   {
    "duration": 403,
    "start_time": "2023-07-01T23:19:22.835Z"
   },
   {
    "duration": 26,
    "start_time": "2023-07-01T23:19:23.239Z"
   },
   {
    "duration": 11,
    "start_time": "2023-07-01T23:19:23.266Z"
   },
   {
    "duration": 169,
    "start_time": "2023-07-01T23:19:23.279Z"
   },
   {
    "duration": 192,
    "start_time": "2023-07-01T23:19:23.450Z"
   },
   {
    "duration": 16,
    "start_time": "2023-07-01T23:19:23.645Z"
   },
   {
    "duration": 268,
    "start_time": "2023-07-01T23:19:23.663Z"
   },
   {
    "duration": 195,
    "start_time": "2023-07-01T23:19:23.933Z"
   },
   {
    "duration": 205,
    "start_time": "2023-07-01T23:19:24.130Z"
   },
   {
    "duration": 5,
    "start_time": "2023-07-01T23:19:24.336Z"
   },
   {
    "duration": 18,
    "start_time": "2023-07-01T23:19:24.342Z"
   },
   {
    "duration": 236,
    "start_time": "2023-07-01T23:19:24.364Z"
   },
   {
    "duration": 168,
    "start_time": "2023-07-01T23:19:24.601Z"
   },
   {
    "duration": 7,
    "start_time": "2023-07-01T23:19:24.775Z"
   },
   {
    "duration": 24,
    "start_time": "2023-07-01T23:19:24.784Z"
   },
   {
    "duration": 5,
    "start_time": "2023-07-01T23:19:24.810Z"
   },
   {
    "duration": 15,
    "start_time": "2023-07-01T23:19:24.817Z"
   },
   {
    "duration": 19,
    "start_time": "2023-07-01T23:19:24.834Z"
   },
   {
    "duration": 12,
    "start_time": "2023-07-01T23:19:24.863Z"
   },
   {
    "duration": 24,
    "start_time": "2023-07-01T23:19:24.876Z"
   },
   {
    "duration": 18,
    "start_time": "2023-07-01T23:19:24.902Z"
   },
   {
    "duration": 1215,
    "start_time": "2023-07-02T03:05:25.256Z"
   },
   {
    "duration": 7,
    "start_time": "2023-07-02T03:05:26.473Z"
   },
   {
    "duration": 239,
    "start_time": "2023-07-02T03:05:26.482Z"
   },
   {
    "duration": 57,
    "start_time": "2023-07-02T03:05:26.722Z"
   },
   {
    "duration": 10,
    "start_time": "2023-07-02T03:05:26.782Z"
   },
   {
    "duration": 6,
    "start_time": "2023-07-02T03:05:26.794Z"
   },
   {
    "duration": 35,
    "start_time": "2023-07-02T03:05:26.802Z"
   },
   {
    "duration": 15,
    "start_time": "2023-07-02T03:05:26.838Z"
   },
   {
    "duration": 21,
    "start_time": "2023-07-02T03:05:26.855Z"
   },
   {
    "duration": 18,
    "start_time": "2023-07-02T03:05:26.878Z"
   },
   {
    "duration": 170,
    "start_time": "2023-07-02T03:05:26.898Z"
   },
   {
    "duration": 131,
    "start_time": "2023-07-02T03:05:27.070Z"
   },
   {
    "duration": 11,
    "start_time": "2023-07-02T03:05:27.203Z"
   },
   {
    "duration": 13,
    "start_time": "2023-07-02T03:05:27.235Z"
   },
   {
    "duration": 395,
    "start_time": "2023-07-02T03:05:27.250Z"
   },
   {
    "duration": 312,
    "start_time": "2023-07-02T03:05:27.647Z"
   },
   {
    "duration": 7,
    "start_time": "2023-07-02T03:05:27.961Z"
   },
   {
    "duration": 356,
    "start_time": "2023-07-02T03:05:27.969Z"
   },
   {
    "duration": 6,
    "start_time": "2023-07-02T03:05:28.326Z"
   },
   {
    "duration": 46,
    "start_time": "2023-07-02T03:05:28.341Z"
   },
   {
    "duration": 295,
    "start_time": "2023-07-02T03:05:28.389Z"
   },
   {
    "duration": 8,
    "start_time": "2023-07-02T03:05:28.686Z"
   },
   {
    "duration": 434,
    "start_time": "2023-07-02T03:05:28.695Z"
   },
   {
    "duration": 19,
    "start_time": "2023-07-02T03:05:29.142Z"
   },
   {
    "duration": 29,
    "start_time": "2023-07-02T03:05:29.163Z"
   },
   {
    "duration": 177,
    "start_time": "2023-07-02T03:05:29.193Z"
   },
   {
    "duration": 150,
    "start_time": "2023-07-02T03:05:29.376Z"
   },
   {
    "duration": 12,
    "start_time": "2023-07-02T03:05:29.527Z"
   },
   {
    "duration": 298,
    "start_time": "2023-07-02T03:05:29.547Z"
   },
   {
    "duration": 175,
    "start_time": "2023-07-02T03:05:29.847Z"
   },
   {
    "duration": 177,
    "start_time": "2023-07-02T03:05:30.024Z"
   },
   {
    "duration": 5,
    "start_time": "2023-07-02T03:05:30.203Z"
   },
   {
    "duration": 59,
    "start_time": "2023-07-02T03:05:30.209Z"
   },
   {
    "duration": 249,
    "start_time": "2023-07-02T03:05:30.270Z"
   },
   {
    "duration": 144,
    "start_time": "2023-07-02T03:05:30.521Z"
   },
   {
    "duration": 8,
    "start_time": "2023-07-02T03:05:30.667Z"
   },
   {
    "duration": 52,
    "start_time": "2023-07-02T03:05:30.676Z"
   },
   {
    "duration": 92,
    "start_time": "2023-07-02T03:05:30.730Z"
   },
   {
    "duration": 86,
    "start_time": "2023-07-02T03:05:30.823Z"
   },
   {
    "duration": 95,
    "start_time": "2023-07-02T03:05:30.911Z"
   },
   {
    "duration": 91,
    "start_time": "2023-07-02T03:05:31.010Z"
   },
   {
    "duration": 110,
    "start_time": "2023-07-02T03:05:31.102Z"
   },
   {
    "duration": 57,
    "start_time": "2023-07-02T03:05:31.214Z"
   },
   {
    "duration": 289,
    "start_time": "2023-07-02T03:12:46.352Z"
   },
   {
    "duration": 184,
    "start_time": "2023-07-02T03:12:52.023Z"
   },
   {
    "duration": 44,
    "start_time": "2023-07-02T07:54:14.681Z"
   },
   {
    "duration": 1325,
    "start_time": "2023-07-02T07:54:19.258Z"
   },
   {
    "duration": 6,
    "start_time": "2023-07-02T07:54:20.585Z"
   },
   {
    "duration": 197,
    "start_time": "2023-07-02T07:54:20.592Z"
   },
   {
    "duration": 58,
    "start_time": "2023-07-02T07:54:20.791Z"
   },
   {
    "duration": 12,
    "start_time": "2023-07-02T07:54:20.850Z"
   },
   {
    "duration": 6,
    "start_time": "2023-07-02T07:54:20.875Z"
   },
   {
    "duration": 20,
    "start_time": "2023-07-02T07:54:20.883Z"
   },
   {
    "duration": 10,
    "start_time": "2023-07-02T07:54:20.905Z"
   },
   {
    "duration": 17,
    "start_time": "2023-07-02T07:54:20.916Z"
   },
   {
    "duration": 19,
    "start_time": "2023-07-02T07:54:20.936Z"
   },
   {
    "duration": 200,
    "start_time": "2023-07-02T07:54:20.957Z"
   },
   {
    "duration": 146,
    "start_time": "2023-07-02T07:54:21.159Z"
   },
   {
    "duration": 12,
    "start_time": "2023-07-02T07:54:21.307Z"
   },
   {
    "duration": 7,
    "start_time": "2023-07-02T07:54:21.321Z"
   },
   {
    "duration": 399,
    "start_time": "2023-07-02T07:54:21.330Z"
   },
   {
    "duration": 306,
    "start_time": "2023-07-02T07:54:21.730Z"
   },
   {
    "duration": 6,
    "start_time": "2023-07-02T07:54:22.038Z"
   },
   {
    "duration": 441,
    "start_time": "2023-07-02T07:54:22.046Z"
   },
   {
    "duration": 3,
    "start_time": "2023-07-02T07:54:22.489Z"
   },
   {
    "duration": 10,
    "start_time": "2023-07-02T07:54:22.493Z"
   },
   {
    "duration": 289,
    "start_time": "2023-07-02T07:54:22.504Z"
   },
   {
    "duration": 8,
    "start_time": "2023-07-02T07:54:22.795Z"
   },
   {
    "duration": 351,
    "start_time": "2023-07-02T07:54:22.804Z"
   },
   {
    "duration": 23,
    "start_time": "2023-07-02T07:54:23.157Z"
   },
   {
    "duration": 9,
    "start_time": "2023-07-02T07:54:23.182Z"
   },
   {
    "duration": 164,
    "start_time": "2023-07-02T07:54:23.193Z"
   },
   {
    "duration": 152,
    "start_time": "2023-07-02T07:54:23.358Z"
   },
   {
    "duration": 5,
    "start_time": "2023-07-02T07:54:23.513Z"
   },
   {
    "duration": 257,
    "start_time": "2023-07-02T07:54:23.520Z"
   },
   {
    "duration": 160,
    "start_time": "2023-07-02T07:54:23.779Z"
   },
   {
    "duration": 157,
    "start_time": "2023-07-02T07:54:23.941Z"
   },
   {
    "duration": 4,
    "start_time": "2023-07-02T07:54:24.100Z"
   },
   {
    "duration": 11,
    "start_time": "2023-07-02T07:54:24.105Z"
   },
   {
    "duration": 231,
    "start_time": "2023-07-02T07:54:24.117Z"
   },
   {
    "duration": 144,
    "start_time": "2023-07-02T07:54:24.350Z"
   },
   {
    "duration": 7,
    "start_time": "2023-07-02T07:54:24.496Z"
   },
   {
    "duration": 25,
    "start_time": "2023-07-02T07:54:24.505Z"
   },
   {
    "duration": 3,
    "start_time": "2023-07-02T07:54:24.532Z"
   },
   {
    "duration": 12,
    "start_time": "2023-07-02T07:54:24.537Z"
   },
   {
    "duration": 8,
    "start_time": "2023-07-02T07:54:24.575Z"
   },
   {
    "duration": 10,
    "start_time": "2023-07-02T07:54:24.585Z"
   },
   {
    "duration": 7,
    "start_time": "2023-07-02T07:54:24.597Z"
   },
   {
    "duration": 29,
    "start_time": "2023-07-02T07:54:24.605Z"
   },
   {
    "duration": 14,
    "start_time": "2023-07-02T07:54:24.635Z"
   },
   {
    "duration": 10,
    "start_time": "2023-07-02T10:49:23.750Z"
   },
   {
    "duration": 4,
    "start_time": "2023-07-02T10:50:13.015Z"
   },
   {
    "duration": 5,
    "start_time": "2023-07-02T10:50:27.228Z"
   },
   {
    "duration": 11,
    "start_time": "2023-07-02T10:50:36.044Z"
   },
   {
    "duration": 111,
    "start_time": "2023-07-02T10:54:48.967Z"
   },
   {
    "duration": 4,
    "start_time": "2023-07-02T10:55:24.205Z"
   },
   {
    "duration": 4,
    "start_time": "2023-07-02T10:57:28.034Z"
   },
   {
    "duration": 5,
    "start_time": "2023-07-02T10:57:38.523Z"
   },
   {
    "duration": 4,
    "start_time": "2023-07-02T10:58:38.245Z"
   },
   {
    "duration": 6,
    "start_time": "2023-07-02T10:59:07.437Z"
   },
   {
    "duration": 376,
    "start_time": "2023-07-02T11:01:27.454Z"
   },
   {
    "duration": 338,
    "start_time": "2023-07-02T11:02:07.029Z"
   },
   {
    "duration": 357,
    "start_time": "2023-07-02T11:03:02.724Z"
   },
   {
    "duration": 364,
    "start_time": "2023-07-02T11:03:17.091Z"
   },
   {
    "duration": 69,
    "start_time": "2023-07-02T11:03:39.603Z"
   },
   {
    "duration": 355,
    "start_time": "2023-07-02T11:07:36.165Z"
   },
   {
    "duration": 340,
    "start_time": "2023-07-02T11:10:35.321Z"
   },
   {
    "duration": 152,
    "start_time": "2023-07-02T11:11:29.805Z"
   },
   {
    "duration": 147,
    "start_time": "2023-07-02T11:11:34.100Z"
   },
   {
    "duration": 230,
    "start_time": "2023-07-02T11:12:16.512Z"
   },
   {
    "duration": 150,
    "start_time": "2023-07-02T11:12:47.692Z"
   },
   {
    "duration": 211,
    "start_time": "2023-07-02T11:14:08.992Z"
   },
   {
    "duration": 170,
    "start_time": "2023-07-02T11:14:20.004Z"
   },
   {
    "duration": 169,
    "start_time": "2023-07-02T11:15:49.296Z"
   },
   {
    "duration": 205,
    "start_time": "2023-07-02T11:15:54.700Z"
   },
   {
    "duration": 283,
    "start_time": "2023-07-02T11:16:04.108Z"
   },
   {
    "duration": 374,
    "start_time": "2023-07-02T11:19:25.418Z"
   },
   {
    "duration": 377,
    "start_time": "2023-07-02T11:20:33.000Z"
   },
   {
    "duration": 382,
    "start_time": "2023-07-02T11:23:02.995Z"
   },
   {
    "duration": 407,
    "start_time": "2023-07-02T11:23:46.426Z"
   },
   {
    "duration": 433,
    "start_time": "2023-07-02T11:25:36.759Z"
   },
   {
    "duration": 300,
    "start_time": "2023-07-02T11:26:40.246Z"
   },
   {
    "duration": 148,
    "start_time": "2023-07-02T11:26:47.804Z"
   },
   {
    "duration": 183,
    "start_time": "2023-07-02T11:27:41.506Z"
   },
   {
    "duration": 196,
    "start_time": "2023-07-02T11:27:52.514Z"
   },
   {
    "duration": 10,
    "start_time": "2023-07-02T11:32:42.316Z"
   },
   {
    "duration": 3,
    "start_time": "2023-07-02T12:59:45.036Z"
   },
   {
    "duration": 11,
    "start_time": "2023-07-02T12:59:46.134Z"
   },
   {
    "duration": 3,
    "start_time": "2023-07-02T13:01:10.345Z"
   },
   {
    "duration": 3,
    "start_time": "2023-07-02T13:01:20.546Z"
   },
   {
    "duration": 242,
    "start_time": "2023-07-02T13:01:21.602Z"
   },
   {
    "duration": 140,
    "start_time": "2023-07-02T13:01:24.099Z"
   },
   {
    "duration": 7,
    "start_time": "2023-07-02T13:01:26.026Z"
   },
   {
    "duration": 23,
    "start_time": "2023-07-02T13:01:27.764Z"
   },
   {
    "duration": 3,
    "start_time": "2023-07-02T13:05:53.546Z"
   },
   {
    "duration": 11,
    "start_time": "2023-07-02T13:05:54.457Z"
   },
   {
    "duration": 3,
    "start_time": "2023-07-02T14:31:31.713Z"
   },
   {
    "duration": 22,
    "start_time": "2023-07-02T14:31:32.457Z"
   },
   {
    "duration": 3,
    "start_time": "2023-07-02T14:34:51.571Z"
   },
   {
    "duration": 17,
    "start_time": "2023-07-02T14:34:52.629Z"
   },
   {
    "duration": 123,
    "start_time": "2023-07-02T16:08:51.306Z"
   },
   {
    "duration": 7,
    "start_time": "2023-07-02T16:08:52.452Z"
   },
   {
    "duration": 23,
    "start_time": "2023-07-02T16:08:53.546Z"
   },
   {
    "duration": 3,
    "start_time": "2023-07-02T16:08:59.088Z"
   },
   {
    "duration": 15,
    "start_time": "2023-07-02T16:09:01.664Z"
   },
   {
    "duration": 10,
    "start_time": "2023-07-02T16:09:08.231Z"
   },
   {
    "duration": 11,
    "start_time": "2023-07-02T16:09:13.349Z"
   },
   {
    "duration": 8,
    "start_time": "2023-07-02T16:09:15.581Z"
   },
   {
    "duration": 1062,
    "start_time": "2023-07-02T16:09:19.148Z"
   },
   {
    "duration": 4,
    "start_time": "2023-07-02T16:09:20.212Z"
   },
   {
    "duration": 107,
    "start_time": "2023-07-02T16:09:20.218Z"
   },
   {
    "duration": 60,
    "start_time": "2023-07-02T16:09:20.327Z"
   },
   {
    "duration": 11,
    "start_time": "2023-07-02T16:09:20.389Z"
   },
   {
    "duration": 10,
    "start_time": "2023-07-02T16:09:20.401Z"
   },
   {
    "duration": 23,
    "start_time": "2023-07-02T16:09:20.412Z"
   },
   {
    "duration": 9,
    "start_time": "2023-07-02T16:09:20.437Z"
   },
   {
    "duration": 11,
    "start_time": "2023-07-02T16:09:20.448Z"
   },
   {
    "duration": 16,
    "start_time": "2023-07-02T16:09:20.462Z"
   },
   {
    "duration": 178,
    "start_time": "2023-07-02T16:09:20.479Z"
   },
   {
    "duration": 132,
    "start_time": "2023-07-02T16:09:20.659Z"
   },
   {
    "duration": 11,
    "start_time": "2023-07-02T16:09:20.793Z"
   },
   {
    "duration": 20,
    "start_time": "2023-07-02T16:09:20.806Z"
   },
   {
    "duration": 15,
    "start_time": "2023-07-02T16:09:20.827Z"
   },
   {
    "duration": 357,
    "start_time": "2023-07-02T16:09:20.844Z"
   },
   {
    "duration": 305,
    "start_time": "2023-07-02T16:09:21.202Z"
   },
   {
    "duration": 5,
    "start_time": "2023-07-02T16:09:21.509Z"
   },
   {
    "duration": 390,
    "start_time": "2023-07-02T16:09:21.516Z"
   },
   {
    "duration": 4,
    "start_time": "2023-07-02T16:09:21.908Z"
   },
   {
    "duration": 15,
    "start_time": "2023-07-02T16:09:21.913Z"
   },
   {
    "duration": 361,
    "start_time": "2023-07-02T16:09:21.930Z"
   },
   {
    "duration": 7,
    "start_time": "2023-07-02T16:09:22.293Z"
   },
   {
    "duration": 395,
    "start_time": "2023-07-02T16:09:22.302Z"
   },
   {
    "duration": 11,
    "start_time": "2023-07-02T16:09:22.699Z"
   },
   {
    "duration": 8,
    "start_time": "2023-07-02T16:09:22.711Z"
   },
   {
    "duration": 174,
    "start_time": "2023-07-02T16:09:22.721Z"
   },
   {
    "duration": 170,
    "start_time": "2023-07-02T16:09:22.898Z"
   },
   {
    "duration": 19,
    "start_time": "2023-07-02T16:09:23.070Z"
   },
   {
    "duration": 350,
    "start_time": "2023-07-02T16:09:23.091Z"
   },
   {
    "duration": 178,
    "start_time": "2023-07-02T16:09:23.443Z"
   },
   {
    "duration": 178,
    "start_time": "2023-07-02T16:09:23.623Z"
   },
   {
    "duration": 4,
    "start_time": "2023-07-02T16:09:23.803Z"
   },
   {
    "duration": 10,
    "start_time": "2023-07-02T16:09:23.808Z"
   },
   {
    "duration": 171,
    "start_time": "2023-07-02T16:09:23.820Z"
   },
   {
    "duration": 95,
    "start_time": "2023-07-02T16:09:23.993Z"
   },
   {
    "duration": 0,
    "start_time": "2023-07-02T16:09:24.090Z"
   },
   {
    "duration": 0,
    "start_time": "2023-07-02T16:09:24.091Z"
   },
   {
    "duration": 0,
    "start_time": "2023-07-02T16:09:24.092Z"
   },
   {
    "duration": 0,
    "start_time": "2023-07-02T16:09:24.093Z"
   },
   {
    "duration": 0,
    "start_time": "2023-07-02T16:09:24.094Z"
   },
   {
    "duration": 0,
    "start_time": "2023-07-02T16:09:24.095Z"
   },
   {
    "duration": 0,
    "start_time": "2023-07-02T16:09:24.096Z"
   },
   {
    "duration": 0,
    "start_time": "2023-07-02T16:09:24.097Z"
   },
   {
    "duration": 0,
    "start_time": "2023-07-02T16:09:24.098Z"
   },
   {
    "duration": 0,
    "start_time": "2023-07-02T16:09:24.099Z"
   },
   {
    "duration": 10,
    "start_time": "2023-07-02T16:09:40.169Z"
   },
   {
    "duration": 12,
    "start_time": "2023-07-02T16:09:49.001Z"
   },
   {
    "duration": 12,
    "start_time": "2023-07-02T16:09:51.888Z"
   },
   {
    "duration": 11,
    "start_time": "2023-07-02T16:09:55.393Z"
   },
   {
    "duration": 204,
    "start_time": "2023-07-02T16:10:20.290Z"
   },
   {
    "duration": 1213,
    "start_time": "2023-07-02T16:10:24.065Z"
   },
   {
    "duration": 4,
    "start_time": "2023-07-02T16:10:25.280Z"
   },
   {
    "duration": 83,
    "start_time": "2023-07-02T16:10:25.285Z"
   },
   {
    "duration": 51,
    "start_time": "2023-07-02T16:10:25.371Z"
   },
   {
    "duration": 13,
    "start_time": "2023-07-02T16:10:25.423Z"
   },
   {
    "duration": 16,
    "start_time": "2023-07-02T16:10:25.438Z"
   },
   {
    "duration": 10,
    "start_time": "2023-07-02T16:10:25.474Z"
   },
   {
    "duration": 9,
    "start_time": "2023-07-02T16:10:25.485Z"
   },
   {
    "duration": 9,
    "start_time": "2023-07-02T16:10:25.495Z"
   },
   {
    "duration": 5,
    "start_time": "2023-07-02T16:10:25.507Z"
   },
   {
    "duration": 185,
    "start_time": "2023-07-02T16:10:25.514Z"
   },
   {
    "duration": 125,
    "start_time": "2023-07-02T16:10:25.701Z"
   },
   {
    "duration": 12,
    "start_time": "2023-07-02T16:10:25.827Z"
   },
   {
    "duration": 9,
    "start_time": "2023-07-02T16:10:25.840Z"
   },
   {
    "duration": 7,
    "start_time": "2023-07-02T16:10:25.851Z"
   },
   {
    "duration": 328,
    "start_time": "2023-07-02T16:10:25.860Z"
   },
   {
    "duration": 307,
    "start_time": "2023-07-02T16:10:26.189Z"
   },
   {
    "duration": 5,
    "start_time": "2023-07-02T16:10:26.498Z"
   },
   {
    "duration": 350,
    "start_time": "2023-07-02T16:10:26.505Z"
   },
   {
    "duration": 3,
    "start_time": "2023-07-02T16:10:26.857Z"
   },
   {
    "duration": 15,
    "start_time": "2023-07-02T16:10:26.862Z"
   },
   {
    "duration": 266,
    "start_time": "2023-07-02T16:10:26.878Z"
   },
   {
    "duration": 8,
    "start_time": "2023-07-02T16:10:27.145Z"
   },
   {
    "duration": 377,
    "start_time": "2023-07-02T16:10:27.154Z"
   },
   {
    "duration": 10,
    "start_time": "2023-07-02T16:10:27.533Z"
   },
   {
    "duration": 12,
    "start_time": "2023-07-02T16:10:27.545Z"
   },
   {
    "duration": 154,
    "start_time": "2023-07-02T16:10:27.558Z"
   },
   {
    "duration": 150,
    "start_time": "2023-07-02T16:10:27.715Z"
   },
   {
    "duration": 9,
    "start_time": "2023-07-02T16:10:27.867Z"
   },
   {
    "duration": 315,
    "start_time": "2023-07-02T16:10:27.877Z"
   },
   {
    "duration": 159,
    "start_time": "2023-07-02T16:10:28.193Z"
   },
   {
    "duration": 188,
    "start_time": "2023-07-02T16:10:28.353Z"
   },
   {
    "duration": 5,
    "start_time": "2023-07-02T16:10:28.543Z"
   },
   {
    "duration": 6,
    "start_time": "2023-07-02T16:10:28.549Z"
   },
   {
    "duration": 215,
    "start_time": "2023-07-02T16:10:28.556Z"
   },
   {
    "duration": 124,
    "start_time": "2023-07-02T16:10:28.776Z"
   },
   {
    "duration": 5,
    "start_time": "2023-07-02T16:10:28.902Z"
   },
   {
    "duration": 24,
    "start_time": "2023-07-02T16:10:28.908Z"
   },
   {
    "duration": 3,
    "start_time": "2023-07-02T16:10:28.933Z"
   },
   {
    "duration": 28,
    "start_time": "2023-07-02T16:10:28.937Z"
   },
   {
    "duration": 8,
    "start_time": "2023-07-02T16:10:28.975Z"
   },
   {
    "duration": 36,
    "start_time": "2023-07-02T16:10:28.984Z"
   },
   {
    "duration": 20,
    "start_time": "2023-07-02T16:10:29.021Z"
   },
   {
    "duration": 14,
    "start_time": "2023-07-02T16:10:29.042Z"
   },
   {
    "duration": 28,
    "start_time": "2023-07-02T16:10:29.057Z"
   },
   {
    "duration": 2,
    "start_time": "2023-07-02T16:10:29.087Z"
   },
   {
    "duration": 21,
    "start_time": "2023-07-02T16:10:29.091Z"
   },
   {
    "duration": 116,
    "start_time": "2023-07-02T16:15:08.050Z"
   },
   {
    "duration": 9,
    "start_time": "2023-07-02T16:15:16.045Z"
   },
   {
    "duration": 8,
    "start_time": "2023-07-02T16:15:43.097Z"
   },
   {
    "duration": 5,
    "start_time": "2023-07-02T16:16:22.846Z"
   },
   {
    "duration": 7,
    "start_time": "2023-07-02T16:17:13.030Z"
   },
   {
    "duration": 16,
    "start_time": "2023-07-02T16:17:25.805Z"
   },
   {
    "duration": 5,
    "start_time": "2023-07-02T16:17:35.898Z"
   },
   {
    "duration": 5,
    "start_time": "2023-07-02T16:17:48.593Z"
   },
   {
    "duration": 6,
    "start_time": "2023-07-02T16:21:08.522Z"
   },
   {
    "duration": 12,
    "start_time": "2023-07-02T16:21:36.110Z"
   },
   {
    "duration": 5,
    "start_time": "2023-07-02T16:21:45.535Z"
   },
   {
    "duration": 6,
    "start_time": "2023-07-02T16:21:53.046Z"
   },
   {
    "duration": 8,
    "start_time": "2023-07-02T16:28:17.309Z"
   },
   {
    "duration": 272,
    "start_time": "2023-07-02T16:28:37.228Z"
   },
   {
    "duration": 4,
    "start_time": "2023-07-02T16:28:42.804Z"
   },
   {
    "duration": 8,
    "start_time": "2023-07-02T16:28:48.696Z"
   },
   {
    "duration": 6,
    "start_time": "2023-07-02T16:28:53.840Z"
   },
   {
    "duration": 4,
    "start_time": "2023-07-02T16:28:55.915Z"
   },
   {
    "duration": 5,
    "start_time": "2023-07-02T16:29:05.196Z"
   },
   {
    "duration": 9,
    "start_time": "2023-07-02T16:29:15.554Z"
   },
   {
    "duration": 1241,
    "start_time": "2023-07-02T16:29:49.366Z"
   },
   {
    "duration": 6,
    "start_time": "2023-07-02T16:29:50.609Z"
   },
   {
    "duration": 83,
    "start_time": "2023-07-02T16:29:50.617Z"
   },
   {
    "duration": 66,
    "start_time": "2023-07-02T16:29:50.703Z"
   },
   {
    "duration": 13,
    "start_time": "2023-07-02T16:29:50.770Z"
   },
   {
    "duration": 13,
    "start_time": "2023-07-02T16:29:50.784Z"
   },
   {
    "duration": 18,
    "start_time": "2023-07-02T16:29:50.798Z"
   },
   {
    "duration": 16,
    "start_time": "2023-07-02T16:29:50.818Z"
   },
   {
    "duration": 13,
    "start_time": "2023-07-02T16:29:50.835Z"
   },
   {
    "duration": 24,
    "start_time": "2023-07-02T16:29:50.850Z"
   },
   {
    "duration": 12,
    "start_time": "2023-07-02T16:29:50.875Z"
   },
   {
    "duration": 175,
    "start_time": "2023-07-02T16:29:50.889Z"
   },
   {
    "duration": 144,
    "start_time": "2023-07-02T16:29:51.067Z"
   },
   {
    "duration": 15,
    "start_time": "2023-07-02T16:29:51.213Z"
   },
   {
    "duration": 11,
    "start_time": "2023-07-02T16:29:51.229Z"
   },
   {
    "duration": 7,
    "start_time": "2023-07-02T16:29:51.242Z"
   },
   {
    "duration": 374,
    "start_time": "2023-07-02T16:29:51.251Z"
   },
   {
    "duration": 286,
    "start_time": "2023-07-02T16:29:51.628Z"
   },
   {
    "duration": 6,
    "start_time": "2023-07-02T16:29:51.915Z"
   },
   {
    "duration": 341,
    "start_time": "2023-07-02T16:29:51.922Z"
   },
   {
    "duration": 4,
    "start_time": "2023-07-02T16:29:52.264Z"
   },
   {
    "duration": 19,
    "start_time": "2023-07-02T16:29:52.274Z"
   },
   {
    "duration": 280,
    "start_time": "2023-07-02T16:29:52.295Z"
   },
   {
    "duration": 8,
    "start_time": "2023-07-02T16:29:52.576Z"
   },
   {
    "duration": 361,
    "start_time": "2023-07-02T16:29:52.585Z"
   },
   {
    "duration": 11,
    "start_time": "2023-07-02T16:29:52.948Z"
   },
   {
    "duration": 23,
    "start_time": "2023-07-02T16:29:52.961Z"
   },
   {
    "duration": 161,
    "start_time": "2023-07-02T16:29:52.987Z"
   },
   {
    "duration": 194,
    "start_time": "2023-07-02T16:29:53.150Z"
   },
   {
    "duration": 6,
    "start_time": "2023-07-02T16:29:53.345Z"
   },
   {
    "duration": 396,
    "start_time": "2023-07-02T16:29:53.353Z"
   },
   {
    "duration": 224,
    "start_time": "2023-07-02T16:29:53.751Z"
   },
   {
    "duration": 208,
    "start_time": "2023-07-02T16:29:53.977Z"
   },
   {
    "duration": 5,
    "start_time": "2023-07-02T16:29:54.187Z"
   },
   {
    "duration": 10,
    "start_time": "2023-07-02T16:29:54.193Z"
   },
   {
    "duration": 243,
    "start_time": "2023-07-02T16:29:54.205Z"
   },
   {
    "duration": 129,
    "start_time": "2023-07-02T16:29:54.450Z"
   },
   {
    "duration": 6,
    "start_time": "2023-07-02T16:29:54.580Z"
   },
   {
    "duration": 38,
    "start_time": "2023-07-02T16:29:54.587Z"
   },
   {
    "duration": 3,
    "start_time": "2023-07-02T16:29:54.626Z"
   },
   {
    "duration": 13,
    "start_time": "2023-07-02T16:29:54.630Z"
   },
   {
    "duration": 9,
    "start_time": "2023-07-02T16:29:54.644Z"
   },
   {
    "duration": 27,
    "start_time": "2023-07-02T16:29:54.655Z"
   },
   {
    "duration": 15,
    "start_time": "2023-07-02T16:29:54.683Z"
   },
   {
    "duration": 3,
    "start_time": "2023-07-02T16:29:54.699Z"
   },
   {
    "duration": 27,
    "start_time": "2023-07-02T16:29:54.704Z"
   },
   {
    "duration": 3,
    "start_time": "2023-07-02T16:29:54.732Z"
   },
   {
    "duration": 14,
    "start_time": "2023-07-02T16:29:54.737Z"
   },
   {
    "duration": 6,
    "start_time": "2023-07-02T16:30:48.125Z"
   },
   {
    "duration": 9,
    "start_time": "2023-07-02T16:31:18.329Z"
   },
   {
    "duration": 9,
    "start_time": "2023-07-02T16:31:42.898Z"
   },
   {
    "duration": 7,
    "start_time": "2023-07-02T16:37:54.407Z"
   },
   {
    "duration": 116,
    "start_time": "2023-07-02T16:38:45.548Z"
   },
   {
    "duration": 6,
    "start_time": "2023-07-02T16:39:05.049Z"
   },
   {
    "duration": 12,
    "start_time": "2023-07-02T16:39:10.535Z"
   },
   {
    "duration": 14,
    "start_time": "2023-07-02T16:39:41.000Z"
   },
   {
    "duration": 8,
    "start_time": "2023-07-02T16:41:56.750Z"
   },
   {
    "duration": 9,
    "start_time": "2023-07-02T16:42:15.784Z"
   },
   {
    "duration": 8,
    "start_time": "2023-07-02T16:42:20.407Z"
   },
   {
    "duration": 11,
    "start_time": "2023-07-02T16:42:27.713Z"
   },
   {
    "duration": 11,
    "start_time": "2023-07-02T16:43:21.330Z"
   },
   {
    "duration": 13,
    "start_time": "2023-07-02T16:43:30.838Z"
   },
   {
    "duration": 11,
    "start_time": "2023-07-02T16:43:35.078Z"
   },
   {
    "duration": 9,
    "start_time": "2023-07-02T16:43:45.479Z"
   },
   {
    "duration": 10,
    "start_time": "2023-07-02T16:43:48.799Z"
   },
   {
    "duration": 1164,
    "start_time": "2023-07-02T16:44:23.197Z"
   },
   {
    "duration": 6,
    "start_time": "2023-07-02T16:44:37.899Z"
   },
   {
    "duration": 8,
    "start_time": "2023-07-02T16:45:07.650Z"
   },
   {
    "duration": 8,
    "start_time": "2023-07-02T16:45:23.342Z"
   },
   {
    "duration": 8,
    "start_time": "2023-07-02T16:45:30.650Z"
   },
   {
    "duration": 9,
    "start_time": "2023-07-02T16:45:49.022Z"
   },
   {
    "duration": 9,
    "start_time": "2023-07-02T16:46:20.809Z"
   },
   {
    "duration": 17,
    "start_time": "2023-07-02T16:46:56.305Z"
   },
   {
    "duration": 10,
    "start_time": "2023-07-02T16:47:01.753Z"
   },
   {
    "duration": 8,
    "start_time": "2023-07-02T16:47:03.238Z"
   },
   {
    "duration": 41,
    "start_time": "2023-07-02T16:48:27.827Z"
   },
   {
    "duration": 11,
    "start_time": "2023-07-02T16:49:23.134Z"
   },
   {
    "duration": 14,
    "start_time": "2023-07-02T16:50:02.619Z"
   },
   {
    "duration": 14,
    "start_time": "2023-07-02T16:50:10.872Z"
   },
   {
    "duration": 13,
    "start_time": "2023-07-02T16:50:44.362Z"
   },
   {
    "duration": 8,
    "start_time": "2023-07-02T16:52:15.041Z"
   },
   {
    "duration": 12,
    "start_time": "2023-07-02T16:52:22.041Z"
   },
   {
    "duration": 6,
    "start_time": "2023-07-02T17:03:58.403Z"
   },
   {
    "duration": 14,
    "start_time": "2023-07-02T17:04:03.417Z"
   },
   {
    "duration": 7,
    "start_time": "2023-07-02T17:04:38.722Z"
   },
   {
    "duration": 5,
    "start_time": "2023-07-02T17:05:14.241Z"
   },
   {
    "duration": 6,
    "start_time": "2023-07-02T17:05:17.454Z"
   },
   {
    "duration": 11,
    "start_time": "2023-07-02T17:06:55.504Z"
   },
   {
    "duration": 7,
    "start_time": "2023-07-02T17:09:11.497Z"
   },
   {
    "duration": 6,
    "start_time": "2023-07-02T17:09:30.165Z"
   },
   {
    "duration": 7,
    "start_time": "2023-07-02T17:09:44.361Z"
   },
   {
    "duration": 6,
    "start_time": "2023-07-02T17:10:17.801Z"
   },
   {
    "duration": 5,
    "start_time": "2023-07-02T17:10:32.929Z"
   },
   {
    "duration": 7,
    "start_time": "2023-07-02T17:10:41.246Z"
   },
   {
    "duration": 5,
    "start_time": "2023-07-02T17:10:59.411Z"
   },
   {
    "duration": 17,
    "start_time": "2023-07-02T17:11:12.686Z"
   },
   {
    "duration": 12,
    "start_time": "2023-07-02T17:11:16.204Z"
   },
   {
    "duration": 7,
    "start_time": "2023-07-02T17:11:57.735Z"
   },
   {
    "duration": 11,
    "start_time": "2023-07-02T17:12:36.924Z"
   },
   {
    "duration": 5,
    "start_time": "2023-07-02T17:13:25.531Z"
   },
   {
    "duration": 4,
    "start_time": "2023-07-02T17:13:33.096Z"
   },
   {
    "duration": 11,
    "start_time": "2023-07-02T17:14:00.145Z"
   },
   {
    "duration": 1181,
    "start_time": "2023-07-02T17:19:36.994Z"
   },
   {
    "duration": 11,
    "start_time": "2023-07-02T17:19:38.179Z"
   },
   {
    "duration": 101,
    "start_time": "2023-07-02T17:19:38.192Z"
   },
   {
    "duration": 62,
    "start_time": "2023-07-02T17:19:38.295Z"
   },
   {
    "duration": 30,
    "start_time": "2023-07-02T17:19:38.360Z"
   },
   {
    "duration": 7,
    "start_time": "2023-07-02T17:19:38.392Z"
   },
   {
    "duration": 10,
    "start_time": "2023-07-02T17:19:38.401Z"
   },
   {
    "duration": 13,
    "start_time": "2023-07-02T17:19:38.412Z"
   },
   {
    "duration": 6,
    "start_time": "2023-07-02T17:19:38.426Z"
   },
   {
    "duration": 11,
    "start_time": "2023-07-02T17:19:38.433Z"
   },
   {
    "duration": 10,
    "start_time": "2023-07-02T17:19:38.445Z"
   },
   {
    "duration": 23,
    "start_time": "2023-07-02T17:19:38.457Z"
   },
   {
    "duration": 7,
    "start_time": "2023-07-02T17:19:38.482Z"
   },
   {
    "duration": 168,
    "start_time": "2023-07-02T17:19:38.492Z"
   },
   {
    "duration": 137,
    "start_time": "2023-07-02T17:19:38.661Z"
   },
   {
    "duration": 17,
    "start_time": "2023-07-02T17:19:38.799Z"
   },
   {
    "duration": 6,
    "start_time": "2023-07-02T17:19:38.817Z"
   },
   {
    "duration": 13,
    "start_time": "2023-07-02T17:19:38.825Z"
   },
   {
    "duration": 346,
    "start_time": "2023-07-02T17:19:38.840Z"
   },
   {
    "duration": 273,
    "start_time": "2023-07-02T17:19:39.187Z"
   },
   {
    "duration": 17,
    "start_time": "2023-07-02T17:19:39.462Z"
   },
   {
    "duration": 385,
    "start_time": "2023-07-02T17:19:39.480Z"
   },
   {
    "duration": 10,
    "start_time": "2023-07-02T17:19:39.866Z"
   },
   {
    "duration": 9,
    "start_time": "2023-07-02T17:19:39.877Z"
   },
   {
    "duration": 320,
    "start_time": "2023-07-02T17:19:39.888Z"
   },
   {
    "duration": 9,
    "start_time": "2023-07-02T17:19:40.210Z"
   },
   {
    "duration": 354,
    "start_time": "2023-07-02T17:19:40.221Z"
   },
   {
    "duration": 12,
    "start_time": "2023-07-02T17:19:40.577Z"
   },
   {
    "duration": 9,
    "start_time": "2023-07-02T17:19:40.591Z"
   },
   {
    "duration": 164,
    "start_time": "2023-07-02T17:19:40.602Z"
   },
   {
    "duration": 153,
    "start_time": "2023-07-02T17:19:40.767Z"
   },
   {
    "duration": 5,
    "start_time": "2023-07-02T17:19:40.922Z"
   },
   {
    "duration": 365,
    "start_time": "2023-07-02T17:19:40.929Z"
   },
   {
    "duration": 179,
    "start_time": "2023-07-02T17:19:41.296Z"
   },
   {
    "duration": 183,
    "start_time": "2023-07-02T17:19:41.476Z"
   },
   {
    "duration": 7,
    "start_time": "2023-07-02T17:19:41.660Z"
   },
   {
    "duration": 3,
    "start_time": "2023-07-02T17:19:41.675Z"
   },
   {
    "duration": 286,
    "start_time": "2023-07-02T17:19:41.680Z"
   },
   {
    "duration": 139,
    "start_time": "2023-07-02T17:19:41.974Z"
   },
   {
    "duration": 8,
    "start_time": "2023-07-02T17:19:42.115Z"
   },
   {
    "duration": 29,
    "start_time": "2023-07-02T17:19:42.127Z"
   },
   {
    "duration": 2,
    "start_time": "2023-07-02T17:19:42.158Z"
   },
   {
    "duration": 15,
    "start_time": "2023-07-02T17:19:42.175Z"
   },
   {
    "duration": 13,
    "start_time": "2023-07-02T17:19:42.192Z"
   },
   {
    "duration": 17,
    "start_time": "2023-07-02T17:19:42.206Z"
   },
   {
    "duration": 8,
    "start_time": "2023-07-02T17:19:42.225Z"
   },
   {
    "duration": 5,
    "start_time": "2023-07-02T17:19:42.235Z"
   },
   {
    "duration": 52,
    "start_time": "2023-07-02T17:19:42.241Z"
   },
   {
    "duration": 9,
    "start_time": "2023-07-02T17:19:42.294Z"
   },
   {
    "duration": 17,
    "start_time": "2023-07-02T17:19:42.305Z"
   },
   {
    "duration": 1242,
    "start_time": "2023-07-02T17:25:09.968Z"
   },
   {
    "duration": 4,
    "start_time": "2023-07-02T17:25:11.214Z"
   },
   {
    "duration": 220,
    "start_time": "2023-07-02T17:25:11.220Z"
   },
   {
    "duration": 57,
    "start_time": "2023-07-02T17:25:11.442Z"
   },
   {
    "duration": 13,
    "start_time": "2023-07-02T17:25:11.501Z"
   },
   {
    "duration": 9,
    "start_time": "2023-07-02T17:25:11.515Z"
   },
   {
    "duration": 13,
    "start_time": "2023-07-02T17:25:11.525Z"
   },
   {
    "duration": 32,
    "start_time": "2023-07-02T17:25:11.539Z"
   },
   {
    "duration": 5,
    "start_time": "2023-07-02T17:25:11.578Z"
   },
   {
    "duration": 16,
    "start_time": "2023-07-02T17:25:11.587Z"
   },
   {
    "duration": 11,
    "start_time": "2023-07-02T17:25:11.605Z"
   },
   {
    "duration": 26,
    "start_time": "2023-07-02T17:25:11.617Z"
   },
   {
    "duration": 8,
    "start_time": "2023-07-02T17:25:11.645Z"
   },
   {
    "duration": 207,
    "start_time": "2023-07-02T17:25:11.654Z"
   },
   {
    "duration": 129,
    "start_time": "2023-07-02T17:25:11.863Z"
   },
   {
    "duration": 13,
    "start_time": "2023-07-02T17:25:11.994Z"
   },
   {
    "duration": 10,
    "start_time": "2023-07-02T17:25:12.008Z"
   },
   {
    "duration": 8,
    "start_time": "2023-07-02T17:25:12.020Z"
   },
   {
    "duration": 379,
    "start_time": "2023-07-02T17:25:12.029Z"
   },
   {
    "duration": 315,
    "start_time": "2023-07-02T17:25:12.410Z"
   },
   {
    "duration": 7,
    "start_time": "2023-07-02T17:25:12.727Z"
   },
   {
    "duration": 451,
    "start_time": "2023-07-02T17:25:12.736Z"
   },
   {
    "duration": 8,
    "start_time": "2023-07-02T17:25:13.189Z"
   },
   {
    "duration": 9,
    "start_time": "2023-07-02T17:25:13.199Z"
   },
   {
    "duration": 297,
    "start_time": "2023-07-02T17:25:13.209Z"
   },
   {
    "duration": 7,
    "start_time": "2023-07-02T17:25:13.508Z"
   },
   {
    "duration": 400,
    "start_time": "2023-07-02T17:25:13.519Z"
   },
   {
    "duration": 14,
    "start_time": "2023-07-02T17:25:13.921Z"
   },
   {
    "duration": 12,
    "start_time": "2023-07-02T17:25:13.937Z"
   },
   {
    "duration": 225,
    "start_time": "2023-07-02T17:25:13.972Z"
   },
   {
    "duration": 194,
    "start_time": "2023-07-02T17:25:14.198Z"
   },
   {
    "duration": 7,
    "start_time": "2023-07-02T17:25:14.394Z"
   },
   {
    "duration": 388,
    "start_time": "2023-07-02T17:25:14.404Z"
   },
   {
    "duration": 208,
    "start_time": "2023-07-02T17:25:14.793Z"
   },
   {
    "duration": 208,
    "start_time": "2023-07-02T17:25:15.003Z"
   },
   {
    "duration": 5,
    "start_time": "2023-07-02T17:25:15.213Z"
   },
   {
    "duration": 6,
    "start_time": "2023-07-02T17:25:15.219Z"
   },
   {
    "duration": 231,
    "start_time": "2023-07-02T17:25:15.226Z"
   },
   {
    "duration": 146,
    "start_time": "2023-07-02T17:25:15.458Z"
   },
   {
    "duration": 7,
    "start_time": "2023-07-02T17:25:15.605Z"
   },
   {
    "duration": 27,
    "start_time": "2023-07-02T17:25:15.613Z"
   },
   {
    "duration": 3,
    "start_time": "2023-07-02T17:25:15.641Z"
   },
   {
    "duration": 33,
    "start_time": "2023-07-02T17:25:15.646Z"
   },
   {
    "duration": 16,
    "start_time": "2023-07-02T17:25:15.682Z"
   },
   {
    "duration": 9,
    "start_time": "2023-07-02T17:25:15.700Z"
   },
   {
    "duration": 13,
    "start_time": "2023-07-02T17:25:15.710Z"
   },
   {
    "duration": 5,
    "start_time": "2023-07-02T17:25:15.724Z"
   },
   {
    "duration": 47,
    "start_time": "2023-07-02T17:25:15.730Z"
   },
   {
    "duration": 4,
    "start_time": "2023-07-02T17:25:15.785Z"
   },
   {
    "duration": 18,
    "start_time": "2023-07-02T17:25:15.790Z"
   }
  ],
  "kernelspec": {
   "display_name": "Python 3 (ipykernel)",
   "language": "python",
   "name": "python3"
  },
  "language_info": {
   "codemirror_mode": {
    "name": "ipython",
    "version": 3
   },
   "file_extension": ".py",
   "mimetype": "text/x-python",
   "name": "python",
   "nbconvert_exporter": "python",
   "pygments_lexer": "ipython3",
   "version": "3.9.15"
  },
  "toc": {
   "base_numbering": 1,
   "nav_menu": {},
   "number_sections": true,
   "sideBar": true,
   "skip_h1_title": true,
   "title_cell": "Table of Contents",
   "title_sidebar": "Contents",
   "toc_cell": false,
   "toc_position": {
    "height": "calc(100% - 180px)",
    "left": "10px",
    "top": "150px",
    "width": "383px"
   },
   "toc_section_display": true,
   "toc_window_display": true
  }
 },
 "nbformat": 4,
 "nbformat_minor": 2
}
