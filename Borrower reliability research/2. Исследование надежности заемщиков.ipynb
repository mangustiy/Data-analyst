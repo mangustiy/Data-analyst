{
 "cells": [
  {
   "cell_type": "markdown",
   "id": "386f2ae7",
   "metadata": {
    "deletable": false,
    "editable": false,
    "id": "386f2ae7"
   },
   "source": [
    "# Исследование надежности заемщиков\n"
   ]
  },
  {
   "cell_type": "markdown",
   "id": "ffe86f65",
   "metadata": {
    "deletable": false,
    "editable": false,
    "id": "ffe86f65"
   },
   "source": [
    "Во второй части проекта вы выполните шаги 3 и 4. Их вручную проверит ревьюер.\n",
    "Чтобы вам не пришлось писать код заново для шагов 1 и 2, мы добавили авторские решения в ячейки с кодом. \n",
    "\n"
   ]
  },
  {
   "cell_type": "markdown",
   "id": "26613308",
   "metadata": {
    "deletable": false,
    "editable": false,
    "id": "26613308"
   },
   "source": [
    "## Откройте таблицу и изучите общую информацию о данных"
   ]
  },
  {
   "cell_type": "markdown",
   "id": "3c9f838e",
   "metadata": {
    "deletable": false,
    "editable": false,
    "id": "3c9f838e"
   },
   "source": [
    "**Задание 1. Импортируйте библиотеку pandas. Считайте данные из csv-файла в датафрейм и сохраните в переменную `data`. Путь к файлу:**\n",
    "\n",
    "`/datasets/data.csv`"
   ]
  },
  {
   "cell_type": "code",
   "execution_count": 1,
   "id": "77a68a90",
   "metadata": {
    "deletable": false,
    "id": "77a68a90"
   },
   "outputs": [],
   "source": [
    "import pandas as pd\n",
    "\n",
    "try:\n",
    "    data = pd.read_csv('/datasets/data.csv')\n",
    "except:\n",
    "    data = pd.read_csv('https://code.s3.yandex.net/datasets/data.csv')"
   ]
  },
  {
   "cell_type": "markdown",
   "id": "45365635",
   "metadata": {
    "deletable": false,
    "editable": false,
    "id": "45365635"
   },
   "source": [
    "**Задание 2. Выведите первые 20 строчек датафрейма `data` на экран.**"
   ]
  },
  {
   "cell_type": "code",
   "execution_count": 2,
   "id": "b0451a9a",
   "metadata": {
    "deletable": false,
    "id": "b0451a9a",
    "outputId": "1a8f3ef2-d323-4ec2-ddf7-89670b5944c4"
   },
   "outputs": [
    {
     "data": {
      "text/html": [
       "<div>\n",
       "<style scoped>\n",
       "    .dataframe tbody tr th:only-of-type {\n",
       "        vertical-align: middle;\n",
       "    }\n",
       "\n",
       "    .dataframe tbody tr th {\n",
       "        vertical-align: top;\n",
       "    }\n",
       "\n",
       "    .dataframe thead th {\n",
       "        text-align: right;\n",
       "    }\n",
       "</style>\n",
       "<table border=\"1\" class=\"dataframe\">\n",
       "  <thead>\n",
       "    <tr style=\"text-align: right;\">\n",
       "      <th></th>\n",
       "      <th>children</th>\n",
       "      <th>days_employed</th>\n",
       "      <th>dob_years</th>\n",
       "      <th>education</th>\n",
       "      <th>education_id</th>\n",
       "      <th>family_status</th>\n",
       "      <th>family_status_id</th>\n",
       "      <th>gender</th>\n",
       "      <th>income_type</th>\n",
       "      <th>debt</th>\n",
       "      <th>total_income</th>\n",
       "      <th>purpose</th>\n",
       "    </tr>\n",
       "  </thead>\n",
       "  <tbody>\n",
       "    <tr>\n",
       "      <th>0</th>\n",
       "      <td>1</td>\n",
       "      <td>-8437.673028</td>\n",
       "      <td>42</td>\n",
       "      <td>высшее</td>\n",
       "      <td>0</td>\n",
       "      <td>женат / замужем</td>\n",
       "      <td>0</td>\n",
       "      <td>F</td>\n",
       "      <td>сотрудник</td>\n",
       "      <td>0</td>\n",
       "      <td>253875.639453</td>\n",
       "      <td>покупка жилья</td>\n",
       "    </tr>\n",
       "    <tr>\n",
       "      <th>1</th>\n",
       "      <td>1</td>\n",
       "      <td>-4024.803754</td>\n",
       "      <td>36</td>\n",
       "      <td>среднее</td>\n",
       "      <td>1</td>\n",
       "      <td>женат / замужем</td>\n",
       "      <td>0</td>\n",
       "      <td>F</td>\n",
       "      <td>сотрудник</td>\n",
       "      <td>0</td>\n",
       "      <td>112080.014102</td>\n",
       "      <td>приобретение автомобиля</td>\n",
       "    </tr>\n",
       "    <tr>\n",
       "      <th>2</th>\n",
       "      <td>0</td>\n",
       "      <td>-5623.422610</td>\n",
       "      <td>33</td>\n",
       "      <td>Среднее</td>\n",
       "      <td>1</td>\n",
       "      <td>женат / замужем</td>\n",
       "      <td>0</td>\n",
       "      <td>M</td>\n",
       "      <td>сотрудник</td>\n",
       "      <td>0</td>\n",
       "      <td>145885.952297</td>\n",
       "      <td>покупка жилья</td>\n",
       "    </tr>\n",
       "    <tr>\n",
       "      <th>3</th>\n",
       "      <td>3</td>\n",
       "      <td>-4124.747207</td>\n",
       "      <td>32</td>\n",
       "      <td>среднее</td>\n",
       "      <td>1</td>\n",
       "      <td>женат / замужем</td>\n",
       "      <td>0</td>\n",
       "      <td>M</td>\n",
       "      <td>сотрудник</td>\n",
       "      <td>0</td>\n",
       "      <td>267628.550329</td>\n",
       "      <td>дополнительное образование</td>\n",
       "    </tr>\n",
       "    <tr>\n",
       "      <th>4</th>\n",
       "      <td>0</td>\n",
       "      <td>340266.072047</td>\n",
       "      <td>53</td>\n",
       "      <td>среднее</td>\n",
       "      <td>1</td>\n",
       "      <td>гражданский брак</td>\n",
       "      <td>1</td>\n",
       "      <td>F</td>\n",
       "      <td>пенсионер</td>\n",
       "      <td>0</td>\n",
       "      <td>158616.077870</td>\n",
       "      <td>сыграть свадьбу</td>\n",
       "    </tr>\n",
       "    <tr>\n",
       "      <th>5</th>\n",
       "      <td>0</td>\n",
       "      <td>-926.185831</td>\n",
       "      <td>27</td>\n",
       "      <td>высшее</td>\n",
       "      <td>0</td>\n",
       "      <td>гражданский брак</td>\n",
       "      <td>1</td>\n",
       "      <td>M</td>\n",
       "      <td>компаньон</td>\n",
       "      <td>0</td>\n",
       "      <td>255763.565419</td>\n",
       "      <td>покупка жилья</td>\n",
       "    </tr>\n",
       "    <tr>\n",
       "      <th>6</th>\n",
       "      <td>0</td>\n",
       "      <td>-2879.202052</td>\n",
       "      <td>43</td>\n",
       "      <td>высшее</td>\n",
       "      <td>0</td>\n",
       "      <td>женат / замужем</td>\n",
       "      <td>0</td>\n",
       "      <td>F</td>\n",
       "      <td>компаньон</td>\n",
       "      <td>0</td>\n",
       "      <td>240525.971920</td>\n",
       "      <td>операции с жильем</td>\n",
       "    </tr>\n",
       "    <tr>\n",
       "      <th>7</th>\n",
       "      <td>0</td>\n",
       "      <td>-152.779569</td>\n",
       "      <td>50</td>\n",
       "      <td>СРЕДНЕЕ</td>\n",
       "      <td>1</td>\n",
       "      <td>женат / замужем</td>\n",
       "      <td>0</td>\n",
       "      <td>M</td>\n",
       "      <td>сотрудник</td>\n",
       "      <td>0</td>\n",
       "      <td>135823.934197</td>\n",
       "      <td>образование</td>\n",
       "    </tr>\n",
       "    <tr>\n",
       "      <th>8</th>\n",
       "      <td>2</td>\n",
       "      <td>-6929.865299</td>\n",
       "      <td>35</td>\n",
       "      <td>ВЫСШЕЕ</td>\n",
       "      <td>0</td>\n",
       "      <td>гражданский брак</td>\n",
       "      <td>1</td>\n",
       "      <td>F</td>\n",
       "      <td>сотрудник</td>\n",
       "      <td>0</td>\n",
       "      <td>95856.832424</td>\n",
       "      <td>на проведение свадьбы</td>\n",
       "    </tr>\n",
       "    <tr>\n",
       "      <th>9</th>\n",
       "      <td>0</td>\n",
       "      <td>-2188.756445</td>\n",
       "      <td>41</td>\n",
       "      <td>среднее</td>\n",
       "      <td>1</td>\n",
       "      <td>женат / замужем</td>\n",
       "      <td>0</td>\n",
       "      <td>M</td>\n",
       "      <td>сотрудник</td>\n",
       "      <td>0</td>\n",
       "      <td>144425.938277</td>\n",
       "      <td>покупка жилья для семьи</td>\n",
       "    </tr>\n",
       "    <tr>\n",
       "      <th>10</th>\n",
       "      <td>2</td>\n",
       "      <td>-4171.483647</td>\n",
       "      <td>36</td>\n",
       "      <td>высшее</td>\n",
       "      <td>0</td>\n",
       "      <td>женат / замужем</td>\n",
       "      <td>0</td>\n",
       "      <td>M</td>\n",
       "      <td>компаньон</td>\n",
       "      <td>0</td>\n",
       "      <td>113943.491460</td>\n",
       "      <td>покупка недвижимости</td>\n",
       "    </tr>\n",
       "    <tr>\n",
       "      <th>11</th>\n",
       "      <td>0</td>\n",
       "      <td>-792.701887</td>\n",
       "      <td>40</td>\n",
       "      <td>среднее</td>\n",
       "      <td>1</td>\n",
       "      <td>женат / замужем</td>\n",
       "      <td>0</td>\n",
       "      <td>F</td>\n",
       "      <td>сотрудник</td>\n",
       "      <td>0</td>\n",
       "      <td>77069.234271</td>\n",
       "      <td>покупка коммерческой недвижимости</td>\n",
       "    </tr>\n",
       "    <tr>\n",
       "      <th>12</th>\n",
       "      <td>0</td>\n",
       "      <td>NaN</td>\n",
       "      <td>65</td>\n",
       "      <td>среднее</td>\n",
       "      <td>1</td>\n",
       "      <td>гражданский брак</td>\n",
       "      <td>1</td>\n",
       "      <td>M</td>\n",
       "      <td>пенсионер</td>\n",
       "      <td>0</td>\n",
       "      <td>NaN</td>\n",
       "      <td>сыграть свадьбу</td>\n",
       "    </tr>\n",
       "    <tr>\n",
       "      <th>13</th>\n",
       "      <td>0</td>\n",
       "      <td>-1846.641941</td>\n",
       "      <td>54</td>\n",
       "      <td>неоконченное высшее</td>\n",
       "      <td>2</td>\n",
       "      <td>женат / замужем</td>\n",
       "      <td>0</td>\n",
       "      <td>F</td>\n",
       "      <td>сотрудник</td>\n",
       "      <td>0</td>\n",
       "      <td>130458.228857</td>\n",
       "      <td>приобретение автомобиля</td>\n",
       "    </tr>\n",
       "    <tr>\n",
       "      <th>14</th>\n",
       "      <td>0</td>\n",
       "      <td>-1844.956182</td>\n",
       "      <td>56</td>\n",
       "      <td>высшее</td>\n",
       "      <td>0</td>\n",
       "      <td>гражданский брак</td>\n",
       "      <td>1</td>\n",
       "      <td>F</td>\n",
       "      <td>компаньон</td>\n",
       "      <td>1</td>\n",
       "      <td>165127.911772</td>\n",
       "      <td>покупка жилой недвижимости</td>\n",
       "    </tr>\n",
       "    <tr>\n",
       "      <th>15</th>\n",
       "      <td>1</td>\n",
       "      <td>-972.364419</td>\n",
       "      <td>26</td>\n",
       "      <td>среднее</td>\n",
       "      <td>1</td>\n",
       "      <td>женат / замужем</td>\n",
       "      <td>0</td>\n",
       "      <td>F</td>\n",
       "      <td>сотрудник</td>\n",
       "      <td>0</td>\n",
       "      <td>116820.904450</td>\n",
       "      <td>строительство собственной недвижимости</td>\n",
       "    </tr>\n",
       "    <tr>\n",
       "      <th>16</th>\n",
       "      <td>0</td>\n",
       "      <td>-1719.934226</td>\n",
       "      <td>35</td>\n",
       "      <td>среднее</td>\n",
       "      <td>1</td>\n",
       "      <td>женат / замужем</td>\n",
       "      <td>0</td>\n",
       "      <td>F</td>\n",
       "      <td>сотрудник</td>\n",
       "      <td>0</td>\n",
       "      <td>289202.704229</td>\n",
       "      <td>недвижимость</td>\n",
       "    </tr>\n",
       "    <tr>\n",
       "      <th>17</th>\n",
       "      <td>0</td>\n",
       "      <td>-2369.999720</td>\n",
       "      <td>33</td>\n",
       "      <td>высшее</td>\n",
       "      <td>0</td>\n",
       "      <td>гражданский брак</td>\n",
       "      <td>1</td>\n",
       "      <td>M</td>\n",
       "      <td>сотрудник</td>\n",
       "      <td>0</td>\n",
       "      <td>90410.586745</td>\n",
       "      <td>строительство недвижимости</td>\n",
       "    </tr>\n",
       "    <tr>\n",
       "      <th>18</th>\n",
       "      <td>0</td>\n",
       "      <td>400281.136913</td>\n",
       "      <td>53</td>\n",
       "      <td>среднее</td>\n",
       "      <td>1</td>\n",
       "      <td>вдовец / вдова</td>\n",
       "      <td>2</td>\n",
       "      <td>F</td>\n",
       "      <td>пенсионер</td>\n",
       "      <td>0</td>\n",
       "      <td>56823.777243</td>\n",
       "      <td>на покупку подержанного автомобиля</td>\n",
       "    </tr>\n",
       "    <tr>\n",
       "      <th>19</th>\n",
       "      <td>0</td>\n",
       "      <td>-10038.818549</td>\n",
       "      <td>48</td>\n",
       "      <td>СРЕДНЕЕ</td>\n",
       "      <td>1</td>\n",
       "      <td>в разводе</td>\n",
       "      <td>3</td>\n",
       "      <td>F</td>\n",
       "      <td>сотрудник</td>\n",
       "      <td>0</td>\n",
       "      <td>242831.107982</td>\n",
       "      <td>на покупку своего автомобиля</td>\n",
       "    </tr>\n",
       "  </tbody>\n",
       "</table>\n",
       "</div>"
      ],
      "text/plain": [
       "    children  days_employed  dob_years            education  education_id  \\\n",
       "0          1   -8437.673028         42               высшее             0   \n",
       "1          1   -4024.803754         36              среднее             1   \n",
       "2          0   -5623.422610         33              Среднее             1   \n",
       "3          3   -4124.747207         32              среднее             1   \n",
       "4          0  340266.072047         53              среднее             1   \n",
       "5          0    -926.185831         27               высшее             0   \n",
       "6          0   -2879.202052         43               высшее             0   \n",
       "7          0    -152.779569         50              СРЕДНЕЕ             1   \n",
       "8          2   -6929.865299         35               ВЫСШЕЕ             0   \n",
       "9          0   -2188.756445         41              среднее             1   \n",
       "10         2   -4171.483647         36               высшее             0   \n",
       "11         0    -792.701887         40              среднее             1   \n",
       "12         0            NaN         65              среднее             1   \n",
       "13         0   -1846.641941         54  неоконченное высшее             2   \n",
       "14         0   -1844.956182         56               высшее             0   \n",
       "15         1    -972.364419         26              среднее             1   \n",
       "16         0   -1719.934226         35              среднее             1   \n",
       "17         0   -2369.999720         33               высшее             0   \n",
       "18         0  400281.136913         53              среднее             1   \n",
       "19         0  -10038.818549         48              СРЕДНЕЕ             1   \n",
       "\n",
       "       family_status  family_status_id gender income_type  debt  \\\n",
       "0    женат / замужем                 0      F   сотрудник     0   \n",
       "1    женат / замужем                 0      F   сотрудник     0   \n",
       "2    женат / замужем                 0      M   сотрудник     0   \n",
       "3    женат / замужем                 0      M   сотрудник     0   \n",
       "4   гражданский брак                 1      F   пенсионер     0   \n",
       "5   гражданский брак                 1      M   компаньон     0   \n",
       "6    женат / замужем                 0      F   компаньон     0   \n",
       "7    женат / замужем                 0      M   сотрудник     0   \n",
       "8   гражданский брак                 1      F   сотрудник     0   \n",
       "9    женат / замужем                 0      M   сотрудник     0   \n",
       "10   женат / замужем                 0      M   компаньон     0   \n",
       "11   женат / замужем                 0      F   сотрудник     0   \n",
       "12  гражданский брак                 1      M   пенсионер     0   \n",
       "13   женат / замужем                 0      F   сотрудник     0   \n",
       "14  гражданский брак                 1      F   компаньон     1   \n",
       "15   женат / замужем                 0      F   сотрудник     0   \n",
       "16   женат / замужем                 0      F   сотрудник     0   \n",
       "17  гражданский брак                 1      M   сотрудник     0   \n",
       "18    вдовец / вдова                 2      F   пенсионер     0   \n",
       "19         в разводе                 3      F   сотрудник     0   \n",
       "\n",
       "     total_income                                 purpose  \n",
       "0   253875.639453                           покупка жилья  \n",
       "1   112080.014102                 приобретение автомобиля  \n",
       "2   145885.952297                           покупка жилья  \n",
       "3   267628.550329              дополнительное образование  \n",
       "4   158616.077870                         сыграть свадьбу  \n",
       "5   255763.565419                           покупка жилья  \n",
       "6   240525.971920                       операции с жильем  \n",
       "7   135823.934197                             образование  \n",
       "8    95856.832424                   на проведение свадьбы  \n",
       "9   144425.938277                 покупка жилья для семьи  \n",
       "10  113943.491460                    покупка недвижимости  \n",
       "11   77069.234271       покупка коммерческой недвижимости  \n",
       "12            NaN                         сыграть свадьбу  \n",
       "13  130458.228857                 приобретение автомобиля  \n",
       "14  165127.911772              покупка жилой недвижимости  \n",
       "15  116820.904450  строительство собственной недвижимости  \n",
       "16  289202.704229                            недвижимость  \n",
       "17   90410.586745              строительство недвижимости  \n",
       "18   56823.777243      на покупку подержанного автомобиля  \n",
       "19  242831.107982            на покупку своего автомобиля  "
      ]
     },
     "execution_count": 2,
     "metadata": {},
     "output_type": "execute_result"
    }
   ],
   "source": [
    "data.head(20)"
   ]
  },
  {
   "cell_type": "markdown",
   "id": "0ed8f27f",
   "metadata": {
    "deletable": false,
    "editable": false,
    "id": "0ed8f27f"
   },
   "source": [
    "**Задание 3. Выведите основную информацию о датафрейме с помощью метода `info()`.**"
   ]
  },
  {
   "cell_type": "code",
   "execution_count": 3,
   "id": "ab3f863b",
   "metadata": {
    "deletable": false,
    "id": "ab3f863b",
    "outputId": "15376089-8dad-46c9-b520-c05248d43158"
   },
   "outputs": [
    {
     "name": "stdout",
     "output_type": "stream",
     "text": [
      "<class 'pandas.core.frame.DataFrame'>\n",
      "RangeIndex: 21525 entries, 0 to 21524\n",
      "Data columns (total 12 columns):\n",
      " #   Column            Non-Null Count  Dtype  \n",
      "---  ------            --------------  -----  \n",
      " 0   children          21525 non-null  int64  \n",
      " 1   days_employed     19351 non-null  float64\n",
      " 2   dob_years         21525 non-null  int64  \n",
      " 3   education         21525 non-null  object \n",
      " 4   education_id      21525 non-null  int64  \n",
      " 5   family_status     21525 non-null  object \n",
      " 6   family_status_id  21525 non-null  int64  \n",
      " 7   gender            21525 non-null  object \n",
      " 8   income_type       21525 non-null  object \n",
      " 9   debt              21525 non-null  int64  \n",
      " 10  total_income      19351 non-null  float64\n",
      " 11  purpose           21525 non-null  object \n",
      "dtypes: float64(2), int64(5), object(5)\n",
      "memory usage: 2.0+ MB\n"
     ]
    }
   ],
   "source": [
    "data.info()"
   ]
  },
  {
   "cell_type": "markdown",
   "id": "60e3e22d",
   "metadata": {
    "deletable": false,
    "editable": false,
    "id": "60e3e22d"
   },
   "source": [
    "## Предобработка данных"
   ]
  },
  {
   "cell_type": "markdown",
   "id": "03dc170c",
   "metadata": {
    "deletable": false,
    "editable": false,
    "id": "03dc170c"
   },
   "source": [
    "### Удаление пропусков"
   ]
  },
  {
   "cell_type": "markdown",
   "id": "a4f54eef",
   "metadata": {
    "deletable": false,
    "editable": false,
    "id": "a4f54eef"
   },
   "source": [
    "**Задание 4. Выведите количество пропущенных значений для каждого столбца. Используйте комбинацию двух методов.**"
   ]
  },
  {
   "cell_type": "code",
   "execution_count": 4,
   "id": "2dc372b2",
   "metadata": {
    "deletable": false,
    "id": "2dc372b2",
    "outputId": "81f4d817-781c-465c-ed15-91ce4446810d"
   },
   "outputs": [
    {
     "data": {
      "text/plain": [
       "children               0\n",
       "days_employed       2174\n",
       "dob_years              0\n",
       "education              0\n",
       "education_id           0\n",
       "family_status          0\n",
       "family_status_id       0\n",
       "gender                 0\n",
       "income_type            0\n",
       "debt                   0\n",
       "total_income        2174\n",
       "purpose                0\n",
       "dtype: int64"
      ]
     },
     "execution_count": 4,
     "metadata": {},
     "output_type": "execute_result"
    }
   ],
   "source": [
    "data.isna().sum()"
   ]
  },
  {
   "cell_type": "markdown",
   "id": "14f011b1",
   "metadata": {
    "deletable": false,
    "editable": false,
    "id": "14f011b1"
   },
   "source": [
    "**Задание 5. В двух столбцах есть пропущенные значения. Один из них — `days_employed`. Пропуски в этом столбце вы обработаете на следующем этапе. Другой столбец с пропущенными значениями — `total_income` — хранит данные о доходах. На сумму дохода сильнее всего влияет тип занятости, поэтому заполнить пропуски в этом столбце нужно медианным значением по каждому типу из столбца `income_type`. Например, у человека с типом занятости `сотрудник` пропуск в столбце `total_income` должен быть заполнен медианным доходом среди всех записей с тем же типом.**"
   ]
  },
  {
   "cell_type": "code",
   "execution_count": 5,
   "id": "bdabfb6e",
   "metadata": {
    "deletable": false,
    "id": "bdabfb6e"
   },
   "outputs": [],
   "source": [
    "for t in data['income_type'].unique():\n",
    "    data.loc[(data['income_type'] == t) & (data['total_income'].isna()), 'total_income'] = \\\n",
    "    data.loc[(data['income_type'] == t), 'total_income'].median()"
   ]
  },
  {
   "cell_type": "markdown",
   "id": "5be34059",
   "metadata": {
    "deletable": false,
    "editable": false,
    "id": "5be34059"
   },
   "source": [
    "### Обработка аномальных значений"
   ]
  },
  {
   "cell_type": "markdown",
   "id": "a87606cb",
   "metadata": {
    "deletable": false,
    "editable": false,
    "id": "a87606cb"
   },
   "source": [
    "**Задание 6. В данных могут встречаться артефакты (аномалии) — значения, которые не отражают действительность и появились по какой-то ошибке. таким артефактом будет отрицательное количество дней трудового стажа в столбце `days_employed`. Для реальных данных это нормально. Обработайте значения в этом столбце: замените все отрицательные значения положительными с помощью метода `abs()`.**"
   ]
  },
  {
   "cell_type": "code",
   "execution_count": 6,
   "id": "020c46cc",
   "metadata": {
    "deletable": false,
    "id": "020c46cc"
   },
   "outputs": [],
   "source": [
    "data['days_employed'] = data['days_employed'].abs()"
   ]
  },
  {
   "cell_type": "markdown",
   "id": "45538a3a",
   "metadata": {
    "deletable": false,
    "editable": false,
    "id": "45538a3a"
   },
   "source": [
    "**Задание 7. Для каждого типа занятости выведите медианное значение трудового стажа `days_employed` в днях.**"
   ]
  },
  {
   "cell_type": "code",
   "execution_count": 7,
   "id": "cd3e6328",
   "metadata": {
    "deletable": false,
    "id": "cd3e6328",
    "outputId": "801ef80e-522b-4668-f34e-565af7432bcf"
   },
   "outputs": [
    {
     "data": {
      "text/plain": [
       "income_type\n",
       "безработный        366413.652744\n",
       "в декрете            3296.759962\n",
       "госслужащий          2689.368353\n",
       "компаньон            1547.382223\n",
       "пенсионер          365213.306266\n",
       "предприниматель       520.848083\n",
       "сотрудник            1574.202821\n",
       "студент               578.751554\n",
       "Name: days_employed, dtype: float64"
      ]
     },
     "execution_count": 7,
     "metadata": {},
     "output_type": "execute_result"
    }
   ],
   "source": [
    "data.groupby('income_type')['days_employed'].agg('median')"
   ]
  },
  {
   "cell_type": "markdown",
   "id": "90c5f058",
   "metadata": {
    "deletable": false,
    "editable": false,
    "id": "90c5f058"
   },
   "source": [
    "У двух типов (безработные и пенсионеры) получатся аномально большие значения. Исправить такие значения сложно, поэтому оставьте их как есть."
   ]
  },
  {
   "cell_type": "markdown",
   "id": "9652e50d",
   "metadata": {
    "deletable": false,
    "editable": false,
    "id": "9652e50d"
   },
   "source": [
    "**Задание 8. Выведите перечень уникальных значений столбца `children`.**"
   ]
  },
  {
   "cell_type": "code",
   "execution_count": 8,
   "id": "dbb37b8e",
   "metadata": {
    "deletable": false,
    "id": "dbb37b8e",
    "outputId": "6975b15c-7f95-4697-d16d-a0c79b657b03"
   },
   "outputs": [
    {
     "data": {
      "text/plain": [
       "array([ 1,  0,  3,  2, -1,  4, 20,  5])"
      ]
     },
     "execution_count": 8,
     "metadata": {},
     "output_type": "execute_result"
    }
   ],
   "source": [
    "data['children'].unique()"
   ]
  },
  {
   "cell_type": "markdown",
   "id": "2b8b0715",
   "metadata": {
    "deletable": false,
    "editable": false,
    "id": "2b8b0715"
   },
   "source": [
    "**Задание 9. В столбце `children` есть два аномальных значения. Удалите строки, в которых встречаются такие аномальные значения из датафрейма `data`.**"
   ]
  },
  {
   "cell_type": "code",
   "execution_count": 9,
   "id": "20009df8",
   "metadata": {
    "deletable": false,
    "id": "20009df8"
   },
   "outputs": [],
   "source": [
    "data = data[(data['children'] != -1) & (data['children'] != 20)]"
   ]
  },
  {
   "cell_type": "markdown",
   "id": "8c6ac9f1",
   "metadata": {
    "deletable": false,
    "editable": false,
    "id": "8c6ac9f1"
   },
   "source": [
    "**Задание 10. Ещё раз выведите перечень уникальных значений столбца `children`, чтобы убедиться, что артефакты удалены.**"
   ]
  },
  {
   "cell_type": "code",
   "execution_count": 10,
   "id": "07337b81",
   "metadata": {
    "deletable": false,
    "id": "07337b81",
    "outputId": "b2097101-d49d-44d9-901b-32a65c9463d1"
   },
   "outputs": [
    {
     "data": {
      "text/plain": [
       "array([1, 0, 3, 2, 4, 5])"
      ]
     },
     "execution_count": 10,
     "metadata": {},
     "output_type": "execute_result"
    }
   ],
   "source": [
    "data['children'].unique()"
   ]
  },
  {
   "cell_type": "markdown",
   "id": "ee3f52d4",
   "metadata": {
    "deletable": false,
    "editable": false,
    "id": "ee3f52d4"
   },
   "source": [
    "### Удаление пропусков (продолжение)"
   ]
  },
  {
   "cell_type": "markdown",
   "id": "a700b0e4",
   "metadata": {
    "deletable": false,
    "editable": false,
    "id": "a700b0e4"
   },
   "source": [
    "**Задание 11. Заполните пропуски в столбце `days_employed` медианными значениями по каждого типа занятости `income_type`.**"
   ]
  },
  {
   "cell_type": "code",
   "execution_count": 11,
   "id": "61946b83",
   "metadata": {
    "deletable": false,
    "id": "61946b83"
   },
   "outputs": [],
   "source": [
    "for t in data['income_type'].unique():\n",
    "    data.loc[(data['income_type'] == t) & (data['days_employed'].isna()), 'days_employed'] = \\\n",
    "    data.loc[(data['income_type'] == t), 'days_employed'].median()"
   ]
  },
  {
   "cell_type": "markdown",
   "id": "550dcd9b",
   "metadata": {
    "deletable": false,
    "editable": false,
    "id": "550dcd9b"
   },
   "source": [
    "**Задание 12. Убедитесь, что все пропуски заполнены. Проверьте себя и ещё раз выведите количество пропущенных значений для каждого столбца с помощью двух методов.**"
   ]
  },
  {
   "cell_type": "code",
   "execution_count": 12,
   "id": "937c7014",
   "metadata": {
    "deletable": false,
    "id": "937c7014",
    "outputId": "8da1e4e1-358e-4e87-98c9-f261bce0a7b2"
   },
   "outputs": [
    {
     "data": {
      "text/plain": [
       "children            0\n",
       "days_employed       0\n",
       "dob_years           0\n",
       "education           0\n",
       "education_id        0\n",
       "family_status       0\n",
       "family_status_id    0\n",
       "gender              0\n",
       "income_type         0\n",
       "debt                0\n",
       "total_income        0\n",
       "purpose             0\n",
       "dtype: int64"
      ]
     },
     "execution_count": 12,
     "metadata": {},
     "output_type": "execute_result"
    }
   ],
   "source": [
    "data.isna().sum()"
   ]
  },
  {
   "cell_type": "markdown",
   "id": "d522e295",
   "metadata": {
    "deletable": false,
    "editable": false,
    "id": "d522e295"
   },
   "source": [
    "### Изменение типов данных"
   ]
  },
  {
   "cell_type": "markdown",
   "id": "c229c581",
   "metadata": {
    "deletable": false,
    "editable": false,
    "id": "c229c581"
   },
   "source": [
    "**Задание 13. Замените вещественный тип данных в столбце `total_income` на целочисленный с помощью метода `astype()`.**"
   ]
  },
  {
   "cell_type": "code",
   "execution_count": 13,
   "id": "31036462",
   "metadata": {
    "deletable": false,
    "id": "31036462"
   },
   "outputs": [],
   "source": [
    "data['total_income'] = data['total_income'].astype(int)"
   ]
  },
  {
   "cell_type": "markdown",
   "id": "b8e3d1d9",
   "metadata": {
    "deletable": false,
    "editable": false,
    "id": "b8e3d1d9"
   },
   "source": [
    "### Обработка дубликатов"
   ]
  },
  {
   "cell_type": "markdown",
   "id": "9be53c49",
   "metadata": {
    "deletable": false,
    "editable": false,
    "id": "9be53c49"
   },
   "source": [
    "**Задание 14. Обработайте неявные дубликаты в столбце `education`. В этом столбце есть одни и те же значения, но записанные по-разному: с использованием заглавных и строчных букв. Приведите их к нижнему регистру.**"
   ]
  },
  {
   "cell_type": "code",
   "execution_count": 14,
   "id": "d89e73e1",
   "metadata": {
    "deletable": false,
    "id": "d89e73e1"
   },
   "outputs": [],
   "source": [
    "data['education'] = data['education'].str.lower()"
   ]
  },
  {
   "cell_type": "markdown",
   "id": "01d4500e",
   "metadata": {
    "deletable": false,
    "editable": false,
    "id": "01d4500e"
   },
   "source": [
    "**Задание 15. Выведите на экран количество строк-дубликатов в данных. Если такие строки присутствуют, удалите их.**"
   ]
  },
  {
   "cell_type": "code",
   "execution_count": 15,
   "id": "e10efb23",
   "metadata": {
    "deletable": false,
    "id": "e10efb23",
    "outputId": "9684deba-1934-42d1-99e1-cda61740f822"
   },
   "outputs": [
    {
     "data": {
      "text/plain": [
       "71"
      ]
     },
     "execution_count": 15,
     "metadata": {},
     "output_type": "execute_result"
    }
   ],
   "source": [
    "data.duplicated().sum()"
   ]
  },
  {
   "cell_type": "code",
   "execution_count": 16,
   "id": "df853f20",
   "metadata": {
    "deletable": false,
    "id": "df853f20"
   },
   "outputs": [],
   "source": [
    "data = data.drop_duplicates()"
   ]
  },
  {
   "cell_type": "markdown",
   "id": "627be38f",
   "metadata": {
    "deletable": false,
    "editable": false,
    "id": "627be38f"
   },
   "source": [
    "### Категоризация данных"
   ]
  },
  {
   "cell_type": "markdown",
   "id": "4684c3e0",
   "metadata": {
    "deletable": false,
    "editable": false,
    "id": "4684c3e0"
   },
   "source": [
    "**Задание 16. На основании диапазонов, указанных ниже, создайте в датафрейме `data` столбец `total_income_category` с категориями:**\n",
    "\n",
    "- 0–30000 — `'E'`;\n",
    "- 30001–50000 — `'D'`;\n",
    "- 50001–200000 — `'C'`;\n",
    "- 200001–1000000 — `'B'`;\n",
    "- 1000001 и выше — `'A'`.\n",
    "\n",
    "\n",
    "**Например, кредитополучателю с доходом 25000 нужно назначить категорию `'E'`, а клиенту, получающему 235000, — `'B'`. Используйте собственную функцию с именем `categorize_income()` и метод `apply()`.**"
   ]
  },
  {
   "cell_type": "code",
   "execution_count": 17,
   "id": "78965238",
   "metadata": {
    "deletable": false,
    "id": "78965238"
   },
   "outputs": [],
   "source": [
    "def categorize_income(income):\n",
    "    try:\n",
    "        if 0 <= income <= 30000:\n",
    "            return 'E'\n",
    "        elif 30001 <= income <= 50000:\n",
    "            return 'D'\n",
    "        elif 50001 <= income <= 200000:\n",
    "            return 'C'\n",
    "        elif 200001 <= income <= 1000000:\n",
    "            return 'B'\n",
    "        elif income >= 1000001:\n",
    "            return 'A'\n",
    "    except:\n",
    "        pass"
   ]
  },
  {
   "cell_type": "code",
   "execution_count": 18,
   "id": "0980ada1",
   "metadata": {
    "deletable": false,
    "id": "0980ada1"
   },
   "outputs": [],
   "source": [
    "data['total_income_category'] = data['total_income'].apply(categorize_income)"
   ]
  },
  {
   "cell_type": "markdown",
   "id": "9917bba0",
   "metadata": {
    "deletable": false,
    "editable": false,
    "id": "9917bba0"
   },
   "source": [
    "**Задание 17. Выведите на экран перечень уникальных целей взятия кредита из столбца `purpose`.**"
   ]
  },
  {
   "cell_type": "code",
   "execution_count": 19,
   "id": "ee07b65e",
   "metadata": {
    "deletable": false,
    "id": "ee07b65e",
    "outputId": "673c12d9-7d7e-4ae0-9812-c622c89dd244"
   },
   "outputs": [
    {
     "data": {
      "text/plain": [
       "array(['покупка жилья', 'приобретение автомобиля',\n",
       "       'дополнительное образование', 'сыграть свадьбу',\n",
       "       'операции с жильем', 'образование', 'на проведение свадьбы',\n",
       "       'покупка жилья для семьи', 'покупка недвижимости',\n",
       "       'покупка коммерческой недвижимости', 'покупка жилой недвижимости',\n",
       "       'строительство собственной недвижимости', 'недвижимость',\n",
       "       'строительство недвижимости', 'на покупку подержанного автомобиля',\n",
       "       'на покупку своего автомобиля',\n",
       "       'операции с коммерческой недвижимостью',\n",
       "       'строительство жилой недвижимости', 'жилье',\n",
       "       'операции со своей недвижимостью', 'автомобили',\n",
       "       'заняться образованием', 'сделка с подержанным автомобилем',\n",
       "       'получение образования', 'автомобиль', 'свадьба',\n",
       "       'получение дополнительного образования', 'покупка своего жилья',\n",
       "       'операции с недвижимостью', 'получение высшего образования',\n",
       "       'свой автомобиль', 'сделка с автомобилем',\n",
       "       'профильное образование', 'высшее образование',\n",
       "       'покупка жилья для сдачи', 'на покупку автомобиля', 'ремонт жилью',\n",
       "       'заняться высшим образованием'], dtype=object)"
      ]
     },
     "execution_count": 19,
     "metadata": {},
     "output_type": "execute_result"
    }
   ],
   "source": [
    "data['purpose'].unique()"
   ]
  },
  {
   "cell_type": "markdown",
   "id": "52b79d56",
   "metadata": {
    "deletable": false,
    "editable": false,
    "id": "52b79d56"
   },
   "source": [
    "**Задание 18. Создайте функцию, которая на основании данных из столбца `purpose` сформирует новый столбец `purpose_category`, в который войдут следующие категории:**\n",
    "\n",
    "- `'операции с автомобилем'`,\n",
    "- `'операции с недвижимостью'`,\n",
    "- `'проведение свадьбы'`,\n",
    "- `'получение образования'`.\n",
    "\n",
    "**Например, если в столбце `purpose` находится подстрока `'на покупку автомобиля'`, то в столбце `purpose_category` должна появиться строка `'операции с автомобилем'`.**\n",
    "\n",
    "**Используйте собственную функцию с именем `categorize_purpose()` и метод `apply()`. Изучите данные в столбце `purpose` и определите, какие подстроки помогут вам правильно определить категорию.**"
   ]
  },
  {
   "cell_type": "code",
   "execution_count": 20,
   "id": "be41da5d",
   "metadata": {
    "deletable": false,
    "id": "be41da5d"
   },
   "outputs": [],
   "source": [
    "def categorize_purpose(row):\n",
    "    try:\n",
    "        if 'автом' in row:\n",
    "            return 'операции с автомобилем'\n",
    "        elif 'жил' in row or 'недвиж' in row:\n",
    "            return 'операции с недвижимостью'\n",
    "        elif 'свад' in row:\n",
    "            return 'проведение свадьбы'\n",
    "        elif 'образов' in row:\n",
    "            return 'получение образования'\n",
    "    except:\n",
    "        return 'нет категории'"
   ]
  },
  {
   "cell_type": "code",
   "execution_count": 21,
   "id": "94c4a19a",
   "metadata": {
    "deletable": false,
    "id": "94c4a19a"
   },
   "outputs": [
    {
     "data": {
      "text/html": [
       "<div>\n",
       "<style scoped>\n",
       "    .dataframe tbody tr th:only-of-type {\n",
       "        vertical-align: middle;\n",
       "    }\n",
       "\n",
       "    .dataframe tbody tr th {\n",
       "        vertical-align: top;\n",
       "    }\n",
       "\n",
       "    .dataframe thead th {\n",
       "        text-align: right;\n",
       "    }\n",
       "</style>\n",
       "<table border=\"1\" class=\"dataframe\">\n",
       "  <thead>\n",
       "    <tr style=\"text-align: right;\">\n",
       "      <th></th>\n",
       "      <th>children</th>\n",
       "      <th>days_employed</th>\n",
       "      <th>dob_years</th>\n",
       "      <th>education</th>\n",
       "      <th>education_id</th>\n",
       "      <th>family_status</th>\n",
       "      <th>family_status_id</th>\n",
       "      <th>gender</th>\n",
       "      <th>income_type</th>\n",
       "      <th>debt</th>\n",
       "      <th>total_income</th>\n",
       "      <th>purpose</th>\n",
       "      <th>total_income_category</th>\n",
       "      <th>purpose_category</th>\n",
       "    </tr>\n",
       "  </thead>\n",
       "  <tbody>\n",
       "    <tr>\n",
       "      <th>0</th>\n",
       "      <td>1</td>\n",
       "      <td>8437.673028</td>\n",
       "      <td>42</td>\n",
       "      <td>высшее</td>\n",
       "      <td>0</td>\n",
       "      <td>женат / замужем</td>\n",
       "      <td>0</td>\n",
       "      <td>F</td>\n",
       "      <td>сотрудник</td>\n",
       "      <td>0</td>\n",
       "      <td>253875</td>\n",
       "      <td>покупка жилья</td>\n",
       "      <td>B</td>\n",
       "      <td>операции с недвижимостью</td>\n",
       "    </tr>\n",
       "    <tr>\n",
       "      <th>1</th>\n",
       "      <td>1</td>\n",
       "      <td>4024.803754</td>\n",
       "      <td>36</td>\n",
       "      <td>среднее</td>\n",
       "      <td>1</td>\n",
       "      <td>женат / замужем</td>\n",
       "      <td>0</td>\n",
       "      <td>F</td>\n",
       "      <td>сотрудник</td>\n",
       "      <td>0</td>\n",
       "      <td>112080</td>\n",
       "      <td>приобретение автомобиля</td>\n",
       "      <td>C</td>\n",
       "      <td>операции с автомобилем</td>\n",
       "    </tr>\n",
       "    <tr>\n",
       "      <th>2</th>\n",
       "      <td>0</td>\n",
       "      <td>5623.422610</td>\n",
       "      <td>33</td>\n",
       "      <td>среднее</td>\n",
       "      <td>1</td>\n",
       "      <td>женат / замужем</td>\n",
       "      <td>0</td>\n",
       "      <td>M</td>\n",
       "      <td>сотрудник</td>\n",
       "      <td>0</td>\n",
       "      <td>145885</td>\n",
       "      <td>покупка жилья</td>\n",
       "      <td>C</td>\n",
       "      <td>операции с недвижимостью</td>\n",
       "    </tr>\n",
       "    <tr>\n",
       "      <th>3</th>\n",
       "      <td>3</td>\n",
       "      <td>4124.747207</td>\n",
       "      <td>32</td>\n",
       "      <td>среднее</td>\n",
       "      <td>1</td>\n",
       "      <td>женат / замужем</td>\n",
       "      <td>0</td>\n",
       "      <td>M</td>\n",
       "      <td>сотрудник</td>\n",
       "      <td>0</td>\n",
       "      <td>267628</td>\n",
       "      <td>дополнительное образование</td>\n",
       "      <td>B</td>\n",
       "      <td>получение образования</td>\n",
       "    </tr>\n",
       "    <tr>\n",
       "      <th>4</th>\n",
       "      <td>0</td>\n",
       "      <td>340266.072047</td>\n",
       "      <td>53</td>\n",
       "      <td>среднее</td>\n",
       "      <td>1</td>\n",
       "      <td>гражданский брак</td>\n",
       "      <td>1</td>\n",
       "      <td>F</td>\n",
       "      <td>пенсионер</td>\n",
       "      <td>0</td>\n",
       "      <td>158616</td>\n",
       "      <td>сыграть свадьбу</td>\n",
       "      <td>C</td>\n",
       "      <td>проведение свадьбы</td>\n",
       "    </tr>\n",
       "    <tr>\n",
       "      <th>...</th>\n",
       "      <td>...</td>\n",
       "      <td>...</td>\n",
       "      <td>...</td>\n",
       "      <td>...</td>\n",
       "      <td>...</td>\n",
       "      <td>...</td>\n",
       "      <td>...</td>\n",
       "      <td>...</td>\n",
       "      <td>...</td>\n",
       "      <td>...</td>\n",
       "      <td>...</td>\n",
       "      <td>...</td>\n",
       "      <td>...</td>\n",
       "      <td>...</td>\n",
       "    </tr>\n",
       "    <tr>\n",
       "      <th>21520</th>\n",
       "      <td>1</td>\n",
       "      <td>4529.316663</td>\n",
       "      <td>43</td>\n",
       "      <td>среднее</td>\n",
       "      <td>1</td>\n",
       "      <td>гражданский брак</td>\n",
       "      <td>1</td>\n",
       "      <td>F</td>\n",
       "      <td>компаньон</td>\n",
       "      <td>0</td>\n",
       "      <td>224791</td>\n",
       "      <td>операции с жильем</td>\n",
       "      <td>B</td>\n",
       "      <td>операции с недвижимостью</td>\n",
       "    </tr>\n",
       "    <tr>\n",
       "      <th>21521</th>\n",
       "      <td>0</td>\n",
       "      <td>343937.404131</td>\n",
       "      <td>67</td>\n",
       "      <td>среднее</td>\n",
       "      <td>1</td>\n",
       "      <td>женат / замужем</td>\n",
       "      <td>0</td>\n",
       "      <td>F</td>\n",
       "      <td>пенсионер</td>\n",
       "      <td>0</td>\n",
       "      <td>155999</td>\n",
       "      <td>сделка с автомобилем</td>\n",
       "      <td>C</td>\n",
       "      <td>операции с автомобилем</td>\n",
       "    </tr>\n",
       "    <tr>\n",
       "      <th>21522</th>\n",
       "      <td>1</td>\n",
       "      <td>2113.346888</td>\n",
       "      <td>38</td>\n",
       "      <td>среднее</td>\n",
       "      <td>1</td>\n",
       "      <td>гражданский брак</td>\n",
       "      <td>1</td>\n",
       "      <td>M</td>\n",
       "      <td>сотрудник</td>\n",
       "      <td>1</td>\n",
       "      <td>89672</td>\n",
       "      <td>недвижимость</td>\n",
       "      <td>C</td>\n",
       "      <td>операции с недвижимостью</td>\n",
       "    </tr>\n",
       "    <tr>\n",
       "      <th>21523</th>\n",
       "      <td>3</td>\n",
       "      <td>3112.481705</td>\n",
       "      <td>38</td>\n",
       "      <td>среднее</td>\n",
       "      <td>1</td>\n",
       "      <td>женат / замужем</td>\n",
       "      <td>0</td>\n",
       "      <td>M</td>\n",
       "      <td>сотрудник</td>\n",
       "      <td>1</td>\n",
       "      <td>244093</td>\n",
       "      <td>на покупку своего автомобиля</td>\n",
       "      <td>B</td>\n",
       "      <td>операции с автомобилем</td>\n",
       "    </tr>\n",
       "    <tr>\n",
       "      <th>21524</th>\n",
       "      <td>2</td>\n",
       "      <td>1984.507589</td>\n",
       "      <td>40</td>\n",
       "      <td>среднее</td>\n",
       "      <td>1</td>\n",
       "      <td>женат / замужем</td>\n",
       "      <td>0</td>\n",
       "      <td>F</td>\n",
       "      <td>сотрудник</td>\n",
       "      <td>0</td>\n",
       "      <td>82047</td>\n",
       "      <td>на покупку автомобиля</td>\n",
       "      <td>C</td>\n",
       "      <td>операции с автомобилем</td>\n",
       "    </tr>\n",
       "  </tbody>\n",
       "</table>\n",
       "<p>21331 rows × 14 columns</p>\n",
       "</div>"
      ],
      "text/plain": [
       "       children  days_employed  dob_years education  education_id  \\\n",
       "0             1    8437.673028         42    высшее             0   \n",
       "1             1    4024.803754         36   среднее             1   \n",
       "2             0    5623.422610         33   среднее             1   \n",
       "3             3    4124.747207         32   среднее             1   \n",
       "4             0  340266.072047         53   среднее             1   \n",
       "...         ...            ...        ...       ...           ...   \n",
       "21520         1    4529.316663         43   среднее             1   \n",
       "21521         0  343937.404131         67   среднее             1   \n",
       "21522         1    2113.346888         38   среднее             1   \n",
       "21523         3    3112.481705         38   среднее             1   \n",
       "21524         2    1984.507589         40   среднее             1   \n",
       "\n",
       "          family_status  family_status_id gender income_type  debt  \\\n",
       "0       женат / замужем                 0      F   сотрудник     0   \n",
       "1       женат / замужем                 0      F   сотрудник     0   \n",
       "2       женат / замужем                 0      M   сотрудник     0   \n",
       "3       женат / замужем                 0      M   сотрудник     0   \n",
       "4      гражданский брак                 1      F   пенсионер     0   \n",
       "...                 ...               ...    ...         ...   ...   \n",
       "21520  гражданский брак                 1      F   компаньон     0   \n",
       "21521   женат / замужем                 0      F   пенсионер     0   \n",
       "21522  гражданский брак                 1      M   сотрудник     1   \n",
       "21523   женат / замужем                 0      M   сотрудник     1   \n",
       "21524   женат / замужем                 0      F   сотрудник     0   \n",
       "\n",
       "       total_income                       purpose total_income_category  \\\n",
       "0            253875                 покупка жилья                     B   \n",
       "1            112080       приобретение автомобиля                     C   \n",
       "2            145885                 покупка жилья                     C   \n",
       "3            267628    дополнительное образование                     B   \n",
       "4            158616               сыграть свадьбу                     C   \n",
       "...             ...                           ...                   ...   \n",
       "21520        224791             операции с жильем                     B   \n",
       "21521        155999          сделка с автомобилем                     C   \n",
       "21522         89672                  недвижимость                     C   \n",
       "21523        244093  на покупку своего автомобиля                     B   \n",
       "21524         82047         на покупку автомобиля                     C   \n",
       "\n",
       "               purpose_category  \n",
       "0      операции с недвижимостью  \n",
       "1        операции с автомобилем  \n",
       "2      операции с недвижимостью  \n",
       "3         получение образования  \n",
       "4            проведение свадьбы  \n",
       "...                         ...  \n",
       "21520  операции с недвижимостью  \n",
       "21521    операции с автомобилем  \n",
       "21522  операции с недвижимостью  \n",
       "21523    операции с автомобилем  \n",
       "21524    операции с автомобилем  \n",
       "\n",
       "[21331 rows x 14 columns]"
      ]
     },
     "execution_count": 21,
     "metadata": {},
     "output_type": "execute_result"
    }
   ],
   "source": [
    "data['purpose_category'] = data['purpose'].apply(categorize_purpose)\n",
    "data"
   ]
  },
  {
   "cell_type": "markdown",
   "id": "3d596c34",
   "metadata": {
    "deletable": false,
    "editable": false,
    "id": "3d596c34"
   },
   "source": [
    "### Шаг 3. Исследуйте данные и ответьте на вопросы"
   ]
  },
  {
   "cell_type": "markdown",
   "id": "648db036",
   "metadata": {
    "deletable": false,
    "editable": false,
    "id": "648db036"
   },
   "source": [
    "#### 3.1 Есть ли зависимость между количеством детей и возвратом кредита в срок?"
   ]
  },
  {
   "cell_type": "code",
   "execution_count": 22,
   "id": "7fcff25e",
   "metadata": {
    "deletable": false,
    "id": "7fcff25e",
    "scrolled": false
   },
   "outputs": [
    {
     "data": {
      "text/html": [
       "<div>\n",
       "<style scoped>\n",
       "    .dataframe tbody tr th:only-of-type {\n",
       "        vertical-align: middle;\n",
       "    }\n",
       "\n",
       "    .dataframe tbody tr th {\n",
       "        vertical-align: top;\n",
       "    }\n",
       "\n",
       "    .dataframe thead th {\n",
       "        text-align: right;\n",
       "    }\n",
       "</style>\n",
       "<table border=\"1\" class=\"dataframe\">\n",
       "  <thead>\n",
       "    <tr style=\"text-align: right;\">\n",
       "      <th></th>\n",
       "      <th>sum_children</th>\n",
       "      <th>count_children</th>\n",
       "      <th>%</th>\n",
       "    </tr>\n",
       "    <tr>\n",
       "      <th>children</th>\n",
       "      <th></th>\n",
       "      <th></th>\n",
       "      <th></th>\n",
       "    </tr>\n",
       "  </thead>\n",
       "  <tbody>\n",
       "    <tr>\n",
       "      <th>4</th>\n",
       "      <td>4</td>\n",
       "      <td>41</td>\n",
       "      <td>9.756098</td>\n",
       "    </tr>\n",
       "    <tr>\n",
       "      <th>2</th>\n",
       "      <td>194</td>\n",
       "      <td>2052</td>\n",
       "      <td>9.454191</td>\n",
       "    </tr>\n",
       "    <tr>\n",
       "      <th>1</th>\n",
       "      <td>444</td>\n",
       "      <td>4808</td>\n",
       "      <td>9.234609</td>\n",
       "    </tr>\n",
       "    <tr>\n",
       "      <th>3</th>\n",
       "      <td>27</td>\n",
       "      <td>330</td>\n",
       "      <td>8.181818</td>\n",
       "    </tr>\n",
       "    <tr>\n",
       "      <th>0</th>\n",
       "      <td>1063</td>\n",
       "      <td>14091</td>\n",
       "      <td>7.543822</td>\n",
       "    </tr>\n",
       "    <tr>\n",
       "      <th>5</th>\n",
       "      <td>0</td>\n",
       "      <td>9</td>\n",
       "      <td>0.000000</td>\n",
       "    </tr>\n",
       "  </tbody>\n",
       "</table>\n",
       "</div>"
      ],
      "text/plain": [
       "          sum_children  count_children         %\n",
       "children                                        \n",
       "4                    4              41  9.756098\n",
       "2                  194            2052  9.454191\n",
       "1                  444            4808  9.234609\n",
       "3                   27             330  8.181818\n",
       "0                 1063           14091  7.543822\n",
       "5                    0               9  0.000000"
      ]
     },
     "execution_count": 22,
     "metadata": {},
     "output_type": "execute_result"
    }
   ],
   "source": [
    "data_children_debt = pd.DataFrame()\n",
    "data_children_debt['sum_children'] = data.groupby('children')['debt'].sum()\n",
    "data_children_debt['count_children'] = data.groupby('children')['debt'].count()\n",
    "data_children_debt['%'] = (data_children_debt['sum_children'] / data_children_debt['count_children'])*100 \n",
    "data_children_debt.sort_values('%', ascending = False)"
   ]
  },
  {
   "cell_type": "markdown",
   "id": "2eb9088e",
   "metadata": {
    "deletable": false,
    "id": "2eb9088e"
   },
   "source": [
    "**Вывод: Из полученных данных видим, что категория \"Бездетные\" чаще оплачивает кредит в срок (7.54% просрочек), нежели категории с детьми (8.18% и выше). В группе \"5 детей\" мы видим, что количетсво просрочек равно 0. Было бы ошибочно делать вывод, что такие семьи платят без задержек, так как мы видим, что семьи с детьми чаще имеют просрочки.** "
   ]
  },
  {
   "cell_type": "markdown",
   "id": "74c9b3a7",
   "metadata": {
    "deletable": false,
    "editable": false,
    "id": "74c9b3a7"
   },
   "source": [
    "#### 3.2 Есть ли зависимость между семейным положением и возвратом кредита в срок?"
   ]
  },
  {
   "cell_type": "code",
   "execution_count": 23,
   "id": "8098ab3b",
   "metadata": {
    "deletable": false,
    "id": "8098ab3b",
    "scrolled": true
   },
   "outputs": [
    {
     "data": {
      "text/html": [
       "<div>\n",
       "<style scoped>\n",
       "    .dataframe tbody tr th:only-of-type {\n",
       "        vertical-align: middle;\n",
       "    }\n",
       "\n",
       "    .dataframe tbody tr th {\n",
       "        vertical-align: top;\n",
       "    }\n",
       "\n",
       "    .dataframe thead th {\n",
       "        text-align: right;\n",
       "    }\n",
       "</style>\n",
       "<table border=\"1\" class=\"dataframe\">\n",
       "  <thead>\n",
       "    <tr style=\"text-align: right;\">\n",
       "      <th></th>\n",
       "      <th>sum_family_status</th>\n",
       "      <th>count_family_status</th>\n",
       "      <th>%</th>\n",
       "    </tr>\n",
       "    <tr>\n",
       "      <th>family_status</th>\n",
       "      <th></th>\n",
       "      <th></th>\n",
       "      <th></th>\n",
       "    </tr>\n",
       "  </thead>\n",
       "  <tbody>\n",
       "    <tr>\n",
       "      <th>Не женат / не замужем</th>\n",
       "      <td>273</td>\n",
       "      <td>2796</td>\n",
       "      <td>9.763948</td>\n",
       "    </tr>\n",
       "    <tr>\n",
       "      <th>гражданский брак</th>\n",
       "      <td>385</td>\n",
       "      <td>4134</td>\n",
       "      <td>9.313014</td>\n",
       "    </tr>\n",
       "    <tr>\n",
       "      <th>женат / замужем</th>\n",
       "      <td>927</td>\n",
       "      <td>12261</td>\n",
       "      <td>7.560558</td>\n",
       "    </tr>\n",
       "    <tr>\n",
       "      <th>в разводе</th>\n",
       "      <td>84</td>\n",
       "      <td>1189</td>\n",
       "      <td>7.064760</td>\n",
       "    </tr>\n",
       "    <tr>\n",
       "      <th>вдовец / вдова</th>\n",
       "      <td>63</td>\n",
       "      <td>951</td>\n",
       "      <td>6.624606</td>\n",
       "    </tr>\n",
       "  </tbody>\n",
       "</table>\n",
       "</div>"
      ],
      "text/plain": [
       "                       sum_family_status  count_family_status         %\n",
       "family_status                                                          \n",
       "Не женат / не замужем                273                 2796  9.763948\n",
       "гражданский брак                     385                 4134  9.313014\n",
       "женат / замужем                      927                12261  7.560558\n",
       "в разводе                             84                 1189  7.064760\n",
       "вдовец / вдова                        63                  951  6.624606"
      ]
     },
     "execution_count": 23,
     "metadata": {},
     "output_type": "execute_result"
    }
   ],
   "source": [
    "data_family_status_debt = pd.DataFrame()\n",
    "data_family_status_debt['sum_family_status'] = data.groupby('family_status')['debt'].sum()\n",
    "data_family_status_debt['count_family_status'] = data.groupby('family_status')['debt'].count()\n",
    "data_family_status_debt['%'] = (data_family_status_debt['sum_family_status'] / data_family_status_debt['count_family_status'])*100 \n",
    "data_family_status_debt.sort_values('%', ascending = False)"
   ]
  },
  {
   "cell_type": "markdown",
   "id": "c389ca63",
   "metadata": {
    "deletable": false,
    "id": "c389ca63"
   },
   "source": [
    "**Вывод: Из полученных данных видим, что люди со статусом \"Не женат / не замужем\" и \"В гражданском браке\" менее ответсвенны и чаще задерживают оплату по кредиту, относительно людей, состоящих/бывших в браке. Интересная зависимость, так как часто люди в браке имеют детей. А из прошлого наблюдения мы заметили, что бездетные лучше платят, чем с детьми.** "
   ]
  },
  {
   "cell_type": "code",
   "execution_count": 24,
   "id": "712ad864",
   "metadata": {
    "scrolled": true
   },
   "outputs": [
    {
     "data": {
      "text/html": [
       "<div>\n",
       "<style scoped>\n",
       "    .dataframe tbody tr th:only-of-type {\n",
       "        vertical-align: middle;\n",
       "    }\n",
       "\n",
       "    .dataframe tbody tr th {\n",
       "        vertical-align: top;\n",
       "    }\n",
       "\n",
       "    .dataframe thead th {\n",
       "        text-align: right;\n",
       "    }\n",
       "</style>\n",
       "<table border=\"1\" class=\"dataframe\">\n",
       "  <thead>\n",
       "    <tr style=\"text-align: right;\">\n",
       "      <th></th>\n",
       "      <th>children</th>\n",
       "      <th>family_status</th>\n",
       "      <th>children_status</th>\n",
       "    </tr>\n",
       "  </thead>\n",
       "  <tbody>\n",
       "    <tr>\n",
       "      <th>0</th>\n",
       "      <td>1</td>\n",
       "      <td>женат / замужем</td>\n",
       "      <td>с детьми</td>\n",
       "    </tr>\n",
       "    <tr>\n",
       "      <th>1</th>\n",
       "      <td>1</td>\n",
       "      <td>женат / замужем</td>\n",
       "      <td>с детьми</td>\n",
       "    </tr>\n",
       "    <tr>\n",
       "      <th>2</th>\n",
       "      <td>0</td>\n",
       "      <td>женат / замужем</td>\n",
       "      <td>без детей</td>\n",
       "    </tr>\n",
       "    <tr>\n",
       "      <th>3</th>\n",
       "      <td>3</td>\n",
       "      <td>женат / замужем</td>\n",
       "      <td>с детьми</td>\n",
       "    </tr>\n",
       "    <tr>\n",
       "      <th>4</th>\n",
       "      <td>0</td>\n",
       "      <td>гражданский брак</td>\n",
       "      <td>не учитываем</td>\n",
       "    </tr>\n",
       "    <tr>\n",
       "      <th>5</th>\n",
       "      <td>0</td>\n",
       "      <td>гражданский брак</td>\n",
       "      <td>не учитываем</td>\n",
       "    </tr>\n",
       "    <tr>\n",
       "      <th>6</th>\n",
       "      <td>0</td>\n",
       "      <td>женат / замужем</td>\n",
       "      <td>без детей</td>\n",
       "    </tr>\n",
       "    <tr>\n",
       "      <th>7</th>\n",
       "      <td>0</td>\n",
       "      <td>женат / замужем</td>\n",
       "      <td>без детей</td>\n",
       "    </tr>\n",
       "    <tr>\n",
       "      <th>8</th>\n",
       "      <td>2</td>\n",
       "      <td>гражданский брак</td>\n",
       "      <td>не учитываем</td>\n",
       "    </tr>\n",
       "    <tr>\n",
       "      <th>9</th>\n",
       "      <td>0</td>\n",
       "      <td>женат / замужем</td>\n",
       "      <td>без детей</td>\n",
       "    </tr>\n",
       "    <tr>\n",
       "      <th>10</th>\n",
       "      <td>2</td>\n",
       "      <td>женат / замужем</td>\n",
       "      <td>с детьми</td>\n",
       "    </tr>\n",
       "    <tr>\n",
       "      <th>11</th>\n",
       "      <td>0</td>\n",
       "      <td>женат / замужем</td>\n",
       "      <td>без детей</td>\n",
       "    </tr>\n",
       "    <tr>\n",
       "      <th>12</th>\n",
       "      <td>0</td>\n",
       "      <td>гражданский брак</td>\n",
       "      <td>не учитываем</td>\n",
       "    </tr>\n",
       "    <tr>\n",
       "      <th>13</th>\n",
       "      <td>0</td>\n",
       "      <td>женат / замужем</td>\n",
       "      <td>без детей</td>\n",
       "    </tr>\n",
       "    <tr>\n",
       "      <th>14</th>\n",
       "      <td>0</td>\n",
       "      <td>гражданский брак</td>\n",
       "      <td>не учитываем</td>\n",
       "    </tr>\n",
       "    <tr>\n",
       "      <th>15</th>\n",
       "      <td>1</td>\n",
       "      <td>женат / замужем</td>\n",
       "      <td>с детьми</td>\n",
       "    </tr>\n",
       "    <tr>\n",
       "      <th>16</th>\n",
       "      <td>0</td>\n",
       "      <td>женат / замужем</td>\n",
       "      <td>без детей</td>\n",
       "    </tr>\n",
       "    <tr>\n",
       "      <th>17</th>\n",
       "      <td>0</td>\n",
       "      <td>гражданский брак</td>\n",
       "      <td>не учитываем</td>\n",
       "    </tr>\n",
       "    <tr>\n",
       "      <th>18</th>\n",
       "      <td>0</td>\n",
       "      <td>вдовец / вдова</td>\n",
       "      <td>без детей</td>\n",
       "    </tr>\n",
       "    <tr>\n",
       "      <th>19</th>\n",
       "      <td>0</td>\n",
       "      <td>в разводе</td>\n",
       "      <td>без детей</td>\n",
       "    </tr>\n",
       "    <tr>\n",
       "      <th>20</th>\n",
       "      <td>1</td>\n",
       "      <td>женат / замужем</td>\n",
       "      <td>с детьми</td>\n",
       "    </tr>\n",
       "    <tr>\n",
       "      <th>21</th>\n",
       "      <td>1</td>\n",
       "      <td>гражданский брак</td>\n",
       "      <td>не учитываем</td>\n",
       "    </tr>\n",
       "    <tr>\n",
       "      <th>22</th>\n",
       "      <td>1</td>\n",
       "      <td>гражданский брак</td>\n",
       "      <td>не учитываем</td>\n",
       "    </tr>\n",
       "    <tr>\n",
       "      <th>23</th>\n",
       "      <td>0</td>\n",
       "      <td>гражданский брак</td>\n",
       "      <td>не учитываем</td>\n",
       "    </tr>\n",
       "    <tr>\n",
       "      <th>24</th>\n",
       "      <td>1</td>\n",
       "      <td>Не женат / не замужем</td>\n",
       "      <td>не учитываем</td>\n",
       "    </tr>\n",
       "    <tr>\n",
       "      <th>25</th>\n",
       "      <td>0</td>\n",
       "      <td>женат / замужем</td>\n",
       "      <td>без детей</td>\n",
       "    </tr>\n",
       "    <tr>\n",
       "      <th>26</th>\n",
       "      <td>0</td>\n",
       "      <td>женат / замужем</td>\n",
       "      <td>без детей</td>\n",
       "    </tr>\n",
       "    <tr>\n",
       "      <th>27</th>\n",
       "      <td>0</td>\n",
       "      <td>женат / замужем</td>\n",
       "      <td>без детей</td>\n",
       "    </tr>\n",
       "    <tr>\n",
       "      <th>28</th>\n",
       "      <td>1</td>\n",
       "      <td>женат / замужем</td>\n",
       "      <td>с детьми</td>\n",
       "    </tr>\n",
       "    <tr>\n",
       "      <th>29</th>\n",
       "      <td>0</td>\n",
       "      <td>Не женат / не замужем</td>\n",
       "      <td>не учитываем</td>\n",
       "    </tr>\n",
       "    <tr>\n",
       "      <th>30</th>\n",
       "      <td>1</td>\n",
       "      <td>женат / замужем</td>\n",
       "      <td>с детьми</td>\n",
       "    </tr>\n",
       "    <tr>\n",
       "      <th>31</th>\n",
       "      <td>0</td>\n",
       "      <td>женат / замужем</td>\n",
       "      <td>без детей</td>\n",
       "    </tr>\n",
       "    <tr>\n",
       "      <th>32</th>\n",
       "      <td>0</td>\n",
       "      <td>гражданский брак</td>\n",
       "      <td>не учитываем</td>\n",
       "    </tr>\n",
       "    <tr>\n",
       "      <th>33</th>\n",
       "      <td>0</td>\n",
       "      <td>женат / замужем</td>\n",
       "      <td>без детей</td>\n",
       "    </tr>\n",
       "    <tr>\n",
       "      <th>34</th>\n",
       "      <td>0</td>\n",
       "      <td>женат / замужем</td>\n",
       "      <td>без детей</td>\n",
       "    </tr>\n",
       "    <tr>\n",
       "      <th>35</th>\n",
       "      <td>0</td>\n",
       "      <td>гражданский брак</td>\n",
       "      <td>не учитываем</td>\n",
       "    </tr>\n",
       "    <tr>\n",
       "      <th>36</th>\n",
       "      <td>0</td>\n",
       "      <td>Не женат / не замужем</td>\n",
       "      <td>не учитываем</td>\n",
       "    </tr>\n",
       "    <tr>\n",
       "      <th>37</th>\n",
       "      <td>0</td>\n",
       "      <td>гражданский брак</td>\n",
       "      <td>не учитываем</td>\n",
       "    </tr>\n",
       "    <tr>\n",
       "      <th>38</th>\n",
       "      <td>0</td>\n",
       "      <td>Не женат / не замужем</td>\n",
       "      <td>не учитываем</td>\n",
       "    </tr>\n",
       "    <tr>\n",
       "      <th>39</th>\n",
       "      <td>0</td>\n",
       "      <td>гражданский брак</td>\n",
       "      <td>не учитываем</td>\n",
       "    </tr>\n",
       "  </tbody>\n",
       "</table>\n",
       "</div>"
      ],
      "text/plain": [
       "    children          family_status children_status\n",
       "0          1        женат / замужем        с детьми\n",
       "1          1        женат / замужем        с детьми\n",
       "2          0        женат / замужем       без детей\n",
       "3          3        женат / замужем        с детьми\n",
       "4          0       гражданский брак    не учитываем\n",
       "5          0       гражданский брак    не учитываем\n",
       "6          0        женат / замужем       без детей\n",
       "7          0        женат / замужем       без детей\n",
       "8          2       гражданский брак    не учитываем\n",
       "9          0        женат / замужем       без детей\n",
       "10         2        женат / замужем        с детьми\n",
       "11         0        женат / замужем       без детей\n",
       "12         0       гражданский брак    не учитываем\n",
       "13         0        женат / замужем       без детей\n",
       "14         0       гражданский брак    не учитываем\n",
       "15         1        женат / замужем        с детьми\n",
       "16         0        женат / замужем       без детей\n",
       "17         0       гражданский брак    не учитываем\n",
       "18         0         вдовец / вдова       без детей\n",
       "19         0              в разводе       без детей\n",
       "20         1        женат / замужем        с детьми\n",
       "21         1       гражданский брак    не учитываем\n",
       "22         1       гражданский брак    не учитываем\n",
       "23         0       гражданский брак    не учитываем\n",
       "24         1  Не женат / не замужем    не учитываем\n",
       "25         0        женат / замужем       без детей\n",
       "26         0        женат / замужем       без детей\n",
       "27         0        женат / замужем       без детей\n",
       "28         1        женат / замужем        с детьми\n",
       "29         0  Не женат / не замужем    не учитываем\n",
       "30         1        женат / замужем        с детьми\n",
       "31         0        женат / замужем       без детей\n",
       "32         0       гражданский брак    не учитываем\n",
       "33         0        женат / замужем       без детей\n",
       "34         0        женат / замужем       без детей\n",
       "35         0       гражданский брак    не учитываем\n",
       "36         0  Не женат / не замужем    не учитываем\n",
       "37         0       гражданский брак    не учитываем\n",
       "38         0  Не женат / не замужем    не учитываем\n",
       "39         0       гражданский брак    не учитываем"
      ]
     },
     "execution_count": 24,
     "metadata": {},
     "output_type": "execute_result"
    }
   ],
   "source": [
    "# Проверил свое утверждение \"часто люди в браке имеют детей\".\n",
    "def child(row):\n",
    "    children = row['children']\n",
    "    family_status = row['family_status']\n",
    "    if children > 0:\n",
    "        if family_status == 'женат / замужем':\n",
    "            return 'с детьми'\n",
    "    if children > 0:\n",
    "        if family_status == 'в разводе':\n",
    "            return 'с детьми'\n",
    "    if children > 0:\n",
    "        if family_status == 'вдовец / вдова':\n",
    "            return 'с детьми'\n",
    "    if children == 0:\n",
    "        if family_status == 'женат / замужем':\n",
    "            return 'без детей'\n",
    "    if children == 0:\n",
    "        if family_status == 'в разводе':\n",
    "            return 'без детей'\n",
    "    if children == 0:\n",
    "        if family_status == 'вдовец / вдова':\n",
    "            return 'без детей'\n",
    "    return 'не учитываем'\n",
    "data['children_status'] = data.apply(child, axis=1)\n",
    "data.iloc[:,[0, 5, 14]].head(40)"
   ]
  },
  {
   "cell_type": "code",
   "execution_count": 25,
   "id": "2b36a5cd",
   "metadata": {},
   "outputs": [
    {
     "data": {
      "text/plain": [
       "children_status\n",
       "без детей       9099\n",
       "не учитываем    6930\n",
       "с детьми        5302\n",
       "Name: children, dtype: int64"
      ]
     },
     "execution_count": 25,
     "metadata": {},
     "output_type": "execute_result"
    }
   ],
   "source": [
    "data.groupby('children_status')['children'].count().sort_values(ascending = False)"
   ]
  },
  {
   "cell_type": "markdown",
   "id": "86cd570e",
   "metadata": {},
   "source": [
    "Вижу, что я со своим выводом поторопился. \\\n",
    "Оказалось, что клиентов в ***браке/бывших в браке с детьми*** практически **вдвое меньше**, чем клиентов ***в браке/бывших в браке без детей***."
   ]
  },
  {
   "cell_type": "code",
   "execution_count": 26,
   "id": "d86bc312",
   "metadata": {},
   "outputs": [
    {
     "data": {
      "text/html": [
       "<div>\n",
       "<style scoped>\n",
       "    .dataframe tbody tr th:only-of-type {\n",
       "        vertical-align: middle;\n",
       "    }\n",
       "\n",
       "    .dataframe tbody tr th {\n",
       "        vertical-align: top;\n",
       "    }\n",
       "\n",
       "    .dataframe thead th {\n",
       "        text-align: right;\n",
       "    }\n",
       "</style>\n",
       "<table border=\"1\" class=\"dataframe\">\n",
       "  <thead>\n",
       "    <tr style=\"text-align: right;\">\n",
       "      <th></th>\n",
       "      <th>sum_children_status</th>\n",
       "      <th>count_children_status</th>\n",
       "      <th>%</th>\n",
       "    </tr>\n",
       "    <tr>\n",
       "      <th>children_status</th>\n",
       "      <th></th>\n",
       "      <th></th>\n",
       "      <th></th>\n",
       "    </tr>\n",
       "  </thead>\n",
       "  <tbody>\n",
       "    <tr>\n",
       "      <th>не учитываем</th>\n",
       "      <td>658</td>\n",
       "      <td>6930</td>\n",
       "      <td>9.494949</td>\n",
       "    </tr>\n",
       "    <tr>\n",
       "      <th>с детьми</th>\n",
       "      <td>450</td>\n",
       "      <td>5302</td>\n",
       "      <td>8.487363</td>\n",
       "    </tr>\n",
       "    <tr>\n",
       "      <th>без детей</th>\n",
       "      <td>624</td>\n",
       "      <td>9099</td>\n",
       "      <td>6.857896</td>\n",
       "    </tr>\n",
       "  </tbody>\n",
       "</table>\n",
       "</div>"
      ],
      "text/plain": [
       "                 sum_children_status  count_children_status         %\n",
       "children_status                                                      \n",
       "не учитываем                     658                   6930  9.494949\n",
       "с детьми                         450                   5302  8.487363\n",
       "без детей                        624                   9099  6.857896"
      ]
     },
     "execution_count": 26,
     "metadata": {},
     "output_type": "execute_result"
    }
   ],
   "source": [
    "data_children_status_debt = pd.DataFrame()\n",
    "data_children_status_debt['sum_children_status'] = data.groupby('children_status')['debt'].sum()\n",
    "data_children_status_debt['count_children_status'] = data.groupby('children_status')['debt'].count()\n",
    "data_children_status_debt['%'] = (data_children_status_debt['sum_children_status'] / data_children_status_debt['count_children_status'])*100 \n",
    "data_children_status_debt.sort_values('%', ascending = False)"
   ]
  },
  {
   "cell_type": "markdown",
   "id": "890cef47",
   "metadata": {},
   "source": [
    "**Вывод 2: И все таки подтверждается гипотеза, что бездетные платят исправнее!!!**"
   ]
  },
  {
   "cell_type": "markdown",
   "id": "9529de68",
   "metadata": {
    "deletable": false,
    "editable": false,
    "id": "9529de68"
   },
   "source": [
    "#### 3.3 Есть ли зависимость между уровнем дохода и возвратом кредита в срок?"
   ]
  },
  {
   "cell_type": "code",
   "execution_count": 27,
   "id": "8787f44a",
   "metadata": {
    "deletable": false,
    "id": "8787f44a",
    "scrolled": true
   },
   "outputs": [
    {
     "data": {
      "text/html": [
       "<div>\n",
       "<style scoped>\n",
       "    .dataframe tbody tr th:only-of-type {\n",
       "        vertical-align: middle;\n",
       "    }\n",
       "\n",
       "    .dataframe tbody tr th {\n",
       "        vertical-align: top;\n",
       "    }\n",
       "\n",
       "    .dataframe thead th {\n",
       "        text-align: right;\n",
       "    }\n",
       "</style>\n",
       "<table border=\"1\" class=\"dataframe\">\n",
       "  <thead>\n",
       "    <tr style=\"text-align: right;\">\n",
       "      <th></th>\n",
       "      <th>sum_total_income_category</th>\n",
       "      <th>count_total_income_category</th>\n",
       "      <th>%</th>\n",
       "    </tr>\n",
       "    <tr>\n",
       "      <th>total_income_category</th>\n",
       "      <th></th>\n",
       "      <th></th>\n",
       "      <th></th>\n",
       "    </tr>\n",
       "  </thead>\n",
       "  <tbody>\n",
       "    <tr>\n",
       "      <th>E</th>\n",
       "      <td>2</td>\n",
       "      <td>22</td>\n",
       "      <td>9.090909</td>\n",
       "    </tr>\n",
       "    <tr>\n",
       "      <th>C</th>\n",
       "      <td>1353</td>\n",
       "      <td>15921</td>\n",
       "      <td>8.498210</td>\n",
       "    </tr>\n",
       "    <tr>\n",
       "      <th>A</th>\n",
       "      <td>2</td>\n",
       "      <td>25</td>\n",
       "      <td>8.000000</td>\n",
       "    </tr>\n",
       "    <tr>\n",
       "      <th>B</th>\n",
       "      <td>354</td>\n",
       "      <td>5014</td>\n",
       "      <td>7.060231</td>\n",
       "    </tr>\n",
       "    <tr>\n",
       "      <th>D</th>\n",
       "      <td>21</td>\n",
       "      <td>349</td>\n",
       "      <td>6.017192</td>\n",
       "    </tr>\n",
       "  </tbody>\n",
       "</table>\n",
       "</div>"
      ],
      "text/plain": [
       "                       sum_total_income_category  count_total_income_category  \\\n",
       "total_income_category                                                           \n",
       "E                                              2                           22   \n",
       "C                                           1353                        15921   \n",
       "A                                              2                           25   \n",
       "B                                            354                         5014   \n",
       "D                                             21                          349   \n",
       "\n",
       "                              %  \n",
       "total_income_category            \n",
       "E                      9.090909  \n",
       "C                      8.498210  \n",
       "A                      8.000000  \n",
       "B                      7.060231  \n",
       "D                      6.017192  "
      ]
     },
     "execution_count": 27,
     "metadata": {},
     "output_type": "execute_result"
    }
   ],
   "source": [
    "# Ранее мы проводили группировку людей по уровню их дохода.\n",
    "data_total_income_category_debt = pd.DataFrame()\n",
    "data_total_income_category_debt['sum_total_income_category'] = data.groupby('total_income_category')['debt'].sum()\n",
    "data_total_income_category_debt['count_total_income_category'] = data.groupby('total_income_category')['debt'].count()\n",
    "data_total_income_category_debt['%'] = (data_total_income_category_debt['sum_total_income_category'] / data_total_income_category_debt['count_total_income_category'])*100 \n",
    "data_total_income_category_debt.sort_values('%', ascending = False)"
   ]
  },
  {
   "cell_type": "markdown",
   "id": "6dd14b57",
   "metadata": {
    "deletable": false,
    "id": "6dd14b57"
   },
   "source": [
    "**Вывод: Из полученных данных мы наблюдаем необычное явление, люди с высоким доходом (A) платят хуже, чем люди с доходом ниже среднего (D). На это можно обратить внимание, но, ввиду того, что данных в категориях A, D, E недостаточно, мы не можем брать их в расчет.\n",
    "Рассматривая категории B и C мы видим, что с увеличением роста доходов, просрочки по выплатам сокращаются.** "
   ]
  },
  {
   "cell_type": "markdown",
   "id": "1dcc9b12",
   "metadata": {
    "deletable": false,
    "editable": false,
    "id": "1dcc9b12"
   },
   "source": [
    "#### 3.4 Как разные цели кредита влияют на его возврат в срок?"
   ]
  },
  {
   "cell_type": "code",
   "execution_count": 28,
   "id": "c602bc8b",
   "metadata": {
    "deletable": false,
    "id": "c602bc8b"
   },
   "outputs": [
    {
     "data": {
      "text/html": [
       "<div>\n",
       "<style scoped>\n",
       "    .dataframe tbody tr th:only-of-type {\n",
       "        vertical-align: middle;\n",
       "    }\n",
       "\n",
       "    .dataframe tbody tr th {\n",
       "        vertical-align: top;\n",
       "    }\n",
       "\n",
       "    .dataframe thead th {\n",
       "        text-align: right;\n",
       "    }\n",
       "</style>\n",
       "<table border=\"1\" class=\"dataframe\">\n",
       "  <thead>\n",
       "    <tr style=\"text-align: right;\">\n",
       "      <th></th>\n",
       "      <th>sum_purpose_category</th>\n",
       "      <th>count_purpose_category</th>\n",
       "      <th>%</th>\n",
       "    </tr>\n",
       "    <tr>\n",
       "      <th>purpose_category</th>\n",
       "      <th></th>\n",
       "      <th></th>\n",
       "      <th></th>\n",
       "    </tr>\n",
       "  </thead>\n",
       "  <tbody>\n",
       "    <tr>\n",
       "      <th>операции с автомобилем</th>\n",
       "      <td>400</td>\n",
       "      <td>4279</td>\n",
       "      <td>9.347978</td>\n",
       "    </tr>\n",
       "    <tr>\n",
       "      <th>получение образования</th>\n",
       "      <td>369</td>\n",
       "      <td>3988</td>\n",
       "      <td>9.252758</td>\n",
       "    </tr>\n",
       "    <tr>\n",
       "      <th>проведение свадьбы</th>\n",
       "      <td>183</td>\n",
       "      <td>2313</td>\n",
       "      <td>7.911803</td>\n",
       "    </tr>\n",
       "    <tr>\n",
       "      <th>операции с недвижимостью</th>\n",
       "      <td>780</td>\n",
       "      <td>10751</td>\n",
       "      <td>7.255139</td>\n",
       "    </tr>\n",
       "  </tbody>\n",
       "</table>\n",
       "</div>"
      ],
      "text/plain": [
       "                          sum_purpose_category  count_purpose_category  \\\n",
       "purpose_category                                                         \n",
       "операции с автомобилем                     400                    4279   \n",
       "получение образования                      369                    3988   \n",
       "проведение свадьбы                         183                    2313   \n",
       "операции с недвижимостью                   780                   10751   \n",
       "\n",
       "                                 %  \n",
       "purpose_category                    \n",
       "операции с автомобилем    9.347978  \n",
       "получение образования     9.252758  \n",
       "проведение свадьбы        7.911803  \n",
       "операции с недвижимостью  7.255139  "
      ]
     },
     "execution_count": 28,
     "metadata": {},
     "output_type": "execute_result"
    }
   ],
   "source": [
    "data_purpose_category_debt = pd.DataFrame()\n",
    "data_purpose_category_debt['sum_purpose_category'] = data.groupby('purpose_category')['debt'].sum()\n",
    "data_purpose_category_debt['count_purpose_category'] = data.groupby('purpose_category')['debt'].count()\n",
    "data_purpose_category_debt['%'] = (data_purpose_category_debt['sum_purpose_category'] / data_purpose_category_debt['count_purpose_category'])*100 \n",
    "data_purpose_category_debt.sort_values('%', ascending = False)"
   ]
  },
  {
   "cell_type": "markdown",
   "id": "cf05ed63",
   "metadata": {
    "deletable": false,
    "id": "cf05ed63"
   },
   "source": [
    "**Вывод: Из полученных данных мы видим, что чаще всего просрочка идет по кредитам на авто и образование. Реже на недвижимость и свадьбы.** "
   ]
  },
  {
   "cell_type": "markdown",
   "id": "46c1f10b",
   "metadata": {
    "deletable": false,
    "editable": false,
    "id": "46c1f10b"
   },
   "source": [
    "#### 3.5 Приведите возможные причины появления пропусков в исходных данных."
   ]
  },
  {
   "cell_type": "markdown",
   "id": "3697d2a9",
   "metadata": {
    "deletable": false,
    "id": "3697d2a9"
   },
   "source": [
    "*Ответ: Люди стараются скрыть свой реальный трудовой стаж и уровень дохода, с целью повышения шанса одобрения кредита. \\\n",
    "Возможно, поля \"стаж\" и \"доход\" не отмечены пометкой \"обязательно к заполнению\" и зачастую люди не стремятся заполнять такие поля. Нужно обозначить данный вопрос в отдел разработки, так как пропуск таких важных данных может привести к выдаче кредита не платежеспособным клиентам, либо наоборот, **упущению потенциального клиента и прибыли**.* "
   ]
  },
  {
   "cell_type": "markdown",
   "id": "3137d257",
   "metadata": {
    "deletable": false,
    "editable": false,
    "id": "3137d257"
   },
   "source": [
    "#### 3.6 Объясните, почему заполнить пропуски медианным значением — лучшее решение для количественных переменных."
   ]
  },
  {
   "cell_type": "markdown",
   "id": "cf40012a",
   "metadata": {
    "deletable": false,
    "id": "cf40012a"
   },
   "source": [
    "*Ответ: Заполнение пропусков средним значением может привести к искажению данных, так как данные будут усредняться с учетом максимумов и минимумов заданного ряда чисел. \\\n",
    "Если заполнить максиальным или минимальным значением - это также приведет к искажению данных.* "
   ]
  },
  {
   "cell_type": "markdown",
   "id": "57bc304e",
   "metadata": {
    "deletable": false,
    "editable": false,
    "id": "57bc304e"
   },
   "source": [
    "### Шаг 4: общий вывод."
   ]
  },
  {
   "cell_type": "markdown",
   "id": "1ab75d1c",
   "metadata": {
    "deletable": false,
    "id": "1ab75d1c"
   },
   "source": [
    "Проведя анализ полученных данных, можно сделать следующий вывод:\n",
    "1. Бездетные чаще платят в срок, так как не обеменены расходами на детей.\n",
    "2. Но в тоже время люди, состоящие/бывшие в браке (вероятнее всего имеют детей) платят исправнее.\n",
    "3. С ростом доходов платежеспособность клиентов возрастает и количество просрочек сокращается.\n",
    "4. Кредиты на недвижимость пользуются популярностью и просрочек в данной категории меньше всех. \\\n",
    "\n",
    "**Самые предпочтительные клиенты:** В браке, бездетные, доход выше среднего, оформляющие кредит на недвижимость. Вероятнее всего, объясняется это тем, что в большинсве семей бюджет формируется из суммарного дохода супругов и выплаты соответсвенно идут оттуда.\n",
    "\n",
    "**Самые нежелательные клиенты:** Одинокие (и не бывшие в браке), с детьми, доходы ниже среднего, оформляющие кредит на авто/учебу.\n",
    "\n",
    "Для получения более детальных данных, необходимо провести анализ, с разбивкой на категории по возрасту: \"молодые\", \"зрелые\", \"пенсионеры\"."
   ]
  }
 ],
 "metadata": {
  "ExecuteTimeLog": [
   {
    "duration": 444,
    "start_time": "2023-03-25T09:38:06.224Z"
   },
   {
    "duration": 19,
    "start_time": "2023-03-25T09:38:06.669Z"
   },
   {
    "duration": 12,
    "start_time": "2023-03-25T09:38:06.690Z"
   },
   {
    "duration": 8,
    "start_time": "2023-03-25T09:38:06.704Z"
   },
   {
    "duration": 26,
    "start_time": "2023-03-25T09:38:06.713Z"
   },
   {
    "duration": 3,
    "start_time": "2023-03-25T09:38:06.741Z"
   },
   {
    "duration": 9,
    "start_time": "2023-03-25T09:38:06.768Z"
   },
   {
    "duration": 4,
    "start_time": "2023-03-25T09:38:06.778Z"
   },
   {
    "duration": 7,
    "start_time": "2023-03-25T09:38:06.783Z"
   },
   {
    "duration": 3,
    "start_time": "2023-03-25T09:38:06.792Z"
   },
   {
    "duration": 36,
    "start_time": "2023-03-25T09:38:06.796Z"
   },
   {
    "duration": 8,
    "start_time": "2023-03-25T09:38:06.833Z"
   },
   {
    "duration": 3,
    "start_time": "2023-03-25T09:38:06.868Z"
   },
   {
    "duration": 11,
    "start_time": "2023-03-25T09:38:06.872Z"
   },
   {
    "duration": 18,
    "start_time": "2023-03-25T09:38:06.884Z"
   },
   {
    "duration": 13,
    "start_time": "2023-03-25T09:38:06.903Z"
   },
   {
    "duration": 2,
    "start_time": "2023-03-25T09:38:06.918Z"
   },
   {
    "duration": 9,
    "start_time": "2023-03-25T09:38:06.922Z"
   },
   {
    "duration": 6,
    "start_time": "2023-03-25T09:38:06.932Z"
   },
   {
    "duration": 29,
    "start_time": "2023-03-25T09:38:06.940Z"
   },
   {
    "duration": 10,
    "start_time": "2023-03-25T09:38:06.970Z"
   },
   {
    "duration": 2,
    "start_time": "2023-03-25T09:38:06.981Z"
   },
   {
    "duration": 4,
    "start_time": "2023-03-25T09:38:06.984Z"
   },
   {
    "duration": 5,
    "start_time": "2023-03-25T09:38:06.989Z"
   },
   {
    "duration": 3,
    "start_time": "2023-03-25T09:38:06.995Z"
   },
   {
    "duration": 24,
    "start_time": "2023-03-25T10:04:38.365Z"
   },
   {
    "duration": 4,
    "start_time": "2023-03-25T10:45:33.543Z"
   },
   {
    "duration": 3,
    "start_time": "2023-03-25T10:46:19.146Z"
   },
   {
    "duration": 3,
    "start_time": "2023-03-25T10:48:02.450Z"
   },
   {
    "duration": 3,
    "start_time": "2023-03-25T10:48:11.831Z"
   },
   {
    "duration": 24,
    "start_time": "2023-03-25T10:48:16.762Z"
   },
   {
    "duration": 7,
    "start_time": "2023-03-25T10:49:11.639Z"
   },
   {
    "duration": 4,
    "start_time": "2023-03-25T11:31:48.869Z"
   },
   {
    "duration": 5,
    "start_time": "2023-03-25T11:31:53.278Z"
   },
   {
    "duration": 8,
    "start_time": "2023-03-25T11:32:00.671Z"
   },
   {
    "duration": 20,
    "start_time": "2023-03-25T11:32:51.818Z"
   },
   {
    "duration": 9,
    "start_time": "2023-03-25T11:33:01.255Z"
   },
   {
    "duration": 3,
    "start_time": "2023-03-25T11:37:41.065Z"
   },
   {
    "duration": 44,
    "start_time": "2023-03-25T11:38:33.381Z"
   },
   {
    "duration": 37,
    "start_time": "2023-03-25T11:40:42.743Z"
   },
   {
    "duration": 4,
    "start_time": "2023-03-25T11:40:47.631Z"
   },
   {
    "duration": 44,
    "start_time": "2023-03-25T11:50:41.196Z"
   },
   {
    "duration": 4,
    "start_time": "2023-03-25T11:51:03.782Z"
   },
   {
    "duration": 40,
    "start_time": "2023-03-25T11:51:43.193Z"
   },
   {
    "duration": 3,
    "start_time": "2023-03-25T11:51:52.969Z"
   },
   {
    "duration": 5,
    "start_time": "2023-03-25T13:33:38.499Z"
   },
   {
    "duration": 9,
    "start_time": "2023-03-25T13:41:32.393Z"
   },
   {
    "duration": 4,
    "start_time": "2023-03-25T14:14:06.639Z"
   },
   {
    "duration": 7,
    "start_time": "2023-03-25T14:15:39.278Z"
   },
   {
    "duration": 6,
    "start_time": "2023-03-25T14:17:09.646Z"
   },
   {
    "duration": 9,
    "start_time": "2023-03-25T14:34:16.836Z"
   },
   {
    "duration": 5,
    "start_time": "2023-03-25T14:42:35.201Z"
   },
   {
    "duration": 5,
    "start_time": "2023-03-25T14:43:04.156Z"
   },
   {
    "duration": 9,
    "start_time": "2023-03-25T22:46:33.673Z"
   },
   {
    "duration": 4,
    "start_time": "2023-03-25T22:48:16.864Z"
   },
   {
    "duration": 55,
    "start_time": "2023-03-25T22:52:15.993Z"
   },
   {
    "duration": 7,
    "start_time": "2023-03-25T22:52:26.756Z"
   },
   {
    "duration": 13,
    "start_time": "2023-03-25T22:52:58.223Z"
   },
   {
    "duration": 13,
    "start_time": "2023-03-25T22:53:14.892Z"
   },
   {
    "duration": 4,
    "start_time": "2023-03-25T22:54:10.619Z"
   },
   {
    "duration": 155,
    "start_time": "2023-03-25T22:54:50.922Z"
   },
   {
    "duration": 4,
    "start_time": "2023-03-25T22:54:55.624Z"
   },
   {
    "duration": 50,
    "start_time": "2023-03-26T07:44:17.942Z"
   },
   {
    "duration": 8,
    "start_time": "2023-03-26T07:44:24.102Z"
   },
   {
    "duration": 558,
    "start_time": "2023-03-26T07:44:27.572Z"
   },
   {
    "duration": 23,
    "start_time": "2023-03-26T07:44:28.132Z"
   },
   {
    "duration": 14,
    "start_time": "2023-03-26T07:44:28.156Z"
   },
   {
    "duration": 8,
    "start_time": "2023-03-26T07:44:28.173Z"
   },
   {
    "duration": 33,
    "start_time": "2023-03-26T07:44:28.183Z"
   },
   {
    "duration": 4,
    "start_time": "2023-03-26T07:44:28.218Z"
   },
   {
    "duration": 9,
    "start_time": "2023-03-26T07:44:28.223Z"
   },
   {
    "duration": 4,
    "start_time": "2023-03-26T07:44:28.234Z"
   },
   {
    "duration": 36,
    "start_time": "2023-03-26T07:44:28.240Z"
   },
   {
    "duration": 4,
    "start_time": "2023-03-26T07:44:28.279Z"
   },
   {
    "duration": 33,
    "start_time": "2023-03-26T07:44:28.285Z"
   },
   {
    "duration": 11,
    "start_time": "2023-03-26T07:44:28.320Z"
   },
   {
    "duration": 4,
    "start_time": "2023-03-26T07:44:28.333Z"
   },
   {
    "duration": 45,
    "start_time": "2023-03-26T07:44:28.339Z"
   },
   {
    "duration": 22,
    "start_time": "2023-03-26T07:44:28.386Z"
   },
   {
    "duration": 26,
    "start_time": "2023-03-26T07:44:28.410Z"
   },
   {
    "duration": 5,
    "start_time": "2023-03-26T07:44:28.438Z"
   },
   {
    "duration": 39,
    "start_time": "2023-03-26T07:44:28.445Z"
   },
   {
    "duration": 9,
    "start_time": "2023-03-26T07:44:28.486Z"
   },
   {
    "duration": 3,
    "start_time": "2023-03-26T07:44:28.497Z"
   },
   {
    "duration": 38,
    "start_time": "2023-03-26T07:44:28.502Z"
   },
   {
    "duration": 36,
    "start_time": "2023-03-26T07:44:28.541Z"
   },
   {
    "duration": 5,
    "start_time": "2023-03-26T07:44:28.578Z"
   },
   {
    "duration": 10,
    "start_time": "2023-03-26T07:44:28.585Z"
   },
   {
    "duration": 5,
    "start_time": "2023-03-26T07:44:28.596Z"
   },
   {
    "duration": 17,
    "start_time": "2023-03-26T07:44:28.603Z"
   },
   {
    "duration": 5,
    "start_time": "2023-03-26T07:44:28.621Z"
   },
   {
    "duration": 13,
    "start_time": "2023-03-26T07:44:28.629Z"
   },
   {
    "duration": 33,
    "start_time": "2023-03-26T07:44:28.643Z"
   },
   {
    "duration": 8,
    "start_time": "2023-03-26T07:44:36.449Z"
   },
   {
    "duration": 6,
    "start_time": "2023-03-26T07:44:57.691Z"
   },
   {
    "duration": 10,
    "start_time": "2023-03-26T07:46:37.899Z"
   },
   {
    "duration": 6,
    "start_time": "2023-03-26T07:47:34.669Z"
   },
   {
    "duration": 5,
    "start_time": "2023-03-26T07:48:56.240Z"
   },
   {
    "duration": 5,
    "start_time": "2023-03-26T07:49:25.329Z"
   },
   {
    "duration": 5,
    "start_time": "2023-03-26T07:49:29.140Z"
   },
   {
    "duration": 7,
    "start_time": "2023-03-26T07:50:30.435Z"
   },
   {
    "duration": 5,
    "start_time": "2023-03-26T07:53:05.959Z"
   },
   {
    "duration": 4,
    "start_time": "2023-03-26T08:05:00.570Z"
   },
   {
    "duration": 67,
    "start_time": "2023-03-26T08:26:38.920Z"
   },
   {
    "duration": 17,
    "start_time": "2023-03-26T08:27:01.942Z"
   },
   {
    "duration": 18,
    "start_time": "2023-03-26T08:28:03.575Z"
   },
   {
    "duration": 17,
    "start_time": "2023-03-26T08:39:50.221Z"
   },
   {
    "duration": 21,
    "start_time": "2023-03-26T08:40:00.654Z"
   },
   {
    "duration": 18,
    "start_time": "2023-03-26T08:40:16.655Z"
   },
   {
    "duration": 19,
    "start_time": "2023-03-26T08:42:37.938Z"
   },
   {
    "duration": 17,
    "start_time": "2023-03-26T08:44:08.047Z"
   },
   {
    "duration": 15,
    "start_time": "2023-03-26T08:45:21.086Z"
   },
   {
    "duration": 15,
    "start_time": "2023-03-26T08:46:38.619Z"
   },
   {
    "duration": 16,
    "start_time": "2023-03-26T08:48:58.952Z"
   },
   {
    "duration": 17,
    "start_time": "2023-03-26T08:49:07.402Z"
   },
   {
    "duration": 16,
    "start_time": "2023-03-26T11:06:36.772Z"
   },
   {
    "duration": 459,
    "start_time": "2023-03-26T11:06:47.320Z"
   },
   {
    "duration": 26,
    "start_time": "2023-03-26T11:06:47.781Z"
   },
   {
    "duration": 15,
    "start_time": "2023-03-26T11:06:47.809Z"
   },
   {
    "duration": 10,
    "start_time": "2023-03-26T11:06:47.826Z"
   },
   {
    "duration": 61,
    "start_time": "2023-03-26T11:06:47.837Z"
   },
   {
    "duration": 3,
    "start_time": "2023-03-26T11:06:47.900Z"
   },
   {
    "duration": 9,
    "start_time": "2023-03-26T11:06:47.905Z"
   },
   {
    "duration": 5,
    "start_time": "2023-03-26T11:06:47.915Z"
   },
   {
    "duration": 9,
    "start_time": "2023-03-26T11:06:47.922Z"
   },
   {
    "duration": 4,
    "start_time": "2023-03-26T11:06:47.934Z"
   },
   {
    "duration": 36,
    "start_time": "2023-03-26T11:06:47.974Z"
   },
   {
    "duration": 11,
    "start_time": "2023-03-26T11:06:48.012Z"
   },
   {
    "duration": 4,
    "start_time": "2023-03-26T11:06:48.025Z"
   },
   {
    "duration": 15,
    "start_time": "2023-03-26T11:06:48.031Z"
   },
   {
    "duration": 45,
    "start_time": "2023-03-26T11:06:48.048Z"
   },
   {
    "duration": 19,
    "start_time": "2023-03-26T11:06:48.094Z"
   },
   {
    "duration": 4,
    "start_time": "2023-03-26T11:06:48.114Z"
   },
   {
    "duration": 12,
    "start_time": "2023-03-26T11:06:48.120Z"
   },
   {
    "duration": 11,
    "start_time": "2023-03-26T11:06:48.133Z"
   },
   {
    "duration": 28,
    "start_time": "2023-03-26T11:06:48.147Z"
   },
   {
    "duration": 31,
    "start_time": "2023-03-26T11:06:48.177Z"
   },
   {
    "duration": 19,
    "start_time": "2023-03-26T11:06:48.210Z"
   },
   {
    "duration": 47,
    "start_time": "2023-03-26T11:06:48.231Z"
   },
   {
    "duration": 18,
    "start_time": "2023-03-26T11:06:48.281Z"
   },
   {
    "duration": 18,
    "start_time": "2023-03-26T11:06:48.301Z"
   },
   {
    "duration": 448,
    "start_time": "2023-03-26T11:06:55.605Z"
   },
   {
    "duration": 25,
    "start_time": "2023-03-26T11:06:56.056Z"
   },
   {
    "duration": 17,
    "start_time": "2023-03-26T11:06:56.083Z"
   },
   {
    "duration": 9,
    "start_time": "2023-03-26T11:06:56.102Z"
   },
   {
    "duration": 62,
    "start_time": "2023-03-26T11:06:56.113Z"
   },
   {
    "duration": 4,
    "start_time": "2023-03-26T11:06:56.177Z"
   },
   {
    "duration": 13,
    "start_time": "2023-03-26T11:06:56.182Z"
   },
   {
    "duration": 5,
    "start_time": "2023-03-26T11:06:56.197Z"
   },
   {
    "duration": 13,
    "start_time": "2023-03-26T11:06:56.204Z"
   },
   {
    "duration": 5,
    "start_time": "2023-03-26T11:06:56.221Z"
   },
   {
    "duration": 64,
    "start_time": "2023-03-26T11:06:56.227Z"
   },
   {
    "duration": 10,
    "start_time": "2023-03-26T11:06:56.293Z"
   },
   {
    "duration": 5,
    "start_time": "2023-03-26T11:06:56.304Z"
   },
   {
    "duration": 19,
    "start_time": "2023-03-26T11:06:56.311Z"
   },
   {
    "duration": 22,
    "start_time": "2023-03-26T11:06:56.332Z"
   },
   {
    "duration": 36,
    "start_time": "2023-03-26T11:06:56.355Z"
   },
   {
    "duration": 4,
    "start_time": "2023-03-26T11:06:56.393Z"
   },
   {
    "duration": 20,
    "start_time": "2023-03-26T11:06:56.399Z"
   },
   {
    "duration": 9,
    "start_time": "2023-03-26T11:06:56.421Z"
   },
   {
    "duration": 5,
    "start_time": "2023-03-26T11:06:56.432Z"
   },
   {
    "duration": 54,
    "start_time": "2023-03-26T11:06:56.439Z"
   },
   {
    "duration": 14,
    "start_time": "2023-03-26T11:06:56.495Z"
   },
   {
    "duration": 16,
    "start_time": "2023-03-26T11:06:56.511Z"
   },
   {
    "duration": 16,
    "start_time": "2023-03-26T11:06:56.528Z"
   },
   {
    "duration": 47,
    "start_time": "2023-03-26T11:06:56.545Z"
   },
   {
    "duration": 50,
    "start_time": "2023-03-26T18:45:18.268Z"
   },
   {
    "duration": 531,
    "start_time": "2023-03-26T18:45:26.205Z"
   },
   {
    "duration": 32,
    "start_time": "2023-03-26T18:45:26.738Z"
   },
   {
    "duration": 18,
    "start_time": "2023-03-26T18:45:26.772Z"
   },
   {
    "duration": 14,
    "start_time": "2023-03-26T18:45:26.793Z"
   },
   {
    "duration": 68,
    "start_time": "2023-03-26T18:45:26.809Z"
   },
   {
    "duration": 4,
    "start_time": "2023-03-26T18:45:26.879Z"
   },
   {
    "duration": 13,
    "start_time": "2023-03-26T18:45:26.885Z"
   },
   {
    "duration": 6,
    "start_time": "2023-03-26T18:45:26.900Z"
   },
   {
    "duration": 12,
    "start_time": "2023-03-26T18:45:26.908Z"
   },
   {
    "duration": 4,
    "start_time": "2023-03-26T18:45:26.923Z"
   },
   {
    "duration": 68,
    "start_time": "2023-03-26T18:45:26.931Z"
   },
   {
    "duration": 13,
    "start_time": "2023-03-26T18:45:27.001Z"
   },
   {
    "duration": 5,
    "start_time": "2023-03-26T18:45:27.017Z"
   },
   {
    "duration": 15,
    "start_time": "2023-03-26T18:45:27.024Z"
   },
   {
    "duration": 46,
    "start_time": "2023-03-26T18:45:27.044Z"
   },
   {
    "duration": 28,
    "start_time": "2023-03-26T18:45:27.092Z"
   },
   {
    "duration": 5,
    "start_time": "2023-03-26T18:45:27.123Z"
   },
   {
    "duration": 17,
    "start_time": "2023-03-26T18:45:27.131Z"
   },
   {
    "duration": 10,
    "start_time": "2023-03-26T18:45:27.174Z"
   },
   {
    "duration": 4,
    "start_time": "2023-03-26T18:45:27.186Z"
   },
   {
    "duration": 30,
    "start_time": "2023-03-26T18:45:27.192Z"
   },
   {
    "duration": 51,
    "start_time": "2023-03-26T18:45:27.225Z"
   },
   {
    "duration": 26,
    "start_time": "2023-03-26T18:45:27.279Z"
   },
   {
    "duration": 15,
    "start_time": "2023-03-26T18:45:27.307Z"
   },
   {
    "duration": 51,
    "start_time": "2023-03-26T18:45:27.324Z"
   },
   {
    "duration": 19,
    "start_time": "2023-03-26T18:45:27.377Z"
   },
   {
    "duration": 14,
    "start_time": "2023-03-26T18:46:06.376Z"
   },
   {
    "duration": 10,
    "start_time": "2023-03-26T18:46:42.715Z"
   },
   {
    "duration": 10,
    "start_time": "2023-03-26T18:50:34.388Z"
   },
   {
    "duration": 9,
    "start_time": "2023-03-26T18:51:58.580Z"
   },
   {
    "duration": 15,
    "start_time": "2023-03-26T18:54:12.592Z"
   },
   {
    "duration": 23,
    "start_time": "2023-03-26T18:55:11.015Z"
   },
   {
    "duration": 17,
    "start_time": "2023-03-26T18:55:47.040Z"
   },
   {
    "duration": 113,
    "start_time": "2023-03-26T18:56:57.130Z"
   },
   {
    "duration": 13,
    "start_time": "2023-03-26T18:57:14.190Z"
   },
   {
    "duration": 14,
    "start_time": "2023-03-26T18:58:07.499Z"
   },
   {
    "duration": 11,
    "start_time": "2023-03-26T18:58:28.733Z"
   },
   {
    "duration": 54,
    "start_time": "2023-03-26T19:04:06.692Z"
   },
   {
    "duration": 100,
    "start_time": "2023-03-26T19:05:01.881Z"
   },
   {
    "duration": 176,
    "start_time": "2023-03-26T19:08:11.902Z"
   },
   {
    "duration": 204,
    "start_time": "2023-03-26T19:08:27.744Z"
   },
   {
    "duration": 565,
    "start_time": "2023-03-26T19:10:13.487Z"
   },
   {
    "duration": 4,
    "start_time": "2023-03-26T19:12:24.138Z"
   },
   {
    "duration": 4,
    "start_time": "2023-03-26T19:12:25.762Z"
   },
   {
    "duration": 32,
    "start_time": "2023-03-26T19:12:34.399Z"
   },
   {
    "duration": 174,
    "start_time": "2023-03-26T19:20:55.566Z"
   },
   {
    "duration": 160,
    "start_time": "2023-03-26T19:21:01.170Z"
   },
   {
    "duration": 203,
    "start_time": "2023-03-26T19:22:33.489Z"
   },
   {
    "duration": 205,
    "start_time": "2023-03-26T19:23:09.008Z"
   },
   {
    "duration": 5,
    "start_time": "2023-03-26T19:24:41.255Z"
   },
   {
    "duration": 8,
    "start_time": "2023-03-26T19:24:53.121Z"
   },
   {
    "duration": 204,
    "start_time": "2023-03-26T19:25:17.502Z"
   },
   {
    "duration": 212,
    "start_time": "2023-03-26T19:25:28.736Z"
   },
   {
    "duration": 222,
    "start_time": "2023-03-26T19:29:16.215Z"
   },
   {
    "duration": 205,
    "start_time": "2023-03-26T19:29:31.741Z"
   },
   {
    "duration": 30,
    "start_time": "2023-03-26T19:30:46.654Z"
   },
   {
    "duration": 11,
    "start_time": "2023-03-26T19:31:13.305Z"
   },
   {
    "duration": 4,
    "start_time": "2023-03-26T19:39:48.262Z"
   },
   {
    "duration": 575,
    "start_time": "2023-03-26T19:40:07.954Z"
   },
   {
    "duration": 11,
    "start_time": "2023-03-26T19:45:08.336Z"
   },
   {
    "duration": 7,
    "start_time": "2023-03-26T19:45:47.608Z"
   },
   {
    "duration": 10,
    "start_time": "2023-03-26T19:48:54.965Z"
   },
   {
    "duration": 10,
    "start_time": "2023-03-26T19:49:07.924Z"
   },
   {
    "duration": 17,
    "start_time": "2023-03-26T19:49:40.768Z"
   },
   {
    "duration": 9,
    "start_time": "2023-03-26T19:49:53.699Z"
   },
   {
    "duration": 8,
    "start_time": "2023-03-26T19:50:09.663Z"
   },
   {
    "duration": 488,
    "start_time": "2023-03-26T19:50:19.524Z"
   },
   {
    "duration": 33,
    "start_time": "2023-03-26T19:50:20.015Z"
   },
   {
    "duration": 35,
    "start_time": "2023-03-26T19:50:20.050Z"
   },
   {
    "duration": 14,
    "start_time": "2023-03-26T19:50:20.087Z"
   },
   {
    "duration": 39,
    "start_time": "2023-03-26T19:50:20.102Z"
   },
   {
    "duration": 3,
    "start_time": "2023-03-26T19:50:20.143Z"
   },
   {
    "duration": 34,
    "start_time": "2023-03-26T19:50:20.147Z"
   },
   {
    "duration": 9,
    "start_time": "2023-03-26T19:50:20.188Z"
   },
   {
    "duration": 7,
    "start_time": "2023-03-26T19:50:20.198Z"
   },
   {
    "duration": 4,
    "start_time": "2023-03-26T19:50:20.209Z"
   },
   {
    "duration": 34,
    "start_time": "2023-03-26T19:50:20.215Z"
   },
   {
    "duration": 39,
    "start_time": "2023-03-26T19:50:20.250Z"
   },
   {
    "duration": 4,
    "start_time": "2023-03-26T19:50:20.293Z"
   },
   {
    "duration": 26,
    "start_time": "2023-03-26T19:50:20.299Z"
   },
   {
    "duration": 27,
    "start_time": "2023-03-26T19:50:20.327Z"
   },
   {
    "duration": 30,
    "start_time": "2023-03-26T19:50:20.356Z"
   },
   {
    "duration": 5,
    "start_time": "2023-03-26T19:50:20.391Z"
   },
   {
    "duration": 22,
    "start_time": "2023-03-26T19:50:20.398Z"
   },
   {
    "duration": 19,
    "start_time": "2023-03-26T19:50:20.422Z"
   },
   {
    "duration": 5,
    "start_time": "2023-03-26T19:50:20.443Z"
   },
   {
    "duration": 45,
    "start_time": "2023-03-26T19:50:20.449Z"
   },
   {
    "duration": 15,
    "start_time": "2023-03-26T19:50:20.496Z"
   },
   {
    "duration": 15,
    "start_time": "2023-03-26T19:50:20.513Z"
   },
   {
    "duration": 243,
    "start_time": "2023-03-26T19:50:20.530Z"
   },
   {
    "duration": 18,
    "start_time": "2023-03-26T19:50:20.775Z"
   },
   {
    "duration": 41,
    "start_time": "2023-03-26T19:50:20.794Z"
   },
   {
    "duration": 17,
    "start_time": "2023-03-26T19:50:20.837Z"
   },
   {
    "duration": 59,
    "start_time": "2023-03-26T19:55:29.003Z"
   },
   {
    "duration": 100,
    "start_time": "2023-03-26T19:55:35.513Z"
   },
   {
    "duration": 338,
    "start_time": "2023-03-26T19:55:38.717Z"
   },
   {
    "duration": 51,
    "start_time": "2023-03-26T19:56:05.297Z"
   },
   {
    "duration": 45,
    "start_time": "2023-03-26T19:57:01.718Z"
   },
   {
    "duration": 270,
    "start_time": "2023-03-26T19:57:17.548Z"
   },
   {
    "duration": 297,
    "start_time": "2023-03-26T19:57:23.873Z"
   },
   {
    "duration": 235,
    "start_time": "2023-03-26T19:57:27.521Z"
   },
   {
    "duration": 8,
    "start_time": "2023-03-26T19:57:37.509Z"
   },
   {
    "duration": 283,
    "start_time": "2023-03-26T19:58:00.658Z"
   },
   {
    "duration": 24,
    "start_time": "2023-03-26T20:00:29.404Z"
   },
   {
    "duration": 319,
    "start_time": "2023-03-26T20:00:58.998Z"
   },
   {
    "duration": 304,
    "start_time": "2023-03-26T20:01:09.914Z"
   },
   {
    "duration": 9,
    "start_time": "2023-03-26T20:01:41.932Z"
   },
   {
    "duration": 240,
    "start_time": "2023-03-26T20:01:58.198Z"
   },
   {
    "duration": 21,
    "start_time": "2023-03-26T20:02:00.668Z"
   },
   {
    "duration": 312,
    "start_time": "2023-03-26T20:02:28.424Z"
   },
   {
    "duration": 328,
    "start_time": "2023-03-26T20:03:29.412Z"
   },
   {
    "duration": 235,
    "start_time": "2023-03-26T20:04:04.765Z"
   },
   {
    "duration": 12,
    "start_time": "2023-03-26T20:04:58.826Z"
   },
   {
    "duration": 232,
    "start_time": "2023-03-26T20:07:11.217Z"
   },
   {
    "duration": 240,
    "start_time": "2023-03-26T20:09:16.326Z"
   },
   {
    "duration": 18,
    "start_time": "2023-03-26T20:09:57.561Z"
   },
   {
    "duration": 409,
    "start_time": "2023-03-26T20:10:20.375Z"
   },
   {
    "duration": 11,
    "start_time": "2023-03-26T20:10:23.736Z"
   },
   {
    "duration": 242,
    "start_time": "2023-03-26T20:12:07.747Z"
   },
   {
    "duration": 359,
    "start_time": "2023-03-26T20:12:21.127Z"
   },
   {
    "duration": 255,
    "start_time": "2023-03-26T20:13:33.150Z"
   },
   {
    "duration": 22,
    "start_time": "2023-03-26T20:13:35.772Z"
   },
   {
    "duration": 339,
    "start_time": "2023-03-26T20:14:10.416Z"
   },
   {
    "duration": 11,
    "start_time": "2023-03-26T20:14:39.264Z"
   },
   {
    "duration": 293,
    "start_time": "2023-03-26T20:15:54.170Z"
   },
   {
    "duration": 9,
    "start_time": "2023-03-26T20:15:57.826Z"
   },
   {
    "duration": 286,
    "start_time": "2023-03-26T20:16:12.262Z"
   },
   {
    "duration": 16,
    "start_time": "2023-03-26T20:16:15.711Z"
   },
   {
    "duration": 252,
    "start_time": "2023-03-26T20:17:32.094Z"
   },
   {
    "duration": 275,
    "start_time": "2023-03-26T20:17:40.294Z"
   },
   {
    "duration": 11,
    "start_time": "2023-03-26T20:17:42.402Z"
   },
   {
    "duration": 8,
    "start_time": "2023-03-26T20:19:15.425Z"
   },
   {
    "duration": 261,
    "start_time": "2023-03-26T20:19:40.556Z"
   },
   {
    "duration": 286,
    "start_time": "2023-03-26T20:19:49.433Z"
   },
   {
    "duration": 283,
    "start_time": "2023-03-26T20:19:54.224Z"
   },
   {
    "duration": 238,
    "start_time": "2023-03-26T20:19:58.037Z"
   },
   {
    "duration": 16,
    "start_time": "2023-03-26T20:33:18.917Z"
   },
   {
    "duration": 228,
    "start_time": "2023-03-26T21:02:19.661Z"
   },
   {
    "duration": 461,
    "start_time": "2023-03-26T21:06:11.845Z"
   },
   {
    "duration": 24,
    "start_time": "2023-03-26T21:06:12.308Z"
   },
   {
    "duration": 14,
    "start_time": "2023-03-26T21:06:12.334Z"
   },
   {
    "duration": 26,
    "start_time": "2023-03-26T21:06:12.350Z"
   },
   {
    "duration": 49,
    "start_time": "2023-03-26T21:06:12.382Z"
   },
   {
    "duration": 4,
    "start_time": "2023-03-26T21:06:12.433Z"
   },
   {
    "duration": 10,
    "start_time": "2023-03-26T21:06:12.438Z"
   },
   {
    "duration": 5,
    "start_time": "2023-03-26T21:06:12.450Z"
   },
   {
    "duration": 17,
    "start_time": "2023-03-26T21:06:12.477Z"
   },
   {
    "duration": 5,
    "start_time": "2023-03-26T21:06:12.498Z"
   },
   {
    "duration": 63,
    "start_time": "2023-03-26T21:06:12.505Z"
   },
   {
    "duration": 22,
    "start_time": "2023-03-26T21:06:12.570Z"
   },
   {
    "duration": 4,
    "start_time": "2023-03-26T21:06:12.593Z"
   },
   {
    "duration": 14,
    "start_time": "2023-03-26T21:06:12.599Z"
   },
   {
    "duration": 23,
    "start_time": "2023-03-26T21:06:12.615Z"
   },
   {
    "duration": 42,
    "start_time": "2023-03-26T21:06:12.640Z"
   },
   {
    "duration": 4,
    "start_time": "2023-03-26T21:06:12.684Z"
   },
   {
    "duration": 14,
    "start_time": "2023-03-26T21:06:12.690Z"
   },
   {
    "duration": 5,
    "start_time": "2023-03-26T21:06:12.706Z"
   },
   {
    "duration": 3,
    "start_time": "2023-03-26T21:06:12.713Z"
   },
   {
    "duration": 27,
    "start_time": "2023-03-26T21:06:12.717Z"
   },
   {
    "duration": 47,
    "start_time": "2023-03-26T21:06:12.745Z"
   },
   {
    "duration": 16,
    "start_time": "2023-03-26T21:06:12.794Z"
   },
   {
    "duration": 225,
    "start_time": "2023-03-26T21:06:12.812Z"
   },
   {
    "duration": 6,
    "start_time": "2023-03-26T21:06:13.040Z"
   },
   {
    "duration": 36,
    "start_time": "2023-03-26T21:06:13.048Z"
   },
   {
    "duration": 15,
    "start_time": "2023-03-26T21:06:13.088Z"
   },
   {
    "duration": 16,
    "start_time": "2023-03-26T21:06:13.106Z"
   }
  ],
  "colab": {
   "provenance": []
  },
  "kernelspec": {
   "display_name": "Python 3 (ipykernel)",
   "language": "python",
   "name": "python3"
  },
  "language_info": {
   "codemirror_mode": {
    "name": "ipython",
    "version": 3
   },
   "file_extension": ".py",
   "mimetype": "text/x-python",
   "name": "python",
   "nbconvert_exporter": "python",
   "pygments_lexer": "ipython3",
   "version": "3.9.15"
  },
  "toc": {
   "base_numbering": 1,
   "nav_menu": {},
   "number_sections": true,
   "sideBar": true,
   "skip_h1_title": true,
   "title_cell": "Table of Contents",
   "title_sidebar": "Contents",
   "toc_cell": false,
   "toc_position": {},
   "toc_section_display": true,
   "toc_window_display": false
  }
 },
 "nbformat": 4,
 "nbformat_minor": 5
}
