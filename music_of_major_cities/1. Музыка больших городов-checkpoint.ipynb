{
 "cells": [
  {
   "cell_type": "markdown",
   "metadata": {
    "deletable": false,
    "editable": false,
    "id": "E0vqbgi9ay0H"
   },
   "source": [
    "# Яндекс.Музыка"
   ]
  },
  {
   "cell_type": "markdown",
   "metadata": {
    "deletable": false,
    "editable": false,
    "id": "VUC88oWjTJw2"
   },
   "source": [
    "Сравнение Москвы и Петербурга окружено мифами. Например:\n",
    " * Москва — мегаполис, подчинённый жёсткому ритму рабочей недели;\n",
    " * Петербург — культурная столица, со своими вкусами.\n",
    "\n",
    "На данных Яндекс Музыки вы сравните поведение пользователей двух столиц.\n",
    "\n",
    "**Цель исследования** — проверьте три гипотезы:\n",
    "1. Активность пользователей зависит от дня недели. Причём в Москве и Петербурге это проявляется по-разному.\n",
    "2. В понедельник утром в Москве преобладают одни жанры, а в Петербурге — другие. Так же и вечером пятницы преобладают разные жанры — в зависимости от города. \n",
    "3. Москва и Петербург предпочитают разные жанры музыки. В Москве чаще слушают поп-музыку, в Петербурге — русский рэп.\n",
    "\n",
    "**Ход исследования**\n",
    "\n",
    "Данные о поведении пользователей вы получите из файла `yandex_music_project.csv`. О качестве данных ничего не известно. Поэтому перед проверкой гипотез понадобится обзор данных. \n",
    "\n",
    "Вы проверите данные на ошибки и оцените их влияние на исследование. Затем, на этапе предобработки вы поищете возможность исправить самые критичные ошибки данных.\n",
    " \n",
    "Таким образом, исследование пройдёт в три этапа:\n",
    " 1. Обзор данных.\n",
    " 2. Предобработка данных.\n",
    " 3. Проверка гипотез.\n",
    "\n"
   ]
  },
  {
   "cell_type": "markdown",
   "metadata": {
    "deletable": false,
    "editable": false,
    "id": "Ml1hmfXC_Zcs"
   },
   "source": [
    "## Обзор данных\n",
    "\n",
    "Составьте первое представление о данных Яндекс Музыки.\n",
    "\n",
    "\n"
   ]
  },
  {
   "cell_type": "markdown",
   "metadata": {
    "deletable": false,
    "editable": false,
    "id": "57eAOGIz_Zcs",
    "tags": [
     "start_task"
    ]
   },
   "source": [
    "**Задание 1**\n",
    "\n",
    "Основной инструмент аналитика — `pandas`. Импортируйте эту библиотеку."
   ]
  },
  {
   "cell_type": "code",
   "execution_count": 1,
   "metadata": {
    "deletable": false,
    "id": "AXN7PHPN_Zcs"
   },
   "outputs": [],
   "source": [
    "import pandas as pd\n",
    "import warnings"
   ]
  },
  {
   "cell_type": "code",
   "execution_count": 2,
   "metadata": {},
   "outputs": [],
   "source": [
    "warnings.filterwarnings(action='ignore')"
   ]
  },
  {
   "cell_type": "markdown",
   "metadata": {
    "deletable": false,
    "editable": false,
    "id": "SG23P8tt_Zcs",
    "tags": [
     "start_task"
    ]
   },
   "source": [
    "**Задание 2**\n",
    "\n",
    "Прочитайте файл `yandex_music_project.csv` из папки `/datasets` и сохраните его в переменной `df`:"
   ]
  },
  {
   "cell_type": "code",
   "execution_count": 5,
   "metadata": {
    "deletable": false,
    "id": "fFVu7vqh_Zct",
    "scrolled": true
   },
   "outputs": [
    {
     "ename": "FileNotFoundError",
     "evalue": "[Errno 2] No such file or directory: 'data.csv'",
     "output_type": "error",
     "traceback": [
      "\u001b[1;31m---------------------------------------------------------------------------\u001b[0m",
      "\u001b[1;31mFileNotFoundError\u001b[0m                         Traceback (most recent call last)",
      "Cell \u001b[1;32mIn[5], line 2\u001b[0m\n\u001b[0;32m      1\u001b[0m \u001b[38;5;28;01mtry\u001b[39;00m:\n\u001b[1;32m----> 2\u001b[0m     df \u001b[38;5;241m=\u001b[39m \u001b[43mpd\u001b[49m\u001b[38;5;241;43m.\u001b[39;49m\u001b[43mread_csv\u001b[49m\u001b[43m(\u001b[49m\u001b[38;5;124;43m'\u001b[39;49m\u001b[38;5;124;43m/datasets/data.csv\u001b[39;49m\u001b[38;5;124;43m'\u001b[39;49m\u001b[43m)\u001b[49m\n\u001b[0;32m      3\u001b[0m \u001b[38;5;28;01mexcept\u001b[39;00m:\n",
      "File \u001b[1;32mC:\\Games\\anacondA\\envs\\p36\\lib\\site-packages\\pandas\\util\\_decorators.py:211\u001b[0m, in \u001b[0;36mdeprecate_kwarg.<locals>._deprecate_kwarg.<locals>.wrapper\u001b[1;34m(*args, **kwargs)\u001b[0m\n\u001b[0;32m    210\u001b[0m         kwargs[new_arg_name] \u001b[38;5;241m=\u001b[39m new_arg_value\n\u001b[1;32m--> 211\u001b[0m \u001b[38;5;28;01mreturn\u001b[39;00m func(\u001b[38;5;241m*\u001b[39margs, \u001b[38;5;241m*\u001b[39m\u001b[38;5;241m*\u001b[39mkwargs)\n",
      "File \u001b[1;32mC:\\Games\\anacondA\\envs\\p36\\lib\\site-packages\\pandas\\util\\_decorators.py:331\u001b[0m, in \u001b[0;36mdeprecate_nonkeyword_arguments.<locals>.decorate.<locals>.wrapper\u001b[1;34m(*args, **kwargs)\u001b[0m\n\u001b[0;32m    326\u001b[0m     warnings\u001b[38;5;241m.\u001b[39mwarn(\n\u001b[0;32m    327\u001b[0m         msg\u001b[38;5;241m.\u001b[39mformat(arguments\u001b[38;5;241m=\u001b[39m_format_argument_list(allow_args)),\n\u001b[0;32m    328\u001b[0m         \u001b[38;5;167;01mFutureWarning\u001b[39;00m,\n\u001b[0;32m    329\u001b[0m         stacklevel\u001b[38;5;241m=\u001b[39mfind_stack_level(),\n\u001b[0;32m    330\u001b[0m     )\n\u001b[1;32m--> 331\u001b[0m \u001b[38;5;28;01mreturn\u001b[39;00m func(\u001b[38;5;241m*\u001b[39margs, \u001b[38;5;241m*\u001b[39m\u001b[38;5;241m*\u001b[39mkwargs)\n",
      "File \u001b[1;32mC:\\Games\\anacondA\\envs\\p36\\lib\\site-packages\\pandas\\io\\parsers\\readers.py:950\u001b[0m, in \u001b[0;36mread_csv\u001b[1;34m(filepath_or_buffer, sep, delimiter, header, names, index_col, usecols, squeeze, prefix, mangle_dupe_cols, dtype, engine, converters, true_values, false_values, skipinitialspace, skiprows, skipfooter, nrows, na_values, keep_default_na, na_filter, verbose, skip_blank_lines, parse_dates, infer_datetime_format, keep_date_col, date_parser, dayfirst, cache_dates, iterator, chunksize, compression, thousands, decimal, lineterminator, quotechar, quoting, doublequote, escapechar, comment, encoding, encoding_errors, dialect, error_bad_lines, warn_bad_lines, on_bad_lines, delim_whitespace, low_memory, memory_map, float_precision, storage_options)\u001b[0m\n\u001b[0;32m    948\u001b[0m kwds\u001b[38;5;241m.\u001b[39mupdate(kwds_defaults)\n\u001b[1;32m--> 950\u001b[0m \u001b[38;5;28;01mreturn\u001b[39;00m \u001b[43m_read\u001b[49m\u001b[43m(\u001b[49m\u001b[43mfilepath_or_buffer\u001b[49m\u001b[43m,\u001b[49m\u001b[43m \u001b[49m\u001b[43mkwds\u001b[49m\u001b[43m)\u001b[49m\n",
      "File \u001b[1;32mC:\\Games\\anacondA\\envs\\p36\\lib\\site-packages\\pandas\\io\\parsers\\readers.py:605\u001b[0m, in \u001b[0;36m_read\u001b[1;34m(filepath_or_buffer, kwds)\u001b[0m\n\u001b[0;32m    604\u001b[0m \u001b[38;5;66;03m# Create the parser.\u001b[39;00m\n\u001b[1;32m--> 605\u001b[0m parser \u001b[38;5;241m=\u001b[39m TextFileReader(filepath_or_buffer, \u001b[38;5;241m*\u001b[39m\u001b[38;5;241m*\u001b[39mkwds)\n\u001b[0;32m    607\u001b[0m \u001b[38;5;28;01mif\u001b[39;00m chunksize \u001b[38;5;129;01mor\u001b[39;00m iterator:\n",
      "File \u001b[1;32mC:\\Games\\anacondA\\envs\\p36\\lib\\site-packages\\pandas\\io\\parsers\\readers.py:1442\u001b[0m, in \u001b[0;36mTextFileReader.__init__\u001b[1;34m(self, f, engine, **kwds)\u001b[0m\n\u001b[0;32m   1441\u001b[0m \u001b[38;5;28mself\u001b[39m\u001b[38;5;241m.\u001b[39mhandles: IOHandles \u001b[38;5;241m|\u001b[39m \u001b[38;5;28;01mNone\u001b[39;00m \u001b[38;5;241m=\u001b[39m \u001b[38;5;28;01mNone\u001b[39;00m\n\u001b[1;32m-> 1442\u001b[0m \u001b[38;5;28mself\u001b[39m\u001b[38;5;241m.\u001b[39m_engine \u001b[38;5;241m=\u001b[39m \u001b[38;5;28;43mself\u001b[39;49m\u001b[38;5;241;43m.\u001b[39;49m\u001b[43m_make_engine\u001b[49m\u001b[43m(\u001b[49m\u001b[43mf\u001b[49m\u001b[43m,\u001b[49m\u001b[43m \u001b[49m\u001b[38;5;28;43mself\u001b[39;49m\u001b[38;5;241;43m.\u001b[39;49m\u001b[43mengine\u001b[49m\u001b[43m)\u001b[49m\n",
      "File \u001b[1;32mC:\\Games\\anacondA\\envs\\p36\\lib\\site-packages\\pandas\\io\\parsers\\readers.py:1735\u001b[0m, in \u001b[0;36mTextFileReader._make_engine\u001b[1;34m(self, f, engine)\u001b[0m\n\u001b[0;32m   1734\u001b[0m         mode \u001b[38;5;241m+\u001b[39m\u001b[38;5;241m=\u001b[39m \u001b[38;5;124m\"\u001b[39m\u001b[38;5;124mb\u001b[39m\u001b[38;5;124m\"\u001b[39m\n\u001b[1;32m-> 1735\u001b[0m \u001b[38;5;28mself\u001b[39m\u001b[38;5;241m.\u001b[39mhandles \u001b[38;5;241m=\u001b[39m \u001b[43mget_handle\u001b[49m\u001b[43m(\u001b[49m\n\u001b[0;32m   1736\u001b[0m \u001b[43m    \u001b[49m\u001b[43mf\u001b[49m\u001b[43m,\u001b[49m\n\u001b[0;32m   1737\u001b[0m \u001b[43m    \u001b[49m\u001b[43mmode\u001b[49m\u001b[43m,\u001b[49m\n\u001b[0;32m   1738\u001b[0m \u001b[43m    \u001b[49m\u001b[43mencoding\u001b[49m\u001b[38;5;241;43m=\u001b[39;49m\u001b[38;5;28;43mself\u001b[39;49m\u001b[38;5;241;43m.\u001b[39;49m\u001b[43moptions\u001b[49m\u001b[38;5;241;43m.\u001b[39;49m\u001b[43mget\u001b[49m\u001b[43m(\u001b[49m\u001b[38;5;124;43m\"\u001b[39;49m\u001b[38;5;124;43mencoding\u001b[39;49m\u001b[38;5;124;43m\"\u001b[39;49m\u001b[43m,\u001b[49m\u001b[43m \u001b[49m\u001b[38;5;28;43;01mNone\u001b[39;49;00m\u001b[43m)\u001b[49m\u001b[43m,\u001b[49m\n\u001b[0;32m   1739\u001b[0m \u001b[43m    \u001b[49m\u001b[43mcompression\u001b[49m\u001b[38;5;241;43m=\u001b[39;49m\u001b[38;5;28;43mself\u001b[39;49m\u001b[38;5;241;43m.\u001b[39;49m\u001b[43moptions\u001b[49m\u001b[38;5;241;43m.\u001b[39;49m\u001b[43mget\u001b[49m\u001b[43m(\u001b[49m\u001b[38;5;124;43m\"\u001b[39;49m\u001b[38;5;124;43mcompression\u001b[39;49m\u001b[38;5;124;43m\"\u001b[39;49m\u001b[43m,\u001b[49m\u001b[43m \u001b[49m\u001b[38;5;28;43;01mNone\u001b[39;49;00m\u001b[43m)\u001b[49m\u001b[43m,\u001b[49m\n\u001b[0;32m   1740\u001b[0m \u001b[43m    \u001b[49m\u001b[43mmemory_map\u001b[49m\u001b[38;5;241;43m=\u001b[39;49m\u001b[38;5;28;43mself\u001b[39;49m\u001b[38;5;241;43m.\u001b[39;49m\u001b[43moptions\u001b[49m\u001b[38;5;241;43m.\u001b[39;49m\u001b[43mget\u001b[49m\u001b[43m(\u001b[49m\u001b[38;5;124;43m\"\u001b[39;49m\u001b[38;5;124;43mmemory_map\u001b[39;49m\u001b[38;5;124;43m\"\u001b[39;49m\u001b[43m,\u001b[49m\u001b[43m \u001b[49m\u001b[38;5;28;43;01mFalse\u001b[39;49;00m\u001b[43m)\u001b[49m\u001b[43m,\u001b[49m\n\u001b[0;32m   1741\u001b[0m \u001b[43m    \u001b[49m\u001b[43mis_text\u001b[49m\u001b[38;5;241;43m=\u001b[39;49m\u001b[43mis_text\u001b[49m\u001b[43m,\u001b[49m\n\u001b[0;32m   1742\u001b[0m \u001b[43m    \u001b[49m\u001b[43merrors\u001b[49m\u001b[38;5;241;43m=\u001b[39;49m\u001b[38;5;28;43mself\u001b[39;49m\u001b[38;5;241;43m.\u001b[39;49m\u001b[43moptions\u001b[49m\u001b[38;5;241;43m.\u001b[39;49m\u001b[43mget\u001b[49m\u001b[43m(\u001b[49m\u001b[38;5;124;43m\"\u001b[39;49m\u001b[38;5;124;43mencoding_errors\u001b[39;49m\u001b[38;5;124;43m\"\u001b[39;49m\u001b[43m,\u001b[49m\u001b[43m \u001b[49m\u001b[38;5;124;43m\"\u001b[39;49m\u001b[38;5;124;43mstrict\u001b[39;49m\u001b[38;5;124;43m\"\u001b[39;49m\u001b[43m)\u001b[49m\u001b[43m,\u001b[49m\n\u001b[0;32m   1743\u001b[0m \u001b[43m    \u001b[49m\u001b[43mstorage_options\u001b[49m\u001b[38;5;241;43m=\u001b[39;49m\u001b[38;5;28;43mself\u001b[39;49m\u001b[38;5;241;43m.\u001b[39;49m\u001b[43moptions\u001b[49m\u001b[38;5;241;43m.\u001b[39;49m\u001b[43mget\u001b[49m\u001b[43m(\u001b[49m\u001b[38;5;124;43m\"\u001b[39;49m\u001b[38;5;124;43mstorage_options\u001b[39;49m\u001b[38;5;124;43m\"\u001b[39;49m\u001b[43m,\u001b[49m\u001b[43m \u001b[49m\u001b[38;5;28;43;01mNone\u001b[39;49;00m\u001b[43m)\u001b[49m\u001b[43m,\u001b[49m\n\u001b[0;32m   1744\u001b[0m \u001b[43m\u001b[49m\u001b[43m)\u001b[49m\n\u001b[0;32m   1745\u001b[0m \u001b[38;5;28;01massert\u001b[39;00m \u001b[38;5;28mself\u001b[39m\u001b[38;5;241m.\u001b[39mhandles \u001b[38;5;129;01mis\u001b[39;00m \u001b[38;5;129;01mnot\u001b[39;00m \u001b[38;5;28;01mNone\u001b[39;00m\n",
      "File \u001b[1;32mC:\\Games\\anacondA\\envs\\p36\\lib\\site-packages\\pandas\\io\\common.py:856\u001b[0m, in \u001b[0;36mget_handle\u001b[1;34m(path_or_buf, mode, encoding, compression, memory_map, is_text, errors, storage_options)\u001b[0m\n\u001b[0;32m    854\u001b[0m \u001b[38;5;28;01mif\u001b[39;00m ioargs\u001b[38;5;241m.\u001b[39mencoding \u001b[38;5;129;01mand\u001b[39;00m \u001b[38;5;124m\"\u001b[39m\u001b[38;5;124mb\u001b[39m\u001b[38;5;124m\"\u001b[39m \u001b[38;5;129;01mnot\u001b[39;00m \u001b[38;5;129;01min\u001b[39;00m ioargs\u001b[38;5;241m.\u001b[39mmode:\n\u001b[0;32m    855\u001b[0m     \u001b[38;5;66;03m# Encoding\u001b[39;00m\n\u001b[1;32m--> 856\u001b[0m     handle \u001b[38;5;241m=\u001b[39m \u001b[38;5;28;43mopen\u001b[39;49m\u001b[43m(\u001b[49m\n\u001b[0;32m    857\u001b[0m \u001b[43m        \u001b[49m\u001b[43mhandle\u001b[49m\u001b[43m,\u001b[49m\n\u001b[0;32m    858\u001b[0m \u001b[43m        \u001b[49m\u001b[43mioargs\u001b[49m\u001b[38;5;241;43m.\u001b[39;49m\u001b[43mmode\u001b[49m\u001b[43m,\u001b[49m\n\u001b[0;32m    859\u001b[0m \u001b[43m        \u001b[49m\u001b[43mencoding\u001b[49m\u001b[38;5;241;43m=\u001b[39;49m\u001b[43mioargs\u001b[49m\u001b[38;5;241;43m.\u001b[39;49m\u001b[43mencoding\u001b[49m\u001b[43m,\u001b[49m\n\u001b[0;32m    860\u001b[0m \u001b[43m        \u001b[49m\u001b[43merrors\u001b[49m\u001b[38;5;241;43m=\u001b[39;49m\u001b[43merrors\u001b[49m\u001b[43m,\u001b[49m\n\u001b[0;32m    861\u001b[0m \u001b[43m        \u001b[49m\u001b[43mnewline\u001b[49m\u001b[38;5;241;43m=\u001b[39;49m\u001b[38;5;124;43m\"\u001b[39;49m\u001b[38;5;124;43m\"\u001b[39;49m\u001b[43m,\u001b[49m\n\u001b[0;32m    862\u001b[0m \u001b[43m    \u001b[49m\u001b[43m)\u001b[49m\n\u001b[0;32m    863\u001b[0m \u001b[38;5;28;01melse\u001b[39;00m:\n\u001b[0;32m    864\u001b[0m     \u001b[38;5;66;03m# Binary mode\u001b[39;00m\n",
      "\u001b[1;31mFileNotFoundError\u001b[0m: [Errno 2] No such file or directory: '/datasets/data.csv'",
      "\nDuring handling of the above exception, another exception occurred:\n",
      "\u001b[1;31mFileNotFoundError\u001b[0m                         Traceback (most recent call last)",
      "Cell \u001b[1;32mIn[5], line 4\u001b[0m\n\u001b[0;32m      2\u001b[0m     df \u001b[38;5;241m=\u001b[39m pd\u001b[38;5;241m.\u001b[39mread_csv(\u001b[38;5;124m'\u001b[39m\u001b[38;5;124m/datasets/data.csv\u001b[39m\u001b[38;5;124m'\u001b[39m)\n\u001b[0;32m      3\u001b[0m \u001b[38;5;28;01mexcept\u001b[39;00m:\n\u001b[1;32m----> 4\u001b[0m     df \u001b[38;5;241m=\u001b[39m \u001b[43mpd\u001b[49m\u001b[38;5;241;43m.\u001b[39;49m\u001b[43mread_csv\u001b[49m\u001b[43m(\u001b[49m\u001b[38;5;124;43m'\u001b[39;49m\u001b[38;5;124;43mdata.csv\u001b[39;49m\u001b[38;5;124;43m'\u001b[39;49m\u001b[43m)\u001b[49m\n",
      "File \u001b[1;32mC:\\Games\\anacondA\\envs\\p36\\lib\\site-packages\\pandas\\util\\_decorators.py:211\u001b[0m, in \u001b[0;36mdeprecate_kwarg.<locals>._deprecate_kwarg.<locals>.wrapper\u001b[1;34m(*args, **kwargs)\u001b[0m\n\u001b[0;32m    209\u001b[0m     \u001b[38;5;28;01melse\u001b[39;00m:\n\u001b[0;32m    210\u001b[0m         kwargs[new_arg_name] \u001b[38;5;241m=\u001b[39m new_arg_value\n\u001b[1;32m--> 211\u001b[0m \u001b[38;5;28;01mreturn\u001b[39;00m func(\u001b[38;5;241m*\u001b[39margs, \u001b[38;5;241m*\u001b[39m\u001b[38;5;241m*\u001b[39mkwargs)\n",
      "File \u001b[1;32mC:\\Games\\anacondA\\envs\\p36\\lib\\site-packages\\pandas\\util\\_decorators.py:331\u001b[0m, in \u001b[0;36mdeprecate_nonkeyword_arguments.<locals>.decorate.<locals>.wrapper\u001b[1;34m(*args, **kwargs)\u001b[0m\n\u001b[0;32m    325\u001b[0m \u001b[38;5;28;01mif\u001b[39;00m \u001b[38;5;28mlen\u001b[39m(args) \u001b[38;5;241m>\u001b[39m num_allow_args:\n\u001b[0;32m    326\u001b[0m     warnings\u001b[38;5;241m.\u001b[39mwarn(\n\u001b[0;32m    327\u001b[0m         msg\u001b[38;5;241m.\u001b[39mformat(arguments\u001b[38;5;241m=\u001b[39m_format_argument_list(allow_args)),\n\u001b[0;32m    328\u001b[0m         \u001b[38;5;167;01mFutureWarning\u001b[39;00m,\n\u001b[0;32m    329\u001b[0m         stacklevel\u001b[38;5;241m=\u001b[39mfind_stack_level(),\n\u001b[0;32m    330\u001b[0m     )\n\u001b[1;32m--> 331\u001b[0m \u001b[38;5;28;01mreturn\u001b[39;00m func(\u001b[38;5;241m*\u001b[39margs, \u001b[38;5;241m*\u001b[39m\u001b[38;5;241m*\u001b[39mkwargs)\n",
      "File \u001b[1;32mC:\\Games\\anacondA\\envs\\p36\\lib\\site-packages\\pandas\\io\\parsers\\readers.py:950\u001b[0m, in \u001b[0;36mread_csv\u001b[1;34m(filepath_or_buffer, sep, delimiter, header, names, index_col, usecols, squeeze, prefix, mangle_dupe_cols, dtype, engine, converters, true_values, false_values, skipinitialspace, skiprows, skipfooter, nrows, na_values, keep_default_na, na_filter, verbose, skip_blank_lines, parse_dates, infer_datetime_format, keep_date_col, date_parser, dayfirst, cache_dates, iterator, chunksize, compression, thousands, decimal, lineterminator, quotechar, quoting, doublequote, escapechar, comment, encoding, encoding_errors, dialect, error_bad_lines, warn_bad_lines, on_bad_lines, delim_whitespace, low_memory, memory_map, float_precision, storage_options)\u001b[0m\n\u001b[0;32m    935\u001b[0m kwds_defaults \u001b[38;5;241m=\u001b[39m _refine_defaults_read(\n\u001b[0;32m    936\u001b[0m     dialect,\n\u001b[0;32m    937\u001b[0m     delimiter,\n\u001b[1;32m   (...)\u001b[0m\n\u001b[0;32m    946\u001b[0m     defaults\u001b[38;5;241m=\u001b[39m{\u001b[38;5;124m\"\u001b[39m\u001b[38;5;124mdelimiter\u001b[39m\u001b[38;5;124m\"\u001b[39m: \u001b[38;5;124m\"\u001b[39m\u001b[38;5;124m,\u001b[39m\u001b[38;5;124m\"\u001b[39m},\n\u001b[0;32m    947\u001b[0m )\n\u001b[0;32m    948\u001b[0m kwds\u001b[38;5;241m.\u001b[39mupdate(kwds_defaults)\n\u001b[1;32m--> 950\u001b[0m \u001b[38;5;28;01mreturn\u001b[39;00m \u001b[43m_read\u001b[49m\u001b[43m(\u001b[49m\u001b[43mfilepath_or_buffer\u001b[49m\u001b[43m,\u001b[49m\u001b[43m \u001b[49m\u001b[43mkwds\u001b[49m\u001b[43m)\u001b[49m\n",
      "File \u001b[1;32mC:\\Games\\anacondA\\envs\\p36\\lib\\site-packages\\pandas\\io\\parsers\\readers.py:605\u001b[0m, in \u001b[0;36m_read\u001b[1;34m(filepath_or_buffer, kwds)\u001b[0m\n\u001b[0;32m    602\u001b[0m _validate_names(kwds\u001b[38;5;241m.\u001b[39mget(\u001b[38;5;124m\"\u001b[39m\u001b[38;5;124mnames\u001b[39m\u001b[38;5;124m\"\u001b[39m, \u001b[38;5;28;01mNone\u001b[39;00m))\n\u001b[0;32m    604\u001b[0m \u001b[38;5;66;03m# Create the parser.\u001b[39;00m\n\u001b[1;32m--> 605\u001b[0m parser \u001b[38;5;241m=\u001b[39m TextFileReader(filepath_or_buffer, \u001b[38;5;241m*\u001b[39m\u001b[38;5;241m*\u001b[39mkwds)\n\u001b[0;32m    607\u001b[0m \u001b[38;5;28;01mif\u001b[39;00m chunksize \u001b[38;5;129;01mor\u001b[39;00m iterator:\n\u001b[0;32m    608\u001b[0m     \u001b[38;5;28;01mreturn\u001b[39;00m parser\n",
      "File \u001b[1;32mC:\\Games\\anacondA\\envs\\p36\\lib\\site-packages\\pandas\\io\\parsers\\readers.py:1442\u001b[0m, in \u001b[0;36mTextFileReader.__init__\u001b[1;34m(self, f, engine, **kwds)\u001b[0m\n\u001b[0;32m   1439\u001b[0m     \u001b[38;5;28mself\u001b[39m\u001b[38;5;241m.\u001b[39moptions[\u001b[38;5;124m\"\u001b[39m\u001b[38;5;124mhas_index_names\u001b[39m\u001b[38;5;124m\"\u001b[39m] \u001b[38;5;241m=\u001b[39m kwds[\u001b[38;5;124m\"\u001b[39m\u001b[38;5;124mhas_index_names\u001b[39m\u001b[38;5;124m\"\u001b[39m]\n\u001b[0;32m   1441\u001b[0m \u001b[38;5;28mself\u001b[39m\u001b[38;5;241m.\u001b[39mhandles: IOHandles \u001b[38;5;241m|\u001b[39m \u001b[38;5;28;01mNone\u001b[39;00m \u001b[38;5;241m=\u001b[39m \u001b[38;5;28;01mNone\u001b[39;00m\n\u001b[1;32m-> 1442\u001b[0m \u001b[38;5;28mself\u001b[39m\u001b[38;5;241m.\u001b[39m_engine \u001b[38;5;241m=\u001b[39m \u001b[38;5;28;43mself\u001b[39;49m\u001b[38;5;241;43m.\u001b[39;49m\u001b[43m_make_engine\u001b[49m\u001b[43m(\u001b[49m\u001b[43mf\u001b[49m\u001b[43m,\u001b[49m\u001b[43m \u001b[49m\u001b[38;5;28;43mself\u001b[39;49m\u001b[38;5;241;43m.\u001b[39;49m\u001b[43mengine\u001b[49m\u001b[43m)\u001b[49m\n",
      "File \u001b[1;32mC:\\Games\\anacondA\\envs\\p36\\lib\\site-packages\\pandas\\io\\parsers\\readers.py:1735\u001b[0m, in \u001b[0;36mTextFileReader._make_engine\u001b[1;34m(self, f, engine)\u001b[0m\n\u001b[0;32m   1733\u001b[0m     \u001b[38;5;28;01mif\u001b[39;00m \u001b[38;5;124m\"\u001b[39m\u001b[38;5;124mb\u001b[39m\u001b[38;5;124m\"\u001b[39m \u001b[38;5;129;01mnot\u001b[39;00m \u001b[38;5;129;01min\u001b[39;00m mode:\n\u001b[0;32m   1734\u001b[0m         mode \u001b[38;5;241m+\u001b[39m\u001b[38;5;241m=\u001b[39m \u001b[38;5;124m\"\u001b[39m\u001b[38;5;124mb\u001b[39m\u001b[38;5;124m\"\u001b[39m\n\u001b[1;32m-> 1735\u001b[0m \u001b[38;5;28mself\u001b[39m\u001b[38;5;241m.\u001b[39mhandles \u001b[38;5;241m=\u001b[39m \u001b[43mget_handle\u001b[49m\u001b[43m(\u001b[49m\n\u001b[0;32m   1736\u001b[0m \u001b[43m    \u001b[49m\u001b[43mf\u001b[49m\u001b[43m,\u001b[49m\n\u001b[0;32m   1737\u001b[0m \u001b[43m    \u001b[49m\u001b[43mmode\u001b[49m\u001b[43m,\u001b[49m\n\u001b[0;32m   1738\u001b[0m \u001b[43m    \u001b[49m\u001b[43mencoding\u001b[49m\u001b[38;5;241;43m=\u001b[39;49m\u001b[38;5;28;43mself\u001b[39;49m\u001b[38;5;241;43m.\u001b[39;49m\u001b[43moptions\u001b[49m\u001b[38;5;241;43m.\u001b[39;49m\u001b[43mget\u001b[49m\u001b[43m(\u001b[49m\u001b[38;5;124;43m\"\u001b[39;49m\u001b[38;5;124;43mencoding\u001b[39;49m\u001b[38;5;124;43m\"\u001b[39;49m\u001b[43m,\u001b[49m\u001b[43m \u001b[49m\u001b[38;5;28;43;01mNone\u001b[39;49;00m\u001b[43m)\u001b[49m\u001b[43m,\u001b[49m\n\u001b[0;32m   1739\u001b[0m \u001b[43m    \u001b[49m\u001b[43mcompression\u001b[49m\u001b[38;5;241;43m=\u001b[39;49m\u001b[38;5;28;43mself\u001b[39;49m\u001b[38;5;241;43m.\u001b[39;49m\u001b[43moptions\u001b[49m\u001b[38;5;241;43m.\u001b[39;49m\u001b[43mget\u001b[49m\u001b[43m(\u001b[49m\u001b[38;5;124;43m\"\u001b[39;49m\u001b[38;5;124;43mcompression\u001b[39;49m\u001b[38;5;124;43m\"\u001b[39;49m\u001b[43m,\u001b[49m\u001b[43m \u001b[49m\u001b[38;5;28;43;01mNone\u001b[39;49;00m\u001b[43m)\u001b[49m\u001b[43m,\u001b[49m\n\u001b[0;32m   1740\u001b[0m \u001b[43m    \u001b[49m\u001b[43mmemory_map\u001b[49m\u001b[38;5;241;43m=\u001b[39;49m\u001b[38;5;28;43mself\u001b[39;49m\u001b[38;5;241;43m.\u001b[39;49m\u001b[43moptions\u001b[49m\u001b[38;5;241;43m.\u001b[39;49m\u001b[43mget\u001b[49m\u001b[43m(\u001b[49m\u001b[38;5;124;43m\"\u001b[39;49m\u001b[38;5;124;43mmemory_map\u001b[39;49m\u001b[38;5;124;43m\"\u001b[39;49m\u001b[43m,\u001b[49m\u001b[43m \u001b[49m\u001b[38;5;28;43;01mFalse\u001b[39;49;00m\u001b[43m)\u001b[49m\u001b[43m,\u001b[49m\n\u001b[0;32m   1741\u001b[0m \u001b[43m    \u001b[49m\u001b[43mis_text\u001b[49m\u001b[38;5;241;43m=\u001b[39;49m\u001b[43mis_text\u001b[49m\u001b[43m,\u001b[49m\n\u001b[0;32m   1742\u001b[0m \u001b[43m    \u001b[49m\u001b[43merrors\u001b[49m\u001b[38;5;241;43m=\u001b[39;49m\u001b[38;5;28;43mself\u001b[39;49m\u001b[38;5;241;43m.\u001b[39;49m\u001b[43moptions\u001b[49m\u001b[38;5;241;43m.\u001b[39;49m\u001b[43mget\u001b[49m\u001b[43m(\u001b[49m\u001b[38;5;124;43m\"\u001b[39;49m\u001b[38;5;124;43mencoding_errors\u001b[39;49m\u001b[38;5;124;43m\"\u001b[39;49m\u001b[43m,\u001b[49m\u001b[43m \u001b[49m\u001b[38;5;124;43m\"\u001b[39;49m\u001b[38;5;124;43mstrict\u001b[39;49m\u001b[38;5;124;43m\"\u001b[39;49m\u001b[43m)\u001b[49m\u001b[43m,\u001b[49m\n\u001b[0;32m   1743\u001b[0m \u001b[43m    \u001b[49m\u001b[43mstorage_options\u001b[49m\u001b[38;5;241;43m=\u001b[39;49m\u001b[38;5;28;43mself\u001b[39;49m\u001b[38;5;241;43m.\u001b[39;49m\u001b[43moptions\u001b[49m\u001b[38;5;241;43m.\u001b[39;49m\u001b[43mget\u001b[49m\u001b[43m(\u001b[49m\u001b[38;5;124;43m\"\u001b[39;49m\u001b[38;5;124;43mstorage_options\u001b[39;49m\u001b[38;5;124;43m\"\u001b[39;49m\u001b[43m,\u001b[49m\u001b[43m \u001b[49m\u001b[38;5;28;43;01mNone\u001b[39;49;00m\u001b[43m)\u001b[49m\u001b[43m,\u001b[49m\n\u001b[0;32m   1744\u001b[0m \u001b[43m\u001b[49m\u001b[43m)\u001b[49m\n\u001b[0;32m   1745\u001b[0m \u001b[38;5;28;01massert\u001b[39;00m \u001b[38;5;28mself\u001b[39m\u001b[38;5;241m.\u001b[39mhandles \u001b[38;5;129;01mis\u001b[39;00m \u001b[38;5;129;01mnot\u001b[39;00m \u001b[38;5;28;01mNone\u001b[39;00m\n\u001b[0;32m   1746\u001b[0m f \u001b[38;5;241m=\u001b[39m \u001b[38;5;28mself\u001b[39m\u001b[38;5;241m.\u001b[39mhandles\u001b[38;5;241m.\u001b[39mhandle\n",
      "File \u001b[1;32mC:\\Games\\anacondA\\envs\\p36\\lib\\site-packages\\pandas\\io\\common.py:856\u001b[0m, in \u001b[0;36mget_handle\u001b[1;34m(path_or_buf, mode, encoding, compression, memory_map, is_text, errors, storage_options)\u001b[0m\n\u001b[0;32m    851\u001b[0m \u001b[38;5;28;01melif\u001b[39;00m \u001b[38;5;28misinstance\u001b[39m(handle, \u001b[38;5;28mstr\u001b[39m):\n\u001b[0;32m    852\u001b[0m     \u001b[38;5;66;03m# Check whether the filename is to be opened in binary mode.\u001b[39;00m\n\u001b[0;32m    853\u001b[0m     \u001b[38;5;66;03m# Binary mode does not support 'encoding' and 'newline'.\u001b[39;00m\n\u001b[0;32m    854\u001b[0m     \u001b[38;5;28;01mif\u001b[39;00m ioargs\u001b[38;5;241m.\u001b[39mencoding \u001b[38;5;129;01mand\u001b[39;00m \u001b[38;5;124m\"\u001b[39m\u001b[38;5;124mb\u001b[39m\u001b[38;5;124m\"\u001b[39m \u001b[38;5;129;01mnot\u001b[39;00m \u001b[38;5;129;01min\u001b[39;00m ioargs\u001b[38;5;241m.\u001b[39mmode:\n\u001b[0;32m    855\u001b[0m         \u001b[38;5;66;03m# Encoding\u001b[39;00m\n\u001b[1;32m--> 856\u001b[0m         handle \u001b[38;5;241m=\u001b[39m \u001b[38;5;28;43mopen\u001b[39;49m\u001b[43m(\u001b[49m\n\u001b[0;32m    857\u001b[0m \u001b[43m            \u001b[49m\u001b[43mhandle\u001b[49m\u001b[43m,\u001b[49m\n\u001b[0;32m    858\u001b[0m \u001b[43m            \u001b[49m\u001b[43mioargs\u001b[49m\u001b[38;5;241;43m.\u001b[39;49m\u001b[43mmode\u001b[49m\u001b[43m,\u001b[49m\n\u001b[0;32m    859\u001b[0m \u001b[43m            \u001b[49m\u001b[43mencoding\u001b[49m\u001b[38;5;241;43m=\u001b[39;49m\u001b[43mioargs\u001b[49m\u001b[38;5;241;43m.\u001b[39;49m\u001b[43mencoding\u001b[49m\u001b[43m,\u001b[49m\n\u001b[0;32m    860\u001b[0m \u001b[43m            \u001b[49m\u001b[43merrors\u001b[49m\u001b[38;5;241;43m=\u001b[39;49m\u001b[43merrors\u001b[49m\u001b[43m,\u001b[49m\n\u001b[0;32m    861\u001b[0m \u001b[43m            \u001b[49m\u001b[43mnewline\u001b[49m\u001b[38;5;241;43m=\u001b[39;49m\u001b[38;5;124;43m\"\u001b[39;49m\u001b[38;5;124;43m\"\u001b[39;49m\u001b[43m,\u001b[49m\n\u001b[0;32m    862\u001b[0m \u001b[43m        \u001b[49m\u001b[43m)\u001b[49m\n\u001b[0;32m    863\u001b[0m     \u001b[38;5;28;01melse\u001b[39;00m:\n\u001b[0;32m    864\u001b[0m         \u001b[38;5;66;03m# Binary mode\u001b[39;00m\n\u001b[0;32m    865\u001b[0m         handle \u001b[38;5;241m=\u001b[39m \u001b[38;5;28mopen\u001b[39m(handle, ioargs\u001b[38;5;241m.\u001b[39mmode)\n",
      "\u001b[1;31mFileNotFoundError\u001b[0m: [Errno 2] No such file or directory: 'data.csv'"
     ]
    }
   ],
   "source": [
    "try:
         df = pd.read_csv('/datasets/yandex_music_project.csv')
     except:
         df = pd.read_csv('https://code.s3.yandex.net/datasets/yandex_music_project.csv')"
   ]
  },
  {
   "cell_type": "markdown",
   "metadata": {
    "deletable": false,
    "editable": false,
    "id": "rDoOMd3uTqnZ",
    "tags": [
     "start_task"
    ]
   },
   "source": [
    "**Задание 3**\n",
    "\n",
    "\n",
    "Выведите на экран первые десять строк таблицы:"
   ]
  },
  {
   "cell_type": "code",
   "execution_count": null,
   "metadata": {
    "deletable": false,
    "id": "oWTVX3gW_Zct"
   },
   "outputs": [],
   "source": [
    "df.head(10)"
   ]
  },
  {
   "cell_type": "markdown",
   "metadata": {
    "deletable": false,
    "editable": false,
    "id": "EO73Kwic_Zct",
    "tags": [
     "start_task"
    ]
   },
   "source": [
    "**Задание 4**\n",
    "\n",
    "\n",
    "Одной командой получить общую информацию о таблице c помощью метода `info()`:"
   ]
  },
  {
   "cell_type": "code",
   "execution_count": null,
   "metadata": {
    "deletable": false,
    "id": "DSf2kIb-_Zct"
   },
   "outputs": [],
   "source": [
    "df.info()"
   ]
  },
  {
   "cell_type": "markdown",
   "metadata": {
    "deletable": false,
    "editable": false,
    "id": "TaQ2Iwbr_Zct"
   },
   "source": [
    "Итак, в таблице семь столбцов. Тип данных во всех столбцах — `object`.\n",
    "\n",
    "Согласно документации к данным:\n",
    "* `userID` — идентификатор пользователя;\n",
    "* `Track` — название трека;  \n",
    "* `artist` — имя исполнителя;\n",
    "* `genre` — название жанра;\n",
    "* `City` — город пользователя;\n",
    "* `time` — время начала прослушивания;\n",
    "* `Day` — день недели.\n",
    "\n",
    "Количество значений в столбцах различается. Значит, в данных есть пропущенные значения."
   ]
  },
  {
   "cell_type": "markdown",
   "metadata": {
    "deletable": false,
    "editable": false,
    "id": "4P0UCWzswgEm",
    "tags": [
     "start_task"
    ]
   },
   "source": [
    "**Задание 5**\n",
    "\n",
    "**Вопрос со свободной формой ответа**\n",
    "\n",
    "В названиях колонок видны три нарушения стиля:\n",
    "1. Строчные буквы сочетаются с прописными.\n",
    "2. Встречаются пробелы."
   ]
  },
  {
   "cell_type": "code",
   "execution_count": null,
   "metadata": {
    "id": "c137-ZstwgEm"
   },
   "outputs": [],
   "source": [
    "# нижний регистр"
   ]
  },
  {
   "cell_type": "markdown",
   "metadata": {
    "deletable": false,
    "editable": false,
    "id": "MCB6-dXG_Zct"
   },
   "source": [
    "**Выводы**\n",
    "\n",
    "В каждой строке таблицы — данные о прослушанном треке. Часть колонок описывает саму композицию: название, исполнителя и жанр. Остальные данные рассказывают о пользователе: из какого он города, когда он слушал музыку. \n",
    "\n",
    "Предварительно можно утверждать, что, данных достаточно для проверки гипотез. Но встречаются пропуски в данных, а в названиях колонок — расхождения с хорошим стилем.\n",
    "\n",
    "Чтобы двигаться дальше, нужно устранить проблемы в данных."
   ]
  },
  {
   "cell_type": "markdown",
   "metadata": {
    "deletable": false,
    "editable": false,
    "id": "SjYF6Ub9_Zct"
   },
   "source": [
    "## Предобработка данных\n",
    "Исправьте стиль в заголовках столбцов, исключите пропуски. Затем проверьте данные на дубликаты."
   ]
  },
  {
   "cell_type": "markdown",
   "metadata": {
    "deletable": false,
    "editable": false,
    "id": "dIaKXr29_Zct",
    "tags": [
     "start_task"
    ]
   },
   "source": [
    "### Стиль заголовков\n",
    "\n",
    "**Задание 6**\n",
    "\n",
    "Выведите на экран названия столбцов:"
   ]
  },
  {
   "cell_type": "code",
   "execution_count": null,
   "metadata": {
    "deletable": false,
    "id": "oKOTdF_Q_Zct"
   },
   "outputs": [],
   "source": [
    "df.columns"
   ]
  },
  {
   "cell_type": "markdown",
   "metadata": {
    "deletable": false,
    "editable": false,
    "id": "zj5534cv_Zct",
    "tags": [
     "start_task"
    ]
   },
   "source": [
    "**Задание 7**\n",
    "\n",
    "\n",
    "Приведите названия в соответствие с хорошим стилем:\n",
    "* несколько слов в названии запишите в «змеином_регистре»,\n",
    "* все символы сделайте строчными,\n",
    "* устраните пробелы.\n",
    "\n",
    "Для этого переименуйте колонки так:\n",
    "* `'  userID'` → `'user_id'`;\n",
    "* `'Track'` → `'track'`;\n",
    "* `'  City  '` → `'city'`;\n",
    "* `'Day'` → `'day'`."
   ]
  },
  {
   "cell_type": "code",
   "execution_count": null,
   "metadata": {
    "deletable": false,
    "id": "ISlFqs5y_Zct"
   },
   "outputs": [],
   "source": [
    "df = df.rename(columns={'  userID': 'user_id', 'Track': 'track', '  City  ': 'city', 'Day': 'day'})"
   ]
  },
  {
   "cell_type": "markdown",
   "metadata": {
    "deletable": false,
    "editable": false,
    "id": "1dqbh00J_Zct",
    "tags": [
     "start_task"
    ]
   },
   "source": [
    "**Задание 8**\n",
    "\n",
    "\n",
    "Проверьте результат. Для этого ещё раз выведите на экран названия столбцов:"
   ]
  },
  {
   "cell_type": "code",
   "execution_count": null,
   "metadata": {
    "deletable": false,
    "id": "d4NOAmTW_Zct"
   },
   "outputs": [],
   "source": [
    "df.columns"
   ]
  },
  {
   "cell_type": "markdown",
   "metadata": {
    "deletable": false,
    "editable": false,
    "id": "5ISfbcfY_Zct",
    "tags": [
     "start_task"
    ]
   },
   "source": [
    "### Пропуски значений\n",
    "\n",
    "**Задание 9**\n",
    "\n",
    "Сначала посчитайте, сколько в таблице пропущенных значений. Для этого достаточно двух методов `pandas`:"
   ]
  },
  {
   "cell_type": "code",
   "execution_count": null,
   "metadata": {
    "deletable": false,
    "id": "RskX29qr_Zct"
   },
   "outputs": [],
   "source": [
    "df.isna().sum()"
   ]
  },
  {
   "cell_type": "markdown",
   "metadata": {
    "deletable": false,
    "editable": false,
    "id": "qubhgnlO_Zct"
   },
   "source": [
    "Не все пропущенные значения влияют на исследование. Так в `track` и `artist` пропуски не важны для вашей работы. Достаточно заменить их явными обозначениями.\n",
    "\n",
    "Но пропуски в `genre` могут помешать сравнению музыкальных вкусов в Москве и Санкт-Петербурге. На практике было бы правильно установить причину пропусков и восстановить данные. Такой возможности нет в учебном проекте. Придётся:\n",
    "* заполнить и эти пропуски явными обозначениями,\n",
    "* оценить, насколько они повредят расчётам. "
   ]
  },
  {
   "cell_type": "markdown",
   "metadata": {
    "deletable": false,
    "editable": false,
    "id": "fSv2laPA_Zct",
    "tags": [
     "start_task"
    ]
   },
   "source": [
    "**Задание 10**\n",
    "\n",
    "Замените пропущенные значения в столбцах `track`, `artist` и `genre` на строку `'unknown'`. Для этого создайте список `columns_to_replace`, переберите его элементы циклом `for` и для каждого столбца выполните замену пропущенных значений:"
   ]
  },
  {
   "cell_type": "code",
   "execution_count": null,
   "metadata": {
    "deletable": false,
    "id": "KplB5qWs_Zct"
   },
   "outputs": [],
   "source": [
    "# перебор названий столбцов в цикле и замена пропущенных значений на 'unknown'\n",
    "columns_to_replace = ['track', 'artist', 'genre']\n",
    "for i in columns_to_replace:\n",
    "    df[i] = df[i].fillna('unknown')"
   ]
  },
  {
   "cell_type": "markdown",
   "metadata": {
    "deletable": false,
    "editable": false,
    "id": "Ilsm-MZo_Zct",
    "tags": [
     "start_task"
    ]
   },
   "source": [
    "**Задание 11**\n",
    "\n",
    "Убедитесь, что в таблице не осталось пропусков. Для этого ещё раз посчитайте пропущенные значения."
   ]
  },
  {
   "cell_type": "code",
   "execution_count": null,
   "metadata": {
    "deletable": false,
    "id": "Tq4nYRX4_Zct"
   },
   "outputs": [],
   "source": [
    "# подсчёт пропусков\n",
    "df.isna().sum()"
   ]
  },
  {
   "cell_type": "markdown",
   "metadata": {
    "deletable": false,
    "editable": false,
    "id": "BWKRtBJ3_Zct",
    "tags": [
     "start_task"
    ]
   },
   "source": [
    "### Дубликаты\n",
    "\n",
    "**Задание 12**\n",
    "\n",
    "Посчитайте явные дубликаты в таблице одной командой:"
   ]
  },
  {
   "cell_type": "code",
   "execution_count": null,
   "metadata": {
    "deletable": false,
    "id": "36eES_S0_Zct"
   },
   "outputs": [],
   "source": [
    "# подсчёт явных дубликатов\n",
    "df.duplicated().sum()"
   ]
  },
  {
   "cell_type": "markdown",
   "metadata": {
    "deletable": false,
    "editable": false,
    "id": "Ot25h6XR_Zct",
    "tags": [
     "start_task"
    ]
   },
   "source": [
    "**Задание 13**\n",
    "\n",
    "Вызовите специальный метод `pandas`, чтобы удалить явные дубликаты:"
   ]
  },
  {
   "cell_type": "code",
   "execution_count": null,
   "metadata": {
    "deletable": false,
    "id": "exFHq6tt_Zct"
   },
   "outputs": [],
   "source": [
    "# удаление явных дубликатов (с удалением старых индексов и формированием новых)\n",
    "df = df.drop_duplicates()"
   ]
  },
  {
   "cell_type": "markdown",
   "metadata": {
    "deletable": false,
    "editable": false,
    "id": "Im2YwBEG_Zct",
    "tags": [
     "start_task"
    ]
   },
   "source": [
    "**Задание 14**\n",
    "\n",
    "Ещё раз посчитайте явные дубликаты в таблице — убедитесь, что полностью от них избавились:"
   ]
  },
  {
   "cell_type": "code",
   "execution_count": null,
   "metadata": {
    "deletable": false,
    "id": "-8PuNWQ0_Zct"
   },
   "outputs": [],
   "source": [
    "# проверка на отсутствие дубликатов\n",
    "df.duplicated().sum()"
   ]
  },
  {
   "cell_type": "markdown",
   "metadata": {
    "deletable": false,
    "editable": false,
    "id": "QlFBsxAr_Zct"
   },
   "source": [
    "Теперь избавьтесь от неявных дубликатов в колонке `genre`. Например, название одного и того же жанра может быть записано немного по-разному. Такие ошибки тоже повлияют на результат исследования."
   ]
  },
  {
   "cell_type": "markdown",
   "metadata": {
    "deletable": false,
    "editable": false,
    "id": "eSjWwsOh_Zct",
    "tags": [
     "start_task"
    ]
   },
   "source": [
    "**Задание 15**\n",
    "\n",
    "Выведите на экран список уникальных названий жанров, отсортированный в алфавитном порядке. Для этого:\n",
    "* извлеките нужный столбец датафрейма, \n",
    "* примените к нему метод сортировки,\n",
    "* для отсортированного столбца вызовите метод, который вернёт уникальные значения из столбца."
   ]
  },
  {
   "cell_type": "code",
   "execution_count": null,
   "metadata": {
    "deletable": false,
    "id": "JIUcqzZN_Zct",
    "scrolled": true
   },
   "outputs": [],
   "source": [
    "# Просмотр уникальных названий жанров\n",
    "df.sort_values(['genre'])['genre'].unique()"
   ]
  },
  {
   "cell_type": "markdown",
   "metadata": {
    "deletable": false,
    "editable": false,
    "id": "qej-Qmuo_Zct",
    "tags": [
     "start_task"
    ]
   },
   "source": [
    "**Задание 16**\n",
    "\n",
    "Просмотрите список и найдите неявные дубликаты названия `hiphop`. Это могут быть названия с ошибками или альтернативные названия того же жанра.\n",
    "\n",
    "Вы увидите следующие неявные дубликаты:\n",
    "* *hip*,\n",
    "* *hop*,\n",
    "* *hip-hop*.\n",
    "\n",
    "Чтобы очистить от них таблицу используйте метод `replace()` с двумя аргументами: списком строк-дубликатов (включащий *hip*, *hop* и *hip-hop*) и строкой с правильным значением. Вам нужно исправить колонку `genre` в таблице `df`: заменить каждое значение из списка дубликатов на верное. Вместо `hip`, `hop` и `hip-hop` в таблице должно быть значение `hiphop`:"
   ]
  },
  {
   "cell_type": "code",
   "execution_count": null,
   "metadata": {
    "deletable": false,
    "id": "ErNDkmns_Zct",
    "scrolled": false
   },
   "outputs": [],
   "source": [
    "# Устранение неявных дубликатов\n",
    "dupl = ['hip', 'hop', 'hip-hop']\n",
    "norm = 'hiphop'\n",
    "df['genre'] = df['genre'].replace(dupl, norm)\n",
    "df"
   ]
  },
  {
   "cell_type": "markdown",
   "metadata": {
    "deletable": false,
    "editable": false,
    "id": "zQKF16_RG15m",
    "tags": [
     "start_task"
    ]
   },
   "source": [
    "**Задание 17**\n",
    "\n",
    "Проверьте, что заменили неправильные названия:\n",
    "\n",
    "*   hip\n",
    "*   hop\n",
    "*   hip-hop\n",
    "\n",
    "Выведите отсортированный список уникальных значений столбца `genre`:"
   ]
  },
  {
   "cell_type": "code",
   "execution_count": null,
   "metadata": {
    "deletable": false,
    "id": "wvixALnFG15m"
   },
   "outputs": [],
   "source": [
    "# Проверка на неявные дубликаты\n",
    "df.sort_values(['genre'])['genre'].unique()"
   ]
  },
  {
   "cell_type": "markdown",
   "metadata": {
    "deletable": false,
    "editable": false,
    "id": "jz6a9-7HQUDd"
   },
   "source": [
    "**Выводы**\n",
    "\n",
    "Предобработка обнаружила три проблемы в данных:\n",
    "\n",
    "- нарушения в стиле заголовков,\n",
    "- пропущенные значения,\n",
    "- дубликаты — явные и неявные.\n",
    "\n",
    "Вы исправили заголовки, чтобы упростить работу с таблицей. Без дубликатов исследование станет более точным.\n",
    "\n",
    "Пропущенные значения вы заменили на `'unknown'`. Ещё предстоит увидеть, не повредят ли исследованию пропуски в колонке `genre`.\n",
    "\n",
    "Теперь можно перейти к проверке гипотез. "
   ]
  },
  {
   "cell_type": "markdown",
   "metadata": {
    "deletable": false,
    "editable": false,
    "id": "WttZHXH0SqKk"
   },
   "source": [
    "## Проверка гипотез"
   ]
  },
  {
   "cell_type": "markdown",
   "metadata": {
    "deletable": false,
    "editable": false,
    "id": "Im936VVi_Zcu"
   },
   "source": [
    "### Сравнение поведения пользователей двух столиц"
   ]
  },
  {
   "cell_type": "markdown",
   "metadata": {
    "deletable": false,
    "editable": false,
    "id": "nwt_MuaL_Zcu"
   },
   "source": [
    "Первая гипотеза утверждает, что пользователи по-разному слушают музыку в Москве и Санкт-Петербурге. Проверьте это предположение по данным о трёх днях недели — понедельнике, среде и пятнице. Для этого:\n",
    "\n",
    "* Разделите пользователей Москвы и Санкт-Петербурга\n",
    "* Сравните, сколько треков послушала каждая группа пользователей в понедельник, среду и пятницу.\n"
   ]
  },
  {
   "cell_type": "markdown",
   "metadata": {
    "deletable": false,
    "editable": false,
    "id": "8Dw_YMmT_Zcu",
    "tags": [
     "start_task"
    ]
   },
   "source": [
    "**Задание 18**\n",
    "\n",
    "Для тренировки сначала выполните каждый из расчётов по отдельности. \n",
    "\n",
    "Оцените активность пользователей в каждом городе. Сгруппируйте данные по городу и посчитайте прослушивания в каждой группе.\n",
    "\n"
   ]
  },
  {
   "cell_type": "code",
   "execution_count": null,
   "metadata": {
    "deletable": false,
    "id": "0_Qs96oh_Zcu"
   },
   "outputs": [],
   "source": [
    "# Подсчёт прослушиваний в каждом городе\n",
    "df.groupby('city')['user_id'].count()"
   ]
  },
  {
   "cell_type": "markdown",
   "metadata": {
    "deletable": false,
    "editable": false,
    "id": "dzli3w8o_Zcu",
    "tags": [
     "start_task"
    ]
   },
   "source": [
    "В Москве прослушиваний больше, чем в Петербурге. Из этого не следует, что московские пользователи чаще слушают музыку. Просто самих пользователей в Москве больше.\n",
    "\n",
    "**Задание 19**\n",
    "\n",
    "Теперь сгруппируйте данные по дню недели и подсчитайте прослушивания в понедельник, среду и пятницу. Учтите, что в данных есть информация только о прослушиваниях только за эти дни.\n"
   ]
  },
  {
   "cell_type": "code",
   "execution_count": null,
   "metadata": {
    "deletable": false,
    "id": "uZMKjiJz_Zcu"
   },
   "outputs": [],
   "source": [
    "# Подсчёт прослушиваний в каждый из трёх дней\n",
    "df.groupby('day')['user_id'].count()"
   ]
  },
  {
   "cell_type": "markdown",
   "metadata": {
    "deletable": false,
    "editable": false,
    "id": "cC2tNrlL_Zcu"
   },
   "source": [
    "В среднем пользователи из двух городов менее активны по средам. Но картина может измениться, если рассмотреть каждый город в отдельности."
   ]
  },
  {
   "cell_type": "markdown",
   "metadata": {
    "deletable": false,
    "editable": false,
    "id": "POzs8bGa_Zcu",
    "tags": [
     "start_task"
    ]
   },
   "source": [
    "**Задание 20**\n",
    "\n",
    "\n",
    "Вы видели, как работает группировка по городу и по дням недели. Теперь напишите функцию, которая объединит два эти расчёта.\n",
    "\n",
    "Создайте функцию `number_tracks()`, которая посчитает прослушивания для заданного дня и города. Ей понадобятся два параметра:\n",
    "* день недели,\n",
    "* название города.\n",
    "\n",
    "В функции сохраните в переменную строки исходной таблицы, у которых значение:\n",
    "  * в колонке `day` равно параметру `day`,\n",
    "  * в колонке `city` равно параметру `city`.\n",
    "\n",
    "Для этого примените последовательную фильтрацию с логической индексацией (или сложные логические выражения в одну строку, если вы уже знакомы с ними).\n",
    "\n",
    "Затем посчитайте значения в столбце `user_id` получившейся таблицы. Результат сохраните в новую переменную. Верните эту переменную из функции."
   ]
  },
  {
   "cell_type": "code",
   "execution_count": null,
   "metadata": {
    "deletable": false,
    "id": "Nz3GdQB1_Zcu"
   },
   "outputs": [],
   "source": [
    "# <создание функции number_tracks()> +\n",
    "# Объявляется функция с двумя параметрами: day, city. +\n",
    "# В переменной track_list сохраняются те строки таблицы df, для которых \n",
    "# значение в столбце 'day' равно параметру day и одновременно значение\n",
    "# в столбце 'city' равно параметру city (используйте последовательную фильтрацию\n",
    "# с помощью логической индексации или сложные логические выражения в одну строку, если вы уже знакомы с ними).\n",
    "# В переменной track_list_count сохраняется число значений столбца 'user_id',\n",
    "# рассчитанное методом count() для таблицы track_list.\n",
    "# Функция возвращает число - значение track_list_count.\n",
    "def number_tracks(day, city):\n",
    "    track_list = df[(df['day'] == day) & (df['city'] == city)]\n",
    "    track_list_count = track_list['user_id'].count()\n",
    "    return track_list_count\n",
    "\n",
    "# Функция для подсчёта прослушиваний для конкретного города и дня.\n",
    "# С помощью последовательной фильтрации с логической индексацией она \n",
    "# сначала получит из исходной таблицы строки с нужным днём,\n",
    "# затем из результата отфильтрует строки с нужным городом,\n",
    "# методом count() посчитает количество значений в колонке user_id. \n",
    "# Это количество функция вернёт в качестве результата"
   ]
  },
  {
   "cell_type": "markdown",
   "metadata": {
    "deletable": false,
    "editable": false,
    "id": "ytf7xFrFJQ2r",
    "tags": [
     "start_task"
    ]
   },
   "source": [
    "**Задание 21**\n",
    "\n",
    "Вызовите `number_tracks()` шесть раз, меняя значение параметров — так, чтобы получить данные для каждого города в каждый из трёх дней."
   ]
  },
  {
   "cell_type": "code",
   "execution_count": null,
   "metadata": {
    "deletable": false,
    "id": "rJcRATNQ_Zcu"
   },
   "outputs": [],
   "source": [
    "# количество прослушиваний в Москве по понедельникам\n",
    "number_tracks('Monday', 'Moscow')"
   ]
  },
  {
   "cell_type": "code",
   "execution_count": null,
   "metadata": {
    "deletable": false,
    "id": "hq_ncZ5T_Zcu"
   },
   "outputs": [],
   "source": [
    "# количество прослушиваний в Санкт-Петербурге по понедельникам\n",
    "number_tracks('Monday', 'Saint-Petersburg')"
   ]
  },
  {
   "cell_type": "code",
   "execution_count": null,
   "metadata": {
    "deletable": false,
    "id": "_NTy2VPU_Zcu"
   },
   "outputs": [],
   "source": [
    "# количество прослушиваний в Москве по средам\n",
    "number_tracks('Wednesday', 'Moscow')"
   ]
  },
  {
   "cell_type": "code",
   "execution_count": null,
   "metadata": {
    "deletable": false,
    "id": "j2y3TAwo_Zcu"
   },
   "outputs": [],
   "source": [
    "# количество прослушиваний в Санкт-Петербурге по средам\n",
    "number_tracks('Wednesday', 'Saint-Petersburg')"
   ]
  },
  {
   "cell_type": "code",
   "execution_count": null,
   "metadata": {
    "deletable": false,
    "id": "vYDw5u_K_Zcu"
   },
   "outputs": [],
   "source": [
    "# количество прослушиваний в Москве по пятницам\n",
    "number_tracks('Friday', 'Moscow')"
   ]
  },
  {
   "cell_type": "code",
   "execution_count": null,
   "metadata": {
    "deletable": false,
    "id": "8_yzFtW3_Zcu"
   },
   "outputs": [],
   "source": [
    "# количество прослушиваний в Санкт-Петербурге по пятницам\n",
    "number_tracks('Friday', 'Saint-Petersburg')"
   ]
  },
  {
   "cell_type": "markdown",
   "metadata": {
    "deletable": false,
    "editable": false,
    "id": "7QXffbO-_Zcu",
    "tags": [
     "start_task"
    ]
   },
   "source": [
    "**Задание 22**\n",
    "\n",
    "Создайте c помощью конструктора `pd.DataFrame` таблицу, где\n",
    "* названия колонок — `['city', 'monday', 'wednesday', 'friday']`;\n",
    "* данные — результаты, которые вы получили с помощью `number_tracks`."
   ]
  },
  {
   "cell_type": "code",
   "execution_count": null,
   "metadata": {
    "deletable": false,
    "id": "APAcLpOr_Zcu"
   },
   "outputs": [],
   "source": [
    "# Таблица с результатами\n",
    "info = pd.DataFrame(data = [['Москва', '15740', '11056', '15945'], ['Санкт-Петербург', '5614', '7003', '5895']], columns=['city', 'monday', 'wednesday', 'friday'])\n",
    "info"
   ]
  },
  {
   "cell_type": "markdown",
   "metadata": {
    "deletable": false,
    "editable": false,
    "id": "-EgPIHYu_Zcu"
   },
   "source": [
    "**Выводы**\n",
    "\n",
    "Данные показывают разницу поведения пользователей:\n",
    "\n",
    "- В Москве пик прослушиваний приходится на понедельник и пятницу, а в среду заметен спад.\n",
    "- В Петербурге, наоборот, больше слушают музыку по средам. Активность в понедельник и пятницу здесь почти в равной мере уступает среде.\n",
    "\n",
    "Значит, данные говорят в пользу первой гипотезы."
   ]
  },
  {
   "cell_type": "markdown",
   "metadata": {
    "deletable": false,
    "editable": false,
    "id": "atZAxtq4_Zcu"
   },
   "source": [
    "### Музыка в начале и в конце недели"
   ]
  },
  {
   "cell_type": "markdown",
   "metadata": {
    "deletable": false,
    "editable": false,
    "id": "eXrQqXFH_Zcu"
   },
   "source": [
    "Согласно второй гипотезе, утром в понедельник в Москве преобладают одни жанры, а в Петербурге — другие. Так же и вечером пятницы преобладают разные жанры — в зависимости от города."
   ]
  },
  {
   "cell_type": "markdown",
   "metadata": {
    "deletable": false,
    "editable": false,
    "id": "S8UcW6Hw_Zcu",
    "tags": [
     "start_task"
    ]
   },
   "source": [
    "**Задание 23**\n",
    "\n",
    "Сохраните таблицы с данными в две переменные:\n",
    "* по Москве — в `moscow_general`;\n",
    "* по Санкт-Петербургу — в `spb_general`."
   ]
  },
  {
   "cell_type": "code",
   "execution_count": null,
   "metadata": {
    "deletable": false,
    "id": "qeaFfM_P_Zcu"
   },
   "outputs": [],
   "source": [
    "# получение таблицы moscow_general из тех строк таблицы df, \n",
    "# для которых значение в столбце 'city' равно 'Moscow'\n",
    "moscow_general = df[df['city'] == 'Moscow']"
   ]
  },
  {
   "cell_type": "code",
   "execution_count": null,
   "metadata": {
    "deletable": false,
    "id": "ORaVRKto_Zcu"
   },
   "outputs": [],
   "source": [
    "# получение таблицы spb_general из тех строк таблицы df,\n",
    "# для которых значение в столбце 'city' равно 'Saint-Petersburg'\n",
    "spb_general = df[df['city'] == 'Saint-Petersburg']"
   ]
  },
  {
   "cell_type": "markdown",
   "metadata": {
    "deletable": false,
    "id": "MEJV-CX2_Zcu",
    "tags": [
     "start_task"
    ]
   },
   "source": [
    "**Задание 24**\n",
    "\n",
    "Создайте функцию `genre_weekday()` с четырьмя параметрами:\n",
    "* таблица (датафрейм) с данными,\n",
    "* день недели,\n",
    "* начальная временная метка в формате 'hh:mm', \n",
    "* последняя временная метка в формате 'hh:mm'.\n",
    "\n",
    "Функция должна вернуть информацию о топ-10 жанров тех треков, которые прослушивали в указанный день, в промежутке между двумя отметками времени."
   ]
  },
  {
   "cell_type": "code",
   "execution_count": null,
   "metadata": {
    "deletable": false,
    "id": "laJT9BYl_Zcu"
   },
   "outputs": [],
   "source": [
    "# Объявление функции genre_weekday() с параметрами table, day, time1, time2,\n",
    "# которая возвращает информацию о самых популярных жанрах в указанный день в\n",
    "# заданное время:\n",
    "# 1) в переменную genre_df сохраняются те строки переданного датафрейма table, для\n",
    "#    которых одновременно:\n",
    "#    - значение в столбце day равно значению аргумента day\n",
    "#    - значение в столбце time больше значения аргумента time1\n",
    "#    - значение в столбце time меньше значения аргумента time2\n",
    "#    Используйте последовательную фильтрацию с помощью логической индексации.\n",
    "# 2) сгруппировать датафрейм genre_df по столбцу genre, взять один из его\n",
    "#    столбцов и посчитать методом count() количество записей для каждого из\n",
    "#    присутствующих жанров, получившийся Series записать в переменную\n",
    "#    genre_df_grouped\n",
    "# 3) отсортировать genre_df_grouped по убыванию встречаемости и сохранить\n",
    "#    в переменную genre_df_sorted\n",
    "# 4) вернуть Series из 10 первых значений genre_df_sorted, это будут топ-10\n",
    "#    популярных жанров (в указанный день, в заданное время)\n",
    "\n",
    "def genre_weekday(df, day, time1, time2):\n",
    "    # последовательная фильтрация\n",
    "    # оставляем в genre_df только те строки df, у которых день равен day\n",
    "    genre_df = df[df['day'] == day] # ваш код здесь\n",
    "    # оставляем в genre_df только те строки genre_df, у которых время меньше time2\n",
    "    genre_df = genre_df[df['time'] < time2] # ваш код здесь\n",
    "    # оставляем в genre_df только те строки genre_df, у которых время больше time1\n",
    "    genre_df = genre_df[df['time'] > time1] # ваш код здесь\n",
    "    # сгруппируем отфильтрованный датафрейм по столбцу с названиями жанров, возьмём столбец genre и посчитаем кол-во строк для каждого жанра методом count()\n",
    "    genre_df_grouped = genre_df.groupby('genre')['genre'].count() # ваш код здесь\n",
    "    # отсортируем результат по убыванию (чтобы в начале Series оказались самые популярные жанры)\n",
    "    genre_df_sorted = genre_df_grouped.sort_values(ascending=False) # ваш код здесь\n",
    "    # вернём Series с 10 самыми популярными жанрами в указанный отрезок времени заданного дня\n",
    "    return genre_df_sorted[:10]"
   ]
  },
  {
   "cell_type": "markdown",
   "metadata": {
    "deletable": false,
    "editable": false,
    "id": "la2s2_PF_Zcu",
    "tags": [
     "start_task"
    ]
   },
   "source": [
    "**Задание 25**\n",
    "\n",
    "\n",
    "Cравните результаты функции `genre_weekday()` для Москвы и Санкт-Петербурга в понедельник утром (с 7:00 до 11:00) и в пятницу вечером (с 17:00 до 23:00):"
   ]
  },
  {
   "cell_type": "code",
   "execution_count": null,
   "metadata": {
    "deletable": false,
    "id": "yz7itPUQ_Zcu"
   },
   "outputs": [],
   "source": [
    "# вызов функции для утра понедельника в Москве (вместо df — таблица moscow_general)\n",
    "# объекты, хранящие время, являются строками и сравниваются как строки\n",
    "# пример вызова: genre_weekday(moscow_general, 'Monday', '07:00', '11:00')\n",
    "genre_weekday(moscow_general, 'Monday', '07:00', '11:00')"
   ]
  },
  {
   "cell_type": "code",
   "execution_count": null,
   "metadata": {
    "deletable": false,
    "id": "kwUcHPdy_Zcu"
   },
   "outputs": [],
   "source": [
    "# вызов функции для утра понедельника в Петербурге (вместо df — таблица spb_general)\n",
    "genre_weekday(spb_general, 'Monday', '07:00', '11:00')"
   ]
  },
  {
   "cell_type": "code",
   "execution_count": null,
   "metadata": {
    "deletable": false,
    "id": "EzXVRE1o_Zcu"
   },
   "outputs": [],
   "source": [
    "# вызов функции для вечера пятницы в Москве\n",
    "genre_weekday(moscow_general, 'Friday', '17:00', '23:00')"
   ]
  },
  {
   "cell_type": "code",
   "execution_count": null,
   "metadata": {
    "deletable": false,
    "id": "JZaEKu5v_Zcu"
   },
   "outputs": [],
   "source": [
    "# вызов функции для вечера пятницы в Петербурге\n",
    "genre_weekday(spb_general, 'Friday', '17:00', '23:00')"
   ]
  },
  {
   "cell_type": "markdown",
   "metadata": {
    "deletable": false,
    "editable": false,
    "id": "wrCe4MNX_Zcu"
   },
   "source": [
    "**Выводы**\n",
    "\n",
    "Если сравнить топ-10 жанров в понедельник утром, можно сделать такие выводы:\n",
    "\n",
    "1. В Москве и Петербурге слушают похожую музыку. Единственное отличие — в московский рейтинг вошёл жанр “world”, а в петербургский — джаз и классика.\n",
    "\n",
    "2. В Москве пропущенных значений оказалось так много, что значение `'unknown'` заняло десятое место среди самых популярных жанров. Значит, пропущенные значения занимают существенную долю в данных и угрожают достоверности исследования.\n",
    "\n",
    "Вечер пятницы не меняет эту картину. Некоторые жанры поднимаются немного выше, другие спускаются, но в целом топ-10 остаётся тем же самым.\n",
    "\n",
    "Таким образом, вторая гипотеза подтвердилась лишь частично:\n",
    "* Пользователи слушают похожую музыку в начале недели и в конце.\n",
    "* Разница между Москвой и Петербургом не слишком выражена. В Москве чаще слушают русскую популярную музыку, в Петербурге — джаз.\n",
    "\n",
    "Однако пропуски в данных ставят под сомнение этот результат. В Москве их так много, что рейтинг топ-10 мог бы выглядеть иначе, если бы не утерянные  данные о жанрах."
   ]
  },
  {
   "cell_type": "markdown",
   "metadata": {
    "deletable": false,
    "editable": false,
    "id": "JolODAqr_Zcu"
   },
   "source": [
    "### Жанровые предпочтения в Москве и Петербурге\n",
    "\n",
    "Гипотеза: Петербург — столица рэпа, музыку этого жанра там слушают чаще, чем в Москве.  А Москва — город контрастов, в котором, тем не менее, преобладает поп-музыка."
   ]
  },
  {
   "cell_type": "markdown",
   "metadata": {
    "deletable": false,
    "editable": false,
    "id": "DlegSvaT_Zcu",
    "tags": [
     "start_task"
    ]
   },
   "source": [
    "**Задание 26**\n",
    "\n",
    "Сгруппируйте таблицу `moscow_general` по жанру и посчитайте прослушивания треков каждого жанра методом `count()`. Затем отсортируйте результат в порядке убывания и сохраните его в таблице `moscow_genres`."
   ]
  },
  {
   "cell_type": "code",
   "execution_count": null,
   "metadata": {
    "deletable": false,
    "id": "r19lIPke_Zcu"
   },
   "outputs": [],
   "source": [
    "# одной строкой: группировка таблицы moscow_general по столбцу 'genre', \n",
    "# подсчёт числа значений 'genre' в этой группировке методом count(), \n",
    "# сортировка получившегося Series в порядке убывания и сохранение в moscow_genres\n",
    "moscow_genres = moscow_general.groupby('genre')['genre'].count().sort_values(ascending=False)"
   ]
  },
  {
   "cell_type": "markdown",
   "metadata": {
    "deletable": false,
    "editable": false,
    "id": "6kMuomxTiIr8",
    "tags": [
     "start_task"
    ]
   },
   "source": [
    "**Задание 27**\n",
    "\n",
    "Выведите на экран первые десять строк `moscow_genres`:"
   ]
  },
  {
   "cell_type": "code",
   "execution_count": null,
   "metadata": {
    "deletable": false,
    "id": "WhCSooF8_Zcv"
   },
   "outputs": [],
   "source": [
    "# просмотр первых 10 строк moscow_genres\n",
    "moscow_genres.head(10)"
   ]
  },
  {
   "cell_type": "markdown",
   "metadata": {
    "deletable": false,
    "editable": false,
    "id": "cnPG2vnN_Zcv",
    "tags": [
     "start_task"
    ]
   },
   "source": [
    "**Задание 28**\n",
    "\n",
    "\n",
    "Теперь повторите то же и для Петербурга.\n",
    "\n",
    "Сгруппируйте таблицу `spb_general` по жанру. Посчитайте прослушивания треков каждого жанра. Результат отсортируйте в порядке убывания и сохраните в таблице `spb_genres`:\n"
   ]
  },
  {
   "cell_type": "code",
   "execution_count": null,
   "metadata": {
    "deletable": false,
    "id": "gluLIpE7_Zcv"
   },
   "outputs": [],
   "source": [
    "# одной строкой: группировка таблицы spb_general по столбцу 'genre', \n",
    "# подсчёт числа значений 'genre' в этой группировке методом count(), \n",
    "# сортировка получившегося Series в порядке убывания и сохранение в spb_genres\n",
    "spb_genres = spb_general.groupby('genre')['genre'].count().sort_values(ascending=False)"
   ]
  },
  {
   "cell_type": "markdown",
   "metadata": {
    "deletable": false,
    "editable": false,
    "id": "5Doha_ODgyQ8",
    "tags": [
     "start_task"
    ]
   },
   "source": [
    "**Задание 29**\n",
    "\n",
    "Выведите на экран первые десять строк `spb_genres`:"
   ]
  },
  {
   "cell_type": "code",
   "execution_count": null,
   "metadata": {
    "deletable": false,
    "id": "uaGJHjVU_Zcv"
   },
   "outputs": [],
   "source": [
    "# просмотр первых 10 строк spb_genres\n",
    "spb_genres.head(10)"
   ]
  },
  {
   "cell_type": "markdown",
   "metadata": {
    "deletable": false,
    "editable": false,
    "id": "RY51YJYu_Zcv"
   },
   "source": [
    "**Выводы**"
   ]
  },
  {
   "cell_type": "markdown",
   "metadata": {
    "deletable": false,
    "editable": false,
    "id": "nVhnJEm__Zcv"
   },
   "source": [
    "Гипотеза частично подтвердилась:\n",
    "* Поп-музыка — самый популярный жанр в Москве, как и предполагала гипотеза. Более того, в топ-10 жанров встречается близкий жанр — русская популярная музыка.\n",
    "* Вопреки ожиданиям, рэп одинаково популярен в Москве и Петербурге. \n"
   ]
  },
  {
   "cell_type": "markdown",
   "metadata": {
    "deletable": false,
    "editable": false,
    "id": "ykKQ0N65_Zcv"
   },
   "source": [
    "## Итоги исследования"
   ]
  },
  {
   "cell_type": "markdown",
   "metadata": {
    "deletable": false,
    "editable": false,
    "id": "tjUwbHb3_Zcv"
   },
   "source": [
    "Вы проверили три гипотезы и установили:\n",
    "\n",
    "1. День недели по-разному влияет на активность пользователей в Москве и Петербурге. \n",
    "\n",
    "Первая гипотеза полностью подтвердилась.\n",
    "\n",
    "2. Музыкальные предпочтения не сильно меняются в течение недели — будь то Москва или Петербург. Небольшие различия заметны в начале недели, по понедельникам:\n",
    "* в Москве слушают музыку жанра “world”,\n",
    "* в Петербурге — джаз и классику.\n",
    "\n",
    "Таким образом, вторая гипотеза подтвердилась лишь отчасти. Этот результат мог оказаться иным, если бы не пропуски в данных.\n",
    "\n",
    "3. Во вкусах пользователей Москвы и Петербурга больше общего чем различий. Вопреки ожиданиям, предпочтения жанров в Петербурге напоминают московские.\n",
    "\n",
    "Третья гипотеза не подтвердилась. Если различия в предпочтениях и существуют, на основной массе пользователей они незаметны.\n",
    "\n",
    "**На практике исследования содержат проверки статистических гипотез.**\n",
    "Из данных одного сервиса не всегда можно сделать вывод о всех жителях города.\n",
    "Проверки статистических гипотез покажут, насколько они достоверны, исходя из имеющихся данных. \n",
    "С методами проверок гипотез вы ещё познакомитесь в следующих темах."
   ]
  }
 ],
 "metadata": {
  "ExecuteTimeLog": [
   {
    "duration": 42,
    "start_time": "2023-03-05T20:36:10.192Z"
   },
   {
    "duration": 5,
    "start_time": "2023-03-05T20:36:19.229Z"
   },
   {
    "duration": 354,
    "start_time": "2023-03-05T20:38:03.016Z"
   },
   {
    "duration": 49,
    "start_time": "2023-03-05T20:38:48.851Z"
   },
   {
    "duration": 146,
    "start_time": "2023-03-05T20:40:16.597Z"
   },
   {
    "duration": 171,
    "start_time": "2023-03-05T20:40:23.877Z"
   },
   {
    "duration": 15,
    "start_time": "2023-03-05T20:40:30.839Z"
   },
   {
    "duration": 43,
    "start_time": "2023-03-05T20:40:41.926Z"
   },
   {
    "duration": 3,
    "start_time": "2023-03-05T20:45:31.438Z"
   },
   {
    "duration": 10,
    "start_time": "2023-03-05T20:49:18.610Z"
   },
   {
    "duration": 12,
    "start_time": "2023-03-05T20:49:21.191Z"
   },
   {
    "duration": 8,
    "start_time": "2023-03-05T20:52:45.393Z"
   },
   {
    "duration": 8,
    "start_time": "2023-03-05T20:52:50.120Z"
   },
   {
    "duration": 3,
    "start_time": "2023-03-05T20:53:04.721Z"
   },
   {
    "duration": 5,
    "start_time": "2023-03-05T20:55:53.656Z"
   },
   {
    "duration": 4,
    "start_time": "2023-03-05T20:55:57.503Z"
   },
   {
    "duration": 9,
    "start_time": "2023-03-05T20:56:01.378Z"
   },
   {
    "duration": 5,
    "start_time": "2023-03-05T20:56:03.658Z"
   },
   {
    "duration": 49,
    "start_time": "2023-03-06T04:57:19.699Z"
   },
   {
    "duration": 7,
    "start_time": "2023-03-06T04:57:27.570Z"
   },
   {
    "duration": 5,
    "start_time": "2023-03-06T04:57:33.705Z"
   },
   {
    "duration": 408,
    "start_time": "2023-03-06T04:57:35.652Z"
   },
   {
    "duration": 463,
    "start_time": "2023-03-06T04:57:38.789Z"
   },
   {
    "duration": 8,
    "start_time": "2023-03-06T04:57:53.906Z"
   },
   {
    "duration": 44,
    "start_time": "2023-03-06T04:57:56.274Z"
   },
   {
    "duration": 35,
    "start_time": "2023-03-06T04:58:12.042Z"
   },
   {
    "duration": 15,
    "start_time": "2023-03-06T04:58:26.755Z"
   },
   {
    "duration": 4,
    "start_time": "2023-03-06T04:58:28.370Z"
   },
   {
    "duration": 39,
    "start_time": "2023-03-06T04:58:30.921Z"
   },
   {
    "duration": 2,
    "start_time": "2023-03-06T05:03:20.125Z"
   },
   {
    "duration": 153,
    "start_time": "2023-03-06T05:03:22.647Z"
   },
   {
    "duration": 10,
    "start_time": "2023-03-06T05:03:25.052Z"
   },
   {
    "duration": 25,
    "start_time": "2023-03-06T05:03:28.732Z"
   },
   {
    "duration": 3,
    "start_time": "2023-03-06T05:03:35.580Z"
   },
   {
    "duration": 8,
    "start_time": "2023-03-06T05:03:37.980Z"
   },
   {
    "duration": 6,
    "start_time": "2023-03-06T05:03:40.012Z"
   },
   {
    "duration": 20,
    "start_time": "2023-03-06T05:03:42.778Z"
   },
   {
    "duration": 3,
    "start_time": "2023-03-06T05:47:04.212Z"
   },
   {
    "duration": 4,
    "start_time": "2023-03-06T05:47:06.845Z"
   },
   {
    "duration": 15,
    "start_time": "2023-03-06T07:14:53.328Z"
   },
   {
    "duration": 43,
    "start_time": "2023-03-06T07:14:57.745Z"
   },
   {
    "duration": 14,
    "start_time": "2023-03-06T07:47:05.182Z"
   },
   {
    "duration": 21,
    "start_time": "2023-03-06T07:47:43.785Z"
   },
   {
    "duration": 72,
    "start_time": "2023-03-06T07:49:02.431Z"
   },
   {
    "duration": 77,
    "start_time": "2023-03-06T07:52:46.119Z"
   },
   {
    "duration": 63,
    "start_time": "2023-03-06T07:52:48.579Z"
   },
   {
    "duration": 53,
    "start_time": "2023-03-06T07:53:17.084Z"
   },
   {
    "duration": 69,
    "start_time": "2023-03-06T08:42:31.828Z"
   },
   {
    "duration": 107,
    "start_time": "2023-03-06T08:45:27.680Z"
   },
   {
    "duration": 53,
    "start_time": "2023-03-06T08:45:49.387Z"
   },
   {
    "duration": 52,
    "start_time": "2023-03-06T08:46:27.185Z"
   },
   {
    "duration": 3,
    "start_time": "2023-03-06T08:54:37.016Z"
   },
   {
    "duration": 5,
    "start_time": "2023-03-06T08:54:44.346Z"
   },
   {
    "duration": 47,
    "start_time": "2023-03-06T08:57:32.297Z"
   },
   {
    "duration": 11,
    "start_time": "2023-03-06T08:57:44.789Z"
   },
   {
    "duration": 62,
    "start_time": "2023-03-06T09:02:20.526Z"
   },
   {
    "duration": 55,
    "start_time": "2023-03-06T09:02:25.969Z"
   },
   {
    "duration": 96,
    "start_time": "2023-03-06T10:05:19.433Z"
   },
   {
    "duration": 1125,
    "start_time": "2023-03-06T10:05:42.520Z"
   },
   {
    "duration": 763,
    "start_time": "2023-03-06T10:08:49.321Z"
   },
   {
    "duration": 76,
    "start_time": "2023-03-06T10:09:16.646Z"
   },
   {
    "duration": 71,
    "start_time": "2023-03-06T10:09:46.831Z"
   },
   {
    "duration": 84,
    "start_time": "2023-03-06T10:10:13.133Z"
   },
   {
    "duration": 16,
    "start_time": "2023-03-06T10:12:07.473Z"
   },
   {
    "duration": 9,
    "start_time": "2023-03-06T11:03:06.246Z"
   },
   {
    "duration": 8,
    "start_time": "2023-03-06T11:11:34.086Z"
   },
   {
    "duration": 608,
    "start_time": "2023-03-06T11:11:42.928Z"
   },
   {
    "duration": 625,
    "start_time": "2023-03-06T11:11:55.782Z"
   },
   {
    "duration": 733,
    "start_time": "2023-03-06T11:16:35.610Z"
   },
   {
    "duration": 413,
    "start_time": "2023-03-06T18:22:19.649Z"
   },
   {
    "duration": 476,
    "start_time": "2023-03-06T18:22:21.945Z"
   },
   {
    "duration": 18,
    "start_time": "2023-03-06T18:22:24.298Z"
   },
   {
    "duration": 28,
    "start_time": "2023-03-06T18:22:26.834Z"
   },
   {
    "duration": 4,
    "start_time": "2023-03-06T18:22:33.690Z"
   },
   {
    "duration": 11,
    "start_time": "2023-03-06T18:22:36.266Z"
   },
   {
    "duration": 3,
    "start_time": "2023-03-06T18:22:37.410Z"
   },
   {
    "duration": 22,
    "start_time": "2023-03-06T18:22:39.249Z"
   },
   {
    "duration": 17,
    "start_time": "2023-03-06T18:22:42.074Z"
   },
   {
    "duration": 24,
    "start_time": "2023-03-06T18:22:43.306Z"
   },
   {
    "duration": 77,
    "start_time": "2023-03-06T18:22:45.138Z"
   },
   {
    "duration": 78,
    "start_time": "2023-03-06T18:22:46.498Z"
   },
   {
    "duration": 61,
    "start_time": "2023-03-06T18:22:48.074Z"
   },
   {
    "duration": 33,
    "start_time": "2023-03-06T18:23:38.759Z"
   },
   {
    "duration": 686,
    "start_time": "2023-03-06T18:23:44.503Z"
   },
   {
    "duration": 536,
    "start_time": "2023-03-06T18:23:57.170Z"
   },
   {
    "duration": 674,
    "start_time": "2023-03-06T18:24:41.404Z"
   },
   {
    "duration": 683,
    "start_time": "2023-03-06T18:24:46.917Z"
   },
   {
    "duration": 821,
    "start_time": "2023-03-06T18:25:00.189Z"
   },
   {
    "duration": 520,
    "start_time": "2023-03-06T18:25:22.834Z"
   },
   {
    "duration": 487,
    "start_time": "2023-03-06T18:25:34.528Z"
   },
   {
    "duration": 570,
    "start_time": "2023-03-06T18:27:31.608Z"
   },
   {
    "duration": 575,
    "start_time": "2023-03-06T18:29:45.059Z"
   },
   {
    "duration": 5,
    "start_time": "2023-03-06T18:29:51.507Z"
   },
   {
    "duration": 5,
    "start_time": "2023-03-06T18:29:53.564Z"
   },
   {
    "duration": 4,
    "start_time": "2023-03-06T18:29:57.433Z"
   },
   {
    "duration": 4,
    "start_time": "2023-03-06T18:29:59.392Z"
   },
   {
    "duration": 4,
    "start_time": "2023-03-06T18:30:00.732Z"
   },
   {
    "duration": 5,
    "start_time": "2023-03-06T18:30:03.347Z"
   },
   {
    "duration": 5,
    "start_time": "2023-03-06T18:30:06.888Z"
   },
   {
    "duration": 603,
    "start_time": "2023-03-06T18:30:09.452Z"
   },
   {
    "duration": 3,
    "start_time": "2023-03-06T18:30:15.836Z"
   },
   {
    "duration": 176,
    "start_time": "2023-03-06T18:30:18.205Z"
   },
   {
    "duration": 12,
    "start_time": "2023-03-06T18:30:21.342Z"
   },
   {
    "duration": 29,
    "start_time": "2023-03-06T18:30:24.542Z"
   },
   {
    "duration": 4,
    "start_time": "2023-03-06T18:30:29.894Z"
   },
   {
    "duration": 6,
    "start_time": "2023-03-06T18:30:33.338Z"
   },
   {
    "duration": 4,
    "start_time": "2023-03-06T18:30:36.279Z"
   },
   {
    "duration": 23,
    "start_time": "2023-03-06T18:30:40.789Z"
   },
   {
    "duration": 18,
    "start_time": "2023-03-06T18:30:43.937Z"
   },
   {
    "duration": 16,
    "start_time": "2023-03-06T18:30:46.535Z"
   },
   {
    "duration": 22,
    "start_time": "2023-03-06T18:30:49.271Z"
   },
   {
    "duration": 63,
    "start_time": "2023-03-06T18:30:54.137Z"
   },
   {
    "duration": 82,
    "start_time": "2023-03-06T18:30:57.409Z"
   },
   {
    "duration": 55,
    "start_time": "2023-03-06T18:30:59.865Z"
   },
   {
    "duration": 7,
    "start_time": "2023-03-06T18:31:02.913Z"
   },
   {
    "duration": 30,
    "start_time": "2023-03-06T18:31:21.626Z"
   },
   {
    "duration": 554,
    "start_time": "2023-03-06T18:31:25.723Z"
   },
   {
    "duration": 533,
    "start_time": "2023-03-06T18:32:41.817Z"
   },
   {
    "duration": 545,
    "start_time": "2023-03-06T18:32:49.538Z"
   },
   {
    "duration": 515,
    "start_time": "2023-03-06T18:33:04.154Z"
   },
   {
    "duration": 7,
    "start_time": "2023-03-06T18:33:10.747Z"
   },
   {
    "duration": 8,
    "start_time": "2023-03-06T18:33:17.998Z"
   },
   {
    "duration": 430,
    "start_time": "2023-03-06T18:33:24.928Z"
   },
   {
    "duration": 166,
    "start_time": "2023-03-06T18:33:25.360Z"
   },
   {
    "duration": 17,
    "start_time": "2023-03-06T18:33:25.529Z"
   },
   {
    "duration": 28,
    "start_time": "2023-03-06T18:33:25.548Z"
   },
   {
    "duration": 3,
    "start_time": "2023-03-06T18:33:25.578Z"
   },
   {
    "duration": 36,
    "start_time": "2023-03-06T18:33:25.582Z"
   },
   {
    "duration": 13,
    "start_time": "2023-03-06T18:33:25.620Z"
   },
   {
    "duration": 30,
    "start_time": "2023-03-06T18:33:25.635Z"
   },
   {
    "duration": 37,
    "start_time": "2023-03-06T18:33:25.667Z"
   },
   {
    "duration": 22,
    "start_time": "2023-03-06T18:33:25.707Z"
   },
   {
    "duration": 26,
    "start_time": "2023-03-06T18:33:25.731Z"
   },
   {
    "duration": 70,
    "start_time": "2023-03-06T18:33:25.758Z"
   },
   {
    "duration": 77,
    "start_time": "2023-03-06T18:33:25.830Z"
   },
   {
    "duration": 60,
    "start_time": "2023-03-06T18:33:25.921Z"
   },
   {
    "duration": 5,
    "start_time": "2023-03-06T18:33:25.983Z"
   },
   {
    "duration": 12,
    "start_time": "2023-03-06T18:33:25.989Z"
   },
   {
    "duration": 10,
    "start_time": "2023-03-06T18:33:26.002Z"
   },
   {
    "duration": 14,
    "start_time": "2023-03-06T18:33:26.021Z"
   },
   {
    "duration": 16,
    "start_time": "2023-03-06T18:33:26.037Z"
   },
   {
    "duration": 23,
    "start_time": "2023-03-06T18:33:26.054Z"
   },
   {
    "duration": 18,
    "start_time": "2023-03-06T18:33:26.080Z"
   },
   {
    "duration": 16,
    "start_time": "2023-03-06T18:33:26.100Z"
   },
   {
    "duration": 19,
    "start_time": "2023-03-06T18:33:26.118Z"
   },
   {
    "duration": 18,
    "start_time": "2023-03-06T18:33:26.138Z"
   },
   {
    "duration": 12,
    "start_time": "2023-03-06T18:33:26.158Z"
   },
   {
    "duration": 17,
    "start_time": "2023-03-06T18:33:26.172Z"
   },
   {
    "duration": 12,
    "start_time": "2023-03-06T18:33:26.191Z"
   },
   {
    "duration": 2,
    "start_time": "2023-03-06T18:33:26.207Z"
   },
   {
    "duration": 14,
    "start_time": "2023-03-06T18:33:26.210Z"
   },
   {
    "duration": 51,
    "start_time": "2023-03-06T18:33:26.226Z"
   },
   {
    "duration": 0,
    "start_time": "2023-03-06T18:33:26.279Z"
   },
   {
    "duration": 0,
    "start_time": "2023-03-06T18:33:26.280Z"
   },
   {
    "duration": 0,
    "start_time": "2023-03-06T18:33:26.281Z"
   },
   {
    "duration": 0,
    "start_time": "2023-03-06T18:33:26.282Z"
   },
   {
    "duration": 0,
    "start_time": "2023-03-06T18:33:26.283Z"
   },
   {
    "duration": 0,
    "start_time": "2023-03-06T18:33:26.284Z"
   },
   {
    "duration": 0,
    "start_time": "2023-03-06T18:33:26.285Z"
   },
   {
    "duration": 0,
    "start_time": "2023-03-06T18:33:26.286Z"
   },
   {
    "duration": 93,
    "start_time": "2023-03-06T18:34:09.212Z"
   },
   {
    "duration": 411,
    "start_time": "2023-03-06T18:34:16.035Z"
   },
   {
    "duration": 167,
    "start_time": "2023-03-06T18:34:16.448Z"
   },
   {
    "duration": 19,
    "start_time": "2023-03-06T18:34:16.617Z"
   },
   {
    "duration": 28,
    "start_time": "2023-03-06T18:34:16.639Z"
   },
   {
    "duration": 3,
    "start_time": "2023-03-06T18:34:16.668Z"
   },
   {
    "duration": 5,
    "start_time": "2023-03-06T18:34:16.673Z"
   },
   {
    "duration": 42,
    "start_time": "2023-03-06T18:34:16.680Z"
   },
   {
    "duration": 5,
    "start_time": "2023-03-06T18:34:16.724Z"
   },
   {
    "duration": 24,
    "start_time": "2023-03-06T18:34:16.730Z"
   },
   {
    "duration": 18,
    "start_time": "2023-03-06T18:34:16.756Z"
   },
   {
    "duration": 46,
    "start_time": "2023-03-06T18:34:16.776Z"
   },
   {
    "duration": 67,
    "start_time": "2023-03-06T18:34:16.824Z"
   },
   {
    "duration": 91,
    "start_time": "2023-03-06T18:34:16.893Z"
   },
   {
    "duration": 67,
    "start_time": "2023-03-06T18:34:16.986Z"
   },
   {
    "duration": 72,
    "start_time": "2023-03-06T18:34:17.055Z"
   },
   {
    "duration": 0,
    "start_time": "2023-03-06T18:34:17.129Z"
   },
   {
    "duration": 0,
    "start_time": "2023-03-06T18:34:17.131Z"
   },
   {
    "duration": 0,
    "start_time": "2023-03-06T18:34:17.133Z"
   },
   {
    "duration": 0,
    "start_time": "2023-03-06T18:34:17.134Z"
   },
   {
    "duration": 0,
    "start_time": "2023-03-06T18:34:17.135Z"
   },
   {
    "duration": 0,
    "start_time": "2023-03-06T18:34:17.136Z"
   },
   {
    "duration": 0,
    "start_time": "2023-03-06T18:34:17.137Z"
   },
   {
    "duration": 0,
    "start_time": "2023-03-06T18:34:17.139Z"
   },
   {
    "duration": 0,
    "start_time": "2023-03-06T18:34:17.140Z"
   },
   {
    "duration": 0,
    "start_time": "2023-03-06T18:34:17.141Z"
   },
   {
    "duration": 0,
    "start_time": "2023-03-06T18:34:17.142Z"
   },
   {
    "duration": 0,
    "start_time": "2023-03-06T18:34:17.143Z"
   },
   {
    "duration": 0,
    "start_time": "2023-03-06T18:34:17.144Z"
   },
   {
    "duration": 0,
    "start_time": "2023-03-06T18:34:17.145Z"
   },
   {
    "duration": 0,
    "start_time": "2023-03-06T18:34:17.147Z"
   },
   {
    "duration": 0,
    "start_time": "2023-03-06T18:34:17.148Z"
   },
   {
    "duration": 0,
    "start_time": "2023-03-06T18:34:17.149Z"
   },
   {
    "duration": 0,
    "start_time": "2023-03-06T18:34:17.150Z"
   },
   {
    "duration": 0,
    "start_time": "2023-03-06T18:34:17.151Z"
   },
   {
    "duration": 0,
    "start_time": "2023-03-06T18:34:17.152Z"
   },
   {
    "duration": 0,
    "start_time": "2023-03-06T18:34:17.153Z"
   },
   {
    "duration": 0,
    "start_time": "2023-03-06T18:34:17.154Z"
   },
   {
    "duration": 0,
    "start_time": "2023-03-06T18:34:17.155Z"
   },
   {
    "duration": 39,
    "start_time": "2023-03-06T18:34:45.909Z"
   },
   {
    "duration": 44,
    "start_time": "2023-03-06T18:34:48.912Z"
   },
   {
    "duration": 51,
    "start_time": "2023-03-06T18:34:57.319Z"
   },
   {
    "duration": 57,
    "start_time": "2023-03-06T18:35:28.413Z"
   },
   {
    "duration": 47,
    "start_time": "2023-03-06T18:35:56.327Z"
   },
   {
    "duration": 48,
    "start_time": "2023-03-06T18:36:42.977Z"
   },
   {
    "duration": 7,
    "start_time": "2023-03-06T18:37:25.938Z"
   },
   {
    "duration": 39,
    "start_time": "2023-03-06T18:38:15.006Z"
   },
   {
    "duration": 40,
    "start_time": "2023-03-06T18:38:17.269Z"
   },
   {
    "duration": 48,
    "start_time": "2023-03-06T18:38:20.909Z"
   },
   {
    "duration": 5,
    "start_time": "2023-03-06T18:38:26.277Z"
   },
   {
    "duration": 8,
    "start_time": "2023-03-06T18:40:23.723Z"
   },
   {
    "duration": 8,
    "start_time": "2023-03-06T18:46:56.403Z"
   },
   {
    "duration": 9,
    "start_time": "2023-03-06T18:47:38.229Z"
   },
   {
    "duration": 45,
    "start_time": "2023-03-06T18:47:56.806Z"
   },
   {
    "duration": 67,
    "start_time": "2023-03-06T18:48:16.409Z"
   },
   {
    "duration": 11,
    "start_time": "2023-03-06T18:50:12.626Z"
   },
   {
    "duration": 78,
    "start_time": "2023-03-06T18:50:19.165Z"
   },
   {
    "duration": 81,
    "start_time": "2023-03-06T18:51:04.972Z"
   },
   {
    "duration": 16,
    "start_time": "2023-03-06T18:52:10.608Z"
   },
   {
    "duration": 19,
    "start_time": "2023-03-06T18:52:15.177Z"
   },
   {
    "duration": 24,
    "start_time": "2023-03-06T18:52:18.011Z"
   },
   {
    "duration": 404,
    "start_time": "2023-03-07T08:45:49.435Z"
   },
   {
    "duration": 443,
    "start_time": "2023-03-07T08:45:49.841Z"
   },
   {
    "duration": 16,
    "start_time": "2023-03-07T08:45:50.286Z"
   },
   {
    "duration": 27,
    "start_time": "2023-03-07T08:45:50.304Z"
   },
   {
    "duration": 2,
    "start_time": "2023-03-07T08:45:50.333Z"
   },
   {
    "duration": 10,
    "start_time": "2023-03-07T08:45:50.336Z"
   },
   {
    "duration": 14,
    "start_time": "2023-03-07T08:45:50.347Z"
   },
   {
    "duration": 6,
    "start_time": "2023-03-07T08:45:50.362Z"
   },
   {
    "duration": 43,
    "start_time": "2023-03-07T08:45:50.369Z"
   },
   {
    "duration": 20,
    "start_time": "2023-03-07T08:45:50.416Z"
   },
   {
    "duration": 23,
    "start_time": "2023-03-07T08:45:50.438Z"
   },
   {
    "duration": 91,
    "start_time": "2023-03-07T08:45:50.462Z"
   },
   {
    "duration": 74,
    "start_time": "2023-03-07T08:45:50.555Z"
   },
   {
    "duration": 67,
    "start_time": "2023-03-07T08:45:50.632Z"
   },
   {
    "duration": 56,
    "start_time": "2023-03-07T08:45:50.700Z"
   },
   {
    "duration": 24,
    "start_time": "2023-03-07T08:45:50.758Z"
   },
   {
    "duration": 2,
    "start_time": "2023-03-07T08:45:50.784Z"
   },
   {
    "duration": 2,
    "start_time": "2023-03-07T08:45:50.812Z"
   },
   {
    "duration": 7,
    "start_time": "2023-03-07T08:45:50.816Z"
   },
   {
    "duration": 13,
    "start_time": "2023-03-07T08:45:50.825Z"
   },
   {
    "duration": 12,
    "start_time": "2023-03-07T08:45:50.840Z"
   },
   {
    "duration": 6,
    "start_time": "2023-03-07T08:45:50.854Z"
   },
   {
    "duration": 6,
    "start_time": "2023-03-07T08:45:50.862Z"
   },
   {
    "duration": 29,
    "start_time": "2023-03-07T08:45:50.870Z"
   },
   {
    "duration": 18,
    "start_time": "2023-03-07T08:45:50.900Z"
   },
   {
    "duration": 5,
    "start_time": "2023-03-07T08:45:50.920Z"
   },
   {
    "duration": 6,
    "start_time": "2023-03-07T08:45:50.926Z"
   },
   {
    "duration": 13,
    "start_time": "2023-03-07T08:45:50.935Z"
   },
   {
    "duration": 17,
    "start_time": "2023-03-07T08:45:50.949Z"
   },
   {
    "duration": 48,
    "start_time": "2023-03-07T08:45:50.968Z"
   },
   {
    "duration": 0,
    "start_time": "2023-03-07T08:45:51.018Z"
   },
   {
    "duration": 0,
    "start_time": "2023-03-07T08:45:51.019Z"
   },
   {
    "duration": 0,
    "start_time": "2023-03-07T08:45:51.021Z"
   },
   {
    "duration": 0,
    "start_time": "2023-03-07T08:45:51.023Z"
   },
   {
    "duration": 0,
    "start_time": "2023-03-07T08:45:51.024Z"
   },
   {
    "duration": 0,
    "start_time": "2023-03-07T08:45:51.025Z"
   },
   {
    "duration": 0,
    "start_time": "2023-03-07T08:45:51.026Z"
   },
   {
    "duration": 0,
    "start_time": "2023-03-07T08:45:51.028Z"
   },
   {
    "duration": 76,
    "start_time": "2023-03-07T08:51:42.310Z"
   },
   {
    "duration": 399,
    "start_time": "2023-03-07T08:53:19.677Z"
   },
   {
    "duration": 175,
    "start_time": "2023-03-07T08:53:20.078Z"
   },
   {
    "duration": 18,
    "start_time": "2023-03-07T08:53:20.255Z"
   },
   {
    "duration": 44,
    "start_time": "2023-03-07T08:53:20.275Z"
   },
   {
    "duration": 2,
    "start_time": "2023-03-07T08:53:20.322Z"
   },
   {
    "duration": 12,
    "start_time": "2023-03-07T08:53:20.326Z"
   },
   {
    "duration": 32,
    "start_time": "2023-03-07T08:53:20.339Z"
   },
   {
    "duration": 13,
    "start_time": "2023-03-07T08:53:20.373Z"
   },
   {
    "duration": 30,
    "start_time": "2023-03-07T08:53:20.388Z"
   },
   {
    "duration": 21,
    "start_time": "2023-03-07T08:53:20.420Z"
   },
   {
    "duration": 31,
    "start_time": "2023-03-07T08:53:20.443Z"
   },
   {
    "duration": 74,
    "start_time": "2023-03-07T08:53:20.476Z"
   },
   {
    "duration": 81,
    "start_time": "2023-03-07T08:53:20.552Z"
   },
   {
    "duration": 77,
    "start_time": "2023-03-07T08:53:20.636Z"
   },
   {
    "duration": 48,
    "start_time": "2023-03-07T08:53:20.715Z"
   },
   {
    "duration": 90,
    "start_time": "2023-03-07T08:53:20.765Z"
   },
   {
    "duration": 0,
    "start_time": "2023-03-07T08:53:20.857Z"
   },
   {
    "duration": 0,
    "start_time": "2023-03-07T08:53:20.858Z"
   },
   {
    "duration": 0,
    "start_time": "2023-03-07T08:53:20.859Z"
   },
   {
    "duration": 0,
    "start_time": "2023-03-07T08:53:20.860Z"
   },
   {
    "duration": 0,
    "start_time": "2023-03-07T08:53:20.861Z"
   },
   {
    "duration": 0,
    "start_time": "2023-03-07T08:53:20.862Z"
   },
   {
    "duration": 0,
    "start_time": "2023-03-07T08:53:20.864Z"
   },
   {
    "duration": 0,
    "start_time": "2023-03-07T08:53:20.865Z"
   },
   {
    "duration": 0,
    "start_time": "2023-03-07T08:53:20.866Z"
   },
   {
    "duration": 0,
    "start_time": "2023-03-07T08:53:20.868Z"
   },
   {
    "duration": 0,
    "start_time": "2023-03-07T08:53:20.869Z"
   },
   {
    "duration": 0,
    "start_time": "2023-03-07T08:53:20.870Z"
   },
   {
    "duration": 0,
    "start_time": "2023-03-07T08:53:20.871Z"
   },
   {
    "duration": 0,
    "start_time": "2023-03-07T08:53:20.873Z"
   },
   {
    "duration": 0,
    "start_time": "2023-03-07T08:53:20.874Z"
   },
   {
    "duration": 0,
    "start_time": "2023-03-07T08:53:20.875Z"
   },
   {
    "duration": 0,
    "start_time": "2023-03-07T08:53:20.877Z"
   },
   {
    "duration": 0,
    "start_time": "2023-03-07T08:53:20.878Z"
   },
   {
    "duration": 0,
    "start_time": "2023-03-07T08:53:20.879Z"
   },
   {
    "duration": 0,
    "start_time": "2023-03-07T08:53:20.913Z"
   },
   {
    "duration": 0,
    "start_time": "2023-03-07T08:53:20.914Z"
   },
   {
    "duration": 0,
    "start_time": "2023-03-07T08:53:20.915Z"
   },
   {
    "duration": 9,
    "start_time": "2023-03-07T08:53:42.412Z"
   },
   {
    "duration": 20,
    "start_time": "2023-03-07T08:56:53.789Z"
   },
   {
    "duration": 48,
    "start_time": "2023-03-07T08:57:58.096Z"
   },
   {
    "duration": 33,
    "start_time": "2023-03-07T09:18:41.297Z"
   },
   {
    "duration": 12,
    "start_time": "2023-03-07T09:20:17.785Z"
   },
   {
    "duration": 4,
    "start_time": "2023-03-07T09:21:01.909Z"
   },
   {
    "duration": 33,
    "start_time": "2023-03-07T09:22:45.456Z"
   },
   {
    "duration": 12,
    "start_time": "2023-03-07T09:23:19.643Z"
   },
   {
    "duration": 4,
    "start_time": "2023-03-07T10:02:45.808Z"
   },
   {
    "duration": 4,
    "start_time": "2023-03-07T10:03:20.575Z"
   },
   {
    "duration": 4,
    "start_time": "2023-03-07T10:03:52.831Z"
   },
   {
    "duration": 3,
    "start_time": "2023-03-07T10:23:17.812Z"
   },
   {
    "duration": 6,
    "start_time": "2023-03-07T10:28:53.185Z"
   },
   {
    "duration": 5,
    "start_time": "2023-03-07T10:29:14.211Z"
   },
   {
    "duration": 19,
    "start_time": "2023-03-07T10:29:35.940Z"
   },
   {
    "duration": 14,
    "start_time": "2023-03-07T10:30:47.553Z"
   },
   {
    "duration": 18,
    "start_time": "2023-03-07T10:30:49.419Z"
   },
   {
    "duration": 14,
    "start_time": "2023-03-07T10:30:50.987Z"
   },
   {
    "duration": 15,
    "start_time": "2023-03-07T10:30:52.555Z"
   },
   {
    "duration": 15,
    "start_time": "2023-03-07T10:30:53.689Z"
   },
   {
    "duration": 46,
    "start_time": "2023-03-07T10:43:09.398Z"
   },
   {
    "duration": 52,
    "start_time": "2023-03-07T10:43:17.235Z"
   },
   {
    "duration": 9,
    "start_time": "2023-03-07T10:43:56.088Z"
   },
   {
    "duration": 7,
    "start_time": "2023-03-07T10:46:42.455Z"
   },
   {
    "duration": 11,
    "start_time": "2023-03-07T10:46:58.457Z"
   },
   {
    "duration": 13,
    "start_time": "2023-03-07T10:47:00.240Z"
   },
   {
    "duration": 8,
    "start_time": "2023-03-07T10:47:04.632Z"
   },
   {
    "duration": 455,
    "start_time": "2023-03-07T14:42:31.516Z"
   },
   {
    "duration": 272,
    "start_time": "2023-03-07T14:42:31.973Z"
   },
   {
    "duration": 19,
    "start_time": "2023-03-07T14:42:32.247Z"
   },
   {
    "duration": 69,
    "start_time": "2023-03-07T14:42:32.269Z"
   },
   {
    "duration": 65,
    "start_time": "2023-03-07T14:42:32.340Z"
   },
   {
    "duration": 29,
    "start_time": "2023-03-07T14:42:32.407Z"
   },
   {
    "duration": 38,
    "start_time": "2023-03-07T14:42:32.438Z"
   },
   {
    "duration": 27,
    "start_time": "2023-03-07T14:42:32.478Z"
   },
   {
    "duration": 56,
    "start_time": "2023-03-07T14:42:32.507Z"
   },
   {
    "duration": 51,
    "start_time": "2023-03-07T14:42:32.566Z"
   },
   {
    "duration": 42,
    "start_time": "2023-03-07T14:42:32.619Z"
   },
   {
    "duration": 87,
    "start_time": "2023-03-07T14:42:32.663Z"
   },
   {
    "duration": 93,
    "start_time": "2023-03-07T14:42:32.752Z"
   },
   {
    "duration": 76,
    "start_time": "2023-03-07T14:42:32.847Z"
   },
   {
    "duration": 59,
    "start_time": "2023-03-07T14:42:32.924Z"
   },
   {
    "duration": 21,
    "start_time": "2023-03-07T14:42:32.985Z"
   },
   {
    "duration": 82,
    "start_time": "2023-03-07T14:42:33.008Z"
   },
   {
    "duration": 14,
    "start_time": "2023-03-07T14:42:33.091Z"
   },
   {
    "duration": 36,
    "start_time": "2023-03-07T14:42:33.107Z"
   },
   {
    "duration": 9,
    "start_time": "2023-03-07T14:42:33.145Z"
   },
   {
    "duration": 32,
    "start_time": "2023-03-07T14:42:33.155Z"
   },
   {
    "duration": 16,
    "start_time": "2023-03-07T14:42:33.189Z"
   },
   {
    "duration": 36,
    "start_time": "2023-03-07T14:42:33.206Z"
   },
   {
    "duration": 24,
    "start_time": "2023-03-07T14:42:33.243Z"
   },
   {
    "duration": 22,
    "start_time": "2023-03-07T14:42:33.268Z"
   },
   {
    "duration": 19,
    "start_time": "2023-03-07T14:42:33.292Z"
   },
   {
    "duration": 22,
    "start_time": "2023-03-07T14:42:33.313Z"
   },
   {
    "duration": 26,
    "start_time": "2023-03-07T14:42:33.339Z"
   },
   {
    "duration": 12,
    "start_time": "2023-03-07T14:42:33.368Z"
   },
   {
    "duration": 86,
    "start_time": "2023-03-07T14:42:33.382Z"
   },
   {
    "duration": 0,
    "start_time": "2023-03-07T14:42:33.470Z"
   },
   {
    "duration": 0,
    "start_time": "2023-03-07T14:42:33.471Z"
   },
   {
    "duration": 0,
    "start_time": "2023-03-07T14:42:33.473Z"
   },
   {
    "duration": 0,
    "start_time": "2023-03-07T14:42:33.474Z"
   },
   {
    "duration": 0,
    "start_time": "2023-03-07T14:42:33.475Z"
   },
   {
    "duration": 0,
    "start_time": "2023-03-07T14:42:33.476Z"
   },
   {
    "duration": 0,
    "start_time": "2023-03-07T14:42:33.477Z"
   },
   {
    "duration": 0,
    "start_time": "2023-03-07T14:42:33.478Z"
   },
   {
    "duration": 5,
    "start_time": "2023-03-07T14:56:17.882Z"
   },
   {
    "duration": 5,
    "start_time": "2023-03-07T15:06:52.082Z"
   },
   {
    "duration": 39,
    "start_time": "2023-03-07T15:09:49.943Z"
   },
   {
    "duration": 31,
    "start_time": "2023-03-07T15:11:13.085Z"
   },
   {
    "duration": 17,
    "start_time": "2023-03-07T15:11:15.670Z"
   },
   {
    "duration": 24,
    "start_time": "2023-03-07T15:11:19.821Z"
   },
   {
    "duration": 5,
    "start_time": "2023-03-07T15:12:55.090Z"
   },
   {
    "duration": 10,
    "start_time": "2023-03-07T15:13:29.924Z"
   },
   {
    "duration": 14,
    "start_time": "2023-03-07T15:14:35.588Z"
   },
   {
    "duration": 8,
    "start_time": "2023-03-07T15:15:06.409Z"
   },
   {
    "duration": 5,
    "start_time": "2023-03-07T15:15:36.267Z"
   },
   {
    "duration": 101,
    "start_time": "2023-03-07T15:17:35.731Z"
   },
   {
    "duration": 5,
    "start_time": "2023-03-07T15:17:45.493Z"
   },
   {
    "duration": 6,
    "start_time": "2023-03-07T15:17:47.613Z"
   },
   {
    "duration": 436,
    "start_time": "2023-10-02T16:10:48.862Z"
   },
   {
    "duration": 445,
    "start_time": "2023-10-02T16:10:49.300Z"
   },
   {
    "duration": 19,
    "start_time": "2023-10-02T16:10:49.746Z"
   },
   {
    "duration": 47,
    "start_time": "2023-10-02T16:10:49.767Z"
   },
   {
    "duration": 30,
    "start_time": "2023-10-02T16:10:49.816Z"
   },
   {
    "duration": 21,
    "start_time": "2023-10-02T16:10:49.847Z"
   },
   {
    "duration": 24,
    "start_time": "2023-10-02T16:10:49.869Z"
   },
   {
    "duration": 26,
    "start_time": "2023-10-02T16:10:49.895Z"
   },
   {
    "duration": 44,
    "start_time": "2023-10-02T16:10:49.922Z"
   },
   {
    "duration": 30,
    "start_time": "2023-10-02T16:10:49.969Z"
   },
   {
    "duration": 66,
    "start_time": "2023-10-02T16:10:50.001Z"
   },
   {
    "duration": 128,
    "start_time": "2023-10-02T16:10:50.069Z"
   },
   {
    "duration": 73,
    "start_time": "2023-10-02T16:10:50.200Z"
   },
   {
    "duration": 70,
    "start_time": "2023-10-02T16:10:50.275Z"
   },
   {
    "duration": 51,
    "start_time": "2023-10-02T16:10:50.347Z"
   },
   {
    "duration": 42,
    "start_time": "2023-10-02T16:10:50.400Z"
   },
   {
    "duration": 126,
    "start_time": "2023-10-02T16:10:50.444Z"
   },
   {
    "duration": 29,
    "start_time": "2023-10-02T16:10:50.572Z"
   },
   {
    "duration": 48,
    "start_time": "2023-10-02T16:10:50.602Z"
   },
   {
    "duration": 14,
    "start_time": "2023-10-02T16:10:50.651Z"
   },
   {
    "duration": 48,
    "start_time": "2023-10-02T16:10:50.667Z"
   },
   {
    "duration": 21,
    "start_time": "2023-10-02T16:10:50.717Z"
   },
   {
    "duration": 65,
    "start_time": "2023-10-02T16:10:50.739Z"
   },
   {
    "duration": 42,
    "start_time": "2023-10-02T16:10:50.806Z"
   },
   {
    "duration": 32,
    "start_time": "2023-10-02T16:10:50.849Z"
   },
   {
    "duration": 30,
    "start_time": "2023-10-02T16:10:50.883Z"
   },
   {
    "duration": 10,
    "start_time": "2023-10-02T16:10:50.915Z"
   },
   {
    "duration": 25,
    "start_time": "2023-10-02T16:10:50.929Z"
   },
   {
    "duration": 59,
    "start_time": "2023-10-02T16:10:50.955Z"
   },
   {
    "duration": 17,
    "start_time": "2023-10-02T16:10:51.016Z"
   },
   {
    "duration": 37,
    "start_time": "2023-10-02T16:10:51.035Z"
   },
   {
    "duration": 13,
    "start_time": "2023-10-02T16:10:51.074Z"
   },
   {
    "duration": 32,
    "start_time": "2023-10-02T16:10:51.089Z"
   },
   {
    "duration": 31,
    "start_time": "2023-10-02T16:10:51.123Z"
   },
   {
    "duration": 24,
    "start_time": "2023-10-02T16:10:51.156Z"
   },
   {
    "duration": 5,
    "start_time": "2023-10-02T16:10:51.182Z"
   },
   {
    "duration": 55,
    "start_time": "2023-10-02T16:10:51.189Z"
   },
   {
    "duration": 32,
    "start_time": "2023-10-02T16:10:51.246Z"
   }
  ],
  "colab": {
   "collapsed_sections": [
    "E0vqbgi9ay0H",
    "VUC88oWjTJw2"
   ],
   "provenance": []
  },
  "kernelspec": {
   "display_name": "Python 3 (ipykernel)",
   "language": "python",
   "name": "python3"
  },
  "language_info": {
   "codemirror_mode": {
    "name": "ipython",
    "version": 3
   },
   "file_extension": ".py",
   "mimetype": "text/x-python",
   "name": "python",
   "nbconvert_exporter": "python",
   "pygments_lexer": "ipython3",
   "version": "3.9.15"
  },
  "toc": {
   "base_numbering": 1,
   "nav_menu": {
    "height": "215px",
    "width": "403px"
   },
   "number_sections": true,
   "sideBar": true,
   "skip_h1_title": true,
   "title_cell": "Table of Contents",
   "title_sidebar": "Contents",
   "toc_cell": false,
   "toc_position": {
    "height": "calc(100% - 180px)",
    "left": "10px",
    "top": "150px",
    "width": "285.825px"
   },
   "toc_section_display": true,
   "toc_window_display": false
  }
 },
 "nbformat": 4,
 "nbformat_minor": 1
}
